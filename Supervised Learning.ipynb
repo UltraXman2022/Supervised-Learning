{
 "cells": [
  {
   "cell_type": "markdown",
   "id": "496a64d7",
   "metadata": {},
   "source": [
    "<center><h1>Project XI</h1><h2>Supervised machine learning Beta Bank</h2></center>"
   ]
  },
  {
   "cell_type": "markdown",
   "id": "731d073a",
   "metadata": {},
   "source": [
    "<b><u>Description:</u></b>\n",
    "\n",
    "We work at 'Beta Bank', And we notices that slowly one month after another, customers close their accounts and leave in favor of other banks. Therefore, the management decided to try to preserve the existing one and prevent the movement out, before turning to a new customer base that will increase the number of customers and the bank's profits again.\n",
    "\n",
    "<b><u>Our plan:</u></b>\n",
    "\n",
    "- Dev' a model that will predict whether a customer going to leave or not\n",
    "\n",
    "\n",
    "- Ml model with at least 0.59 maximum possible F1 score \n",
    "\n",
    "\n",
    "- Measure the AUC-ROC metric and compare it to the F1 score"
   ]
  },
  {
   "cell_type": "markdown",
   "id": "694035cc",
   "metadata": {},
   "source": [
    "<hr><b><u>Index Menu:</u></b>\n",
    "<div class=\"alert alert-block alert-info\" style=\"margin-top: 20px\">\n",
    "    <b style=\"font-size: 17px;\" id=\"index\">index:</b> \n",
    "<br><br>  \n",
    "<a href=\"#Step I\">Step I - Open the data file and read the general information</a>\n",
    "<br><br>     \n",
    "<a href=\"#Step II\">Step II - Prepare the data</a>\n",
    "<br> <br>    \n",
    "<a href=\"#Step III\">Step III - Eploratory data analysis</a>\n",
    "<br><br> \n",
    "<a href=\"#Step IV\">Step IV - Split our source data</a>\n",
    "<br><br> \n",
    "<a href=\"#Step V\">Step V - Class imbalance correction and hyper parameter tuning</a>\n",
    "<br><br> \n",
    "<a href=\"#general_conclusion\">General conclusion</a>   \n",
    "</div>"
   ]
  },
  {
   "cell_type": "markdown",
   "id": "9c0cf9a6",
   "metadata": {},
   "source": [
    "<hr><div id=\"Step I\"><h2>Step I - Open data and general info</h2><br><i>Loading all the libraries: pandas,numpy,matplotlib,etc</i></div>\n",
    "\n",
    "<a href=\"#index\"><button style=\" background-color: #04AA6D; border: none; color: white; padding: 10px; text-align: center; text-decoration: none; display: inline-block; font-size: 12px; margin: 3px 2px; border-radius: 12px; font-weight: bold;\"> Return to index menu</button></a>"
   ]
  },
  {
   "cell_type": "code",
   "execution_count": 1,
   "id": "b0573367",
   "metadata": {},
   "outputs": [
    {
     "data": {
      "text/html": [
       "<style>.container { width:80% !important; }</style>"
      ],
      "text/plain": [
       "<IPython.core.display.HTML object>"
      ]
     },
     "metadata": {},
     "output_type": "display_data"
    },
    {
     "name": "stdout",
     "output_type": "stream",
     "text": [
      "Project libraries has been successfully been imported!\n"
     ]
    }
   ],
   "source": [
    "# import pandas and numpy for data preprocessing and manipulation\n",
    "import pandas as pd\n",
    "import numpy as np\n",
    "import re\n",
    "\n",
    "# seaborn for visualization\n",
    "import seaborn as sns\n",
    "sns.set_style(\"darkgrid\")\n",
    "\n",
    "# matplotlib for visualization\n",
    "import matplotlib\n",
    "import matplotlib.pyplot as plt\n",
    "%matplotlib inline\n",
    "\n",
    "# import sklearn modules\n",
    "from sklearn.utils import shuffle\n",
    "from sklearn.preprocessing import StandardScaler as ss\n",
    "from sklearn.model_selection import train_test_split\n",
    "from sklearn.metrics import f1_score\n",
    "from sklearn.metrics import roc_curve\n",
    "from sklearn.metrics import roc_auc_score\n",
    "from sklearn.dummy import DummyClassifier\n",
    "from sklearn.tree import DecisionTreeClassifier\n",
    "from sklearn.ensemble import RandomForestClassifier\n",
    "from sklearn.linear_model import LogisticRegression\n",
    "\n",
    "# import warnings and display html\n",
    "import warnings\n",
    "warnings.filterwarnings('ignore')\n",
    "from IPython.display import display_html\n",
    "from itertools import chain,cycle\n",
    "from IPython.core.display import display, HTML\n",
    "display(HTML(\"<style>.container { width:80% !important; }</style>\"))\n",
    "pd.set_option('display.max_rows', None)\n",
    "\n",
    "print('Project libraries has been successfully been imported!')"
   ]
  },
  {
   "cell_type": "markdown",
   "id": "a00f1fd0",
   "metadata": {},
   "source": [
    "<hr><i>Loading Dataset</i>"
   ]
  },
  {
   "cell_type": "code",
   "execution_count": 2,
   "id": "c77e9b28",
   "metadata": {},
   "outputs": [
    {
     "name": "stdout",
     "output_type": "stream",
     "text": [
      "Data has been read correctly!\n"
     ]
    }
   ],
   "source": [
    "# read the data\n",
    "try:\n",
    "    churn = pd.read_csv('/datasets/Churn.csv')\n",
    "except:\n",
    "    churn = pd.read_csv('Churn.csv')\n",
    "    \n",
    "print('Data has been read correctly!')"
   ]
  },
  {
   "cell_type": "markdown",
   "id": "a35a64db",
   "metadata": {},
   "source": [
    "<hr><i>Data Describe:<i>"
   ]
  },
  {
   "cell_type": "code",
   "execution_count": 3,
   "id": "765545c1",
   "metadata": {},
   "outputs": [],
   "source": [
    "# Checking 0's\n",
    "def zero_check(df):\n",
    "    for i in df:\n",
    "        print(i,len(df[df[i]==0]))\n",
    "        \n",
    "# function to determine if columns in file have null values        \n",
    "def get_percent_of_na(df, num):\n",
    "    count = 0\n",
    "    df = df.copy()\n",
    "    s = (df.isna().sum() / df.shape[0])\n",
    "    for column, percent in zip(s.index, s.values):\n",
    "        num_of_nulls = df[column].isna().sum()\n",
    "        if num_of_nulls == 0:\n",
    "            continue\n",
    "        else:\n",
    "            count += 1\n",
    "        print('{} has {} nulls, which is {:.{}%} percent of Nulls'.format(column, num_of_nulls, percent, num))\n",
    "    if count != 0:\n",
    "        print(\"\\033[1m\" + 'There are {} columns with NA.'.format(count) + \"\\033[0m\")\n",
    "    else:\n",
    "        print()\n",
    "        print(\"\\033[1m\" + 'There are no columns with NA.' + \"\\033[0m\")       \n",
    "        \n",
    "# function to display general information about the dataset\n",
    "def general_info(df):\n",
    "    print(\"\\033[1m\" + \"\\033[0m\")\n",
    "    display(pd.concat([df.dtypes, df.count(),df.isna().sum(),df.isna().sum()/len(df)], keys=['type','count','na','na%'],\n",
    "                      axis=1))\n",
    "    print()\n",
    "    print(\"\\033[1m\" + 'Head:')  \n",
    "    display(df.head())\n",
    "    print()\n",
    "    print(\"\\033[1m\" + 'Tail:')\n",
    "    display(df.tail())\n",
    "    print()\n",
    "    print(\"\\033[1m\" + 'Info:')\n",
    "    print()\n",
    "    display(df.info())\n",
    "    print()\n",
    "    print(\"\\033[1m\" + 'Describe:')\n",
    "    print()\n",
    "    display(df.describe())\n",
    "    print()\n",
    "    print(\"\\033[1m\" + 'Describe include: all :')\n",
    "    print()\n",
    "    display(df.describe(include='all'))\n",
    "    print()\n",
    "    print(\"\\033[1m\" + 'nulls in the columns:')\n",
    "    print()\n",
    "    display(get_percent_of_na(df, 4))  # check this out\n",
    "    print()\n",
    "    print(\"\\033[1m\" + 'Zeros in the columns:') \n",
    "    print()\n",
    "    display(zero_check(df))\n",
    "    print()\n",
    "    print(\"\\033[1m\" + 'Shape:', df.shape)\n",
    "    print()\n",
    "    print()\n",
    "    print('Duplicated:',\"\\033[1m\" + 'We have {} duplicated rows\\n'.format(df.duplicated().sum()) + \"\\033[0m\")\n",
    "    print()\n",
    "    print(\"\\033[1m\" + 'Dtypes:')  \n",
    "    display(df.dtypes)\n",
    "    print()"
   ]
  },
  {
   "cell_type": "code",
   "execution_count": 4,
   "id": "fe23304d",
   "metadata": {},
   "outputs": [
    {
     "name": "stdout",
     "output_type": "stream",
     "text": [
      "information about Our \"churn\" dataset:\n",
      "\u001b[1m\u001b[0m\n"
     ]
    },
    {
     "data": {
      "text/html": [
       "<div>\n",
       "<style scoped>\n",
       "    .dataframe tbody tr th:only-of-type {\n",
       "        vertical-align: middle;\n",
       "    }\n",
       "\n",
       "    .dataframe tbody tr th {\n",
       "        vertical-align: top;\n",
       "    }\n",
       "\n",
       "    .dataframe thead th {\n",
       "        text-align: right;\n",
       "    }\n",
       "</style>\n",
       "<table border=\"1\" class=\"dataframe\">\n",
       "  <thead>\n",
       "    <tr style=\"text-align: right;\">\n",
       "      <th></th>\n",
       "      <th>type</th>\n",
       "      <th>count</th>\n",
       "      <th>na</th>\n",
       "      <th>na%</th>\n",
       "    </tr>\n",
       "  </thead>\n",
       "  <tbody>\n",
       "    <tr>\n",
       "      <th>RowNumber</th>\n",
       "      <td>int64</td>\n",
       "      <td>10000</td>\n",
       "      <td>0</td>\n",
       "      <td>0.0000</td>\n",
       "    </tr>\n",
       "    <tr>\n",
       "      <th>CustomerId</th>\n",
       "      <td>int64</td>\n",
       "      <td>10000</td>\n",
       "      <td>0</td>\n",
       "      <td>0.0000</td>\n",
       "    </tr>\n",
       "    <tr>\n",
       "      <th>Surname</th>\n",
       "      <td>object</td>\n",
       "      <td>10000</td>\n",
       "      <td>0</td>\n",
       "      <td>0.0000</td>\n",
       "    </tr>\n",
       "    <tr>\n",
       "      <th>CreditScore</th>\n",
       "      <td>int64</td>\n",
       "      <td>10000</td>\n",
       "      <td>0</td>\n",
       "      <td>0.0000</td>\n",
       "    </tr>\n",
       "    <tr>\n",
       "      <th>Geography</th>\n",
       "      <td>object</td>\n",
       "      <td>10000</td>\n",
       "      <td>0</td>\n",
       "      <td>0.0000</td>\n",
       "    </tr>\n",
       "    <tr>\n",
       "      <th>Gender</th>\n",
       "      <td>object</td>\n",
       "      <td>10000</td>\n",
       "      <td>0</td>\n",
       "      <td>0.0000</td>\n",
       "    </tr>\n",
       "    <tr>\n",
       "      <th>Age</th>\n",
       "      <td>int64</td>\n",
       "      <td>10000</td>\n",
       "      <td>0</td>\n",
       "      <td>0.0000</td>\n",
       "    </tr>\n",
       "    <tr>\n",
       "      <th>Tenure</th>\n",
       "      <td>float64</td>\n",
       "      <td>9091</td>\n",
       "      <td>909</td>\n",
       "      <td>0.0909</td>\n",
       "    </tr>\n",
       "    <tr>\n",
       "      <th>Balance</th>\n",
       "      <td>float64</td>\n",
       "      <td>10000</td>\n",
       "      <td>0</td>\n",
       "      <td>0.0000</td>\n",
       "    </tr>\n",
       "    <tr>\n",
       "      <th>NumOfProducts</th>\n",
       "      <td>int64</td>\n",
       "      <td>10000</td>\n",
       "      <td>0</td>\n",
       "      <td>0.0000</td>\n",
       "    </tr>\n",
       "    <tr>\n",
       "      <th>HasCrCard</th>\n",
       "      <td>int64</td>\n",
       "      <td>10000</td>\n",
       "      <td>0</td>\n",
       "      <td>0.0000</td>\n",
       "    </tr>\n",
       "    <tr>\n",
       "      <th>IsActiveMember</th>\n",
       "      <td>int64</td>\n",
       "      <td>10000</td>\n",
       "      <td>0</td>\n",
       "      <td>0.0000</td>\n",
       "    </tr>\n",
       "    <tr>\n",
       "      <th>EstimatedSalary</th>\n",
       "      <td>float64</td>\n",
       "      <td>10000</td>\n",
       "      <td>0</td>\n",
       "      <td>0.0000</td>\n",
       "    </tr>\n",
       "    <tr>\n",
       "      <th>Exited</th>\n",
       "      <td>int64</td>\n",
       "      <td>10000</td>\n",
       "      <td>0</td>\n",
       "      <td>0.0000</td>\n",
       "    </tr>\n",
       "  </tbody>\n",
       "</table>\n",
       "</div>"
      ],
      "text/plain": [
       "                    type  count   na     na%\n",
       "RowNumber          int64  10000    0  0.0000\n",
       "CustomerId         int64  10000    0  0.0000\n",
       "Surname           object  10000    0  0.0000\n",
       "CreditScore        int64  10000    0  0.0000\n",
       "Geography         object  10000    0  0.0000\n",
       "Gender            object  10000    0  0.0000\n",
       "Age                int64  10000    0  0.0000\n",
       "Tenure           float64   9091  909  0.0909\n",
       "Balance          float64  10000    0  0.0000\n",
       "NumOfProducts      int64  10000    0  0.0000\n",
       "HasCrCard          int64  10000    0  0.0000\n",
       "IsActiveMember     int64  10000    0  0.0000\n",
       "EstimatedSalary  float64  10000    0  0.0000\n",
       "Exited             int64  10000    0  0.0000"
      ]
     },
     "metadata": {},
     "output_type": "display_data"
    },
    {
     "name": "stdout",
     "output_type": "stream",
     "text": [
      "\n",
      "\u001b[1mHead:\n"
     ]
    },
    {
     "data": {
      "text/html": [
       "<div>\n",
       "<style scoped>\n",
       "    .dataframe tbody tr th:only-of-type {\n",
       "        vertical-align: middle;\n",
       "    }\n",
       "\n",
       "    .dataframe tbody tr th {\n",
       "        vertical-align: top;\n",
       "    }\n",
       "\n",
       "    .dataframe thead th {\n",
       "        text-align: right;\n",
       "    }\n",
       "</style>\n",
       "<table border=\"1\" class=\"dataframe\">\n",
       "  <thead>\n",
       "    <tr style=\"text-align: right;\">\n",
       "      <th></th>\n",
       "      <th>RowNumber</th>\n",
       "      <th>CustomerId</th>\n",
       "      <th>Surname</th>\n",
       "      <th>CreditScore</th>\n",
       "      <th>Geography</th>\n",
       "      <th>Gender</th>\n",
       "      <th>Age</th>\n",
       "      <th>Tenure</th>\n",
       "      <th>Balance</th>\n",
       "      <th>NumOfProducts</th>\n",
       "      <th>HasCrCard</th>\n",
       "      <th>IsActiveMember</th>\n",
       "      <th>EstimatedSalary</th>\n",
       "      <th>Exited</th>\n",
       "    </tr>\n",
       "  </thead>\n",
       "  <tbody>\n",
       "    <tr>\n",
       "      <th>0</th>\n",
       "      <td>1</td>\n",
       "      <td>15634602</td>\n",
       "      <td>Hargrave</td>\n",
       "      <td>619</td>\n",
       "      <td>France</td>\n",
       "      <td>Female</td>\n",
       "      <td>42</td>\n",
       "      <td>2.0</td>\n",
       "      <td>0.00</td>\n",
       "      <td>1</td>\n",
       "      <td>1</td>\n",
       "      <td>1</td>\n",
       "      <td>101348.88</td>\n",
       "      <td>1</td>\n",
       "    </tr>\n",
       "    <tr>\n",
       "      <th>1</th>\n",
       "      <td>2</td>\n",
       "      <td>15647311</td>\n",
       "      <td>Hill</td>\n",
       "      <td>608</td>\n",
       "      <td>Spain</td>\n",
       "      <td>Female</td>\n",
       "      <td>41</td>\n",
       "      <td>1.0</td>\n",
       "      <td>83807.86</td>\n",
       "      <td>1</td>\n",
       "      <td>0</td>\n",
       "      <td>1</td>\n",
       "      <td>112542.58</td>\n",
       "      <td>0</td>\n",
       "    </tr>\n",
       "    <tr>\n",
       "      <th>2</th>\n",
       "      <td>3</td>\n",
       "      <td>15619304</td>\n",
       "      <td>Onio</td>\n",
       "      <td>502</td>\n",
       "      <td>France</td>\n",
       "      <td>Female</td>\n",
       "      <td>42</td>\n",
       "      <td>8.0</td>\n",
       "      <td>159660.80</td>\n",
       "      <td>3</td>\n",
       "      <td>1</td>\n",
       "      <td>0</td>\n",
       "      <td>113931.57</td>\n",
       "      <td>1</td>\n",
       "    </tr>\n",
       "    <tr>\n",
       "      <th>3</th>\n",
       "      <td>4</td>\n",
       "      <td>15701354</td>\n",
       "      <td>Boni</td>\n",
       "      <td>699</td>\n",
       "      <td>France</td>\n",
       "      <td>Female</td>\n",
       "      <td>39</td>\n",
       "      <td>1.0</td>\n",
       "      <td>0.00</td>\n",
       "      <td>2</td>\n",
       "      <td>0</td>\n",
       "      <td>0</td>\n",
       "      <td>93826.63</td>\n",
       "      <td>0</td>\n",
       "    </tr>\n",
       "    <tr>\n",
       "      <th>4</th>\n",
       "      <td>5</td>\n",
       "      <td>15737888</td>\n",
       "      <td>Mitchell</td>\n",
       "      <td>850</td>\n",
       "      <td>Spain</td>\n",
       "      <td>Female</td>\n",
       "      <td>43</td>\n",
       "      <td>2.0</td>\n",
       "      <td>125510.82</td>\n",
       "      <td>1</td>\n",
       "      <td>1</td>\n",
       "      <td>1</td>\n",
       "      <td>79084.10</td>\n",
       "      <td>0</td>\n",
       "    </tr>\n",
       "  </tbody>\n",
       "</table>\n",
       "</div>"
      ],
      "text/plain": [
       "   RowNumber  CustomerId   Surname  CreditScore Geography  Gender  Age  \\\n",
       "0          1    15634602  Hargrave          619    France  Female   42   \n",
       "1          2    15647311      Hill          608     Spain  Female   41   \n",
       "2          3    15619304      Onio          502    France  Female   42   \n",
       "3          4    15701354      Boni          699    France  Female   39   \n",
       "4          5    15737888  Mitchell          850     Spain  Female   43   \n",
       "\n",
       "   Tenure    Balance  NumOfProducts  HasCrCard  IsActiveMember  \\\n",
       "0     2.0       0.00              1          1               1   \n",
       "1     1.0   83807.86              1          0               1   \n",
       "2     8.0  159660.80              3          1               0   \n",
       "3     1.0       0.00              2          0               0   \n",
       "4     2.0  125510.82              1          1               1   \n",
       "\n",
       "   EstimatedSalary  Exited  \n",
       "0        101348.88       1  \n",
       "1        112542.58       0  \n",
       "2        113931.57       1  \n",
       "3         93826.63       0  \n",
       "4         79084.10       0  "
      ]
     },
     "metadata": {},
     "output_type": "display_data"
    },
    {
     "name": "stdout",
     "output_type": "stream",
     "text": [
      "\n",
      "\u001b[1mTail:\n"
     ]
    },
    {
     "data": {
      "text/html": [
       "<div>\n",
       "<style scoped>\n",
       "    .dataframe tbody tr th:only-of-type {\n",
       "        vertical-align: middle;\n",
       "    }\n",
       "\n",
       "    .dataframe tbody tr th {\n",
       "        vertical-align: top;\n",
       "    }\n",
       "\n",
       "    .dataframe thead th {\n",
       "        text-align: right;\n",
       "    }\n",
       "</style>\n",
       "<table border=\"1\" class=\"dataframe\">\n",
       "  <thead>\n",
       "    <tr style=\"text-align: right;\">\n",
       "      <th></th>\n",
       "      <th>RowNumber</th>\n",
       "      <th>CustomerId</th>\n",
       "      <th>Surname</th>\n",
       "      <th>CreditScore</th>\n",
       "      <th>Geography</th>\n",
       "      <th>Gender</th>\n",
       "      <th>Age</th>\n",
       "      <th>Tenure</th>\n",
       "      <th>Balance</th>\n",
       "      <th>NumOfProducts</th>\n",
       "      <th>HasCrCard</th>\n",
       "      <th>IsActiveMember</th>\n",
       "      <th>EstimatedSalary</th>\n",
       "      <th>Exited</th>\n",
       "    </tr>\n",
       "  </thead>\n",
       "  <tbody>\n",
       "    <tr>\n",
       "      <th>9995</th>\n",
       "      <td>9996</td>\n",
       "      <td>15606229</td>\n",
       "      <td>Obijiaku</td>\n",
       "      <td>771</td>\n",
       "      <td>France</td>\n",
       "      <td>Male</td>\n",
       "      <td>39</td>\n",
       "      <td>5.0</td>\n",
       "      <td>0.00</td>\n",
       "      <td>2</td>\n",
       "      <td>1</td>\n",
       "      <td>0</td>\n",
       "      <td>96270.64</td>\n",
       "      <td>0</td>\n",
       "    </tr>\n",
       "    <tr>\n",
       "      <th>9996</th>\n",
       "      <td>9997</td>\n",
       "      <td>15569892</td>\n",
       "      <td>Johnstone</td>\n",
       "      <td>516</td>\n",
       "      <td>France</td>\n",
       "      <td>Male</td>\n",
       "      <td>35</td>\n",
       "      <td>10.0</td>\n",
       "      <td>57369.61</td>\n",
       "      <td>1</td>\n",
       "      <td>1</td>\n",
       "      <td>1</td>\n",
       "      <td>101699.77</td>\n",
       "      <td>0</td>\n",
       "    </tr>\n",
       "    <tr>\n",
       "      <th>9997</th>\n",
       "      <td>9998</td>\n",
       "      <td>15584532</td>\n",
       "      <td>Liu</td>\n",
       "      <td>709</td>\n",
       "      <td>France</td>\n",
       "      <td>Female</td>\n",
       "      <td>36</td>\n",
       "      <td>7.0</td>\n",
       "      <td>0.00</td>\n",
       "      <td>1</td>\n",
       "      <td>0</td>\n",
       "      <td>1</td>\n",
       "      <td>42085.58</td>\n",
       "      <td>1</td>\n",
       "    </tr>\n",
       "    <tr>\n",
       "      <th>9998</th>\n",
       "      <td>9999</td>\n",
       "      <td>15682355</td>\n",
       "      <td>Sabbatini</td>\n",
       "      <td>772</td>\n",
       "      <td>Germany</td>\n",
       "      <td>Male</td>\n",
       "      <td>42</td>\n",
       "      <td>3.0</td>\n",
       "      <td>75075.31</td>\n",
       "      <td>2</td>\n",
       "      <td>1</td>\n",
       "      <td>0</td>\n",
       "      <td>92888.52</td>\n",
       "      <td>1</td>\n",
       "    </tr>\n",
       "    <tr>\n",
       "      <th>9999</th>\n",
       "      <td>10000</td>\n",
       "      <td>15628319</td>\n",
       "      <td>Walker</td>\n",
       "      <td>792</td>\n",
       "      <td>France</td>\n",
       "      <td>Female</td>\n",
       "      <td>28</td>\n",
       "      <td>NaN</td>\n",
       "      <td>130142.79</td>\n",
       "      <td>1</td>\n",
       "      <td>1</td>\n",
       "      <td>0</td>\n",
       "      <td>38190.78</td>\n",
       "      <td>0</td>\n",
       "    </tr>\n",
       "  </tbody>\n",
       "</table>\n",
       "</div>"
      ],
      "text/plain": [
       "      RowNumber  CustomerId    Surname  CreditScore Geography  Gender  Age  \\\n",
       "9995       9996    15606229   Obijiaku          771    France    Male   39   \n",
       "9996       9997    15569892  Johnstone          516    France    Male   35   \n",
       "9997       9998    15584532        Liu          709    France  Female   36   \n",
       "9998       9999    15682355  Sabbatini          772   Germany    Male   42   \n",
       "9999      10000    15628319     Walker          792    France  Female   28   \n",
       "\n",
       "      Tenure    Balance  NumOfProducts  HasCrCard  IsActiveMember  \\\n",
       "9995     5.0       0.00              2          1               0   \n",
       "9996    10.0   57369.61              1          1               1   \n",
       "9997     7.0       0.00              1          0               1   \n",
       "9998     3.0   75075.31              2          1               0   \n",
       "9999     NaN  130142.79              1          1               0   \n",
       "\n",
       "      EstimatedSalary  Exited  \n",
       "9995         96270.64       0  \n",
       "9996        101699.77       0  \n",
       "9997         42085.58       1  \n",
       "9998         92888.52       1  \n",
       "9999         38190.78       0  "
      ]
     },
     "metadata": {},
     "output_type": "display_data"
    },
    {
     "name": "stdout",
     "output_type": "stream",
     "text": [
      "\n",
      "\u001b[1mInfo:\n",
      "\n",
      "<class 'pandas.core.frame.DataFrame'>\n",
      "RangeIndex: 10000 entries, 0 to 9999\n",
      "Data columns (total 14 columns):\n",
      " #   Column           Non-Null Count  Dtype  \n",
      "---  ------           --------------  -----  \n",
      " 0   RowNumber        10000 non-null  int64  \n",
      " 1   CustomerId       10000 non-null  int64  \n",
      " 2   Surname          10000 non-null  object \n",
      " 3   CreditScore      10000 non-null  int64  \n",
      " 4   Geography        10000 non-null  object \n",
      " 5   Gender           10000 non-null  object \n",
      " 6   Age              10000 non-null  int64  \n",
      " 7   Tenure           9091 non-null   float64\n",
      " 8   Balance          10000 non-null  float64\n",
      " 9   NumOfProducts    10000 non-null  int64  \n",
      " 10  HasCrCard        10000 non-null  int64  \n",
      " 11  IsActiveMember   10000 non-null  int64  \n",
      " 12  EstimatedSalary  10000 non-null  float64\n",
      " 13  Exited           10000 non-null  int64  \n",
      "dtypes: float64(3), int64(8), object(3)\n",
      "memory usage: 1.1+ MB\n"
     ]
    },
    {
     "data": {
      "text/plain": [
       "None"
      ]
     },
     "metadata": {},
     "output_type": "display_data"
    },
    {
     "name": "stdout",
     "output_type": "stream",
     "text": [
      "\n",
      "\u001b[1mDescribe:\n",
      "\n"
     ]
    },
    {
     "data": {
      "text/html": [
       "<div>\n",
       "<style scoped>\n",
       "    .dataframe tbody tr th:only-of-type {\n",
       "        vertical-align: middle;\n",
       "    }\n",
       "\n",
       "    .dataframe tbody tr th {\n",
       "        vertical-align: top;\n",
       "    }\n",
       "\n",
       "    .dataframe thead th {\n",
       "        text-align: right;\n",
       "    }\n",
       "</style>\n",
       "<table border=\"1\" class=\"dataframe\">\n",
       "  <thead>\n",
       "    <tr style=\"text-align: right;\">\n",
       "      <th></th>\n",
       "      <th>RowNumber</th>\n",
       "      <th>CustomerId</th>\n",
       "      <th>CreditScore</th>\n",
       "      <th>Age</th>\n",
       "      <th>Tenure</th>\n",
       "      <th>Balance</th>\n",
       "      <th>NumOfProducts</th>\n",
       "      <th>HasCrCard</th>\n",
       "      <th>IsActiveMember</th>\n",
       "      <th>EstimatedSalary</th>\n",
       "      <th>Exited</th>\n",
       "    </tr>\n",
       "  </thead>\n",
       "  <tbody>\n",
       "    <tr>\n",
       "      <th>count</th>\n",
       "      <td>10000.00000</td>\n",
       "      <td>1.000000e+04</td>\n",
       "      <td>10000.000000</td>\n",
       "      <td>10000.000000</td>\n",
       "      <td>9091.000000</td>\n",
       "      <td>10000.000000</td>\n",
       "      <td>10000.000000</td>\n",
       "      <td>10000.00000</td>\n",
       "      <td>10000.000000</td>\n",
       "      <td>10000.000000</td>\n",
       "      <td>10000.000000</td>\n",
       "    </tr>\n",
       "    <tr>\n",
       "      <th>mean</th>\n",
       "      <td>5000.50000</td>\n",
       "      <td>1.569094e+07</td>\n",
       "      <td>650.528800</td>\n",
       "      <td>38.921800</td>\n",
       "      <td>4.997690</td>\n",
       "      <td>76485.889288</td>\n",
       "      <td>1.530200</td>\n",
       "      <td>0.70550</td>\n",
       "      <td>0.515100</td>\n",
       "      <td>100090.239881</td>\n",
       "      <td>0.203700</td>\n",
       "    </tr>\n",
       "    <tr>\n",
       "      <th>std</th>\n",
       "      <td>2886.89568</td>\n",
       "      <td>7.193619e+04</td>\n",
       "      <td>96.653299</td>\n",
       "      <td>10.487806</td>\n",
       "      <td>2.894723</td>\n",
       "      <td>62397.405202</td>\n",
       "      <td>0.581654</td>\n",
       "      <td>0.45584</td>\n",
       "      <td>0.499797</td>\n",
       "      <td>57510.492818</td>\n",
       "      <td>0.402769</td>\n",
       "    </tr>\n",
       "    <tr>\n",
       "      <th>min</th>\n",
       "      <td>1.00000</td>\n",
       "      <td>1.556570e+07</td>\n",
       "      <td>350.000000</td>\n",
       "      <td>18.000000</td>\n",
       "      <td>0.000000</td>\n",
       "      <td>0.000000</td>\n",
       "      <td>1.000000</td>\n",
       "      <td>0.00000</td>\n",
       "      <td>0.000000</td>\n",
       "      <td>11.580000</td>\n",
       "      <td>0.000000</td>\n",
       "    </tr>\n",
       "    <tr>\n",
       "      <th>25%</th>\n",
       "      <td>2500.75000</td>\n",
       "      <td>1.562853e+07</td>\n",
       "      <td>584.000000</td>\n",
       "      <td>32.000000</td>\n",
       "      <td>2.000000</td>\n",
       "      <td>0.000000</td>\n",
       "      <td>1.000000</td>\n",
       "      <td>0.00000</td>\n",
       "      <td>0.000000</td>\n",
       "      <td>51002.110000</td>\n",
       "      <td>0.000000</td>\n",
       "    </tr>\n",
       "    <tr>\n",
       "      <th>50%</th>\n",
       "      <td>5000.50000</td>\n",
       "      <td>1.569074e+07</td>\n",
       "      <td>652.000000</td>\n",
       "      <td>37.000000</td>\n",
       "      <td>5.000000</td>\n",
       "      <td>97198.540000</td>\n",
       "      <td>1.000000</td>\n",
       "      <td>1.00000</td>\n",
       "      <td>1.000000</td>\n",
       "      <td>100193.915000</td>\n",
       "      <td>0.000000</td>\n",
       "    </tr>\n",
       "    <tr>\n",
       "      <th>75%</th>\n",
       "      <td>7500.25000</td>\n",
       "      <td>1.575323e+07</td>\n",
       "      <td>718.000000</td>\n",
       "      <td>44.000000</td>\n",
       "      <td>7.000000</td>\n",
       "      <td>127644.240000</td>\n",
       "      <td>2.000000</td>\n",
       "      <td>1.00000</td>\n",
       "      <td>1.000000</td>\n",
       "      <td>149388.247500</td>\n",
       "      <td>0.000000</td>\n",
       "    </tr>\n",
       "    <tr>\n",
       "      <th>max</th>\n",
       "      <td>10000.00000</td>\n",
       "      <td>1.581569e+07</td>\n",
       "      <td>850.000000</td>\n",
       "      <td>92.000000</td>\n",
       "      <td>10.000000</td>\n",
       "      <td>250898.090000</td>\n",
       "      <td>4.000000</td>\n",
       "      <td>1.00000</td>\n",
       "      <td>1.000000</td>\n",
       "      <td>199992.480000</td>\n",
       "      <td>1.000000</td>\n",
       "    </tr>\n",
       "  </tbody>\n",
       "</table>\n",
       "</div>"
      ],
      "text/plain": [
       "         RowNumber    CustomerId   CreditScore           Age       Tenure  \\\n",
       "count  10000.00000  1.000000e+04  10000.000000  10000.000000  9091.000000   \n",
       "mean    5000.50000  1.569094e+07    650.528800     38.921800     4.997690   \n",
       "std     2886.89568  7.193619e+04     96.653299     10.487806     2.894723   \n",
       "min        1.00000  1.556570e+07    350.000000     18.000000     0.000000   \n",
       "25%     2500.75000  1.562853e+07    584.000000     32.000000     2.000000   \n",
       "50%     5000.50000  1.569074e+07    652.000000     37.000000     5.000000   \n",
       "75%     7500.25000  1.575323e+07    718.000000     44.000000     7.000000   \n",
       "max    10000.00000  1.581569e+07    850.000000     92.000000    10.000000   \n",
       "\n",
       "             Balance  NumOfProducts    HasCrCard  IsActiveMember  \\\n",
       "count   10000.000000   10000.000000  10000.00000    10000.000000   \n",
       "mean    76485.889288       1.530200      0.70550        0.515100   \n",
       "std     62397.405202       0.581654      0.45584        0.499797   \n",
       "min         0.000000       1.000000      0.00000        0.000000   \n",
       "25%         0.000000       1.000000      0.00000        0.000000   \n",
       "50%     97198.540000       1.000000      1.00000        1.000000   \n",
       "75%    127644.240000       2.000000      1.00000        1.000000   \n",
       "max    250898.090000       4.000000      1.00000        1.000000   \n",
       "\n",
       "       EstimatedSalary        Exited  \n",
       "count     10000.000000  10000.000000  \n",
       "mean     100090.239881      0.203700  \n",
       "std       57510.492818      0.402769  \n",
       "min          11.580000      0.000000  \n",
       "25%       51002.110000      0.000000  \n",
       "50%      100193.915000      0.000000  \n",
       "75%      149388.247500      0.000000  \n",
       "max      199992.480000      1.000000  "
      ]
     },
     "metadata": {},
     "output_type": "display_data"
    },
    {
     "name": "stdout",
     "output_type": "stream",
     "text": [
      "\n",
      "\u001b[1mDescribe include: all :\n",
      "\n"
     ]
    },
    {
     "data": {
      "text/html": [
       "<div>\n",
       "<style scoped>\n",
       "    .dataframe tbody tr th:only-of-type {\n",
       "        vertical-align: middle;\n",
       "    }\n",
       "\n",
       "    .dataframe tbody tr th {\n",
       "        vertical-align: top;\n",
       "    }\n",
       "\n",
       "    .dataframe thead th {\n",
       "        text-align: right;\n",
       "    }\n",
       "</style>\n",
       "<table border=\"1\" class=\"dataframe\">\n",
       "  <thead>\n",
       "    <tr style=\"text-align: right;\">\n",
       "      <th></th>\n",
       "      <th>RowNumber</th>\n",
       "      <th>CustomerId</th>\n",
       "      <th>Surname</th>\n",
       "      <th>CreditScore</th>\n",
       "      <th>Geography</th>\n",
       "      <th>Gender</th>\n",
       "      <th>Age</th>\n",
       "      <th>Tenure</th>\n",
       "      <th>Balance</th>\n",
       "      <th>NumOfProducts</th>\n",
       "      <th>HasCrCard</th>\n",
       "      <th>IsActiveMember</th>\n",
       "      <th>EstimatedSalary</th>\n",
       "      <th>Exited</th>\n",
       "    </tr>\n",
       "  </thead>\n",
       "  <tbody>\n",
       "    <tr>\n",
       "      <th>count</th>\n",
       "      <td>10000.00000</td>\n",
       "      <td>1.000000e+04</td>\n",
       "      <td>10000</td>\n",
       "      <td>10000.000000</td>\n",
       "      <td>10000</td>\n",
       "      <td>10000</td>\n",
       "      <td>10000.000000</td>\n",
       "      <td>9091.000000</td>\n",
       "      <td>10000.000000</td>\n",
       "      <td>10000.000000</td>\n",
       "      <td>10000.00000</td>\n",
       "      <td>10000.000000</td>\n",
       "      <td>10000.000000</td>\n",
       "      <td>10000.000000</td>\n",
       "    </tr>\n",
       "    <tr>\n",
       "      <th>unique</th>\n",
       "      <td>NaN</td>\n",
       "      <td>NaN</td>\n",
       "      <td>2932</td>\n",
       "      <td>NaN</td>\n",
       "      <td>3</td>\n",
       "      <td>2</td>\n",
       "      <td>NaN</td>\n",
       "      <td>NaN</td>\n",
       "      <td>NaN</td>\n",
       "      <td>NaN</td>\n",
       "      <td>NaN</td>\n",
       "      <td>NaN</td>\n",
       "      <td>NaN</td>\n",
       "      <td>NaN</td>\n",
       "    </tr>\n",
       "    <tr>\n",
       "      <th>top</th>\n",
       "      <td>NaN</td>\n",
       "      <td>NaN</td>\n",
       "      <td>Smith</td>\n",
       "      <td>NaN</td>\n",
       "      <td>France</td>\n",
       "      <td>Male</td>\n",
       "      <td>NaN</td>\n",
       "      <td>NaN</td>\n",
       "      <td>NaN</td>\n",
       "      <td>NaN</td>\n",
       "      <td>NaN</td>\n",
       "      <td>NaN</td>\n",
       "      <td>NaN</td>\n",
       "      <td>NaN</td>\n",
       "    </tr>\n",
       "    <tr>\n",
       "      <th>freq</th>\n",
       "      <td>NaN</td>\n",
       "      <td>NaN</td>\n",
       "      <td>32</td>\n",
       "      <td>NaN</td>\n",
       "      <td>5014</td>\n",
       "      <td>5457</td>\n",
       "      <td>NaN</td>\n",
       "      <td>NaN</td>\n",
       "      <td>NaN</td>\n",
       "      <td>NaN</td>\n",
       "      <td>NaN</td>\n",
       "      <td>NaN</td>\n",
       "      <td>NaN</td>\n",
       "      <td>NaN</td>\n",
       "    </tr>\n",
       "    <tr>\n",
       "      <th>mean</th>\n",
       "      <td>5000.50000</td>\n",
       "      <td>1.569094e+07</td>\n",
       "      <td>NaN</td>\n",
       "      <td>650.528800</td>\n",
       "      <td>NaN</td>\n",
       "      <td>NaN</td>\n",
       "      <td>38.921800</td>\n",
       "      <td>4.997690</td>\n",
       "      <td>76485.889288</td>\n",
       "      <td>1.530200</td>\n",
       "      <td>0.70550</td>\n",
       "      <td>0.515100</td>\n",
       "      <td>100090.239881</td>\n",
       "      <td>0.203700</td>\n",
       "    </tr>\n",
       "    <tr>\n",
       "      <th>std</th>\n",
       "      <td>2886.89568</td>\n",
       "      <td>7.193619e+04</td>\n",
       "      <td>NaN</td>\n",
       "      <td>96.653299</td>\n",
       "      <td>NaN</td>\n",
       "      <td>NaN</td>\n",
       "      <td>10.487806</td>\n",
       "      <td>2.894723</td>\n",
       "      <td>62397.405202</td>\n",
       "      <td>0.581654</td>\n",
       "      <td>0.45584</td>\n",
       "      <td>0.499797</td>\n",
       "      <td>57510.492818</td>\n",
       "      <td>0.402769</td>\n",
       "    </tr>\n",
       "    <tr>\n",
       "      <th>min</th>\n",
       "      <td>1.00000</td>\n",
       "      <td>1.556570e+07</td>\n",
       "      <td>NaN</td>\n",
       "      <td>350.000000</td>\n",
       "      <td>NaN</td>\n",
       "      <td>NaN</td>\n",
       "      <td>18.000000</td>\n",
       "      <td>0.000000</td>\n",
       "      <td>0.000000</td>\n",
       "      <td>1.000000</td>\n",
       "      <td>0.00000</td>\n",
       "      <td>0.000000</td>\n",
       "      <td>11.580000</td>\n",
       "      <td>0.000000</td>\n",
       "    </tr>\n",
       "    <tr>\n",
       "      <th>25%</th>\n",
       "      <td>2500.75000</td>\n",
       "      <td>1.562853e+07</td>\n",
       "      <td>NaN</td>\n",
       "      <td>584.000000</td>\n",
       "      <td>NaN</td>\n",
       "      <td>NaN</td>\n",
       "      <td>32.000000</td>\n",
       "      <td>2.000000</td>\n",
       "      <td>0.000000</td>\n",
       "      <td>1.000000</td>\n",
       "      <td>0.00000</td>\n",
       "      <td>0.000000</td>\n",
       "      <td>51002.110000</td>\n",
       "      <td>0.000000</td>\n",
       "    </tr>\n",
       "    <tr>\n",
       "      <th>50%</th>\n",
       "      <td>5000.50000</td>\n",
       "      <td>1.569074e+07</td>\n",
       "      <td>NaN</td>\n",
       "      <td>652.000000</td>\n",
       "      <td>NaN</td>\n",
       "      <td>NaN</td>\n",
       "      <td>37.000000</td>\n",
       "      <td>5.000000</td>\n",
       "      <td>97198.540000</td>\n",
       "      <td>1.000000</td>\n",
       "      <td>1.00000</td>\n",
       "      <td>1.000000</td>\n",
       "      <td>100193.915000</td>\n",
       "      <td>0.000000</td>\n",
       "    </tr>\n",
       "    <tr>\n",
       "      <th>75%</th>\n",
       "      <td>7500.25000</td>\n",
       "      <td>1.575323e+07</td>\n",
       "      <td>NaN</td>\n",
       "      <td>718.000000</td>\n",
       "      <td>NaN</td>\n",
       "      <td>NaN</td>\n",
       "      <td>44.000000</td>\n",
       "      <td>7.000000</td>\n",
       "      <td>127644.240000</td>\n",
       "      <td>2.000000</td>\n",
       "      <td>1.00000</td>\n",
       "      <td>1.000000</td>\n",
       "      <td>149388.247500</td>\n",
       "      <td>0.000000</td>\n",
       "    </tr>\n",
       "    <tr>\n",
       "      <th>max</th>\n",
       "      <td>10000.00000</td>\n",
       "      <td>1.581569e+07</td>\n",
       "      <td>NaN</td>\n",
       "      <td>850.000000</td>\n",
       "      <td>NaN</td>\n",
       "      <td>NaN</td>\n",
       "      <td>92.000000</td>\n",
       "      <td>10.000000</td>\n",
       "      <td>250898.090000</td>\n",
       "      <td>4.000000</td>\n",
       "      <td>1.00000</td>\n",
       "      <td>1.000000</td>\n",
       "      <td>199992.480000</td>\n",
       "      <td>1.000000</td>\n",
       "    </tr>\n",
       "  </tbody>\n",
       "</table>\n",
       "</div>"
      ],
      "text/plain": [
       "          RowNumber    CustomerId Surname   CreditScore Geography Gender  \\\n",
       "count   10000.00000  1.000000e+04   10000  10000.000000     10000  10000   \n",
       "unique          NaN           NaN    2932           NaN         3      2   \n",
       "top             NaN           NaN   Smith           NaN    France   Male   \n",
       "freq            NaN           NaN      32           NaN      5014   5457   \n",
       "mean     5000.50000  1.569094e+07     NaN    650.528800       NaN    NaN   \n",
       "std      2886.89568  7.193619e+04     NaN     96.653299       NaN    NaN   \n",
       "min         1.00000  1.556570e+07     NaN    350.000000       NaN    NaN   \n",
       "25%      2500.75000  1.562853e+07     NaN    584.000000       NaN    NaN   \n",
       "50%      5000.50000  1.569074e+07     NaN    652.000000       NaN    NaN   \n",
       "75%      7500.25000  1.575323e+07     NaN    718.000000       NaN    NaN   \n",
       "max     10000.00000  1.581569e+07     NaN    850.000000       NaN    NaN   \n",
       "\n",
       "                 Age       Tenure        Balance  NumOfProducts    HasCrCard  \\\n",
       "count   10000.000000  9091.000000   10000.000000   10000.000000  10000.00000   \n",
       "unique           NaN          NaN            NaN            NaN          NaN   \n",
       "top              NaN          NaN            NaN            NaN          NaN   \n",
       "freq             NaN          NaN            NaN            NaN          NaN   \n",
       "mean       38.921800     4.997690   76485.889288       1.530200      0.70550   \n",
       "std        10.487806     2.894723   62397.405202       0.581654      0.45584   \n",
       "min        18.000000     0.000000       0.000000       1.000000      0.00000   \n",
       "25%        32.000000     2.000000       0.000000       1.000000      0.00000   \n",
       "50%        37.000000     5.000000   97198.540000       1.000000      1.00000   \n",
       "75%        44.000000     7.000000  127644.240000       2.000000      1.00000   \n",
       "max        92.000000    10.000000  250898.090000       4.000000      1.00000   \n",
       "\n",
       "        IsActiveMember  EstimatedSalary        Exited  \n",
       "count     10000.000000     10000.000000  10000.000000  \n",
       "unique             NaN              NaN           NaN  \n",
       "top                NaN              NaN           NaN  \n",
       "freq               NaN              NaN           NaN  \n",
       "mean          0.515100    100090.239881      0.203700  \n",
       "std           0.499797     57510.492818      0.402769  \n",
       "min           0.000000        11.580000      0.000000  \n",
       "25%           0.000000     51002.110000      0.000000  \n",
       "50%           1.000000    100193.915000      0.000000  \n",
       "75%           1.000000    149388.247500      0.000000  \n",
       "max           1.000000    199992.480000      1.000000  "
      ]
     },
     "metadata": {},
     "output_type": "display_data"
    },
    {
     "name": "stdout",
     "output_type": "stream",
     "text": [
      "\n",
      "\u001b[1mnulls in the columns:\n",
      "\n",
      "Tenure has 909 nulls, which is 9.0900% percent of Nulls\n",
      "\u001b[1mThere are 1 columns with NA.\u001b[0m\n"
     ]
    },
    {
     "data": {
      "text/plain": [
       "None"
      ]
     },
     "metadata": {},
     "output_type": "display_data"
    },
    {
     "name": "stdout",
     "output_type": "stream",
     "text": [
      "\n",
      "\u001b[1mZeros in the columns:\n",
      "\n",
      "RowNumber 0\n",
      "CustomerId 0\n",
      "Surname 0\n",
      "CreditScore 0\n",
      "Geography 0\n",
      "Gender 0\n",
      "Age 0\n",
      "Tenure 382\n",
      "Balance 3617\n",
      "NumOfProducts 0\n",
      "HasCrCard 2945\n",
      "IsActiveMember 4849\n",
      "EstimatedSalary 0\n",
      "Exited 7963\n"
     ]
    },
    {
     "data": {
      "text/plain": [
       "None"
      ]
     },
     "metadata": {},
     "output_type": "display_data"
    },
    {
     "name": "stdout",
     "output_type": "stream",
     "text": [
      "\n",
      "\u001b[1mShape: (10000, 14)\n",
      "\n",
      "\n",
      "Duplicated: \u001b[1mWe have 0 duplicated rows\n",
      "\u001b[0m\n",
      "\n",
      "\u001b[1mDtypes:\n"
     ]
    },
    {
     "data": {
      "text/plain": [
       "RowNumber            int64\n",
       "CustomerId           int64\n",
       "Surname             object\n",
       "CreditScore          int64\n",
       "Geography           object\n",
       "Gender              object\n",
       "Age                  int64\n",
       "Tenure             float64\n",
       "Balance            float64\n",
       "NumOfProducts        int64\n",
       "HasCrCard            int64\n",
       "IsActiveMember       int64\n",
       "EstimatedSalary    float64\n",
       "Exited               int64\n",
       "dtype: object"
      ]
     },
     "metadata": {},
     "output_type": "display_data"
    },
    {
     "name": "stdout",
     "output_type": "stream",
     "text": [
      "\n"
     ]
    }
   ],
   "source": [
    "#print our info data\n",
    "print('information about Our \"churn\" dataset:')\n",
    "general_info(churn)"
   ]
  },
  {
   "cell_type": "markdown",
   "id": "241d1b6b",
   "metadata": {},
   "source": [
    "<hr><b style=\"font-size: 17px;\">The `churn` dataset:</b>\n",
    "\n",
    "<b style=\"font-size: 14px;\">`rows`: 10000</b>\n",
    "\n",
    "**Features**\n",
    "\n",
    " - `RowNumber` - data string index\n",
    " \n",
    " \n",
    " - `CustomerId` - unique customer identifier\n",
    " \n",
    " \n",
    " - `Surname` - surname\n",
    " \n",
    " \n",
    " - `CreditScore` - credit score\n",
    " \n",
    " \n",
    " - `Geography` - country of residence\n",
    " \n",
    " \n",
    " - `Gender` - gender\n",
    " \n",
    " \n",
    " - `Age` - age\n",
    " \n",
    " \n",
    " - `Tenure` - period of maturation for a customers fixed deposit (years)\n",
    " \n",
    " \n",
    " - `Balance` - account balance\n",
    " \n",
    " \n",
    " - `NumOfProducts` - number of banking products used by the customer\n",
    " \n",
    " \n",
    " - `HasCrCard` - customer has a credit card\n",
    " \n",
    " \n",
    " - `IsActiveMember` - customers activeness\n",
    " \n",
    " \n",
    " \n",
    " - `EstimatedSalary` - estimated salary\n",
    " \n",
    "\n",
    "**Target**\n",
    "\n",
    " - `Exited` - customer has left"
   ]
  },
  {
   "cell_type": "markdown",
   "id": "25542203",
   "metadata": {},
   "source": [
    "<hr><b style=\"font-size: 14px;\">Missing values:</b>\n",
    "\n",
    "`Tenure` - only 9091 of 10000 (909 missing)"
   ]
  },
  {
   "cell_type": "markdown",
   "id": "a036d690",
   "metadata": {},
   "source": [
    "<hr><b style=\"font-size: 14px;\">Dtypes issues:</b>\n",
    "\n",
    "`Tenure` - float should be integer"
   ]
  },
  {
   "cell_type": "markdown",
   "id": "e4605c3a",
   "metadata": {},
   "source": [
    "<hr><h2>Conclusion</h2>\n",
    "    \n",
    "What we found:\n",
    "    \n",
    "- we have total of 14 columns \n",
    "\n",
    "- 10k rows in each one except one that missing 909 values Tenure\n",
    "    \n",
    "- we going to change the 'Tenure' column from float to integer\n",
    "\n",
    "- NumOfProducts is between 1 to 4\n",
    "\n",
    "- HasCrCard and IsActiveMember is boolean of 0 and 1 (no and yes)\n",
    "    \n",
    "so let's start to prepare the data our data "
   ]
  },
  {
   "cell_type": "markdown",
   "id": "1b0122a8",
   "metadata": {},
   "source": [
    "<hr><div id=\"Step II\"><h2>Step II - Prepare the data</h2></div>\n",
    "\n",
    "<a href=\"#index\"><button style=\" background-color: #04AA6D; border: none; color: white; padding: 10px; text-align: center; text-decoration: none; display: inline-block; font-size: 12px; margin: 3px 2px; border-radius: 12px; font-weight: bold;\"> Return to index menu</button></a>"
   ]
  },
  {
   "cell_type": "markdown",
   "id": "ee214f6f",
   "metadata": {},
   "source": [
    "<b style=\"font-size: 17px;\">Lower Case and short name few of the columns:</b><br>"
   ]
  },
  {
   "cell_type": "code",
   "execution_count": 5,
   "id": "5fa07cee",
   "metadata": {},
   "outputs": [],
   "source": [
    "# lower case Column names and remove white spaces if exist\n",
    "columns = []\n",
    "for name in churn.columns.values:\n",
    "    name = re.sub('([A-Z])', r' \\1', name).lower().replace(' ', '_')[1:]\n",
    "    columns.append(name)"
   ]
  },
  {
   "cell_type": "code",
   "execution_count": 6,
   "id": "9860b905",
   "metadata": {},
   "outputs": [],
   "source": [
    "churn.columns = columns"
   ]
  },
  {
   "cell_type": "code",
   "execution_count": 7,
   "id": "5e701b16",
   "metadata": {},
   "outputs": [
    {
     "data": {
      "text/html": [
       "<div>\n",
       "<style scoped>\n",
       "    .dataframe tbody tr th:only-of-type {\n",
       "        vertical-align: middle;\n",
       "    }\n",
       "\n",
       "    .dataframe tbody tr th {\n",
       "        vertical-align: top;\n",
       "    }\n",
       "\n",
       "    .dataframe thead th {\n",
       "        text-align: right;\n",
       "    }\n",
       "</style>\n",
       "<table border=\"1\" class=\"dataframe\">\n",
       "  <thead>\n",
       "    <tr style=\"text-align: right;\">\n",
       "      <th></th>\n",
       "      <th>row_number</th>\n",
       "      <th>customer_id</th>\n",
       "      <th>surname</th>\n",
       "      <th>credit_score</th>\n",
       "      <th>geography</th>\n",
       "      <th>gender</th>\n",
       "      <th>age</th>\n",
       "      <th>tenure</th>\n",
       "      <th>balance</th>\n",
       "      <th>num_of_products</th>\n",
       "      <th>has_cr_card</th>\n",
       "      <th>is_active_member</th>\n",
       "      <th>estimated_salary</th>\n",
       "      <th>exited</th>\n",
       "    </tr>\n",
       "  </thead>\n",
       "  <tbody>\n",
       "    <tr>\n",
       "      <th>0</th>\n",
       "      <td>1</td>\n",
       "      <td>15634602</td>\n",
       "      <td>Hargrave</td>\n",
       "      <td>619</td>\n",
       "      <td>France</td>\n",
       "      <td>Female</td>\n",
       "      <td>42</td>\n",
       "      <td>2.0</td>\n",
       "      <td>0.00</td>\n",
       "      <td>1</td>\n",
       "      <td>1</td>\n",
       "      <td>1</td>\n",
       "      <td>101348.88</td>\n",
       "      <td>1</td>\n",
       "    </tr>\n",
       "    <tr>\n",
       "      <th>1</th>\n",
       "      <td>2</td>\n",
       "      <td>15647311</td>\n",
       "      <td>Hill</td>\n",
       "      <td>608</td>\n",
       "      <td>Spain</td>\n",
       "      <td>Female</td>\n",
       "      <td>41</td>\n",
       "      <td>1.0</td>\n",
       "      <td>83807.86</td>\n",
       "      <td>1</td>\n",
       "      <td>0</td>\n",
       "      <td>1</td>\n",
       "      <td>112542.58</td>\n",
       "      <td>0</td>\n",
       "    </tr>\n",
       "    <tr>\n",
       "      <th>2</th>\n",
       "      <td>3</td>\n",
       "      <td>15619304</td>\n",
       "      <td>Onio</td>\n",
       "      <td>502</td>\n",
       "      <td>France</td>\n",
       "      <td>Female</td>\n",
       "      <td>42</td>\n",
       "      <td>8.0</td>\n",
       "      <td>159660.80</td>\n",
       "      <td>3</td>\n",
       "      <td>1</td>\n",
       "      <td>0</td>\n",
       "      <td>113931.57</td>\n",
       "      <td>1</td>\n",
       "    </tr>\n",
       "    <tr>\n",
       "      <th>3</th>\n",
       "      <td>4</td>\n",
       "      <td>15701354</td>\n",
       "      <td>Boni</td>\n",
       "      <td>699</td>\n",
       "      <td>France</td>\n",
       "      <td>Female</td>\n",
       "      <td>39</td>\n",
       "      <td>1.0</td>\n",
       "      <td>0.00</td>\n",
       "      <td>2</td>\n",
       "      <td>0</td>\n",
       "      <td>0</td>\n",
       "      <td>93826.63</td>\n",
       "      <td>0</td>\n",
       "    </tr>\n",
       "    <tr>\n",
       "      <th>4</th>\n",
       "      <td>5</td>\n",
       "      <td>15737888</td>\n",
       "      <td>Mitchell</td>\n",
       "      <td>850</td>\n",
       "      <td>Spain</td>\n",
       "      <td>Female</td>\n",
       "      <td>43</td>\n",
       "      <td>2.0</td>\n",
       "      <td>125510.82</td>\n",
       "      <td>1</td>\n",
       "      <td>1</td>\n",
       "      <td>1</td>\n",
       "      <td>79084.10</td>\n",
       "      <td>0</td>\n",
       "    </tr>\n",
       "  </tbody>\n",
       "</table>\n",
       "</div>"
      ],
      "text/plain": [
       "   row_number  customer_id   surname  credit_score geography  gender  age  \\\n",
       "0           1     15634602  Hargrave           619    France  Female   42   \n",
       "1           2     15647311      Hill           608     Spain  Female   41   \n",
       "2           3     15619304      Onio           502    France  Female   42   \n",
       "3           4     15701354      Boni           699    France  Female   39   \n",
       "4           5     15737888  Mitchell           850     Spain  Female   43   \n",
       "\n",
       "   tenure    balance  num_of_products  has_cr_card  is_active_member  \\\n",
       "0     2.0       0.00                1            1                 1   \n",
       "1     1.0   83807.86                1            0                 1   \n",
       "2     8.0  159660.80                3            1                 0   \n",
       "3     1.0       0.00                2            0                 0   \n",
       "4     2.0  125510.82                1            1                 1   \n",
       "\n",
       "   estimated_salary  exited  \n",
       "0         101348.88       1  \n",
       "1         112542.58       0  \n",
       "2         113931.57       1  \n",
       "3          93826.63       0  \n",
       "4          79084.10       0  "
      ]
     },
     "execution_count": 7,
     "metadata": {},
     "output_type": "execute_result"
    }
   ],
   "source": [
    "churn.head()"
   ]
  },
  {
   "cell_type": "markdown",
   "id": "986a864d",
   "metadata": {},
   "source": [
    "<h3>Missing values:</h3>"
   ]
  },
  {
   "cell_type": "code",
   "execution_count": 8,
   "id": "9d651c5d",
   "metadata": {},
   "outputs": [
    {
     "data": {
      "text/html": [
       "<div>\n",
       "<style scoped>\n",
       "    .dataframe tbody tr th:only-of-type {\n",
       "        vertical-align: middle;\n",
       "    }\n",
       "\n",
       "    .dataframe tbody tr th {\n",
       "        vertical-align: top;\n",
       "    }\n",
       "\n",
       "    .dataframe thead th {\n",
       "        text-align: right;\n",
       "    }\n",
       "</style>\n",
       "<table border=\"1\" class=\"dataframe\">\n",
       "  <thead>\n",
       "    <tr style=\"text-align: right;\">\n",
       "      <th></th>\n",
       "      <th>Missing Values</th>\n",
       "      <th>% of Total Values</th>\n",
       "    </tr>\n",
       "  </thead>\n",
       "  <tbody>\n",
       "    <tr>\n",
       "      <th>tenure</th>\n",
       "      <td>909</td>\n",
       "      <td>9.1</td>\n",
       "    </tr>\n",
       "  </tbody>\n",
       "</table>\n",
       "</div>"
      ],
      "text/plain": [
       "        Missing Values  % of Total Values\n",
       "tenure             909                9.1"
      ]
     },
     "execution_count": 8,
     "metadata": {},
     "output_type": "execute_result"
    }
   ],
   "source": [
    "# function to calculate the percentage of missing values\n",
    "def missing_values(df):\n",
    "    \n",
    "    \"\"\"This function calculates the % of missing values in the dataset \"\"\"\n",
    "    \n",
    "    # Total missing values\n",
    "    mis_val = df.isnull().sum()\n",
    "\n",
    "    # Percentage of missing values\n",
    "    mis_val_percent = 100 * df.isnull().sum() / len(df)\n",
    "\n",
    "    # Make a table with the results\n",
    "    mis_val_table = pd.concat([mis_val, mis_val_percent], axis=1)\n",
    "\n",
    "    # Rename the columns\n",
    "    mis_val_table_ren_columns = mis_val_table.rename(\n",
    "    columns = {0 : 'Missing Values', 1 : '% of Total Values'})\n",
    "\n",
    "    # Sort the table by percentage of missing descending\n",
    "    mis_val_table_ren_columns = mis_val_table_ren_columns[\n",
    "        mis_val_table_ren_columns.iloc[:,1] != 0].sort_values(\n",
    "    '% of Total Values', ascending=False).round(1)\n",
    "\n",
    "    # Return the dataframe with missing information\n",
    "    return mis_val_table_ren_columns\n",
    "\n",
    "# check missing data\n",
    "missing_values(churn)"
   ]
  },
  {
   "cell_type": "markdown",
   "id": "8864c0ae",
   "metadata": {},
   "source": [
    "We can see that the only column with missing value is 'Tenure' from total of 10k in each one this only have 9091 so 909 as we can see is missing so we need to fix it , but before we do it let's see how this column info look like..."
   ]
  },
  {
   "cell_type": "markdown",
   "id": "86fa1018",
   "metadata": {},
   "source": [
    "<hr><h3>Preprocessing 'Tenure' Column:</h3>"
   ]
  },
  {
   "cell_type": "code",
   "execution_count": 9,
   "id": "ce5bf101",
   "metadata": {},
   "outputs": [
    {
     "data": {
      "image/png": "[encoded data removed]",
      "text/plain": [
       "<Figure size 360x360 with 1 Axes>"
      ]
     },
     "metadata": {
      "needs_background": "light"
     },
     "output_type": "display_data"
    },
    {
     "data": {
      "text/plain": [
       "1.0     952\n",
       "2.0     950\n",
       "8.0     933\n",
       "3.0     928\n",
       "5.0     927\n",
       "7.0     925\n",
       "4.0     885\n",
       "9.0     882\n",
       "6.0     881\n",
       "10.0    446\n",
       "0.0     382\n",
       "Name: tenure, dtype: int64"
      ]
     },
     "execution_count": 9,
     "metadata": {},
     "output_type": "execute_result"
    }
   ],
   "source": [
    "sns.displot(data=churn, x=\"tenure\")\n",
    "plt.title('amount of customers vs return loan in years')\n",
    "plt.show();\n",
    "\n",
    "churn['tenure'].value_counts()"
   ]
  },
  {
   "cell_type": "code",
   "execution_count": 10,
   "id": "f6dfb452",
   "metadata": {},
   "outputs": [],
   "source": [
    "#fill the missing values \n",
    "churn['tenure'].fillna(churn['tenure'].mode()[0], inplace=True)"
   ]
  },
  {
   "cell_type": "code",
   "execution_count": 11,
   "id": "b539888b",
   "metadata": {},
   "outputs": [
    {
     "data": {
      "text/html": [
       "<div>\n",
       "<style scoped>\n",
       "    .dataframe tbody tr th:only-of-type {\n",
       "        vertical-align: middle;\n",
       "    }\n",
       "\n",
       "    .dataframe tbody tr th {\n",
       "        vertical-align: top;\n",
       "    }\n",
       "\n",
       "    .dataframe thead th {\n",
       "        text-align: right;\n",
       "    }\n",
       "</style>\n",
       "<table border=\"1\" class=\"dataframe\">\n",
       "  <thead>\n",
       "    <tr style=\"text-align: right;\">\n",
       "      <th></th>\n",
       "      <th>Missing Values</th>\n",
       "      <th>% of Total Values</th>\n",
       "    </tr>\n",
       "  </thead>\n",
       "  <tbody>\n",
       "  </tbody>\n",
       "</table>\n",
       "</div>"
      ],
      "text/plain": [
       "Empty DataFrame\n",
       "Columns: [Missing Values, % of Total Values]\n",
       "Index: []"
      ]
     },
     "execution_count": 11,
     "metadata": {},
     "output_type": "execute_result"
    }
   ],
   "source": [
    "missing_values(churn)"
   ]
  },
  {
   "cell_type": "markdown",
   "id": "b878a15a",
   "metadata": {},
   "source": [
    "We choice to fill our missing values using the lambda function with fillna of median"
   ]
  },
  {
   "cell_type": "markdown",
   "id": "754edf3c",
   "metadata": {},
   "source": [
    "<h4>Data types:</h4>"
   ]
  },
  {
   "cell_type": "code",
   "execution_count": 12,
   "id": "50a6ee64",
   "metadata": {},
   "outputs": [
    {
     "data": {
      "text/plain": [
       "row_number            int64\n",
       "customer_id           int64\n",
       "surname              object\n",
       "credit_score          int64\n",
       "geography            object\n",
       "gender               object\n",
       "age                   int64\n",
       "tenure                int64\n",
       "balance             float64\n",
       "num_of_products       int64\n",
       "has_cr_card           int64\n",
       "is_active_member      int64\n",
       "estimated_salary    float64\n",
       "exited                int64\n",
       "dtype: object"
      ]
     },
     "execution_count": 12,
     "metadata": {},
     "output_type": "execute_result"
    }
   ],
   "source": [
    "churn['tenure'] = churn['tenure'].astype(int)\n",
    "churn.dtypes"
   ]
  },
  {
   "cell_type": "markdown",
   "id": "303a803b",
   "metadata": {},
   "source": [
    "We choice to change the dtype of the 'tenure' column from float to intger"
   ]
  },
  {
   "cell_type": "markdown",
   "id": "6eb16046",
   "metadata": {},
   "source": [
    "<h3>Columns we don't need:</h3>\n",
    "\n",
    "Since it's looks like our data import from another database we can remove the 'RowNumber' and since it's quite personal and don't bring us any info that can help with our task we going to remove also the columns: 'customer_id' and 'surname'"
   ]
  },
  {
   "cell_type": "code",
   "execution_count": 13,
   "id": "7ee6d3bd",
   "metadata": {},
   "outputs": [],
   "source": [
    "churn = churn.drop(['customer_id','row_number', 'surname'], axis=1)"
   ]
  },
  {
   "cell_type": "markdown",
   "id": "1d14e6e0",
   "metadata": {},
   "source": [
    "<h3>Categorical features encoding:</h3>"
   ]
  },
  {
   "cell_type": "code",
   "execution_count": 14,
   "id": "7cc2f44d",
   "metadata": {},
   "outputs": [
    {
     "data": {
      "text/plain": [
       "France     5014\n",
       "Germany    2509\n",
       "Spain      2477\n",
       "Name: geography, dtype: int64"
      ]
     },
     "execution_count": 14,
     "metadata": {},
     "output_type": "execute_result"
    }
   ],
   "source": [
    "churn['geography'].value_counts()"
   ]
  },
  {
   "cell_type": "markdown",
   "id": "7cabf11c",
   "metadata": {},
   "source": [
    "`geography` has only three category, so it will be easy to encode it using OHE"
   ]
  },
  {
   "cell_type": "code",
   "execution_count": 15,
   "id": "9d09b081",
   "metadata": {},
   "outputs": [
    {
     "data": {
      "text/plain": [
       "Male      5457\n",
       "Female    4543\n",
       "Name: gender, dtype: int64"
      ]
     },
     "execution_count": 15,
     "metadata": {},
     "output_type": "execute_result"
    }
   ],
   "source": [
    "churn['gender'].value_counts()"
   ]
  },
  {
   "cell_type": "markdown",
   "id": "16688302",
   "metadata": {},
   "source": [
    "`gender` is a binary var, both values are equally represented in the dataset, So we also use the OHE here. Drop the first column for each encoded feature to avoid the dummy trap"
   ]
  },
  {
   "cell_type": "code",
   "execution_count": 16,
   "id": "12cc0dab",
   "metadata": {},
   "outputs": [
    {
     "data": {
      "text/html": [
       "<div>\n",
       "<style scoped>\n",
       "    .dataframe tbody tr th:only-of-type {\n",
       "        vertical-align: middle;\n",
       "    }\n",
       "\n",
       "    .dataframe tbody tr th {\n",
       "        vertical-align: top;\n",
       "    }\n",
       "\n",
       "    .dataframe thead th {\n",
       "        text-align: right;\n",
       "    }\n",
       "</style>\n",
       "<table border=\"1\" class=\"dataframe\">\n",
       "  <thead>\n",
       "    <tr style=\"text-align: right;\">\n",
       "      <th></th>\n",
       "      <th>credit_score</th>\n",
       "      <th>age</th>\n",
       "      <th>tenure</th>\n",
       "      <th>balance</th>\n",
       "      <th>num_of_products</th>\n",
       "      <th>has_cr_card</th>\n",
       "      <th>is_active_member</th>\n",
       "      <th>estimated_salary</th>\n",
       "      <th>exited</th>\n",
       "      <th>geography_Germany</th>\n",
       "      <th>geography_Spain</th>\n",
       "      <th>gender_Male</th>\n",
       "    </tr>\n",
       "  </thead>\n",
       "  <tbody>\n",
       "    <tr>\n",
       "      <th>0</th>\n",
       "      <td>619</td>\n",
       "      <td>42</td>\n",
       "      <td>2</td>\n",
       "      <td>0.00</td>\n",
       "      <td>1</td>\n",
       "      <td>1</td>\n",
       "      <td>1</td>\n",
       "      <td>101348.88</td>\n",
       "      <td>1</td>\n",
       "      <td>0</td>\n",
       "      <td>0</td>\n",
       "      <td>0</td>\n",
       "    </tr>\n",
       "    <tr>\n",
       "      <th>1</th>\n",
       "      <td>608</td>\n",
       "      <td>41</td>\n",
       "      <td>1</td>\n",
       "      <td>83807.86</td>\n",
       "      <td>1</td>\n",
       "      <td>0</td>\n",
       "      <td>1</td>\n",
       "      <td>112542.58</td>\n",
       "      <td>0</td>\n",
       "      <td>0</td>\n",
       "      <td>1</td>\n",
       "      <td>0</td>\n",
       "    </tr>\n",
       "    <tr>\n",
       "      <th>2</th>\n",
       "      <td>502</td>\n",
       "      <td>42</td>\n",
       "      <td>8</td>\n",
       "      <td>159660.80</td>\n",
       "      <td>3</td>\n",
       "      <td>1</td>\n",
       "      <td>0</td>\n",
       "      <td>113931.57</td>\n",
       "      <td>1</td>\n",
       "      <td>0</td>\n",
       "      <td>0</td>\n",
       "      <td>0</td>\n",
       "    </tr>\n",
       "    <tr>\n",
       "      <th>3</th>\n",
       "      <td>699</td>\n",
       "      <td>39</td>\n",
       "      <td>1</td>\n",
       "      <td>0.00</td>\n",
       "      <td>2</td>\n",
       "      <td>0</td>\n",
       "      <td>0</td>\n",
       "      <td>93826.63</td>\n",
       "      <td>0</td>\n",
       "      <td>0</td>\n",
       "      <td>0</td>\n",
       "      <td>0</td>\n",
       "    </tr>\n",
       "    <tr>\n",
       "      <th>4</th>\n",
       "      <td>850</td>\n",
       "      <td>43</td>\n",
       "      <td>2</td>\n",
       "      <td>125510.82</td>\n",
       "      <td>1</td>\n",
       "      <td>1</td>\n",
       "      <td>1</td>\n",
       "      <td>79084.10</td>\n",
       "      <td>0</td>\n",
       "      <td>0</td>\n",
       "      <td>1</td>\n",
       "      <td>0</td>\n",
       "    </tr>\n",
       "  </tbody>\n",
       "</table>\n",
       "</div>"
      ],
      "text/plain": [
       "   credit_score  age  tenure    balance  num_of_products  has_cr_card  \\\n",
       "0           619   42       2       0.00                1            1   \n",
       "1           608   41       1   83807.86                1            0   \n",
       "2           502   42       8  159660.80                3            1   \n",
       "3           699   39       1       0.00                2            0   \n",
       "4           850   43       2  125510.82                1            1   \n",
       "\n",
       "   is_active_member  estimated_salary  exited  geography_Germany  \\\n",
       "0                 1         101348.88       1                  0   \n",
       "1                 1         112542.58       0                  0   \n",
       "2                 0         113931.57       1                  0   \n",
       "3                 0          93826.63       0                  0   \n",
       "4                 1          79084.10       0                  0   \n",
       "\n",
       "   geography_Spain  gender_Male  \n",
       "0                0            0  \n",
       "1                1            0  \n",
       "2                0            0  \n",
       "3                0            0  \n",
       "4                1            0  "
      ]
     },
     "execution_count": 16,
     "metadata": {},
     "output_type": "execute_result"
    }
   ],
   "source": [
    "churn_ohe = pd.get_dummies(churn, drop_first=True)\n",
    "churn_ohe.head()"
   ]
  },
  {
   "cell_type": "markdown",
   "id": "f674ce26",
   "metadata": {},
   "source": [
    "<hr><h2>Conclusion</h2>\n",
    "\n",
    "What we did so far:\n",
    "\n",
    "- lower case the columns name and put underline in multiple words column names\n",
    "\n",
    "- fix our missing values in 'tenure' using lambda and fillna median using the groupby column num_of_products\n",
    "\n",
    "- drop the columns 'customer_id','row_number', 'surname' \n",
    "\n",
    "- remove the first rows of our dataset using the ohe to avoid the dummy trap\n",
    "\n",
    "- change the dtype of 'tenure' from float to integer "
   ]
  },
  {
   "cell_type": "markdown",
   "id": "f4c54e79",
   "metadata": {},
   "source": [
    "<hr><div id=\"Step III\"><h2>III - Eploratory data analysis to our target column 'exited':</h2></div>"
   ]
  },
  {
   "cell_type": "markdown",
   "id": "7130c9a4",
   "metadata": {},
   "source": [
    "<h3>'geography' Column</h3>"
   ]
  },
  {
   "cell_type": "code",
   "execution_count": 17,
   "id": "7ab17273",
   "metadata": {},
   "outputs": [
    {
     "data": {
      "image/png": "[encoded data removed]",
      "text/plain": [
       "<Figure size 2880x576 with 1 Axes>"
      ]
     },
     "metadata": {
      "needs_background": "light"
     },
     "output_type": "display_data"
    }
   ],
   "source": [
    "#plot of geography ('geo' column) by total exited column\n",
    "fig = plt.figure(figsize=(20,4), dpi=144)\n",
    "ax = fig.add_subplot(1,2,1)\n",
    "ax = sns.countplot(data=churn, x=\"geography\", hue=\"exited\")\n",
    "ax.set_xticklabels(ax.get_xticklabels(), rotation=0)\n",
    "ax.set_title('Distribution by geography')\n",
    "\n",
    "columns = ('France\\n\\n Total :5014','Spain\\n\\n Total :2477','Germany\\n\\n Total :2509')\n",
    "\n",
    "cell_text = [4204,2064,1695],[810,413,814],\n",
    "ax.table(cellText=cell_text,\n",
    "         rowLabels=['    0    ','    1    '],\n",
    "         colLabels=columns,\n",
    "         loc='right',\n",
    "         cellLoc='center',\n",
    "         bbox=(1.1,0.0,1.0,1.0))\n",
    "plt.show();"
   ]
  },
  {
   "cell_type": "markdown",
   "id": "6d67758d",
   "metadata": {},
   "source": [
    "We can see the most loyal customers in our bank is from france when germany is the country most customers leave compere to the one how stay in our system"
   ]
  },
  {
   "cell_type": "markdown",
   "id": "e1db3286",
   "metadata": {},
   "source": [
    "<h3>'gender' Column</h3>"
   ]
  },
  {
   "cell_type": "code",
   "execution_count": 18,
   "id": "8c98e80a",
   "metadata": {},
   "outputs": [
    {
     "data": {
      "image/png": "[encoded data removed]",
      "text/plain": [
       "<Figure size 2880x576 with 1 Axes>"
      ]
     },
     "metadata": {
      "needs_background": "light"
     },
     "output_type": "display_data"
    }
   ],
   "source": [
    "#plot of gender ('gen' column) by exited column\n",
    "fig = plt.figure(figsize=(20,4), dpi=144)\n",
    "ax = fig.add_subplot(1,2,1)\n",
    "ax = sns.countplot(data=churn, x=\"gender\", hue=\"exited\")\n",
    "ax.set_xticklabels(ax.get_xticklabels(), rotation=0)\n",
    "ax.set_title('Distribution by gender')\n",
    "\n",
    "columns = ('Female\\n\\n Total: 4543' , 'Male\\n\\n Total: 5457')\n",
    "\n",
    "cell_text = [3404,4559],[1139,898],\n",
    "ax.table(cellText=cell_text,\n",
    "         rowLabels=['    0    ','    1    '],\n",
    "         colLabels=columns,\n",
    "         loc='right',\n",
    "         cellLoc='center',\n",
    "         bbox=(1.1,0.0,1.0,1.0))\n",
    "plt.show();"
   ]
  },
  {
   "cell_type": "markdown",
   "id": "ec46d29a",
   "metadata": {},
   "source": [
    "As we can see males our more loyal to our bank vs females"
   ]
  },
  {
   "cell_type": "markdown",
   "id": "c6bbee1c",
   "metadata": {},
   "source": [
    "<h3>'age' Column</h3>"
   ]
  },
  {
   "cell_type": "code",
   "execution_count": 19,
   "id": "1b757df6",
   "metadata": {},
   "outputs": [
    {
     "data": {
      "image/png": "[encoded data removed]",
      "text/plain": [
       "<Figure size 1440x288 with 1 Axes>"
      ]
     },
     "metadata": {
      "needs_background": "light"
     },
     "output_type": "display_data"
    }
   ],
   "source": [
    "#plot of 'age' column by exited\n",
    "plt.figure(figsize=(20,4))\n",
    "sns.histplot(data=churn, x=\"age\",binwidth=3, hue=\"exited\", multiple=\"stack\")\n",
    "plt.title('Distribution by age group');\n",
    "plt.show();"
   ]
  },
  {
   "cell_type": "markdown",
   "id": "eb74065e",
   "metadata": {},
   "source": [
    "Our customers age is around 30s - 40s , the distribution is positive skewed more young people have accounts in our bank than older people , interesting to see that our `exited` leave customer is very low and close to normal than our loyal customer. "
   ]
  },
  {
   "cell_type": "markdown",
   "id": "ccbfafec",
   "metadata": {},
   "source": [
    "<h3>'credit_score' Column</h3>"
   ]
  },
  {
   "cell_type": "code",
   "execution_count": 20,
   "id": "940c3208",
   "metadata": {},
   "outputs": [
    {
     "data": {
      "image/png": "[encoded data removed]",
      "text/plain": [
       "<Figure size 1440x288 with 1 Axes>"
      ]
     },
     "metadata": {
      "needs_background": "light"
     },
     "output_type": "display_data"
    }
   ],
   "source": [
    "#plot of 'credit_score' column by exited\n",
    "plt.figure(figsize=(20,4))\n",
    "sns.histplot(data=churn, x=\"credit_score\",binwidth=30, hue=\"exited\", multiple=\"stack\")\n",
    "plt.title('Distribution by credit score');\n",
    "plt.show();"
   ]
  },
  {
   "cell_type": "markdown",
   "id": "4c7bf108",
   "metadata": {},
   "source": [
    "our distribution of credit score looks normal since the leave customers in the section of around 400 is almost 0 and we have more loyal customers in any credit score above then customers how leave the bank"
   ]
  },
  {
   "cell_type": "markdown",
   "id": "1156f766",
   "metadata": {},
   "source": [
    "<h3>'Balance' Column</h3>"
   ]
  },
  {
   "cell_type": "code",
   "execution_count": 21,
   "id": "83301f16",
   "metadata": {},
   "outputs": [
    {
     "data": {
      "image/png": "[encoded data removed]",
      "text/plain": [
       "<Figure size 2880x1152 with 2 Axes>"
      ]
     },
     "metadata": {
      "needs_background": "light"
     },
     "output_type": "display_data"
    },
    {
     "data": {
      "text/html": [
       "<div>\n",
       "<style scoped>\n",
       "    .dataframe tbody tr th:only-of-type {\n",
       "        vertical-align: middle;\n",
       "    }\n",
       "\n",
       "    .dataframe tbody tr th {\n",
       "        vertical-align: top;\n",
       "    }\n",
       "\n",
       "    .dataframe thead th {\n",
       "        text-align: right;\n",
       "    }\n",
       "</style>\n",
       "<table border=\"1\" class=\"dataframe\">\n",
       "  <thead>\n",
       "    <tr style=\"text-align: right;\">\n",
       "      <th></th>\n",
       "      <th>credit_score</th>\n",
       "      <th>geography</th>\n",
       "      <th>gender</th>\n",
       "      <th>age</th>\n",
       "      <th>tenure</th>\n",
       "      <th>balance</th>\n",
       "      <th>num_of_products</th>\n",
       "      <th>has_cr_card</th>\n",
       "      <th>is_active_member</th>\n",
       "      <th>estimated_salary</th>\n",
       "      <th>exited</th>\n",
       "    </tr>\n",
       "  </thead>\n",
       "  <tbody>\n",
       "    <tr>\n",
       "      <th>0</th>\n",
       "      <td>619</td>\n",
       "      <td>France</td>\n",
       "      <td>Female</td>\n",
       "      <td>42</td>\n",
       "      <td>2</td>\n",
       "      <td>0.0</td>\n",
       "      <td>1</td>\n",
       "      <td>1</td>\n",
       "      <td>1</td>\n",
       "      <td>101348.88</td>\n",
       "      <td>1</td>\n",
       "    </tr>\n",
       "    <tr>\n",
       "      <th>3</th>\n",
       "      <td>699</td>\n",
       "      <td>France</td>\n",
       "      <td>Female</td>\n",
       "      <td>39</td>\n",
       "      <td>1</td>\n",
       "      <td>0.0</td>\n",
       "      <td>2</td>\n",
       "      <td>0</td>\n",
       "      <td>0</td>\n",
       "      <td>93826.63</td>\n",
       "      <td>0</td>\n",
       "    </tr>\n",
       "    <tr>\n",
       "      <th>6</th>\n",
       "      <td>822</td>\n",
       "      <td>France</td>\n",
       "      <td>Male</td>\n",
       "      <td>50</td>\n",
       "      <td>7</td>\n",
       "      <td>0.0</td>\n",
       "      <td>2</td>\n",
       "      <td>1</td>\n",
       "      <td>1</td>\n",
       "      <td>10062.80</td>\n",
       "      <td>0</td>\n",
       "    </tr>\n",
       "    <tr>\n",
       "      <th>11</th>\n",
       "      <td>497</td>\n",
       "      <td>Spain</td>\n",
       "      <td>Male</td>\n",
       "      <td>24</td>\n",
       "      <td>3</td>\n",
       "      <td>0.0</td>\n",
       "      <td>2</td>\n",
       "      <td>1</td>\n",
       "      <td>0</td>\n",
       "      <td>76390.01</td>\n",
       "      <td>0</td>\n",
       "    </tr>\n",
       "    <tr>\n",
       "      <th>12</th>\n",
       "      <td>476</td>\n",
       "      <td>France</td>\n",
       "      <td>Female</td>\n",
       "      <td>34</td>\n",
       "      <td>10</td>\n",
       "      <td>0.0</td>\n",
       "      <td>2</td>\n",
       "      <td>1</td>\n",
       "      <td>0</td>\n",
       "      <td>26260.98</td>\n",
       "      <td>0</td>\n",
       "    </tr>\n",
       "  </tbody>\n",
       "</table>\n",
       "</div>"
      ],
      "text/plain": [
       "    credit_score geography  gender  age  tenure  balance  num_of_products  \\\n",
       "0            619    France  Female   42       2      0.0                1   \n",
       "3            699    France  Female   39       1      0.0                2   \n",
       "6            822    France    Male   50       7      0.0                2   \n",
       "11           497     Spain    Male   24       3      0.0                2   \n",
       "12           476    France  Female   34      10      0.0                2   \n",
       "\n",
       "    has_cr_card  is_active_member  estimated_salary  exited  \n",
       "0             1                 1         101348.88       1  \n",
       "3             0                 0          93826.63       0  \n",
       "6             1                 1          10062.80       0  \n",
       "11            1                 0          76390.01       0  \n",
       "12            1                 0          26260.98       0  "
      ]
     },
     "execution_count": 21,
     "metadata": {},
     "output_type": "execute_result"
    }
   ],
   "source": [
    "#plot of 'Balance' column by exited\n",
    "plt.figure(figsize=(20,8), dpi=144)\n",
    "ax1 = plt.subplot(2,2,1)\n",
    "ax1 = sns.histplot(data=churn, x=\"balance\", hue=\"exited\" , multiple=\"stack\")\n",
    "ax1 = plt.title('Distribution by balance')\n",
    "\n",
    "ax2 = plt.subplot(2,2,2)\n",
    "ax2 = sns.boxplot(y=\"balance\", data=churn, dodge=False, hue=\"exited\")\n",
    "ax2 = plt.title('Distribution by balance boxplot')\n",
    "plt.show();\n",
    "\n",
    "churn[churn['balance']==0].head()"
   ]
  },
  {
   "cell_type": "markdown",
   "id": "02a96f31",
   "metadata": {},
   "source": [
    "This distribution is close to normal except for a high number of 0 values. Some of them are observations when a customer left the bank, so 0 balance might be a good predictor for our target. However, we see that customers who stayed (at least at the moment when the data was taken) also sometimes have 0 balances. Probably more information is needed to understand the reason behind."
   ]
  },
  {
   "cell_type": "markdown",
   "id": "012e41ba",
   "metadata": {},
   "source": [
    "<h3>'estimated_salary' Column</h3>"
   ]
  },
  {
   "cell_type": "code",
   "execution_count": 22,
   "id": "717fa632",
   "metadata": {},
   "outputs": [
    {
     "data": {
      "image/png": "[encoded data removed]",
      "text/plain": [
       "<Figure size 2880x1152 with 2 Axes>"
      ]
     },
     "metadata": {
      "needs_background": "light"
     },
     "output_type": "display_data"
    }
   ],
   "source": [
    "#plot of 'estimated_salary' column by exited\n",
    "plt.figure(figsize=(20,8), dpi=144)\n",
    "ax1 = plt.subplot(2,2,1)\n",
    "ax1 = sns.histplot(data=churn, x=\"estimated_salary\", hue=\"exited\" , multiple=\"stack\")\n",
    "ax1 = plt.title('Distribution by estimated_salary')\n",
    "\n",
    "ax2 = plt.subplot(2,2,2)\n",
    "ax2 = sns.boxplot(y=\"estimated_salary\", data=churn, dodge=False, hue=\"exited\")\n",
    "ax2 = plt.title('Distribution by estimated_salary boxplot')\n",
    "plt.show();"
   ]
  },
  {
   "cell_type": "markdown",
   "id": "7ee0d953",
   "metadata": {},
   "source": [
    "We can see uniform distribution , of each range of values that has the same length on the distributions support has equal probability of occurrence so no visible outliers here and it's looks normal\n",
    "\n",
    "<hr><h3>'exited' Column</h3>"
   ]
  },
  {
   "cell_type": "code",
   "execution_count": 23,
   "id": "573d8dfc",
   "metadata": {},
   "outputs": [
    {
     "data": {
      "image/png": "[encoded data removed]",
      "text/plain": [
       "<Figure size 1440x288 with 1 Axes>"
      ]
     },
     "metadata": {
      "needs_background": "light"
     },
     "output_type": "display_data"
    }
   ],
   "source": [
    "#plot of 'exited' column by exited\n",
    "plt.figure(figsize=(20,4))\n",
    "sns.countplot(data=churn, x=\"exited\")\n",
    "plt.title('Distribution by exited');\n",
    "plt.show();"
   ]
  },
  {
   "cell_type": "markdown",
   "id": "f9a093f0",
   "metadata": {},
   "source": [
    "We see that our classes are indeed imbalanced: there are more than twice as many observations when a client stayed with the bank than of those who left.\n",
    "\n",
    "First, let's calculate the baseline F1 score for this dataset and try to run models without taking into account the imbalance."
   ]
  },
  {
   "cell_type": "markdown",
   "id": "0119cb60",
   "metadata": {},
   "source": [
    "<hr><h2>Conclusion</h2>\n",
    "\n",
    "What we found so far:\n",
    "\n",
    "- we have three countries that the most loyal customers come from france and germany is the most customers leave vs total amount\n",
    "\n",
    "- our loyal customers in there the middle age 30-40 and the young one is under 18\n",
    "\n",
    "- that 'estimated_salary' is very stable around all the amount and there isn't one that very low or very high\n",
    "\n",
    "- most of our customers show balance of 0 and the rest spred from 50k to almost 200k\n",
    "\n",
    "- our exited show very high in the loyal which is 0 compere to leave the bank which is 1 this could be good or issue with our data imbalance"
   ]
  },
  {
   "cell_type": "markdown",
   "id": "190cc3d5",
   "metadata": {},
   "source": [
    "<hr><div id=\"Step IV\"><h2>IV -Splitting data into train, validation and test sets:</h2></div>"
   ]
  },
  {
   "cell_type": "markdown",
   "id": "d79ae275",
   "metadata": {},
   "source": [
    "Let's split data into train and test sets with the 80/20 proportion, respectively"
   ]
  },
  {
   "cell_type": "code",
   "execution_count": 24,
   "id": "578ba625",
   "metadata": {},
   "outputs": [],
   "source": [
    "features = churn_ohe.drop('exited', axis=1)\n",
    "target = churn_ohe['exited']\n",
    "features_train_all, features_test, target_train_all, target_test = train_test_split(features, target, test_size = 0.2, stratify=target, random_state=12345)"
   ]
  },
  {
   "cell_type": "markdown",
   "id": "21d000be",
   "metadata": {},
   "source": [
    "We split so that the proportion of values in the sample produced will be the same as the proportion of values on the target variable.\n",
    "\n",
    "For example, if variable 'target' is a binary categorical variable with values 0 and 1 and there are 25% of zeros and 75% of ones, stratify=target will make sure that your random split has 25% of 0's and 75% of 1's.\n",
    "\n",
    "Next, we'll further split the train set into train and validation with the 80/20 proportion, respectively , also we use ohe on 'exited' column"
   ]
  },
  {
   "cell_type": "code",
   "execution_count": 25,
   "id": "5b70e2c8",
   "metadata": {},
   "outputs": [],
   "source": [
    "features_train, features_valid, target_train, target_valid = train_test_split(features_train_all, target_train_all, test_size = 0.2, random_state=12345)"
   ]
  },
  {
   "cell_type": "code",
   "execution_count": 26,
   "id": "60f04d46",
   "metadata": {},
   "outputs": [],
   "source": [
    "features_test.name = 'features_test'\n",
    "features_valid.name = 'features_valid'\n",
    "features_train.name = 'features_train'\n",
    "target_train.name = 'target_train'\n",
    "target_valid.name = 'target_valid'\n",
    "target_test.name = 'target_test'"
   ]
  },
  {
   "cell_type": "code",
   "execution_count": 27,
   "id": "b8d27186",
   "metadata": {},
   "outputs": [
    {
     "name": "stdout",
     "output_type": "stream",
     "text": [
      "Size of features_train : 0.64\n",
      "Size of target_train : 0.64\n",
      "Size of features_valid : 0.16\n",
      "Size of target_valid : 0.16\n",
      "Size of features_test : 0.2\n",
      "Size of target_test : 0.2\n"
     ]
    }
   ],
   "source": [
    "for part in [features_train, target_train, features_valid, target_valid, features_test, target_test]:\n",
    "    print(\"Size of\", part.name, \":\", part.shape[0]/churn.shape[0])"
   ]
  },
  {
   "cell_type": "markdown",
   "id": "92f2771d",
   "metadata": {},
   "source": [
    "<hr><h3>Standard Scaling</h3>\n",
    "\n",
    "We will scale our features with Standard Scaler, this will convert our dataset into numpy arrays, so after they are transformed, let's convert them back to datasets."
   ]
  },
  {
   "cell_type": "code",
   "execution_count": 28,
   "id": "bbcaa275",
   "metadata": {},
   "outputs": [],
   "source": [
    "# features scaling\n",
    "sc = ss()\n",
    "features_train_scaled = sc.fit_transform(features_train)\n",
    "features_valid_scaled = sc.transform(features_valid)\n",
    "features_test_scaled = sc.transform(features_test)"
   ]
  },
  {
   "cell_type": "code",
   "execution_count": 29,
   "id": "ce174e66",
   "metadata": {},
   "outputs": [],
   "source": [
    "features_train = pd.DataFrame(data=features_train_scaled,index=features_train.index,columns=features_train.columns) \n",
    "features_valid = pd.DataFrame(data=features_valid_scaled,index=features_valid.index,columns=features_valid.columns) \n",
    "features_test = pd.DataFrame(data=features_test_scaled,index=features_test.index,columns=features_test.columns) "
   ]
  },
  {
   "cell_type": "markdown",
   "id": "16f04aa6",
   "metadata": {},
   "source": [
    "<h3>Models with class imbalance</h3>\n",
    "\n",
    "<b>F1 score baseline</b>\n",
    "\n",
    "Our case it's more important that a model correctly predicts the minority class - whether a customer left the bank, that's why we will choose the strategy constant for the dummy classifier"
   ]
  },
  {
   "cell_type": "code",
   "execution_count": 30,
   "id": "11aa9c07",
   "metadata": {},
   "outputs": [
    {
     "name": "stdout",
     "output_type": "stream",
     "text": [
      "Baseline F1 score: 34.37\n"
     ]
    }
   ],
   "source": [
    "base_model = DummyClassifier(strategy='constant',constant=1,random_state=12345)\n",
    "base_model.fit(features_train, target_train)\n",
    "target_pred = base_model.predict(features_valid)\n",
    "\n",
    "f1_baseline = round(f1_score(target_valid,target_pred) * 100, 2)\n",
    "print(\"Baseline F1 score:\", f1_baseline)"
   ]
  },
  {
   "cell_type": "markdown",
   "id": "d2a992a8",
   "metadata": {},
   "source": [
    "We see that our baseline of F1 score is more than 34% , this mean our models need to do better the this value"
   ]
  },
  {
   "cell_type": "markdown",
   "id": "b472262e",
   "metadata": {},
   "source": [
    "<b>Decision_tree imbalance</b>"
   ]
  },
  {
   "cell_type": "code",
   "execution_count": 31,
   "id": "80f2ae1c",
   "metadata": {},
   "outputs": [
    {
     "data": {
      "text/plain": [
       "46.03"
      ]
     },
     "execution_count": 31,
     "metadata": {},
     "output_type": "execute_result"
    }
   ],
   "source": [
    "decision_tree = DecisionTreeClassifier(random_state=12345)\n",
    "decision_tree.fit(features_train, target_train)\n",
    "target_pred = decision_tree.predict(features_valid)\n",
    "\n",
    "f1_DT_imbalance = round(f1_score(target_valid,target_pred) * 100, 2)\n",
    "f1_DT_imbalance"
   ]
  },
  {
   "cell_type": "markdown",
   "id": "a01b496d",
   "metadata": {},
   "source": [
    "<b>LogisticRegression imbalance</b>"
   ]
  },
  {
   "cell_type": "code",
   "execution_count": 32,
   "id": "bf88c01c",
   "metadata": {},
   "outputs": [
    {
     "data": {
      "text/plain": [
       "32.37"
      ]
     },
     "execution_count": 32,
     "metadata": {},
     "output_type": "execute_result"
    }
   ],
   "source": [
    "LR = LogisticRegression(random_state=12345)\n",
    "LR.fit(features_train, target_train)     \n",
    "target_pred = LR.predict(features_valid)\n",
    "\n",
    "f1_LR_imbalance = round(f1_score(target_valid, target_pred) * 100, 2)\n",
    "f1_LR_imbalance"
   ]
  },
  {
   "cell_type": "markdown",
   "id": "bb63d19a",
   "metadata": {},
   "source": [
    "<b>RandomForestClassifier imbalance</b>"
   ]
  },
  {
   "cell_type": "code",
   "execution_count": 33,
   "id": "c5c02153",
   "metadata": {},
   "outputs": [
    {
     "data": {
      "text/plain": [
       "55.34"
      ]
     },
     "execution_count": 33,
     "metadata": {},
     "output_type": "execute_result"
    }
   ],
   "source": [
    "rfc = RandomForestClassifier(random_state=12345)\n",
    "rfc.fit(features_train, target_train)\n",
    "target_pred = rfc.predict(features_valid)\n",
    "\n",
    "f1_rfc_imbalance = round(f1_score(target_valid,target_pred) * 100, 2)\n",
    "f1_rfc_imbalance"
   ]
  },
  {
   "cell_type": "markdown",
   "id": "81ea60e1",
   "metadata": {},
   "source": [
    "We can see that our three models gave us lower F1 score than our target 0.59 , when our Logistic Regression have got even lower than our F1 base score. so we need to correct the imbalance and keep testing."
   ]
  },
  {
   "cell_type": "markdown",
   "id": "d0e49cd5",
   "metadata": {},
   "source": [
    "<hr><div id=\"Step V\"><h2>V - Class imbalance correction and hyper parameter tuning</h2>\n",
    "\n",
    "In this section we going to try to correct the class imbalance using the following methods:\n",
    "\n",
    "- Class Weight Adjustment\n",
    "\n",
    "- Upsampling\n",
    "\n",
    "- Downsampling\n",
    "\n",
    "So we going to tune our three models and find the best one that pass the 0.59 F1 Score\n"
   ]
  },
  {
   "cell_type": "markdown",
   "id": "1a799b7e",
   "metadata": {},
   "source": [
    "<h3>Method 1: Class Weight Adjustment</h3>\n",
    "\n",
    "<b>DecisionTree</b> "
   ]
  },
  {
   "cell_type": "code",
   "execution_count": 34,
   "id": "952597b7",
   "metadata": {},
   "outputs": [
    {
     "data": {
      "text/html": [
       "<div>\n",
       "<style scoped>\n",
       "    .dataframe tbody tr th:only-of-type {\n",
       "        vertical-align: middle;\n",
       "    }\n",
       "\n",
       "    .dataframe tbody tr th {\n",
       "        vertical-align: top;\n",
       "    }\n",
       "\n",
       "    .dataframe thead th {\n",
       "        text-align: right;\n",
       "    }\n",
       "</style>\n",
       "<table border=\"1\" class=\"dataframe\">\n",
       "  <thead>\n",
       "    <tr style=\"text-align: right;\">\n",
       "      <th></th>\n",
       "      <th>max_depth</th>\n",
       "      <th>f1_DT_balanced</th>\n",
       "    </tr>\n",
       "  </thead>\n",
       "  <tbody>\n",
       "    <tr>\n",
       "      <th>5</th>\n",
       "      <td>6</td>\n",
       "      <td>61.95</td>\n",
       "    </tr>\n",
       "  </tbody>\n",
       "</table>\n",
       "</div>"
      ],
      "text/plain": [
       "   max_depth  f1_DT_balanced\n",
       "5          6           61.95"
      ]
     },
     "execution_count": 34,
     "metadata": {},
     "output_type": "execute_result"
    }
   ],
   "source": [
    "#decision_tree_classifier after tune balanced to improve the f1 score\n",
    "d = []\n",
    "for depth in range(1,10):\n",
    "    decision_tree = DecisionTreeClassifier(class_weight='balanced', random_state=12345, max_depth=depth)\n",
    "    decision_tree.fit(features_train, target_train)\n",
    "    target_pred = decision_tree.predict(features_valid)\n",
    "    f1_DT_balanced = round(f1_score(target_valid,target_pred) * 100, 2)\n",
    "    d.append(\n",
    "        {\n",
    "            'max_depth': depth,\n",
    "            'f1_DT_balanced':  f1_DT_balanced\n",
    "          }\n",
    "     )\n",
    "\n",
    "best_param = pd.DataFrame(d).nlargest(1, ['f1_DT_balanced'], keep='first')\n",
    "f1_DT_balanced = best_param['f1_DT_balanced'].values\n",
    "best_param"
   ]
  },
  {
   "cell_type": "markdown",
   "id": "7ec94cff",
   "metadata": {},
   "source": [
    "<b>LogisticRegression</b> "
   ]
  },
  {
   "cell_type": "code",
   "execution_count": 35,
   "id": "44fa471c",
   "metadata": {},
   "outputs": [
    {
     "data": {
      "text/html": [
       "<div>\n",
       "<style scoped>\n",
       "    .dataframe tbody tr th:only-of-type {\n",
       "        vertical-align: middle;\n",
       "    }\n",
       "\n",
       "    .dataframe tbody tr th {\n",
       "        vertical-align: top;\n",
       "    }\n",
       "\n",
       "    .dataframe thead th {\n",
       "        text-align: right;\n",
       "    }\n",
       "</style>\n",
       "<table border=\"1\" class=\"dataframe\">\n",
       "  <thead>\n",
       "    <tr style=\"text-align: right;\">\n",
       "      <th></th>\n",
       "      <th>penalty</th>\n",
       "      <th>C</th>\n",
       "      <th>f1_LR_balanced</th>\n",
       "    </tr>\n",
       "  </thead>\n",
       "  <tbody>\n",
       "    <tr>\n",
       "      <th>0</th>\n",
       "      <td>l1</td>\n",
       "      <td>0.01</td>\n",
       "      <td>50.57</td>\n",
       "    </tr>\n",
       "  </tbody>\n",
       "</table>\n",
       "</div>"
      ],
      "text/plain": [
       "  penalty     C  f1_LR_balanced\n",
       "0      l1  0.01           50.57"
      ]
     },
     "execution_count": 35,
     "metadata": {},
     "output_type": "execute_result"
    }
   ],
   "source": [
    "d = []\n",
    "for penalty in ['l1', 'l2']:\n",
    "    for C in np.arange(0.01,1,0.01):\n",
    "        LR = LogisticRegression(solver=\"liblinear\", penalty=penalty, class_weight='balanced', C=C, random_state=12345)\n",
    "        LR.fit(features_train, target_train)     \n",
    "        target_pred = LR.predict(features_valid)\n",
    "        f1_LR_balanced = round(f1_score(target_valid,target_pred) * 100, 2)\n",
    "        d.append(\n",
    "            {\n",
    "                'penalty': penalty,\n",
    "                'C': C,\n",
    "                'f1_LR_balanced':  f1_LR_balanced\n",
    "            }\n",
    "        )\n",
    "best_param = pd.DataFrame(d).nlargest(1, ['f1_LR_balanced'], keep='first')\n",
    "f1_LR_balanced = best_param['f1_LR_balanced'].values\n",
    "best_param"
   ]
  },
  {
   "cell_type": "markdown",
   "id": "a2ed1e02",
   "metadata": {},
   "source": [
    "<b>RandomForestClassifier</b> "
   ]
  },
  {
   "cell_type": "code",
   "execution_count": 36,
   "id": "4ee46213",
   "metadata": {},
   "outputs": [
    {
     "data": {
      "text/html": [
       "<div>\n",
       "<style scoped>\n",
       "    .dataframe tbody tr th:only-of-type {\n",
       "        vertical-align: middle;\n",
       "    }\n",
       "\n",
       "    .dataframe tbody tr th {\n",
       "        vertical-align: top;\n",
       "    }\n",
       "\n",
       "    .dataframe thead th {\n",
       "        text-align: right;\n",
       "    }\n",
       "</style>\n",
       "<table border=\"1\" class=\"dataframe\">\n",
       "  <thead>\n",
       "    <tr style=\"text-align: right;\">\n",
       "      <th></th>\n",
       "      <th>n_estimators</th>\n",
       "      <th>max_depth</th>\n",
       "      <th>f1_rfc_balanced</th>\n",
       "    </tr>\n",
       "  </thead>\n",
       "  <tbody>\n",
       "    <tr>\n",
       "      <th>43</th>\n",
       "      <td>37</td>\n",
       "      <td>8</td>\n",
       "      <td>62.8</td>\n",
       "    </tr>\n",
       "  </tbody>\n",
       "</table>\n",
       "</div>"
      ],
      "text/plain": [
       "    n_estimators  max_depth  f1_rfc_balanced\n",
       "43            37          8             62.8"
      ]
     },
     "execution_count": 36,
     "metadata": {},
     "output_type": "execute_result"
    }
   ],
   "source": [
    "d = []\n",
    "for estim in range(1,51,9):\n",
    "    for depth in range(1,10):\n",
    "        rfc = RandomForestClassifier(random_state=12345, n_estimators=estim, max_depth=depth, class_weight='balanced')\n",
    "        rfc.fit(features_train, target_train)\n",
    "        target_pred = rfc.predict(features_valid)\n",
    "        f1_rfc_balanced = round(f1_score(target_valid,target_pred) * 100, 2)\n",
    "        d.append(\n",
    "            {\n",
    "                'n_estimators': estim,\n",
    "                'max_depth': depth,\n",
    "                'f1_rfc_balanced':  f1_rfc_balanced\n",
    "            }\n",
    "        )\n",
    "\n",
    "best_param = pd.DataFrame(d).nlargest(1, ['f1_rfc_balanced'], keep='first')\n",
    "f1_rfc_balanced = best_param['f1_rfc_balanced'].values\n",
    "best_param"
   ]
  },
  {
   "cell_type": "markdown",
   "id": "80334117",
   "metadata": {},
   "source": [
    "<hr><h2>Method 2: Upsampling</h2>"
   ]
  },
  {
   "cell_type": "code",
   "execution_count": 37,
   "id": "8416260f",
   "metadata": {},
   "outputs": [],
   "source": [
    "def upsample(features, target, repeat):\n",
    "    features_zeros = features[target == 0]\n",
    "    features_ones = features[target == 1]\n",
    "    target_zeros = target[target == 0]\n",
    "    target_ones = target[target == 1]\n",
    "\n",
    "    features_upsampled = pd.concat([features_zeros] + [features_ones] * repeat)\n",
    "    target_upsampled = pd.concat([target_zeros] + [target_ones] * repeat)\n",
    "\n",
    "    features_upsampled, target_upsampled = shuffle(features_upsampled, target_upsampled, random_state=12345)\n",
    "\n",
    "    return features_upsampled, target_upsampled\n",
    "\n",
    "features_train_upsampled, target_train_upsampled  = upsample(features_train, target_train, 4)"
   ]
  },
  {
   "cell_type": "markdown",
   "id": "fb8fb3c5",
   "metadata": {},
   "source": [
    "<b>Decision_tree</b> "
   ]
  },
  {
   "cell_type": "code",
   "execution_count": 38,
   "id": "ac89e376",
   "metadata": {},
   "outputs": [
    {
     "data": {
      "text/html": [
       "<div>\n",
       "<style scoped>\n",
       "    .dataframe tbody tr th:only-of-type {\n",
       "        vertical-align: middle;\n",
       "    }\n",
       "\n",
       "    .dataframe tbody tr th {\n",
       "        vertical-align: top;\n",
       "    }\n",
       "\n",
       "    .dataframe thead th {\n",
       "        text-align: right;\n",
       "    }\n",
       "</style>\n",
       "<table border=\"1\" class=\"dataframe\">\n",
       "  <thead>\n",
       "    <tr style=\"text-align: right;\">\n",
       "      <th></th>\n",
       "      <th>max_depth</th>\n",
       "      <th>f1_DT_upsampled</th>\n",
       "    </tr>\n",
       "  </thead>\n",
       "  <tbody>\n",
       "    <tr>\n",
       "      <th>5</th>\n",
       "      <td>6</td>\n",
       "      <td>61.2</td>\n",
       "    </tr>\n",
       "  </tbody>\n",
       "</table>\n",
       "</div>"
      ],
      "text/plain": [
       "   max_depth  f1_DT_upsampled\n",
       "5          6             61.2"
      ]
     },
     "execution_count": 38,
     "metadata": {},
     "output_type": "execute_result"
    }
   ],
   "source": [
    "d = []\n",
    "for depth in range(1,10):\n",
    "    decision_tree = DecisionTreeClassifier(random_state=12345, max_depth=depth)\n",
    "    decision_tree.fit(features_train_upsampled, target_train_upsampled)\n",
    "    target_pred = decision_tree.predict(features_valid)\n",
    "    f1_DT_upsampled = round(f1_score(target_valid,target_pred) * 100, 2)\n",
    "    d.append(\n",
    "        {\n",
    "            'max_depth': depth,\n",
    "            'f1_DT_upsampled':  f1_DT_upsampled\n",
    "          }\n",
    "     )\n",
    "\n",
    "best_param = pd.DataFrame(d).nlargest(1, ['f1_DT_upsampled'], keep='first')\n",
    "f1_DT_upsampled = best_param['f1_DT_upsampled'].values\n",
    "best_param"
   ]
  },
  {
   "cell_type": "markdown",
   "id": "bca85b90",
   "metadata": {},
   "source": [
    "<b>LogisticRegression</b> "
   ]
  },
  {
   "cell_type": "code",
   "execution_count": 39,
   "id": "50bb6af2",
   "metadata": {},
   "outputs": [
    {
     "data": {
      "text/html": [
       "<div>\n",
       "<style scoped>\n",
       "    .dataframe tbody tr th:only-of-type {\n",
       "        vertical-align: middle;\n",
       "    }\n",
       "\n",
       "    .dataframe tbody tr th {\n",
       "        vertical-align: top;\n",
       "    }\n",
       "\n",
       "    .dataframe thead th {\n",
       "        text-align: right;\n",
       "    }\n",
       "</style>\n",
       "<table border=\"1\" class=\"dataframe\">\n",
       "  <thead>\n",
       "    <tr style=\"text-align: right;\">\n",
       "      <th></th>\n",
       "      <th>penalty</th>\n",
       "      <th>C</th>\n",
       "      <th>f1_LR_upsampled</th>\n",
       "    </tr>\n",
       "  </thead>\n",
       "  <tbody>\n",
       "    <tr>\n",
       "      <th>100</th>\n",
       "      <td>l2</td>\n",
       "      <td>0.02</td>\n",
       "      <td>50.59</td>\n",
       "    </tr>\n",
       "  </tbody>\n",
       "</table>\n",
       "</div>"
      ],
      "text/plain": [
       "    penalty     C  f1_LR_upsampled\n",
       "100      l2  0.02            50.59"
      ]
     },
     "execution_count": 39,
     "metadata": {},
     "output_type": "execute_result"
    }
   ],
   "source": [
    "d = []\n",
    "for penalty in ['l1', 'l2']:\n",
    "    for C in np.arange(0.01,1,0.01):\n",
    "        LR = LogisticRegression(solver=\"liblinear\", penalty=penalty, C=C, random_state=12345)\n",
    "        LR.fit(features_train_upsampled, target_train_upsampled)     \n",
    "        target_pred = LR.predict(features_valid)\n",
    "        f1_LR_upsampled = round(f1_score(target_valid,target_pred)* 100, 2)\n",
    "        d.append(\n",
    "            {\n",
    "                'penalty': penalty,\n",
    "                'C': C,\n",
    "                'f1_LR_upsampled':  f1_LR_upsampled\n",
    "            }\n",
    "        )\n",
    "best_param = pd.DataFrame(d).nlargest(1, ['f1_LR_upsampled'], keep='first')\n",
    "f1_LR_upsampled = best_param['f1_LR_upsampled'].values\n",
    "best_param"
   ]
  },
  {
   "cell_type": "markdown",
   "id": "d9aed07f",
   "metadata": {},
   "source": [
    "<b>RandomForestClassifier</b> "
   ]
  },
  {
   "cell_type": "code",
   "execution_count": 40,
   "id": "93fd4f15",
   "metadata": {},
   "outputs": [
    {
     "data": {
      "text/html": [
       "<div>\n",
       "<style scoped>\n",
       "    .dataframe tbody tr th:only-of-type {\n",
       "        vertical-align: middle;\n",
       "    }\n",
       "\n",
       "    .dataframe tbody tr th {\n",
       "        vertical-align: top;\n",
       "    }\n",
       "\n",
       "    .dataframe thead th {\n",
       "        text-align: right;\n",
       "    }\n",
       "</style>\n",
       "<table border=\"1\" class=\"dataframe\">\n",
       "  <thead>\n",
       "    <tr style=\"text-align: right;\">\n",
       "      <th></th>\n",
       "      <th>n_estimators</th>\n",
       "      <th>max_depth</th>\n",
       "      <th>f1_rfc_upsampled</th>\n",
       "    </tr>\n",
       "  </thead>\n",
       "  <tbody>\n",
       "    <tr>\n",
       "      <th>44</th>\n",
       "      <td>37</td>\n",
       "      <td>9</td>\n",
       "      <td>62.12</td>\n",
       "    </tr>\n",
       "  </tbody>\n",
       "</table>\n",
       "</div>"
      ],
      "text/plain": [
       "    n_estimators  max_depth  f1_rfc_upsampled\n",
       "44            37          9             62.12"
      ]
     },
     "execution_count": 40,
     "metadata": {},
     "output_type": "execute_result"
    }
   ],
   "source": [
    "d = []\n",
    "for est in range(1,51,9):\n",
    "    for depth in range(1,10):\n",
    "        rfc = RandomForestClassifier(random_state=12345, n_estimators=est, max_depth=depth)\n",
    "        rfc.fit(features_train_upsampled, target_train_upsampled)\n",
    "        target_pred = rfc.predict(features_valid)\n",
    "        f1_rfc_upsampled = round(f1_score(target_valid,target_pred) * 100, 2)\n",
    "        d.append(\n",
    "            {\n",
    "                'n_estimators': est,\n",
    "                'max_depth': depth,\n",
    "                'f1_rfc_upsampled':  f1_rfc_upsampled\n",
    "            }\n",
    "        )\n",
    "\n",
    "best_param = pd.DataFrame(d).nlargest(1, ['f1_rfc_upsampled'], keep='first')\n",
    "f1_rfc_upsampled = best_param['f1_rfc_upsampled'].values\n",
    "best_param"
   ]
  },
  {
   "cell_type": "markdown",
   "id": "ef198606",
   "metadata": {},
   "source": [
    "<hr><h2>Method 3: Downsampling</h2>"
   ]
  },
  {
   "cell_type": "code",
   "execution_count": 41,
   "id": "f2d7d0d4",
   "metadata": {},
   "outputs": [],
   "source": [
    "def downsample(features, target, fraction):\n",
    "    features_zeros = features[target == 0]\n",
    "    features_ones = features[target == 1]\n",
    "    target_zeros = target[target == 0]\n",
    "    target_ones = target[target == 1]\n",
    "\n",
    "    features_downsampled = pd.concat([features_zeros.sample(frac=fraction, random_state=12345)] + [features_ones])\n",
    "    target_downsampled = pd.concat([target_zeros.sample(frac=fraction, random_state=12345)] + [target_ones])\n",
    "    \n",
    "    features_downsampled, target_downsampled = shuffle(features_downsampled, target_downsampled, random_state=12345)\n",
    "    \n",
    "    return features_downsampled, target_downsampled\n",
    "\n",
    "features_train_downsampled, target_train_downsampled = downsample(features_train, target_train, 0.4)"
   ]
  },
  {
   "cell_type": "markdown",
   "id": "aeacaf96",
   "metadata": {},
   "source": [
    "<b>Decision_tree</b> "
   ]
  },
  {
   "cell_type": "code",
   "execution_count": 42,
   "id": "375a589f",
   "metadata": {
    "scrolled": false
   },
   "outputs": [
    {
     "data": {
      "text/html": [
       "<div>\n",
       "<style scoped>\n",
       "    .dataframe tbody tr th:only-of-type {\n",
       "        vertical-align: middle;\n",
       "    }\n",
       "\n",
       "    .dataframe tbody tr th {\n",
       "        vertical-align: top;\n",
       "    }\n",
       "\n",
       "    .dataframe thead th {\n",
       "        text-align: right;\n",
       "    }\n",
       "</style>\n",
       "<table border=\"1\" class=\"dataframe\">\n",
       "  <thead>\n",
       "    <tr style=\"text-align: right;\">\n",
       "      <th></th>\n",
       "      <th>max_depth</th>\n",
       "      <th>f1_DT_downsampled</th>\n",
       "    </tr>\n",
       "  </thead>\n",
       "  <tbody>\n",
       "    <tr>\n",
       "      <th>5</th>\n",
       "      <td>6</td>\n",
       "      <td>59.72</td>\n",
       "    </tr>\n",
       "  </tbody>\n",
       "</table>\n",
       "</div>"
      ],
      "text/plain": [
       "   max_depth  f1_DT_downsampled\n",
       "5          6              59.72"
      ]
     },
     "execution_count": 42,
     "metadata": {},
     "output_type": "execute_result"
    }
   ],
   "source": [
    "d = []\n",
    "for depth in range(1,10):\n",
    "    decision_tree = DecisionTreeClassifier(random_state=12345, max_depth=depth)\n",
    "    decision_tree.fit(features_train_downsampled, target_train_downsampled)\n",
    "    target_pred = decision_tree.predict(features_valid)\n",
    "    f1_DT_downsampled = round(f1_score(target_valid,target_pred) * 100, 2)\n",
    "    d.append(\n",
    "        {\n",
    "            'max_depth': depth,\n",
    "            'f1_DT_downsampled':  f1_DT_downsampled\n",
    "          }\n",
    "     )\n",
    "\n",
    "best_param = pd.DataFrame(d).nlargest(1, ['f1_DT_downsampled'], keep='first')\n",
    "f1_DT_downsampled = best_param['f1_DT_downsampled'].values\n",
    "best_param"
   ]
  },
  {
   "cell_type": "markdown",
   "id": "e4dff1c7",
   "metadata": {},
   "source": [
    "<b>LogisticRegression</b> "
   ]
  },
  {
   "cell_type": "code",
   "execution_count": 43,
   "id": "7670cd3c",
   "metadata": {},
   "outputs": [
    {
     "data": {
      "text/html": [
       "<div>\n",
       "<style scoped>\n",
       "    .dataframe tbody tr th:only-of-type {\n",
       "        vertical-align: middle;\n",
       "    }\n",
       "\n",
       "    .dataframe tbody tr th {\n",
       "        vertical-align: top;\n",
       "    }\n",
       "\n",
       "    .dataframe thead th {\n",
       "        text-align: right;\n",
       "    }\n",
       "</style>\n",
       "<table border=\"1\" class=\"dataframe\">\n",
       "  <thead>\n",
       "    <tr style=\"text-align: right;\">\n",
       "      <th></th>\n",
       "      <th>penalty</th>\n",
       "      <th>C</th>\n",
       "      <th>f1_LR_downsampled</th>\n",
       "    </tr>\n",
       "  </thead>\n",
       "  <tbody>\n",
       "    <tr>\n",
       "      <th>9</th>\n",
       "      <td>l1</td>\n",
       "      <td>0.1</td>\n",
       "      <td>51.85</td>\n",
       "    </tr>\n",
       "  </tbody>\n",
       "</table>\n",
       "</div>"
      ],
      "text/plain": [
       "  penalty    C  f1_LR_downsampled\n",
       "9      l1  0.1              51.85"
      ]
     },
     "execution_count": 43,
     "metadata": {},
     "output_type": "execute_result"
    }
   ],
   "source": [
    "d = []\n",
    "for penalty in ['l1', 'l2']:\n",
    "    for C in np.arange(0.01,1,0.01):\n",
    "        LR = LogisticRegression(solver=\"liblinear\", penalty=penalty, C=C, random_state=12345)\n",
    "        LR.fit(features_train_downsampled, target_train_downsampled)     \n",
    "        target_pred = LR.predict(features_valid)\n",
    "        f1_LR_downsampled = round(f1_score(target_valid,target_pred) * 100, 2)\n",
    "        d.append(\n",
    "            {\n",
    "                'penalty': penalty,\n",
    "                'C': C,\n",
    "                'f1_LR_downsampled':  f1_LR_downsampled\n",
    "            }\n",
    "        )\n",
    "best_param = pd.DataFrame(d).nlargest(1, ['f1_LR_downsampled'], keep='first')\n",
    "f1_LR_downsampled = best_param['f1_LR_downsampled'].values\n",
    "best_param"
   ]
  },
  {
   "cell_type": "markdown",
   "id": "376d9473",
   "metadata": {},
   "source": [
    "<b>RandomForestClassifier</b> "
   ]
  },
  {
   "cell_type": "code",
   "execution_count": 44,
   "id": "4bba8e39",
   "metadata": {},
   "outputs": [
    {
     "data": {
      "text/html": [
       "<div>\n",
       "<style scoped>\n",
       "    .dataframe tbody tr th:only-of-type {\n",
       "        vertical-align: middle;\n",
       "    }\n",
       "\n",
       "    .dataframe tbody tr th {\n",
       "        vertical-align: top;\n",
       "    }\n",
       "\n",
       "    .dataframe thead th {\n",
       "        text-align: right;\n",
       "    }\n",
       "</style>\n",
       "<table border=\"1\" class=\"dataframe\">\n",
       "  <thead>\n",
       "    <tr style=\"text-align: right;\">\n",
       "      <th></th>\n",
       "      <th>n_estimators</th>\n",
       "      <th>max_depth</th>\n",
       "      <th>f1_rfc_downsampled</th>\n",
       "    </tr>\n",
       "  </thead>\n",
       "  <tbody>\n",
       "    <tr>\n",
       "      <th>53</th>\n",
       "      <td>46</td>\n",
       "      <td>9</td>\n",
       "      <td>62.08</td>\n",
       "    </tr>\n",
       "  </tbody>\n",
       "</table>\n",
       "</div>"
      ],
      "text/plain": [
       "    n_estimators  max_depth  f1_rfc_downsampled\n",
       "53            46          9               62.08"
      ]
     },
     "execution_count": 44,
     "metadata": {},
     "output_type": "execute_result"
    }
   ],
   "source": [
    "d = []\n",
    "for estim in range(1,51,9):\n",
    "    for depth in range(1,10):\n",
    "        rfc = RandomForestClassifier(random_state=12345, n_estimators=estim, max_depth=depth)\n",
    "        rfc.fit(features_train_downsampled, target_train_downsampled)\n",
    "        target_pred = rfc.predict(features_valid)\n",
    "        f1_rfc_downsampled = round(f1_score(target_valid,target_pred) * 100, 2)\n",
    "        d.append(\n",
    "            {\n",
    "                'n_estimators': estim,\n",
    "                'max_depth': depth,\n",
    "                'f1_rfc_downsampled':  f1_rfc_downsampled\n",
    "            }\n",
    "        )\n",
    "\n",
    "best_param = pd.DataFrame(d).nlargest(1, ['f1_rfc_downsampled'], keep='first')\n",
    "f1_rfc_downsampled = best_param['f1_rfc_downsampled'].values\n",
    "best_param"
   ]
  },
  {
   "cell_type": "markdown",
   "id": "77cfea6b",
   "metadata": {},
   "source": [
    "<hr>\n",
    "<h2><center>Summary results F1 Score vs different models</center></h2>\n",
    "\n",
    "|Model (Classifier) | imbalance | balanced | upsampled | downsampled |\n",
    "|:-------|-------|-------|-------|-------|\n",
    "|Decision Tree  | 0.46 | 0.62 | 0.61 | 0.60 |\n",
    "|Logistic Regression  | 0.33 | 0.51 | 0.51 | 0.52 |\n",
    "|Random Forest | 0.56 | 0.63 | 0.62 | 0.62 |\n",
    "\n",
    "* F1 Score baseline is : 0.34"
   ]
  },
  {
   "cell_type": "markdown",
   "id": "5362db3a",
   "metadata": {},
   "source": [
    "After our testing we see that Random Forest and Decision Tree gave us the best result using the Class Weight balanced 0.63 and 0.62 and since the result of Random Forest over all was higher we going to select it as our choice model."
   ]
  },
  {
   "cell_type": "markdown",
   "id": "493ba2b0",
   "metadata": {},
   "source": [
    "<hr><h2>Retrain the best tuned model on the whole training set and test it on the test set</h2>"
   ]
  },
  {
   "cell_type": "code",
   "execution_count": 45,
   "id": "59a0c553",
   "metadata": {},
   "outputs": [
    {
     "data": {
      "text/plain": [
       "63.18"
      ]
     },
     "execution_count": 45,
     "metadata": {},
     "output_type": "execute_result"
    }
   ],
   "source": [
    "rfc = RandomForestClassifier(n_estimators=46, max_depth=7, random_state=12345, class_weight='balanced')\n",
    "rfc.fit(features_train, target_train)\n",
    "target_pred = rfc.predict(features_test)\n",
    "\n",
    "f1_rfc = round(f1_score(target_test,target_pred) * 100, 2)\n",
    "f1_rfc"
   ]
  },
  {
   "cell_type": "markdown",
   "id": "1a12187b",
   "metadata": {},
   "source": [
    "<h3>Sanity check</h3>\n",
    "\n",
    "Our final F1 score of this model is much higher than the baseline F1 score that we would get if instead of classifying we simply predicted minority class target value for each new observation"
   ]
  },
  {
   "cell_type": "markdown",
   "id": "024eb7eb",
   "metadata": {},
   "source": [
    "<h3>AUC-ROC</h3>\n",
    "\n",
    "To find how much our model differs from the random model, let's calc the AUC-ROC value (Area Under Curve ROC) This is an evaluation metric with values in the range from 0 to 1. The AUC-ROC value for a random model is 0.5\n",
    "\n",
    "Unlike other metrics, it takes class \"1\" probabilities instead of predictions"
   ]
  },
  {
   "cell_type": "code",
   "execution_count": 46,
   "id": "a0e770be",
   "metadata": {},
   "outputs": [],
   "source": [
    "probabilities_test = rfc.predict_proba(features_test)\n",
    "probabilities_one_test = probabilities_test[:, 1]"
   ]
  },
  {
   "cell_type": "code",
   "execution_count": 47,
   "id": "44ba7e6e",
   "metadata": {},
   "outputs": [
    {
     "data": {
      "text/plain": [
       "86.66"
      ]
     },
     "execution_count": 47,
     "metadata": {},
     "output_type": "execute_result"
    }
   ],
   "source": [
    "auc_roc = round(roc_auc_score(target_test, probabilities_one_test) * 100, 2)\n",
    "auc_roc"
   ]
  },
  {
   "cell_type": "markdown",
   "id": "7afd6cc3",
   "metadata": {},
   "source": [
    "Our AUC-ROC value is very high, it means that our model's predictions are correct in more than 80% of cases, ROC curve takes the target values and the positive class probabilities, goes over different thresholds, and returns three lists: \n",
    "\n",
    "- FPR values \n",
    "\n",
    "- TPR values\n",
    "\n",
    "- Thresholds it went over\n",
    "\n",
    "For a model that always answers randomly, the ROC curve is a diagonal line going from the lower left to the upper right.\n",
    "\n",
    "The higher the curve, the greater the TPR value and the better the model's quality."
   ]
  },
  {
   "cell_type": "code",
   "execution_count": 48,
   "id": "030dca8d",
   "metadata": {},
   "outputs": [],
   "source": [
    "fpr, tpr, thresholds = roc_curve(target_test, probabilities_one_test) "
   ]
  },
  {
   "cell_type": "code",
   "execution_count": 49,
   "id": "1e2d68b7",
   "metadata": {},
   "outputs": [
    {
     "data": {
      "image/png": "[encoded data removed]",
      "text/plain": [
       "<Figure size 432x288 with 1 Axes>"
      ]
     },
     "metadata": {
      "needs_background": "light"
     },
     "output_type": "display_data"
    }
   ],
   "source": [
    "plt.figure()\n",
    "plt.plot(fpr, tpr)\n",
    "# ROC curve for random model (looks like a straight line)\n",
    "plt.plot([0, 1], [0, 1], linestyle='--')\n",
    "plt.xlabel('False Positive Rate')\n",
    "plt.ylabel('True Positive Rate')\n",
    "plt.ylim([0.0, 1.0])\n",
    "plt.xlim([0.0, 1.0])\n",
    "plt.title('ROC curve')\n",
    "plt.show();"
   ]
  },
  {
   "cell_type": "markdown",
   "id": "b8403ab7",
   "metadata": {},
   "source": [
    "We see that our final model is performing quite well its ROC curve is much higher than the diagonal"
   ]
  },
  {
   "cell_type": "markdown",
   "id": "a2bec6f7",
   "metadata": {},
   "source": [
    "<div id=\"general_conclusion\"><h2>General conclusion</h2></div>"
   ]
  },
  {
   "cell_type": "markdown",
   "id": "479db8c2",
   "metadata": {},
   "source": [
    "<b><u>INTRODUCTION</u></b>\n",
    "\n",
    "\n",
    "We work at 'Beta Bank', And we notices that slowly one month after another, customers close their accounts and leave in favor of other banks. Therefore, the management decided to try to preserve the existing one and prevent the movement out, before turning to a new customer base that will increase the number of customers and the bank's profits again.\n",
    "\n",
    "<b><u>Our plan:</u></b>\n",
    "\n",
    "- Dev' a model that will predict whether a customer going to leave or not\n",
    "\n",
    "\n",
    "- Ml model with at least 0.59 maximum possible F1 score \n",
    "\n",
    "\n",
    "- Measure the AUC-ROC metric and compare it to the F1 score\n",
    "\n",
    "\n",
    "<b>I - Open our data</b>\n",
    "\n",
    "What we found:\n",
    "    \n",
    "- we have total of 14 columns \n",
    "\n",
    "- 10k rows in each one except one that missing 909 values Tenure\n",
    "    \n",
    "- we going to change the 'Tenure' column from float to integer\n",
    "\n",
    "- NumOfProducts is between 1 to 4\n",
    "\n",
    "- HasCrCard and IsActiveMember is boolean of 0 and 1 (no and yes)\n",
    "\n",
    "<b>II - Prepare the data </b>\n",
    "\n",
    "What we did:\n",
    "\n",
    "- lower case the columns name and put underline in multiple words column names\n",
    "\n",
    "- fix our missing values in 'tenure' using lambda and fillna median using the groupby column num_of_products\n",
    "\n",
    "- drop the columns 'customer_id','row_number', 'surname' \n",
    "\n",
    "- remove the first rows of our dataset using the ohe to avoid the dummy trap\n",
    "\n",
    "- change the dtype of 'tenure' from float to integer \n",
    "\n",
    "\n",
    "<b>III - Eploratory data analysis to our target column 'exited'</b>\n",
    "\n",
    "- we have three countries that the most loyal customers come from france and germany is the most customers leave vs total amount\n",
    "\n",
    "- our loyal customers in there the middle age 30-40 and the young one is under 18\n",
    "\n",
    "- that 'estimated_salary' is very stable around all the amount and there isn't one that very low or very high\n",
    "\n",
    "- most of our customers show balance of 0 and the rest spred from 50k to almost 200k\n",
    "\n",
    "- our exited show very high in the loyal which is 0 compere to leave the bank which is 1 this could be good or issue with our data imbalance\n",
    "\n",
    "<b>IV - Splitting data into train, validation and test sets:</b>\n",
    "\n",
    "We split so that the proportion of values in the sample produced will be the same as the proportion of values on the target variable.\n",
    "\n",
    "For example, if variable 'target' is a binary categorical variable with values 0 and 1 and there are 25% of zeros and 75% of ones, stratify=target will make sure that your random split has 25% of 0's and 75% of 1's.\n",
    "\n",
    "Next, we'll further split the train set into train and validation with the 80/20 proportion, respectively , also we use ohe on 'exited' column\n",
    "\n",
    "We will scale our features with Standard Scaler, this will convert our dataset into numpy arrays, so after they are transformed, let's convert them back to datasets.\n",
    "\n",
    "Our case it's more important that a model correctly predicts the minority class - whether a customer left the bank, that's why we will choose the strategy constant for the dummy classifier\n",
    "\n",
    "In the next step we have tried to correct **imbalance classes** using 3 methods: \n",
    "\n",
    "- class weight adjustment\n",
    "\n",
    "- upsampling\n",
    "\n",
    "- downsampling\n",
    "\n",
    "We have also tuned each of the 3 chosen algorithms (Decision Tree, Random Forest and Logistic Regression) and searched for the best **hyperparameters** in order to select the best model \n",
    "\n",
    "**Random Forest model using Class Weight Adjustment method** showed the highest score 0.63. Then we have retrained this model on the whole training set (including validation set) and tested it with the test set that our model didn't see before. We have reached **63.2% F1 score on the test set** \n",
    "\n",
    "Next, we have checked our model for **sanity** by comparing the final score to the baseline F1 score. The final F1 score of our model is much higher than the baseline F1 score that we would get if instead of classifying we simply predicted minority class target value for each new observation\n",
    "\n",
    "Finally, we have calculated the AUC-ROC value and it turned out to be **86.66%**, which means that our model's predictions are correct in more than 80% of cases. We have also plotted the ROC curve. It visualized well the fact that our final model is performing quite well - its ROC curve is much higher than the diagonal"
   ]
  },
  {
   "cell_type": "markdown",
   "id": "8e3fb561",
   "metadata": {},
   "source": [
    "<h2>Overall conclusion</h2>"
   ]
  },
  {
   "cell_type": "markdown",
   "id": "32d67a2c",
   "metadata": {},
   "source": [
    "What we learned in this project, that our bank customers come from three countries: France, Spain and Germany whose loyal customers are from France and the majority who leave in relation to the total amount are from Germany, the balance in the majority of non-leaving accounts is 0. Which causes a balance return in the data we corrected in order to reach the target of 0.59 and above, that most customers are men and on the female side also the percentage of departure is higher, that the monthly income ratio throughout the data is quite stable and there is no deviation below or above. Because there are below and above. In order to predict the departure we used F1 Score as a base with three modules that thanks to slight changes and balance managed to cross the target and even reach the highest 0.63 with a percentage ratio of over 80%. Bank what will help the management team in future considerations"
   ]
  }
 ],
 "metadata": {
  "ExecuteTimeLog": [
   {
    "duration": 1277,
    "start_time": "2022-05-22T15:58:56.186Z"
   },
   {
    "duration": 163,
    "start_time": "2022-05-22T15:58:57.470Z"
   },
   {
    "duration": 8,
    "start_time": "2022-05-22T15:58:57.635Z"
   },
   {
    "duration": 240,
    "start_time": "2022-05-22T15:58:57.646Z"
   },
   {
    "duration": 8,
    "start_time": "2022-05-22T15:58:57.888Z"
   },
   {
    "duration": 424,
    "start_time": "2022-05-22T15:58:57.898Z"
   },
   {
    "duration": 17,
    "start_time": "2022-05-22T15:58:58.323Z"
   },
   {
    "duration": 30,
    "start_time": "2022-05-22T15:58:58.342Z"
   },
   {
    "duration": 12,
    "start_time": "2022-05-22T15:58:58.373Z"
   },
   {
    "duration": 5,
    "start_time": "2022-05-22T15:58:58.387Z"
   },
   {
    "duration": 5,
    "start_time": "2022-05-22T15:58:58.394Z"
   },
   {
    "duration": 9,
    "start_time": "2022-05-22T15:58:58.400Z"
   },
   {
    "duration": 11,
    "start_time": "2022-05-22T15:58:58.411Z"
   },
   {
    "duration": 79,
    "start_time": "2022-05-22T15:58:58.424Z"
   },
   {
    "duration": 4,
    "start_time": "2022-05-22T15:58:58.505Z"
   },
   {
    "duration": 22,
    "start_time": "2022-05-22T15:58:58.511Z"
   },
   {
    "duration": 23,
    "start_time": "2022-05-22T15:58:58.535Z"
   },
   {
    "duration": 7,
    "start_time": "2022-05-22T15:58:58.561Z"
   },
   {
    "duration": 227,
    "start_time": "2022-05-22T15:58:58.571Z"
   },
   {
    "duration": 344,
    "start_time": "2022-05-22T15:58:58.800Z"
   },
   {
    "duration": 115,
    "start_time": "2022-05-22T15:58:59.145Z"
   },
   {
    "duration": 280,
    "start_time": "2022-05-22T15:58:59.263Z"
   },
   {
    "duration": 29,
    "start_time": "2022-05-22T15:58:59.545Z"
   },
   {
    "duration": 96,
    "start_time": "2022-05-22T15:58:59.577Z"
   },
   {
    "duration": 89,
    "start_time": "2022-05-22T15:58:59.674Z"
   },
   {
    "duration": 8781,
    "start_time": "2022-05-22T15:58:59.765Z"
   },
   {
    "duration": 5,
    "start_time": "2022-05-22T15:59:08.548Z"
   },
   {
    "duration": 59,
    "start_time": "2022-05-22T15:59:08.560Z"
   },
   {
    "duration": 334743,
    "start_time": "2022-05-22T15:59:08.620Z"
   },
   {
    "duration": 13,
    "start_time": "2022-05-22T16:04:43.366Z"
   },
   {
    "duration": 278,
    "start_time": "2022-05-22T16:04:43.381Z"
   },
   {
    "duration": 1192,
    "start_time": "2022-05-22T16:05:32.219Z"
   },
   {
    "duration": 40,
    "start_time": "2022-05-22T16:05:33.413Z"
   },
   {
    "duration": 18,
    "start_time": "2022-05-22T16:05:33.455Z"
   },
   {
    "duration": 186,
    "start_time": "2022-05-22T16:05:33.475Z"
   },
   {
    "duration": 11,
    "start_time": "2022-05-22T16:05:33.666Z"
   },
   {
    "duration": 348,
    "start_time": "2022-05-22T16:05:33.678Z"
   },
   {
    "duration": 15,
    "start_time": "2022-05-22T16:05:34.028Z"
   },
   {
    "duration": 17,
    "start_time": "2022-05-22T16:05:34.059Z"
   },
   {
    "duration": 26,
    "start_time": "2022-05-22T16:05:34.077Z"
   },
   {
    "duration": 6,
    "start_time": "2022-05-22T16:05:34.105Z"
   },
   {
    "duration": 14,
    "start_time": "2022-05-22T16:05:34.113Z"
   },
   {
    "duration": 17,
    "start_time": "2022-05-22T16:05:34.128Z"
   },
   {
    "duration": 27,
    "start_time": "2022-05-22T16:05:34.146Z"
   },
   {
    "duration": 65,
    "start_time": "2022-05-22T16:05:34.175Z"
   },
   {
    "duration": 4,
    "start_time": "2022-05-22T16:05:34.242Z"
   },
   {
    "duration": 32,
    "start_time": "2022-05-22T16:05:34.248Z"
   },
   {
    "duration": 29,
    "start_time": "2022-05-22T16:05:34.282Z"
   },
   {
    "duration": 1281,
    "start_time": "2022-05-22T16:06:17.354Z"
   },
   {
    "duration": 49,
    "start_time": "2022-05-22T16:06:18.636Z"
   },
   {
    "duration": 9,
    "start_time": "2022-05-22T16:06:18.687Z"
   },
   {
    "duration": 182,
    "start_time": "2022-05-22T16:06:18.697Z"
   },
   {
    "duration": 6,
    "start_time": "2022-05-22T16:06:18.880Z"
   },
   {
    "duration": 354,
    "start_time": "2022-05-22T16:06:18.887Z"
   },
   {
    "duration": 31,
    "start_time": "2022-05-22T16:06:19.242Z"
   },
   {
    "duration": 9,
    "start_time": "2022-05-22T16:06:19.275Z"
   },
   {
    "duration": 13,
    "start_time": "2022-05-22T16:06:19.285Z"
   },
   {
    "duration": 5,
    "start_time": "2022-05-22T16:06:19.301Z"
   },
   {
    "duration": 7,
    "start_time": "2022-05-22T16:06:19.307Z"
   },
   {
    "duration": 11,
    "start_time": "2022-05-22T16:06:19.316Z"
   },
   {
    "duration": 41,
    "start_time": "2022-05-22T16:06:19.329Z"
   },
   {
    "duration": 52,
    "start_time": "2022-05-22T16:06:19.372Z"
   },
   {
    "duration": 5,
    "start_time": "2022-05-22T16:06:19.425Z"
   },
   {
    "duration": 9,
    "start_time": "2022-05-22T16:06:19.431Z"
   },
   {
    "duration": 35,
    "start_time": "2022-05-22T16:06:19.441Z"
   },
   {
    "duration": 5,
    "start_time": "2022-05-22T16:06:19.477Z"
   },
   {
    "duration": 88,
    "start_time": "2022-05-22T16:06:19.483Z"
   },
   {
    "duration": 283,
    "start_time": "2022-05-22T16:06:50.024Z"
   },
   {
    "duration": 1268,
    "start_time": "2022-05-22T16:07:27.498Z"
   },
   {
    "duration": 42,
    "start_time": "2022-05-22T16:07:28.767Z"
   },
   {
    "duration": 9,
    "start_time": "2022-05-22T16:07:28.810Z"
   },
   {
    "duration": 188,
    "start_time": "2022-05-22T16:07:28.821Z"
   },
   {
    "duration": 6,
    "start_time": "2022-05-22T16:07:29.011Z"
   },
   {
    "duration": 399,
    "start_time": "2022-05-22T16:07:29.018Z"
   },
   {
    "duration": 17,
    "start_time": "2022-05-22T16:07:29.419Z"
   },
   {
    "duration": 24,
    "start_time": "2022-05-22T16:07:29.438Z"
   },
   {
    "duration": 12,
    "start_time": "2022-05-22T16:07:29.464Z"
   },
   {
    "duration": 6,
    "start_time": "2022-05-22T16:07:29.479Z"
   },
   {
    "duration": 8,
    "start_time": "2022-05-22T16:07:29.486Z"
   },
   {
    "duration": 11,
    "start_time": "2022-05-22T16:07:29.495Z"
   },
   {
    "duration": 21,
    "start_time": "2022-05-22T16:07:29.508Z"
   },
   {
    "duration": 71,
    "start_time": "2022-05-22T16:07:29.530Z"
   },
   {
    "duration": 5,
    "start_time": "2022-05-22T16:07:29.602Z"
   },
   {
    "duration": 9,
    "start_time": "2022-05-22T16:07:29.609Z"
   },
   {
    "duration": 28,
    "start_time": "2022-05-22T16:07:29.620Z"
   },
   {
    "duration": 12,
    "start_time": "2022-05-22T16:07:29.649Z"
   },
   {
    "duration": 112,
    "start_time": "2022-05-22T16:07:29.663Z"
   },
   {
    "duration": 362,
    "start_time": "2022-05-22T16:07:29.777Z"
   },
   {
    "duration": 39,
    "start_time": "2022-05-22T16:07:30.141Z"
   },
   {
    "duration": 373,
    "start_time": "2022-05-22T16:07:30.261Z"
   },
   {
    "duration": 52,
    "start_time": "2022-05-22T16:08:13.313Z"
   },
   {
    "duration": 1281,
    "start_time": "2022-05-22T16:09:23.262Z"
   },
   {
    "duration": 43,
    "start_time": "2022-05-22T16:09:24.545Z"
   },
   {
    "duration": 12,
    "start_time": "2022-05-22T16:09:24.590Z"
   },
   {
    "duration": 188,
    "start_time": "2022-05-22T16:09:24.603Z"
   },
   {
    "duration": 6,
    "start_time": "2022-05-22T16:09:24.793Z"
   },
   {
    "duration": 436,
    "start_time": "2022-05-22T16:09:24.801Z"
   },
   {
    "duration": 24,
    "start_time": "2022-05-22T16:09:25.238Z"
   },
   {
    "duration": 7,
    "start_time": "2022-05-22T16:09:25.264Z"
   },
   {
    "duration": 15,
    "start_time": "2022-05-22T16:09:25.272Z"
   },
   {
    "duration": 7,
    "start_time": "2022-05-22T16:09:25.288Z"
   },
   {
    "duration": 8,
    "start_time": "2022-05-22T16:09:25.296Z"
   },
   {
    "duration": 13,
    "start_time": "2022-05-22T16:09:25.305Z"
   },
   {
    "duration": 13,
    "start_time": "2022-05-22T16:09:25.320Z"
   },
   {
    "duration": 45,
    "start_time": "2022-05-22T16:09:25.359Z"
   },
   {
    "duration": 4,
    "start_time": "2022-05-22T16:09:25.406Z"
   },
   {
    "duration": 8,
    "start_time": "2022-05-22T16:09:25.412Z"
   },
   {
    "duration": 40,
    "start_time": "2022-05-22T16:09:25.421Z"
   },
   {
    "duration": 4,
    "start_time": "2022-05-22T16:09:25.462Z"
   },
   {
    "duration": 95,
    "start_time": "2022-05-22T16:09:25.468Z"
   },
   {
    "duration": 369,
    "start_time": "2022-05-22T16:09:25.565Z"
   },
   {
    "duration": 37,
    "start_time": "2022-05-22T16:09:25.936Z"
   },
   {
    "duration": 373,
    "start_time": "2022-05-22T16:09:25.975Z"
   },
   {
    "duration": 100,
    "start_time": "2022-05-22T16:09:26.359Z"
   },
   {
    "duration": 99,
    "start_time": "2022-05-22T16:09:26.462Z"
   },
   {
    "duration": 8539,
    "start_time": "2022-05-22T16:09:26.563Z"
   },
   {
    "duration": 125,
    "start_time": "2022-05-22T16:10:17.453Z"
   },
   {
    "duration": 1292,
    "start_time": "2022-05-22T16:10:29.276Z"
   },
   {
    "duration": 42,
    "start_time": "2022-05-22T16:10:30.570Z"
   },
   {
    "duration": 10,
    "start_time": "2022-05-22T16:10:30.613Z"
   },
   {
    "duration": 202,
    "start_time": "2022-05-22T16:10:30.625Z"
   },
   {
    "duration": 31,
    "start_time": "2022-05-22T16:10:30.829Z"
   },
   {
    "duration": 356,
    "start_time": "2022-05-22T16:10:30.862Z"
   },
   {
    "duration": 17,
    "start_time": "2022-05-22T16:10:31.219Z"
   },
   {
    "duration": 21,
    "start_time": "2022-05-22T16:10:31.238Z"
   },
   {
    "duration": 71,
    "start_time": "2022-05-22T16:10:31.260Z"
   },
   {
    "duration": 26,
    "start_time": "2022-05-22T16:10:31.333Z"
   },
   {
    "duration": 18,
    "start_time": "2022-05-22T16:10:31.360Z"
   },
   {
    "duration": 61,
    "start_time": "2022-05-22T16:10:31.379Z"
   },
   {
    "duration": 47,
    "start_time": "2022-05-22T16:10:31.441Z"
   },
   {
    "duration": 69,
    "start_time": "2022-05-22T16:10:31.490Z"
   },
   {
    "duration": 5,
    "start_time": "2022-05-22T16:10:31.560Z"
   },
   {
    "duration": 47,
    "start_time": "2022-05-22T16:10:31.566Z"
   },
   {
    "duration": 45,
    "start_time": "2022-05-22T16:10:31.615Z"
   },
   {
    "duration": 6,
    "start_time": "2022-05-22T16:10:31.662Z"
   },
   {
    "duration": 190,
    "start_time": "2022-05-22T16:10:31.669Z"
   },
   {
    "duration": 378,
    "start_time": "2022-05-22T16:10:31.861Z"
   },
   {
    "duration": 37,
    "start_time": "2022-05-22T16:10:32.241Z"
   },
   {
    "duration": 357,
    "start_time": "2022-05-22T16:10:32.281Z"
   },
   {
    "duration": 120,
    "start_time": "2022-05-22T16:10:32.639Z"
   },
   {
    "duration": 99,
    "start_time": "2022-05-22T16:10:32.762Z"
   },
   {
    "duration": 8598,
    "start_time": "2022-05-22T16:10:32.863Z"
   },
   {
    "duration": 6,
    "start_time": "2022-05-22T16:10:41.463Z"
   },
   {
    "duration": 55,
    "start_time": "2022-05-22T16:10:41.471Z"
   },
   {
    "duration": 1347,
    "start_time": "2022-05-22T16:11:51.928Z"
   },
   {
    "duration": 42,
    "start_time": "2022-05-22T16:11:53.277Z"
   },
   {
    "duration": 11,
    "start_time": "2022-05-22T16:11:53.321Z"
   },
   {
    "duration": 201,
    "start_time": "2022-05-22T16:11:53.333Z"
   },
   {
    "duration": 24,
    "start_time": "2022-05-22T16:11:53.536Z"
   },
   {
    "duration": 367,
    "start_time": "2022-05-22T16:11:53.562Z"
   },
   {
    "duration": 17,
    "start_time": "2022-05-22T16:11:53.931Z"
   },
   {
    "duration": 9,
    "start_time": "2022-05-22T16:11:53.960Z"
   },
   {
    "duration": 14,
    "start_time": "2022-05-22T16:11:53.970Z"
   },
   {
    "duration": 6,
    "start_time": "2022-05-22T16:11:53.986Z"
   },
   {
    "duration": 7,
    "start_time": "2022-05-22T16:11:53.994Z"
   },
   {
    "duration": 13,
    "start_time": "2022-05-22T16:11:54.002Z"
   },
   {
    "duration": 44,
    "start_time": "2022-05-22T16:11:54.016Z"
   },
   {
    "duration": 49,
    "start_time": "2022-05-22T16:11:54.063Z"
   },
   {
    "duration": 4,
    "start_time": "2022-05-22T16:11:54.114Z"
   },
   {
    "duration": 35,
    "start_time": "2022-05-22T16:11:54.120Z"
   },
   {
    "duration": 66,
    "start_time": "2022-05-22T16:11:54.156Z"
   },
   {
    "duration": 25,
    "start_time": "2022-05-22T16:11:54.224Z"
   },
   {
    "duration": 109,
    "start_time": "2022-05-22T16:11:54.251Z"
   },
   {
    "duration": 385,
    "start_time": "2022-05-22T16:11:54.362Z"
   },
   {
    "duration": 23,
    "start_time": "2022-05-22T16:11:54.760Z"
   },
   {
    "duration": 275,
    "start_time": "2022-05-22T16:11:54.859Z"
   },
   {
    "duration": 59,
    "start_time": "2022-05-22T16:11:55.136Z"
   },
   {
    "duration": 65,
    "start_time": "2022-05-22T16:11:55.197Z"
   },
   {
    "duration": 8838,
    "start_time": "2022-05-22T16:11:55.265Z"
   },
   {
    "duration": 5,
    "start_time": "2022-05-22T16:12:04.105Z"
   },
   {
    "duration": 64,
    "start_time": "2022-05-22T16:12:04.111Z"
   },
   {
    "duration": 185983,
    "start_time": "2022-05-22T16:12:04.177Z"
   },
   {
    "duration": 97,
    "start_time": "2022-05-22T16:15:10.164Z"
   },
   {
    "duration": 200,
    "start_time": "2022-05-22T16:15:10.263Z"
   },
   {
    "duration": 1260,
    "start_time": "2022-05-22T16:24:18.409Z"
   },
   {
    "duration": 52,
    "start_time": "2022-05-22T16:24:19.671Z"
   },
   {
    "duration": 10,
    "start_time": "2022-05-22T16:24:19.725Z"
   },
   {
    "duration": 198,
    "start_time": "2022-05-22T16:24:19.738Z"
   },
   {
    "duration": 27,
    "start_time": "2022-05-22T16:24:19.938Z"
   },
   {
    "duration": 368,
    "start_time": "2022-05-22T16:24:19.967Z"
   },
   {
    "duration": 26,
    "start_time": "2022-05-22T16:24:20.337Z"
   },
   {
    "duration": 9,
    "start_time": "2022-05-22T16:24:20.364Z"
   },
   {
    "duration": 15,
    "start_time": "2022-05-22T16:24:20.375Z"
   },
   {
    "duration": 6,
    "start_time": "2022-05-22T16:24:20.392Z"
   },
   {
    "duration": 8,
    "start_time": "2022-05-22T16:24:20.400Z"
   },
   {
    "duration": 10,
    "start_time": "2022-05-22T16:24:20.410Z"
   },
   {
    "duration": 49,
    "start_time": "2022-05-22T16:24:20.422Z"
   },
   {
    "duration": 50,
    "start_time": "2022-05-22T16:24:20.473Z"
   },
   {
    "duration": 5,
    "start_time": "2022-05-22T16:24:20.525Z"
   },
   {
    "duration": 29,
    "start_time": "2022-05-22T16:24:20.532Z"
   },
   {
    "duration": 26,
    "start_time": "2022-05-22T16:24:20.562Z"
   },
   {
    "duration": 4,
    "start_time": "2022-05-22T16:24:20.589Z"
   },
   {
    "duration": 73,
    "start_time": "2022-05-22T16:24:20.595Z"
   },
   {
    "duration": 396,
    "start_time": "2022-05-22T16:24:20.670Z"
   },
   {
    "duration": 98,
    "start_time": "2022-05-22T16:24:21.068Z"
   },
   {
    "duration": 368,
    "start_time": "2022-05-22T16:24:21.168Z"
   },
   {
    "duration": 55,
    "start_time": "2022-05-22T16:24:21.538Z"
   },
   {
    "duration": 71,
    "start_time": "2022-05-22T16:24:21.596Z"
   },
   {
    "duration": 9001,
    "start_time": "2022-05-22T16:24:21.670Z"
   },
   {
    "duration": 6,
    "start_time": "2022-05-22T16:24:30.672Z"
   },
   {
    "duration": 72,
    "start_time": "2022-05-22T16:24:30.679Z"
   },
   {
    "duration": 1314,
    "start_time": "2022-05-22T16:26:47.822Z"
   },
   {
    "duration": 40,
    "start_time": "2022-05-22T16:26:49.138Z"
   },
   {
    "duration": 9,
    "start_time": "2022-05-22T16:26:49.180Z"
   },
   {
    "duration": 182,
    "start_time": "2022-05-22T16:26:49.190Z"
   },
   {
    "duration": 7,
    "start_time": "2022-05-22T16:26:49.374Z"
   },
   {
    "duration": 402,
    "start_time": "2022-05-22T16:26:49.383Z"
   },
   {
    "duration": 16,
    "start_time": "2022-05-22T16:26:49.787Z"
   },
   {
    "duration": 8,
    "start_time": "2022-05-22T16:26:49.804Z"
   },
   {
    "duration": 26,
    "start_time": "2022-05-22T16:26:49.813Z"
   },
   {
    "duration": 18,
    "start_time": "2022-05-22T16:26:49.841Z"
   },
   {
    "duration": 16,
    "start_time": "2022-05-22T16:26:49.860Z"
   },
   {
    "duration": 18,
    "start_time": "2022-05-22T16:26:49.878Z"
   },
   {
    "duration": 22,
    "start_time": "2022-05-22T16:26:49.897Z"
   },
   {
    "duration": 49,
    "start_time": "2022-05-22T16:26:49.920Z"
   },
   {
    "duration": 7,
    "start_time": "2022-05-22T16:26:49.972Z"
   },
   {
    "duration": 9,
    "start_time": "2022-05-22T16:26:49.981Z"
   },
   {
    "duration": 30,
    "start_time": "2022-05-22T16:26:49.992Z"
   },
   {
    "duration": 6,
    "start_time": "2022-05-22T16:26:50.024Z"
   },
   {
    "duration": 129,
    "start_time": "2022-05-22T16:26:50.032Z"
   },
   {
    "duration": 373,
    "start_time": "2022-05-22T16:26:50.162Z"
   },
   {
    "duration": 29,
    "start_time": "2022-05-22T16:26:50.537Z"
   },
   {
    "duration": 272,
    "start_time": "2022-05-22T16:26:50.567Z"
   },
   {
    "duration": 60,
    "start_time": "2022-05-22T16:26:50.840Z"
   },
   {
    "duration": 98,
    "start_time": "2022-05-22T16:26:50.960Z"
   },
   {
    "duration": 8457,
    "start_time": "2022-05-22T16:26:51.061Z"
   },
   {
    "duration": 5,
    "start_time": "2022-05-22T16:26:59.519Z"
   },
   {
    "duration": 61,
    "start_time": "2022-05-22T16:26:59.526Z"
   },
   {
    "duration": 149871,
    "start_time": "2022-05-22T16:26:59.591Z"
   },
   {
    "duration": 97,
    "start_time": "2022-05-22T16:29:29.463Z"
   },
   {
    "duration": 312,
    "start_time": "2022-05-22T16:29:29.562Z"
   },
   {
    "duration": 474044,
    "start_time": "2022-05-22T16:29:29.876Z"
   },
   {
    "duration": 6,
    "start_time": "2022-05-22T16:37:23.922Z"
   },
   {
    "duration": 371,
    "start_time": "2022-05-22T16:37:23.930Z"
   },
   {
    "duration": 1228,
    "start_time": "2022-05-22T16:42:16.213Z"
   },
   {
    "duration": 40,
    "start_time": "2022-05-22T16:42:17.443Z"
   },
   {
    "duration": 9,
    "start_time": "2022-05-22T16:42:17.485Z"
   },
   {
    "duration": 176,
    "start_time": "2022-05-22T16:42:17.496Z"
   },
   {
    "duration": 6,
    "start_time": "2022-05-22T16:42:17.674Z"
   },
   {
    "duration": 441,
    "start_time": "2022-05-22T16:42:17.682Z"
   },
   {
    "duration": 17,
    "start_time": "2022-05-22T16:42:18.125Z"
   },
   {
    "duration": 23,
    "start_time": "2022-05-22T16:42:18.143Z"
   },
   {
    "duration": 15,
    "start_time": "2022-05-22T16:42:18.167Z"
   },
   {
    "duration": 6,
    "start_time": "2022-05-22T16:42:18.185Z"
   },
   {
    "duration": 9,
    "start_time": "2022-05-22T16:42:18.192Z"
   },
   {
    "duration": 23,
    "start_time": "2022-05-22T16:42:18.203Z"
   },
   {
    "duration": 19,
    "start_time": "2022-05-22T16:42:18.229Z"
   },
   {
    "duration": 67,
    "start_time": "2022-05-22T16:42:18.249Z"
   },
   {
    "duration": 4,
    "start_time": "2022-05-22T16:42:18.318Z"
   },
   {
    "duration": 19,
    "start_time": "2022-05-22T16:42:18.324Z"
   },
   {
    "duration": 29,
    "start_time": "2022-05-22T16:42:18.345Z"
   },
   {
    "duration": 4,
    "start_time": "2022-05-22T16:42:18.375Z"
   },
   {
    "duration": 82,
    "start_time": "2022-05-22T16:42:18.381Z"
   },
   {
    "duration": 373,
    "start_time": "2022-05-22T16:42:18.464Z"
   },
   {
    "duration": 32,
    "start_time": "2022-05-22T16:42:18.839Z"
   },
   {
    "duration": 406,
    "start_time": "2022-05-22T16:42:18.877Z"
   },
   {
    "duration": 37,
    "start_time": "2022-05-22T16:42:19.285Z"
   },
   {
    "duration": 100,
    "start_time": "2022-05-22T16:42:19.360Z"
   },
   {
    "duration": 8309,
    "start_time": "2022-05-22T16:42:19.462Z"
   },
   {
    "duration": 9,
    "start_time": "2022-05-22T16:42:27.773Z"
   },
   {
    "duration": 79,
    "start_time": "2022-05-22T16:42:27.784Z"
   },
   {
    "duration": 150601,
    "start_time": "2022-05-22T16:42:27.867Z"
   },
   {
    "duration": 98,
    "start_time": "2022-05-22T16:44:58.470Z"
   },
   {
    "duration": 298,
    "start_time": "2022-05-22T16:44:58.570Z"
   },
   {
    "duration": 1250,
    "start_time": "2022-05-22T16:52:13.304Z"
   },
   {
    "duration": 44,
    "start_time": "2022-05-22T16:52:14.556Z"
   },
   {
    "duration": 9,
    "start_time": "2022-05-22T16:52:14.601Z"
   },
   {
    "duration": 178,
    "start_time": "2022-05-22T16:52:14.612Z"
   },
   {
    "duration": 6,
    "start_time": "2022-05-22T16:52:14.791Z"
   },
   {
    "duration": 388,
    "start_time": "2022-05-22T16:52:14.798Z"
   },
   {
    "duration": 16,
    "start_time": "2022-05-22T16:52:15.188Z"
   },
   {
    "duration": 8,
    "start_time": "2022-05-22T16:52:15.206Z"
   },
   {
    "duration": 14,
    "start_time": "2022-05-22T16:52:15.215Z"
   },
   {
    "duration": 30,
    "start_time": "2022-05-22T16:52:15.231Z"
   },
   {
    "duration": 12,
    "start_time": "2022-05-22T16:52:15.262Z"
   },
   {
    "duration": 11,
    "start_time": "2022-05-22T16:52:15.275Z"
   },
   {
    "duration": 12,
    "start_time": "2022-05-22T16:52:15.287Z"
   },
   {
    "duration": 68,
    "start_time": "2022-05-22T16:52:15.301Z"
   },
   {
    "duration": 4,
    "start_time": "2022-05-22T16:52:15.371Z"
   },
   {
    "duration": 18,
    "start_time": "2022-05-22T16:52:15.376Z"
   },
   {
    "duration": 27,
    "start_time": "2022-05-22T16:52:15.395Z"
   },
   {
    "duration": 4,
    "start_time": "2022-05-22T16:52:15.424Z"
   },
   {
    "duration": 132,
    "start_time": "2022-05-22T16:52:15.430Z"
   },
   {
    "duration": 380,
    "start_time": "2022-05-22T16:52:15.564Z"
   },
   {
    "duration": 112,
    "start_time": "2022-05-22T16:52:15.946Z"
   },
   {
    "duration": 369,
    "start_time": "2022-05-22T16:52:16.064Z"
   },
   {
    "duration": 49,
    "start_time": "2022-05-22T16:52:16.435Z"
   },
   {
    "duration": 80,
    "start_time": "2022-05-22T16:52:16.486Z"
   },
   {
    "duration": 8894,
    "start_time": "2022-05-22T16:52:16.568Z"
   },
   {
    "duration": 5,
    "start_time": "2022-05-22T16:52:25.463Z"
   },
   {
    "duration": 73,
    "start_time": "2022-05-22T16:52:25.470Z"
   },
   {
    "duration": 305522,
    "start_time": "2022-05-22T16:52:25.546Z"
   },
   {
    "duration": 101,
    "start_time": "2022-05-22T16:57:31.070Z"
   },
   {
    "duration": 198,
    "start_time": "2022-05-22T16:57:31.173Z"
   },
   {
    "duration": 1274,
    "start_time": "2022-05-22T16:58:40.977Z"
   },
   {
    "duration": 52,
    "start_time": "2022-05-22T16:58:42.253Z"
   },
   {
    "duration": 13,
    "start_time": "2022-05-22T16:58:42.307Z"
   },
   {
    "duration": 189,
    "start_time": "2022-05-22T16:58:42.322Z"
   },
   {
    "duration": 5,
    "start_time": "2022-05-22T16:58:42.513Z"
   },
   {
    "duration": 396,
    "start_time": "2022-05-22T16:58:42.520Z"
   },
   {
    "duration": 17,
    "start_time": "2022-05-22T16:58:42.918Z"
   },
   {
    "duration": 7,
    "start_time": "2022-05-22T16:58:42.936Z"
   },
   {
    "duration": 23,
    "start_time": "2022-05-22T16:58:42.960Z"
   },
   {
    "duration": 10,
    "start_time": "2022-05-22T16:58:42.984Z"
   },
   {
    "duration": 7,
    "start_time": "2022-05-22T16:58:42.995Z"
   },
   {
    "duration": 16,
    "start_time": "2022-05-22T16:58:43.004Z"
   },
   {
    "duration": 12,
    "start_time": "2022-05-22T16:58:43.021Z"
   },
   {
    "duration": 68,
    "start_time": "2022-05-22T16:58:43.035Z"
   },
   {
    "duration": 5,
    "start_time": "2022-05-22T16:58:43.104Z"
   },
   {
    "duration": 12,
    "start_time": "2022-05-22T16:58:43.110Z"
   },
   {
    "duration": 45,
    "start_time": "2022-05-22T16:58:43.123Z"
   },
   {
    "duration": 5,
    "start_time": "2022-05-22T16:58:43.169Z"
   },
   {
    "duration": 99,
    "start_time": "2022-05-22T16:58:43.176Z"
   },
   {
    "duration": 363,
    "start_time": "2022-05-22T16:58:43.277Z"
   },
   {
    "duration": 37,
    "start_time": "2022-05-22T16:58:43.641Z"
   },
   {
    "duration": 335,
    "start_time": "2022-05-22T16:58:43.681Z"
   },
   {
    "duration": 53,
    "start_time": "2022-05-22T16:58:44.018Z"
   },
   {
    "duration": 92,
    "start_time": "2022-05-22T16:58:44.082Z"
   },
   {
    "duration": 8713,
    "start_time": "2022-05-22T16:58:44.175Z"
   },
   {
    "duration": 5,
    "start_time": "2022-05-22T16:58:52.890Z"
   },
   {
    "duration": 55,
    "start_time": "2022-05-22T16:58:52.897Z"
   },
   {
    "duration": 1298,
    "start_time": "2022-05-22T17:01:21.353Z"
   },
   {
    "duration": 44,
    "start_time": "2022-05-22T17:01:22.653Z"
   },
   {
    "duration": 9,
    "start_time": "2022-05-22T17:01:22.698Z"
   },
   {
    "duration": 180,
    "start_time": "2022-05-22T17:01:22.709Z"
   },
   {
    "duration": 5,
    "start_time": "2022-05-22T17:01:22.891Z"
   },
   {
    "duration": 391,
    "start_time": "2022-05-22T17:01:22.898Z"
   },
   {
    "duration": 16,
    "start_time": "2022-05-22T17:01:23.290Z"
   },
   {
    "duration": 22,
    "start_time": "2022-05-22T17:01:23.307Z"
   },
   {
    "duration": 27,
    "start_time": "2022-05-22T17:01:23.330Z"
   },
   {
    "duration": 32,
    "start_time": "2022-05-22T17:01:23.361Z"
   },
   {
    "duration": 20,
    "start_time": "2022-05-22T17:01:23.395Z"
   },
   {
    "duration": 26,
    "start_time": "2022-05-22T17:01:23.416Z"
   },
   {
    "duration": 41,
    "start_time": "2022-05-22T17:01:23.444Z"
   },
   {
    "duration": 54,
    "start_time": "2022-05-22T17:01:23.486Z"
   },
   {
    "duration": 4,
    "start_time": "2022-05-22T17:01:23.541Z"
   },
   {
    "duration": 40,
    "start_time": "2022-05-22T17:01:23.547Z"
   },
   {
    "duration": 53,
    "start_time": "2022-05-22T17:01:23.588Z"
   },
   {
    "duration": 4,
    "start_time": "2022-05-22T17:01:23.642Z"
   },
   {
    "duration": 58,
    "start_time": "2022-05-22T17:01:23.647Z"
   },
   {
    "duration": 368,
    "start_time": "2022-05-22T17:01:23.762Z"
   },
   {
    "duration": 44,
    "start_time": "2022-05-22T17:01:24.131Z"
   },
   {
    "duration": 268,
    "start_time": "2022-05-22T17:01:24.179Z"
   },
   {
    "duration": 45,
    "start_time": "2022-05-22T17:01:24.459Z"
   },
   {
    "duration": 98,
    "start_time": "2022-05-22T17:01:24.569Z"
   },
   {
    "duration": 8473,
    "start_time": "2022-05-22T17:01:24.668Z"
   },
   {
    "duration": 5,
    "start_time": "2022-05-22T17:01:33.143Z"
   },
   {
    "duration": 71,
    "start_time": "2022-05-22T17:01:33.149Z"
   },
   {
    "duration": 5,
    "start_time": "2022-05-22T17:01:33.223Z"
   },
   {
    "duration": 123,
    "start_time": "2022-05-22T17:01:33.230Z"
   },
   {
    "duration": 0,
    "start_time": "2022-05-22T17:01:33.354Z"
   },
   {
    "duration": 0,
    "start_time": "2022-05-22T17:01:33.356Z"
   },
   {
    "duration": 0,
    "start_time": "2022-05-22T17:01:33.367Z"
   },
   {
    "duration": 1254,
    "start_time": "2022-05-22T17:06:32.369Z"
   },
   {
    "duration": 48,
    "start_time": "2022-05-22T17:06:33.625Z"
   },
   {
    "duration": 13,
    "start_time": "2022-05-22T17:06:33.675Z"
   },
   {
    "duration": 195,
    "start_time": "2022-05-22T17:06:33.690Z"
   },
   {
    "duration": 6,
    "start_time": "2022-05-22T17:06:33.887Z"
   },
   {
    "duration": 359,
    "start_time": "2022-05-22T17:06:33.895Z"
   },
   {
    "duration": 26,
    "start_time": "2022-05-22T17:06:34.258Z"
   },
   {
    "duration": 7,
    "start_time": "2022-05-22T17:06:34.285Z"
   },
   {
    "duration": 11,
    "start_time": "2022-05-22T17:06:34.294Z"
   },
   {
    "duration": 5,
    "start_time": "2022-05-22T17:06:34.306Z"
   },
   {
    "duration": 7,
    "start_time": "2022-05-22T17:06:34.312Z"
   },
   {
    "duration": 8,
    "start_time": "2022-05-22T17:06:34.320Z"
   },
   {
    "duration": 44,
    "start_time": "2022-05-22T17:06:34.330Z"
   },
   {
    "duration": 45,
    "start_time": "2022-05-22T17:06:34.377Z"
   },
   {
    "duration": 5,
    "start_time": "2022-05-22T17:06:34.423Z"
   },
   {
    "duration": 7,
    "start_time": "2022-05-22T17:06:34.429Z"
   },
   {
    "duration": 36,
    "start_time": "2022-05-22T17:06:34.437Z"
   },
   {
    "duration": 4,
    "start_time": "2022-05-22T17:06:34.475Z"
   },
   {
    "duration": 86,
    "start_time": "2022-05-22T17:06:34.481Z"
   },
   {
    "duration": 372,
    "start_time": "2022-05-22T17:06:34.569Z"
   },
   {
    "duration": 38,
    "start_time": "2022-05-22T17:06:34.942Z"
   },
   {
    "duration": 353,
    "start_time": "2022-05-22T17:06:34.984Z"
   },
   {
    "duration": 55,
    "start_time": "2022-05-22T17:06:35.338Z"
   },
   {
    "duration": 71,
    "start_time": "2022-05-22T17:06:35.394Z"
   },
   {
    "duration": 8550,
    "start_time": "2022-05-22T17:06:35.466Z"
   },
   {
    "duration": 5,
    "start_time": "2022-05-22T17:06:44.017Z"
   },
   {
    "duration": 64,
    "start_time": "2022-05-22T17:06:44.025Z"
   },
   {
    "duration": 353272,
    "start_time": "2022-05-22T17:06:44.090Z"
   },
   {
    "duration": 90,
    "start_time": "2022-05-22T17:12:37.368Z"
   },
   {
    "duration": 208,
    "start_time": "2022-05-22T17:12:37.463Z"
   },
   {
    "duration": 1573,
    "start_time": "2022-06-05T11:50:16.816Z"
   },
   {
    "duration": 140,
    "start_time": "2022-06-05T11:50:18.391Z"
   },
   {
    "duration": 8,
    "start_time": "2022-06-05T11:50:18.533Z"
   },
   {
    "duration": 339,
    "start_time": "2022-06-05T11:50:18.543Z"
   },
   {
    "duration": 58,
    "start_time": "2022-06-05T11:50:18.884Z"
   },
   {
    "duration": 18,
    "start_time": "2022-06-05T11:50:18.944Z"
   },
   {
    "duration": 21,
    "start_time": "2022-06-05T11:50:18.963Z"
   },
   {
    "duration": 18,
    "start_time": "2022-06-05T11:50:18.986Z"
   },
   {
    "duration": 383,
    "start_time": "2022-06-05T11:50:19.006Z"
   },
   {
    "duration": 17,
    "start_time": "2022-06-05T11:50:19.393Z"
   },
   {
    "duration": 142,
    "start_time": "2022-06-05T11:50:19.412Z"
   },
   {
    "duration": 0,
    "start_time": "2022-06-05T11:50:19.556Z"
   },
   {
    "duration": 0,
    "start_time": "2022-06-05T11:50:19.558Z"
   },
   {
    "duration": 0,
    "start_time": "2022-06-05T11:50:19.559Z"
   },
   {
    "duration": 0,
    "start_time": "2022-06-05T11:50:19.560Z"
   },
   {
    "duration": 0,
    "start_time": "2022-06-05T11:50:19.561Z"
   },
   {
    "duration": 0,
    "start_time": "2022-06-05T11:50:19.562Z"
   },
   {
    "duration": 0,
    "start_time": "2022-06-05T11:50:19.563Z"
   },
   {
    "duration": 0,
    "start_time": "2022-06-05T11:50:19.564Z"
   },
   {
    "duration": 0,
    "start_time": "2022-06-05T11:50:19.565Z"
   },
   {
    "duration": 0,
    "start_time": "2022-06-05T11:50:19.567Z"
   },
   {
    "duration": 0,
    "start_time": "2022-06-05T11:50:19.568Z"
   },
   {
    "duration": 0,
    "start_time": "2022-06-05T11:50:19.569Z"
   },
   {
    "duration": 0,
    "start_time": "2022-06-05T11:50:19.570Z"
   },
   {
    "duration": 0,
    "start_time": "2022-06-05T11:50:19.571Z"
   },
   {
    "duration": 0,
    "start_time": "2022-06-05T11:50:19.572Z"
   },
   {
    "duration": 0,
    "start_time": "2022-06-05T11:50:19.573Z"
   },
   {
    "duration": 0,
    "start_time": "2022-06-05T11:50:19.574Z"
   },
   {
    "duration": 0,
    "start_time": "2022-06-05T11:50:19.575Z"
   },
   {
    "duration": 0,
    "start_time": "2022-06-05T11:50:19.576Z"
   },
   {
    "duration": 0,
    "start_time": "2022-06-05T11:50:19.577Z"
   },
   {
    "duration": 0,
    "start_time": "2022-06-05T11:50:19.578Z"
   },
   {
    "duration": 0,
    "start_time": "2022-06-05T11:50:19.579Z"
   },
   {
    "duration": 0,
    "start_time": "2022-06-05T11:50:19.581Z"
   },
   {
    "duration": 0,
    "start_time": "2022-06-05T11:50:19.582Z"
   },
   {
    "duration": 0,
    "start_time": "2022-06-05T11:50:19.583Z"
   },
   {
    "duration": 0,
    "start_time": "2022-06-05T11:50:19.584Z"
   },
   {
    "duration": 0,
    "start_time": "2022-06-05T11:50:19.585Z"
   },
   {
    "duration": 1314,
    "start_time": "2022-06-05T11:51:11.688Z"
   },
   {
    "duration": 40,
    "start_time": "2022-06-05T11:51:13.004Z"
   },
   {
    "duration": 9,
    "start_time": "2022-06-05T11:51:13.046Z"
   },
   {
    "duration": 203,
    "start_time": "2022-06-05T11:51:13.056Z"
   },
   {
    "duration": 4,
    "start_time": "2022-06-05T11:51:13.261Z"
   },
   {
    "duration": 5,
    "start_time": "2022-06-05T11:51:13.267Z"
   },
   {
    "duration": 17,
    "start_time": "2022-06-05T11:51:13.274Z"
   },
   {
    "duration": 6,
    "start_time": "2022-06-05T11:51:13.293Z"
   },
   {
    "duration": 341,
    "start_time": "2022-06-05T11:51:13.301Z"
   },
   {
    "duration": 17,
    "start_time": "2022-06-05T11:51:13.644Z"
   },
   {
    "duration": 9,
    "start_time": "2022-06-05T11:51:13.662Z"
   },
   {
    "duration": 14,
    "start_time": "2022-06-05T11:51:13.673Z"
   },
   {
    "duration": 6,
    "start_time": "2022-06-05T11:51:13.689Z"
   },
   {
    "duration": 146,
    "start_time": "2022-06-05T11:51:13.697Z"
   },
   {
    "duration": 0,
    "start_time": "2022-06-05T11:51:13.844Z"
   },
   {
    "duration": 0,
    "start_time": "2022-06-05T11:51:13.845Z"
   },
   {
    "duration": 0,
    "start_time": "2022-06-05T11:51:13.846Z"
   },
   {
    "duration": 0,
    "start_time": "2022-06-05T11:51:13.847Z"
   },
   {
    "duration": 0,
    "start_time": "2022-06-05T11:51:13.848Z"
   },
   {
    "duration": 0,
    "start_time": "2022-06-05T11:51:13.849Z"
   },
   {
    "duration": 0,
    "start_time": "2022-06-05T11:51:13.850Z"
   },
   {
    "duration": 0,
    "start_time": "2022-06-05T11:51:13.851Z"
   },
   {
    "duration": 0,
    "start_time": "2022-06-05T11:51:13.851Z"
   },
   {
    "duration": 0,
    "start_time": "2022-06-05T11:51:13.852Z"
   },
   {
    "duration": 0,
    "start_time": "2022-06-05T11:51:13.853Z"
   },
   {
    "duration": 0,
    "start_time": "2022-06-05T11:51:13.854Z"
   },
   {
    "duration": 0,
    "start_time": "2022-06-05T11:51:13.855Z"
   },
   {
    "duration": 0,
    "start_time": "2022-06-05T11:51:13.856Z"
   },
   {
    "duration": 0,
    "start_time": "2022-06-05T11:51:13.857Z"
   },
   {
    "duration": 0,
    "start_time": "2022-06-05T11:51:13.858Z"
   },
   {
    "duration": 0,
    "start_time": "2022-06-05T11:51:13.859Z"
   },
   {
    "duration": 0,
    "start_time": "2022-06-05T11:51:13.860Z"
   },
   {
    "duration": 0,
    "start_time": "2022-06-05T11:51:13.860Z"
   },
   {
    "duration": 0,
    "start_time": "2022-06-05T11:51:13.861Z"
   },
   {
    "duration": 0,
    "start_time": "2022-06-05T11:51:13.862Z"
   },
   {
    "duration": 0,
    "start_time": "2022-06-05T11:51:13.863Z"
   },
   {
    "duration": 0,
    "start_time": "2022-06-05T11:51:13.864Z"
   },
   {
    "duration": 0,
    "start_time": "2022-06-05T11:51:13.865Z"
   },
   {
    "duration": 1263,
    "start_time": "2022-06-05T11:52:18.351Z"
   },
   {
    "duration": 40,
    "start_time": "2022-06-05T11:52:19.617Z"
   },
   {
    "duration": 9,
    "start_time": "2022-06-05T11:52:19.659Z"
   },
   {
    "duration": 210,
    "start_time": "2022-06-05T11:52:19.670Z"
   },
   {
    "duration": 3,
    "start_time": "2022-06-05T11:52:19.882Z"
   },
   {
    "duration": 21,
    "start_time": "2022-06-05T11:52:19.887Z"
   },
   {
    "duration": 15,
    "start_time": "2022-06-05T11:52:19.909Z"
   },
   {
    "duration": 28,
    "start_time": "2022-06-05T11:52:19.926Z"
   },
   {
    "duration": 304,
    "start_time": "2022-06-05T11:52:19.956Z"
   },
   {
    "duration": 16,
    "start_time": "2022-06-05T11:52:20.262Z"
   },
   {
    "duration": 18,
    "start_time": "2022-06-05T11:52:20.279Z"
   },
   {
    "duration": 15,
    "start_time": "2022-06-05T11:52:20.298Z"
   },
   {
    "duration": 14,
    "start_time": "2022-06-05T11:52:20.314Z"
   },
   {
    "duration": 23,
    "start_time": "2022-06-05T11:52:20.331Z"
   },
   {
    "duration": 17,
    "start_time": "2022-06-05T11:52:20.356Z"
   },
   {
    "duration": 25,
    "start_time": "2022-06-05T11:52:20.375Z"
   },
   {
    "duration": 20,
    "start_time": "2022-06-05T11:52:20.402Z"
   },
   {
    "duration": 31,
    "start_time": "2022-06-05T11:52:20.424Z"
   },
   {
    "duration": 12,
    "start_time": "2022-06-05T11:52:20.456Z"
   },
   {
    "duration": 22,
    "start_time": "2022-06-05T11:52:20.470Z"
   },
   {
    "duration": 55,
    "start_time": "2022-06-05T11:52:20.493Z"
   },
   {
    "duration": 93,
    "start_time": "2022-06-05T11:52:20.550Z"
   },
   {
    "duration": 1044,
    "start_time": "2022-06-05T11:52:20.645Z"
   },
   {
    "duration": 126,
    "start_time": "2022-06-05T11:52:21.691Z"
   },
   {
    "duration": 0,
    "start_time": "2022-06-05T11:52:21.818Z"
   },
   {
    "duration": 0,
    "start_time": "2022-06-05T11:52:21.820Z"
   },
   {
    "duration": 0,
    "start_time": "2022-06-05T11:52:21.821Z"
   },
   {
    "duration": 0,
    "start_time": "2022-06-05T11:52:21.822Z"
   },
   {
    "duration": 0,
    "start_time": "2022-06-05T11:52:21.823Z"
   },
   {
    "duration": 0,
    "start_time": "2022-06-05T11:52:21.840Z"
   },
   {
    "duration": 0,
    "start_time": "2022-06-05T11:52:21.841Z"
   },
   {
    "duration": 0,
    "start_time": "2022-06-05T11:52:21.842Z"
   },
   {
    "duration": 0,
    "start_time": "2022-06-05T11:52:21.844Z"
   },
   {
    "duration": 0,
    "start_time": "2022-06-05T11:52:21.845Z"
   },
   {
    "duration": 0,
    "start_time": "2022-06-05T11:52:21.846Z"
   },
   {
    "duration": 0,
    "start_time": "2022-06-05T11:52:21.847Z"
   },
   {
    "duration": 0,
    "start_time": "2022-06-05T11:52:21.848Z"
   },
   {
    "duration": 0,
    "start_time": "2022-06-05T11:52:21.850Z"
   },
   {
    "duration": 0,
    "start_time": "2022-06-05T11:52:21.851Z"
   },
   {
    "duration": 1316,
    "start_time": "2022-06-05T11:57:11.806Z"
   },
   {
    "duration": 42,
    "start_time": "2022-06-05T11:57:13.125Z"
   },
   {
    "duration": 9,
    "start_time": "2022-06-05T11:57:13.169Z"
   },
   {
    "duration": 198,
    "start_time": "2022-06-05T11:57:13.180Z"
   },
   {
    "duration": 3,
    "start_time": "2022-06-05T11:57:13.381Z"
   },
   {
    "duration": 10,
    "start_time": "2022-06-05T11:57:13.386Z"
   },
   {
    "duration": 16,
    "start_time": "2022-06-05T11:57:13.398Z"
   },
   {
    "duration": 26,
    "start_time": "2022-06-05T11:57:13.416Z"
   },
   {
    "duration": 309,
    "start_time": "2022-06-05T11:57:13.443Z"
   },
   {
    "duration": 15,
    "start_time": "2022-06-05T11:57:13.754Z"
   },
   {
    "duration": 7,
    "start_time": "2022-06-05T11:57:13.771Z"
   },
   {
    "duration": 12,
    "start_time": "2022-06-05T11:57:13.779Z"
   },
   {
    "duration": 6,
    "start_time": "2022-06-05T11:57:13.792Z"
   },
   {
    "duration": 45,
    "start_time": "2022-06-05T11:57:13.800Z"
   },
   {
    "duration": 12,
    "start_time": "2022-06-05T11:57:13.847Z"
   },
   {
    "duration": 3,
    "start_time": "2022-06-05T11:57:13.860Z"
   },
   {
    "duration": 8,
    "start_time": "2022-06-05T11:57:13.864Z"
   },
   {
    "duration": 12,
    "start_time": "2022-06-05T11:57:13.873Z"
   },
   {
    "duration": 3,
    "start_time": "2022-06-05T11:57:13.887Z"
   },
   {
    "duration": 16,
    "start_time": "2022-06-05T11:57:13.892Z"
   },
   {
    "duration": 63,
    "start_time": "2022-06-05T11:57:13.909Z"
   },
   {
    "duration": 170,
    "start_time": "2022-06-05T11:57:13.973Z"
   },
   {
    "duration": 986,
    "start_time": "2022-06-05T11:57:14.145Z"
   },
   {
    "duration": 0,
    "start_time": "2022-06-05T11:57:15.133Z"
   },
   {
    "duration": 0,
    "start_time": "2022-06-05T11:57:15.135Z"
   },
   {
    "duration": 0,
    "start_time": "2022-06-05T11:57:15.136Z"
   },
   {
    "duration": 0,
    "start_time": "2022-06-05T11:57:15.141Z"
   },
   {
    "duration": 0,
    "start_time": "2022-06-05T11:57:15.142Z"
   },
   {
    "duration": 0,
    "start_time": "2022-06-05T11:57:15.143Z"
   },
   {
    "duration": 0,
    "start_time": "2022-06-05T11:57:15.145Z"
   },
   {
    "duration": 0,
    "start_time": "2022-06-05T11:57:15.146Z"
   },
   {
    "duration": 0,
    "start_time": "2022-06-05T11:57:15.147Z"
   },
   {
    "duration": 0,
    "start_time": "2022-06-05T11:57:15.148Z"
   },
   {
    "duration": 0,
    "start_time": "2022-06-05T11:57:15.149Z"
   },
   {
    "duration": 0,
    "start_time": "2022-06-05T11:57:15.150Z"
   },
   {
    "duration": 0,
    "start_time": "2022-06-05T11:57:15.151Z"
   },
   {
    "duration": 0,
    "start_time": "2022-06-05T11:57:15.152Z"
   },
   {
    "duration": 0,
    "start_time": "2022-06-05T11:57:15.153Z"
   },
   {
    "duration": 0,
    "start_time": "2022-06-05T11:57:15.154Z"
   },
   {
    "duration": 1338,
    "start_time": "2022-06-05T11:57:54.889Z"
   },
   {
    "duration": 40,
    "start_time": "2022-06-05T11:57:56.229Z"
   },
   {
    "duration": 9,
    "start_time": "2022-06-05T11:57:56.271Z"
   },
   {
    "duration": 221,
    "start_time": "2022-06-05T11:57:56.282Z"
   },
   {
    "duration": 5,
    "start_time": "2022-06-05T11:57:56.507Z"
   },
   {
    "duration": 31,
    "start_time": "2022-06-05T11:57:56.514Z"
   },
   {
    "duration": 39,
    "start_time": "2022-06-05T11:57:56.547Z"
   },
   {
    "duration": 48,
    "start_time": "2022-06-05T11:57:56.588Z"
   },
   {
    "duration": 348,
    "start_time": "2022-06-05T11:57:56.638Z"
   },
   {
    "duration": 17,
    "start_time": "2022-06-05T11:57:56.988Z"
   },
   {
    "duration": 23,
    "start_time": "2022-06-05T11:57:57.007Z"
   },
   {
    "duration": 35,
    "start_time": "2022-06-05T11:57:57.031Z"
   },
   {
    "duration": 22,
    "start_time": "2022-06-05T11:57:57.068Z"
   },
   {
    "duration": 34,
    "start_time": "2022-06-05T11:57:57.093Z"
   },
   {
    "duration": 19,
    "start_time": "2022-06-05T11:57:57.129Z"
   },
   {
    "duration": 30,
    "start_time": "2022-06-05T11:57:57.149Z"
   },
   {
    "duration": 14,
    "start_time": "2022-06-05T11:57:57.180Z"
   },
   {
    "duration": 22,
    "start_time": "2022-06-05T11:57:57.195Z"
   },
   {
    "duration": 18,
    "start_time": "2022-06-05T11:57:57.219Z"
   },
   {
    "duration": 13,
    "start_time": "2022-06-05T11:57:57.239Z"
   },
   {
    "duration": 64,
    "start_time": "2022-06-05T11:57:57.254Z"
   },
   {
    "duration": 133,
    "start_time": "2022-06-05T11:57:57.320Z"
   },
   {
    "duration": 1003,
    "start_time": "2022-06-05T11:57:57.455Z"
   },
   {
    "duration": 182,
    "start_time": "2022-06-05T11:57:58.459Z"
   },
   {
    "duration": 5602,
    "start_time": "2022-06-05T11:57:58.642Z"
   },
   {
    "duration": 272,
    "start_time": "2022-06-05T11:58:04.246Z"
   },
   {
    "duration": 31,
    "start_time": "2022-06-05T11:58:04.519Z"
   },
   {
    "duration": 373,
    "start_time": "2022-06-05T11:58:04.552Z"
   },
   {
    "duration": 41,
    "start_time": "2022-06-05T11:58:04.927Z"
   },
   {
    "duration": 75,
    "start_time": "2022-06-05T11:58:04.970Z"
   },
   {
    "duration": 215,
    "start_time": "2022-06-05T11:58:05.047Z"
   },
   {
    "duration": 0,
    "start_time": "2022-06-05T11:58:05.264Z"
   },
   {
    "duration": 0,
    "start_time": "2022-06-05T11:58:05.265Z"
   },
   {
    "duration": 0,
    "start_time": "2022-06-05T11:58:05.266Z"
   },
   {
    "duration": 0,
    "start_time": "2022-06-05T11:58:05.267Z"
   },
   {
    "duration": 0,
    "start_time": "2022-06-05T11:58:05.268Z"
   },
   {
    "duration": 0,
    "start_time": "2022-06-05T11:58:05.269Z"
   },
   {
    "duration": 0,
    "start_time": "2022-06-05T11:58:05.270Z"
   },
   {
    "duration": 0,
    "start_time": "2022-06-05T11:58:05.271Z"
   },
   {
    "duration": 1288,
    "start_time": "2022-06-05T12:00:44.134Z"
   },
   {
    "duration": 39,
    "start_time": "2022-06-05T12:00:45.424Z"
   },
   {
    "duration": 10,
    "start_time": "2022-06-05T12:00:45.465Z"
   },
   {
    "duration": 208,
    "start_time": "2022-06-05T12:00:45.478Z"
   },
   {
    "duration": 4,
    "start_time": "2022-06-05T12:00:45.687Z"
   },
   {
    "duration": 8,
    "start_time": "2022-06-05T12:00:45.693Z"
   },
   {
    "duration": 42,
    "start_time": "2022-06-05T12:00:45.702Z"
   },
   {
    "duration": 8,
    "start_time": "2022-06-05T12:00:45.746Z"
   },
   {
    "duration": 318,
    "start_time": "2022-06-05T12:00:45.755Z"
   },
   {
    "duration": 16,
    "start_time": "2022-06-05T12:00:46.076Z"
   },
   {
    "duration": 10,
    "start_time": "2022-06-05T12:00:46.094Z"
   },
   {
    "duration": 36,
    "start_time": "2022-06-05T12:00:46.106Z"
   },
   {
    "duration": 7,
    "start_time": "2022-06-05T12:00:46.144Z"
   },
   {
    "duration": 17,
    "start_time": "2022-06-05T12:00:46.153Z"
   },
   {
    "duration": 12,
    "start_time": "2022-06-05T12:00:46.172Z"
   },
   {
    "duration": 3,
    "start_time": "2022-06-05T12:00:46.185Z"
   },
   {
    "duration": 8,
    "start_time": "2022-06-05T12:00:46.190Z"
   },
   {
    "duration": 50,
    "start_time": "2022-06-05T12:00:46.200Z"
   },
   {
    "duration": 3,
    "start_time": "2022-06-05T12:00:46.251Z"
   },
   {
    "duration": 8,
    "start_time": "2022-06-05T12:00:46.256Z"
   },
   {
    "duration": 37,
    "start_time": "2022-06-05T12:00:46.265Z"
   },
   {
    "duration": 145,
    "start_time": "2022-06-05T12:00:46.303Z"
   },
   {
    "duration": 944,
    "start_time": "2022-06-05T12:00:46.450Z"
   },
   {
    "duration": 174,
    "start_time": "2022-06-05T12:00:47.395Z"
   },
   {
    "duration": 5518,
    "start_time": "2022-06-05T12:00:47.570Z"
   },
   {
    "duration": 182,
    "start_time": "2022-06-05T12:00:53.090Z"
   },
   {
    "duration": 11,
    "start_time": "2022-06-05T12:00:53.273Z"
   },
   {
    "duration": 155,
    "start_time": "2022-06-05T12:00:53.287Z"
   },
   {
    "duration": 0,
    "start_time": "2022-06-05T12:00:53.443Z"
   },
   {
    "duration": 0,
    "start_time": "2022-06-05T12:00:53.444Z"
   },
   {
    "duration": 0,
    "start_time": "2022-06-05T12:00:53.445Z"
   },
   {
    "duration": 0,
    "start_time": "2022-06-05T12:00:53.447Z"
   },
   {
    "duration": 0,
    "start_time": "2022-06-05T12:00:53.448Z"
   },
   {
    "duration": 0,
    "start_time": "2022-06-05T12:00:53.450Z"
   },
   {
    "duration": 0,
    "start_time": "2022-06-05T12:00:53.450Z"
   },
   {
    "duration": 0,
    "start_time": "2022-06-05T12:00:53.451Z"
   },
   {
    "duration": 0,
    "start_time": "2022-06-05T12:00:53.452Z"
   },
   {
    "duration": 0,
    "start_time": "2022-06-05T12:00:53.453Z"
   },
   {
    "duration": 0,
    "start_time": "2022-06-05T12:00:53.454Z"
   },
   {
    "duration": 0,
    "start_time": "2022-06-05T12:00:53.455Z"
   },
   {
    "duration": 0,
    "start_time": "2022-06-05T12:00:53.456Z"
   },
   {
    "duration": 0,
    "start_time": "2022-06-05T12:00:53.457Z"
   },
   {
    "duration": 1278,
    "start_time": "2022-06-05T12:01:44.188Z"
   },
   {
    "duration": 40,
    "start_time": "2022-06-05T12:01:45.468Z"
   },
   {
    "duration": 9,
    "start_time": "2022-06-05T12:01:45.510Z"
   },
   {
    "duration": 196,
    "start_time": "2022-06-05T12:01:45.520Z"
   },
   {
    "duration": 3,
    "start_time": "2022-06-05T12:01:45.742Z"
   },
   {
    "duration": 13,
    "start_time": "2022-06-05T12:01:45.746Z"
   },
   {
    "duration": 16,
    "start_time": "2022-06-05T12:01:45.760Z"
   },
   {
    "duration": 6,
    "start_time": "2022-06-05T12:01:45.778Z"
   },
   {
    "duration": 351,
    "start_time": "2022-06-05T12:01:45.786Z"
   },
   {
    "duration": 17,
    "start_time": "2022-06-05T12:01:46.141Z"
   },
   {
    "duration": 9,
    "start_time": "2022-06-05T12:01:46.160Z"
   },
   {
    "duration": 13,
    "start_time": "2022-06-05T12:01:46.170Z"
   },
   {
    "duration": 7,
    "start_time": "2022-06-05T12:01:46.184Z"
   },
   {
    "duration": 18,
    "start_time": "2022-06-05T12:01:46.194Z"
   },
   {
    "duration": 13,
    "start_time": "2022-06-05T12:01:46.242Z"
   },
   {
    "duration": 6,
    "start_time": "2022-06-05T12:01:46.257Z"
   },
   {
    "duration": 8,
    "start_time": "2022-06-05T12:01:46.265Z"
   },
   {
    "duration": 15,
    "start_time": "2022-06-05T12:01:46.275Z"
   },
   {
    "duration": 3,
    "start_time": "2022-06-05T12:01:46.292Z"
   },
   {
    "duration": 9,
    "start_time": "2022-06-05T12:01:46.296Z"
   },
   {
    "duration": 61,
    "start_time": "2022-06-05T12:01:46.307Z"
   },
   {
    "duration": 179,
    "start_time": "2022-06-05T12:01:46.369Z"
   },
   {
    "duration": 880,
    "start_time": "2022-06-05T12:01:46.551Z"
   },
   {
    "duration": 173,
    "start_time": "2022-06-05T12:01:47.433Z"
   },
   {
    "duration": 5594,
    "start_time": "2022-06-05T12:01:47.607Z"
   },
   {
    "duration": 169,
    "start_time": "2022-06-05T12:01:53.202Z"
   },
   {
    "duration": 11,
    "start_time": "2022-06-05T12:01:53.373Z"
   },
   {
    "duration": 39357,
    "start_time": "2022-06-05T12:01:53.386Z"
   },
   {
    "duration": 376,
    "start_time": "2022-06-05T12:02:32.745Z"
   },
   {
    "duration": 30,
    "start_time": "2022-06-05T12:02:33.122Z"
   },
   {
    "duration": 352,
    "start_time": "2022-06-05T12:02:33.153Z"
   },
   {
    "duration": 40,
    "start_time": "2022-06-05T12:02:33.507Z"
   },
   {
    "duration": 93,
    "start_time": "2022-06-05T12:02:33.549Z"
   },
   {
    "duration": 223,
    "start_time": "2022-06-05T12:02:33.644Z"
   },
   {
    "duration": 0,
    "start_time": "2022-06-05T12:02:33.869Z"
   },
   {
    "duration": 0,
    "start_time": "2022-06-05T12:02:33.870Z"
   },
   {
    "duration": 1,
    "start_time": "2022-06-05T12:02:33.871Z"
   },
   {
    "duration": 0,
    "start_time": "2022-06-05T12:02:33.872Z"
   },
   {
    "duration": 0,
    "start_time": "2022-06-05T12:02:33.873Z"
   },
   {
    "duration": 0,
    "start_time": "2022-06-05T12:02:33.874Z"
   },
   {
    "duration": 0,
    "start_time": "2022-06-05T12:02:33.876Z"
   },
   {
    "duration": 1,
    "start_time": "2022-06-05T12:02:33.876Z"
   },
   {
    "duration": 1284,
    "start_time": "2022-06-05T12:08:15.267Z"
   },
   {
    "duration": 42,
    "start_time": "2022-06-05T12:08:16.554Z"
   },
   {
    "duration": 10,
    "start_time": "2022-06-05T12:08:16.598Z"
   },
   {
    "duration": 208,
    "start_time": "2022-06-05T12:08:16.610Z"
   },
   {
    "duration": 5,
    "start_time": "2022-06-05T12:08:16.840Z"
   },
   {
    "duration": 6,
    "start_time": "2022-06-05T12:08:16.847Z"
   },
   {
    "duration": 15,
    "start_time": "2022-06-05T12:08:16.855Z"
   },
   {
    "duration": 5,
    "start_time": "2022-06-05T12:08:16.872Z"
   },
   {
    "duration": 370,
    "start_time": "2022-06-05T12:08:16.879Z"
   },
   {
    "duration": 18,
    "start_time": "2022-06-05T12:08:17.251Z"
   },
   {
    "duration": 10,
    "start_time": "2022-06-05T12:08:17.271Z"
   },
   {
    "duration": 14,
    "start_time": "2022-06-05T12:08:17.283Z"
   },
   {
    "duration": 44,
    "start_time": "2022-06-05T12:08:17.299Z"
   },
   {
    "duration": 19,
    "start_time": "2022-06-05T12:08:17.345Z"
   },
   {
    "duration": 13,
    "start_time": "2022-06-05T12:08:17.366Z"
   },
   {
    "duration": 3,
    "start_time": "2022-06-05T12:08:17.381Z"
   },
   {
    "duration": 10,
    "start_time": "2022-06-05T12:08:17.386Z"
   },
   {
    "duration": 15,
    "start_time": "2022-06-05T12:08:17.397Z"
   },
   {
    "duration": 3,
    "start_time": "2022-06-05T12:08:17.441Z"
   },
   {
    "duration": 10,
    "start_time": "2022-06-05T12:08:17.446Z"
   },
   {
    "duration": 40,
    "start_time": "2022-06-05T12:08:17.457Z"
   },
   {
    "duration": 154,
    "start_time": "2022-06-05T12:08:17.498Z"
   },
   {
    "duration": 957,
    "start_time": "2022-06-05T12:08:17.743Z"
   },
   {
    "duration": 174,
    "start_time": "2022-06-05T12:08:18.702Z"
   },
   {
    "duration": 5822,
    "start_time": "2022-06-05T12:08:18.878Z"
   },
   {
    "duration": 168,
    "start_time": "2022-06-05T12:08:24.702Z"
   },
   {
    "duration": 9,
    "start_time": "2022-06-05T12:08:24.872Z"
   },
   {
    "duration": 39060,
    "start_time": "2022-06-05T12:08:24.885Z"
   },
   {
    "duration": 10203,
    "start_time": "2022-06-05T12:09:04.040Z"
   },
   {
    "duration": 265,
    "start_time": "2022-06-05T12:09:14.244Z"
   },
   {
    "duration": 10,
    "start_time": "2022-06-05T12:09:14.510Z"
   },
   {
    "duration": 17729,
    "start_time": "2022-06-05T12:09:14.521Z"
   },
   {
    "duration": 3211,
    "start_time": "2022-06-05T12:09:32.253Z"
   },
   {
    "duration": 82,
    "start_time": "2022-06-05T12:09:35.466Z"
   },
   {
    "duration": 273,
    "start_time": "2022-06-05T12:09:35.550Z"
   },
   {
    "duration": 117,
    "start_time": "2022-06-05T12:09:35.825Z"
   },
   {
    "duration": 304,
    "start_time": "2022-06-05T12:09:35.945Z"
   },
   {
    "duration": 94,
    "start_time": "2022-06-05T12:09:36.251Z"
   },
   {
    "duration": 97,
    "start_time": "2022-06-05T12:09:36.348Z"
   },
   {
    "duration": 168,
    "start_time": "2022-06-05T12:09:36.447Z"
   },
   {
    "duration": 0,
    "start_time": "2022-06-05T12:09:36.617Z"
   },
   {
    "duration": 0,
    "start_time": "2022-06-05T12:09:36.618Z"
   },
   {
    "duration": 0,
    "start_time": "2022-06-05T12:09:36.619Z"
   },
   {
    "duration": 0,
    "start_time": "2022-06-05T12:09:36.620Z"
   },
   {
    "duration": 0,
    "start_time": "2022-06-05T12:09:36.622Z"
   },
   {
    "duration": 0,
    "start_time": "2022-06-05T12:09:36.624Z"
   },
   {
    "duration": 0,
    "start_time": "2022-06-05T12:09:36.625Z"
   },
   {
    "duration": 0,
    "start_time": "2022-06-05T12:09:36.641Z"
   },
   {
    "duration": 1342,
    "start_time": "2022-06-05T12:13:18.149Z"
   },
   {
    "duration": 41,
    "start_time": "2022-06-05T12:13:19.493Z"
   },
   {
    "duration": 9,
    "start_time": "2022-06-05T12:13:19.535Z"
   },
   {
    "duration": 194,
    "start_time": "2022-06-05T12:13:19.547Z"
   },
   {
    "duration": 3,
    "start_time": "2022-06-05T12:13:19.743Z"
   },
   {
    "duration": 5,
    "start_time": "2022-06-05T12:13:19.748Z"
   },
   {
    "duration": 14,
    "start_time": "2022-06-05T12:13:19.755Z"
   },
   {
    "duration": 4,
    "start_time": "2022-06-05T12:13:19.771Z"
   },
   {
    "duration": 344,
    "start_time": "2022-06-05T12:13:19.777Z"
   },
   {
    "duration": 23,
    "start_time": "2022-06-05T12:13:20.123Z"
   },
   {
    "duration": 9,
    "start_time": "2022-06-05T12:13:20.147Z"
   },
   {
    "duration": 14,
    "start_time": "2022-06-05T12:13:20.157Z"
   },
   {
    "duration": 6,
    "start_time": "2022-06-05T12:13:20.173Z"
   },
   {
    "duration": 18,
    "start_time": "2022-06-05T12:13:20.181Z"
   },
   {
    "duration": 50,
    "start_time": "2022-06-05T12:13:20.201Z"
   },
   {
    "duration": 3,
    "start_time": "2022-06-05T12:13:20.253Z"
   },
   {
    "duration": 9,
    "start_time": "2022-06-05T12:13:20.258Z"
   },
   {
    "duration": 12,
    "start_time": "2022-06-05T12:13:20.268Z"
   },
   {
    "duration": 4,
    "start_time": "2022-06-05T12:13:20.281Z"
   },
   {
    "duration": 12,
    "start_time": "2022-06-05T12:13:20.286Z"
   },
   {
    "duration": 58,
    "start_time": "2022-06-05T12:13:20.299Z"
   },
   {
    "duration": 184,
    "start_time": "2022-06-05T12:13:20.359Z"
   },
   {
    "duration": 862,
    "start_time": "2022-06-05T12:13:20.546Z"
   },
   {
    "duration": 170,
    "start_time": "2022-06-05T12:13:21.409Z"
   },
   {
    "duration": 5466,
    "start_time": "2022-06-05T12:13:21.581Z"
   },
   {
    "duration": 169,
    "start_time": "2022-06-05T12:13:27.049Z"
   },
   {
    "duration": 9,
    "start_time": "2022-06-05T12:13:27.220Z"
   },
   {
    "duration": 39002,
    "start_time": "2022-06-05T12:13:27.241Z"
   },
   {
    "duration": 10631,
    "start_time": "2022-06-05T12:14:06.245Z"
   },
   {
    "duration": 271,
    "start_time": "2022-06-05T12:14:16.878Z"
   },
   {
    "duration": 9,
    "start_time": "2022-06-05T12:14:17.151Z"
   },
   {
    "duration": 18281,
    "start_time": "2022-06-05T12:14:17.162Z"
   },
   {
    "duration": 3184,
    "start_time": "2022-06-05T12:14:35.445Z"
   },
   {
    "duration": 77,
    "start_time": "2022-06-05T12:14:38.631Z"
   },
   {
    "duration": 120,
    "start_time": "2022-06-05T12:14:38.710Z"
   },
   {
    "duration": 0,
    "start_time": "2022-06-05T12:14:38.832Z"
   },
   {
    "duration": 0,
    "start_time": "2022-06-05T12:14:38.833Z"
   },
   {
    "duration": 0,
    "start_time": "2022-06-05T12:14:38.834Z"
   },
   {
    "duration": 0,
    "start_time": "2022-06-05T12:14:38.841Z"
   },
   {
    "duration": 0,
    "start_time": "2022-06-05T12:14:38.842Z"
   },
   {
    "duration": 0,
    "start_time": "2022-06-05T12:14:38.842Z"
   },
   {
    "duration": 0,
    "start_time": "2022-06-05T12:14:38.843Z"
   },
   {
    "duration": 0,
    "start_time": "2022-06-05T12:14:38.844Z"
   },
   {
    "duration": 0,
    "start_time": "2022-06-05T12:14:38.845Z"
   },
   {
    "duration": 0,
    "start_time": "2022-06-05T12:14:38.846Z"
   },
   {
    "duration": 0,
    "start_time": "2022-06-05T12:14:38.847Z"
   },
   {
    "duration": 0,
    "start_time": "2022-06-05T12:14:38.848Z"
   },
   {
    "duration": 0,
    "start_time": "2022-06-05T12:14:38.850Z"
   },
   {
    "duration": 0,
    "start_time": "2022-06-05T12:14:38.851Z"
   },
   {
    "duration": 0,
    "start_time": "2022-06-05T12:14:38.852Z"
   },
   {
    "duration": 1401,
    "start_time": "2022-06-05T12:16:52.058Z"
   },
   {
    "duration": 43,
    "start_time": "2022-06-05T12:16:53.461Z"
   },
   {
    "duration": 10,
    "start_time": "2022-06-05T12:16:53.506Z"
   },
   {
    "duration": 239,
    "start_time": "2022-06-05T12:16:53.519Z"
   },
   {
    "duration": 5,
    "start_time": "2022-06-05T12:16:53.760Z"
   },
   {
    "duration": 30,
    "start_time": "2022-06-05T12:16:53.766Z"
   },
   {
    "duration": 40,
    "start_time": "2022-06-05T12:16:53.797Z"
   },
   {
    "duration": 28,
    "start_time": "2022-06-05T12:16:53.840Z"
   },
   {
    "duration": 373,
    "start_time": "2022-06-05T12:16:53.870Z"
   },
   {
    "duration": 19,
    "start_time": "2022-06-05T12:16:54.248Z"
   },
   {
    "duration": 24,
    "start_time": "2022-06-05T12:16:54.269Z"
   },
   {
    "duration": 33,
    "start_time": "2022-06-05T12:16:54.295Z"
   },
   {
    "duration": 23,
    "start_time": "2022-06-05T12:16:54.329Z"
   },
   {
    "duration": 33,
    "start_time": "2022-06-05T12:16:54.354Z"
   },
   {
    "duration": 12,
    "start_time": "2022-06-05T12:16:54.389Z"
   },
   {
    "duration": 21,
    "start_time": "2022-06-05T12:16:54.402Z"
   },
   {
    "duration": 31,
    "start_time": "2022-06-05T12:16:54.424Z"
   },
   {
    "duration": 22,
    "start_time": "2022-06-05T12:16:54.457Z"
   },
   {
    "duration": 26,
    "start_time": "2022-06-05T12:16:54.481Z"
   },
   {
    "duration": 25,
    "start_time": "2022-06-05T12:16:54.509Z"
   },
   {
    "duration": 56,
    "start_time": "2022-06-05T12:16:54.536Z"
   },
   {
    "duration": 156,
    "start_time": "2022-06-05T12:16:54.594Z"
   },
   {
    "duration": 1015,
    "start_time": "2022-06-05T12:16:54.752Z"
   },
   {
    "duration": 194,
    "start_time": "2022-06-05T12:16:55.769Z"
   },
   {
    "duration": 24878,
    "start_time": "2022-06-05T12:16:55.965Z"
   },
   {
    "duration": 5576,
    "start_time": "2022-06-05T12:17:20.845Z"
   },
   {
    "duration": 210,
    "start_time": "2022-06-05T12:17:26.423Z"
   },
   {
    "duration": 16,
    "start_time": "2022-06-05T12:17:26.640Z"
   },
   {
    "duration": 39085,
    "start_time": "2022-06-05T12:17:26.658Z"
   },
   {
    "duration": 10463,
    "start_time": "2022-06-05T12:18:05.746Z"
   },
   {
    "duration": 272,
    "start_time": "2022-06-05T12:18:16.211Z"
   },
   {
    "duration": 11,
    "start_time": "2022-06-05T12:18:16.485Z"
   },
   {
    "duration": 16847,
    "start_time": "2022-06-05T12:18:16.498Z"
   },
   {
    "duration": 3193,
    "start_time": "2022-06-05T12:18:33.348Z"
   },
   {
    "duration": 78,
    "start_time": "2022-06-05T12:18:36.543Z"
   },
   {
    "duration": 5,
    "start_time": "2022-06-05T12:18:36.623Z"
   },
   {
    "duration": 144,
    "start_time": "2022-06-05T12:18:36.629Z"
   },
   {
    "duration": 584,
    "start_time": "2022-06-05T12:22:32.050Z"
   },
   {
    "duration": 619,
    "start_time": "2022-06-05T12:25:39.324Z"
   },
   {
    "duration": 5,
    "start_time": "2022-06-05T12:25:53.616Z"
   },
   {
    "duration": 471,
    "start_time": "2022-06-05T12:25:53.624Z"
   },
   {
    "duration": 5,
    "start_time": "2022-06-05T12:26:14.068Z"
   },
   {
    "duration": 497,
    "start_time": "2022-06-05T12:26:14.083Z"
   },
   {
    "duration": 8,
    "start_time": "2022-06-05T12:26:38.044Z"
   },
   {
    "duration": 455,
    "start_time": "2022-06-05T12:26:38.054Z"
   },
   {
    "duration": 1256,
    "start_time": "2022-06-05T12:39:17.368Z"
   },
   {
    "duration": 47,
    "start_time": "2022-06-05T12:39:18.626Z"
   },
   {
    "duration": 9,
    "start_time": "2022-06-05T12:39:18.675Z"
   },
   {
    "duration": 194,
    "start_time": "2022-06-05T12:39:18.686Z"
   },
   {
    "duration": 3,
    "start_time": "2022-06-05T12:39:18.882Z"
   },
   {
    "duration": 5,
    "start_time": "2022-06-05T12:39:18.887Z"
   },
   {
    "duration": 17,
    "start_time": "2022-06-05T12:39:18.894Z"
   },
   {
    "duration": 32,
    "start_time": "2022-06-05T12:39:18.912Z"
   },
   {
    "duration": 314,
    "start_time": "2022-06-05T12:39:18.945Z"
   },
   {
    "duration": 17,
    "start_time": "2022-06-05T12:39:19.262Z"
   },
   {
    "duration": 10,
    "start_time": "2022-06-05T12:39:19.281Z"
   },
   {
    "duration": 13,
    "start_time": "2022-06-05T12:39:19.293Z"
   },
   {
    "duration": 33,
    "start_time": "2022-06-05T12:39:19.308Z"
   },
   {
    "duration": 16,
    "start_time": "2022-06-05T12:39:19.343Z"
   },
   {
    "duration": 12,
    "start_time": "2022-06-05T12:39:19.361Z"
   },
   {
    "duration": 3,
    "start_time": "2022-06-05T12:39:19.374Z"
   },
   {
    "duration": 10,
    "start_time": "2022-06-05T12:39:19.378Z"
   },
   {
    "duration": 14,
    "start_time": "2022-06-05T12:39:19.389Z"
   },
   {
    "duration": 3,
    "start_time": "2022-06-05T12:39:19.405Z"
   },
   {
    "duration": 35,
    "start_time": "2022-06-05T12:39:19.410Z"
   },
   {
    "duration": 38,
    "start_time": "2022-06-05T12:39:19.447Z"
   },
   {
    "duration": 162,
    "start_time": "2022-06-05T12:39:19.486Z"
   },
   {
    "duration": 936,
    "start_time": "2022-06-05T12:39:19.650Z"
   },
   {
    "duration": 171,
    "start_time": "2022-06-05T12:39:20.588Z"
   },
   {
    "duration": 27384,
    "start_time": "2022-06-05T12:39:20.760Z"
   },
   {
    "duration": 5458,
    "start_time": "2022-06-05T12:39:48.146Z"
   },
   {
    "duration": 175,
    "start_time": "2022-06-05T12:39:53.605Z"
   },
   {
    "duration": 12,
    "start_time": "2022-06-05T12:39:53.783Z"
   },
   {
    "duration": 39446,
    "start_time": "2022-06-05T12:39:53.797Z"
   },
   {
    "duration": 10585,
    "start_time": "2022-06-05T12:40:33.245Z"
   },
   {
    "duration": 264,
    "start_time": "2022-06-05T12:40:43.833Z"
   },
   {
    "duration": 11,
    "start_time": "2022-06-05T12:40:44.099Z"
   },
   {
    "duration": 17838,
    "start_time": "2022-06-05T12:40:44.111Z"
   },
   {
    "duration": 3149,
    "start_time": "2022-06-05T12:41:01.953Z"
   },
   {
    "duration": 81,
    "start_time": "2022-06-05T12:41:05.103Z"
   },
   {
    "duration": 4,
    "start_time": "2022-06-05T12:41:05.186Z"
   },
   {
    "duration": 656,
    "start_time": "2022-06-05T12:41:05.192Z"
   },
   {
    "duration": 5,
    "start_time": "2022-06-05T12:42:39.427Z"
   },
   {
    "duration": 5,
    "start_time": "2022-06-05T12:42:45.163Z"
   },
   {
    "duration": 473,
    "start_time": "2022-06-05T12:42:45.189Z"
   },
   {
    "duration": 509,
    "start_time": "2022-06-05T12:43:47.693Z"
   },
   {
    "duration": 444,
    "start_time": "2022-06-05T12:44:03.626Z"
   },
   {
    "duration": 475,
    "start_time": "2022-06-05T12:44:12.128Z"
   },
   {
    "duration": 80,
    "start_time": "2022-06-05T12:48:50.291Z"
   },
   {
    "duration": 18,
    "start_time": "2022-06-05T12:48:50.372Z"
   },
   {
    "duration": 1239,
    "start_time": "2022-06-05T12:49:09.985Z"
   },
   {
    "duration": 40,
    "start_time": "2022-06-05T12:49:11.226Z"
   },
   {
    "duration": 9,
    "start_time": "2022-06-05T12:49:11.267Z"
   },
   {
    "duration": 188,
    "start_time": "2022-06-05T12:49:11.278Z"
   },
   {
    "duration": 3,
    "start_time": "2022-06-05T12:49:11.468Z"
   },
   {
    "duration": 6,
    "start_time": "2022-06-05T12:49:11.473Z"
   },
   {
    "duration": 19,
    "start_time": "2022-06-05T12:49:11.481Z"
   },
   {
    "duration": 6,
    "start_time": "2022-06-05T12:49:11.502Z"
   },
   {
    "duration": 337,
    "start_time": "2022-06-05T12:49:11.510Z"
   },
   {
    "duration": 18,
    "start_time": "2022-06-05T12:49:11.850Z"
   },
   {
    "duration": 10,
    "start_time": "2022-06-05T12:49:11.870Z"
   },
   {
    "duration": 14,
    "start_time": "2022-06-05T12:49:11.882Z"
   },
   {
    "duration": 6,
    "start_time": "2022-06-05T12:49:11.897Z"
   },
   {
    "duration": 19,
    "start_time": "2022-06-05T12:49:11.942Z"
   },
   {
    "duration": 14,
    "start_time": "2022-06-05T12:49:11.962Z"
   },
   {
    "duration": 3,
    "start_time": "2022-06-05T12:49:11.978Z"
   },
   {
    "duration": 6,
    "start_time": "2022-06-05T12:49:11.983Z"
   },
   {
    "duration": 13,
    "start_time": "2022-06-05T12:49:11.991Z"
   },
   {
    "duration": 35,
    "start_time": "2022-06-05T12:49:12.006Z"
   },
   {
    "duration": 9,
    "start_time": "2022-06-05T12:49:12.043Z"
   },
   {
    "duration": 37,
    "start_time": "2022-06-05T12:49:12.054Z"
   },
   {
    "duration": 156,
    "start_time": "2022-06-05T12:49:12.093Z"
   },
   {
    "duration": 952,
    "start_time": "2022-06-05T12:49:12.251Z"
   },
   {
    "duration": 171,
    "start_time": "2022-06-05T12:49:13.205Z"
   },
   {
    "duration": 27963,
    "start_time": "2022-06-05T12:49:13.377Z"
   },
   {
    "duration": 5543,
    "start_time": "2022-06-05T12:49:41.342Z"
   },
   {
    "duration": 182,
    "start_time": "2022-06-05T12:49:46.886Z"
   },
   {
    "duration": 10,
    "start_time": "2022-06-05T12:49:47.071Z"
   },
   {
    "duration": 38676,
    "start_time": "2022-06-05T12:49:47.082Z"
   },
   {
    "duration": 11492,
    "start_time": "2022-06-05T12:50:25.759Z"
   },
   {
    "duration": 299,
    "start_time": "2022-06-05T12:50:37.252Z"
   },
   {
    "duration": 11,
    "start_time": "2022-06-05T12:50:37.552Z"
   },
   {
    "duration": 15978,
    "start_time": "2022-06-05T12:50:37.565Z"
   },
   {
    "duration": 3177,
    "start_time": "2022-06-05T12:50:53.545Z"
   },
   {
    "duration": 86,
    "start_time": "2022-06-05T12:50:56.723Z"
   },
   {
    "duration": 137,
    "start_time": "2022-06-05T12:50:56.811Z"
   },
   {
    "duration": 1463,
    "start_time": "2022-06-05T13:35:17.225Z"
   },
   {
    "duration": 42,
    "start_time": "2022-06-05T13:35:18.690Z"
   },
   {
    "duration": 9,
    "start_time": "2022-06-05T13:35:18.734Z"
   },
   {
    "duration": 239,
    "start_time": "2022-06-05T13:35:18.745Z"
   },
   {
    "duration": 3,
    "start_time": "2022-06-05T13:35:18.986Z"
   },
   {
    "duration": 8,
    "start_time": "2022-06-05T13:35:18.991Z"
   },
   {
    "duration": 57,
    "start_time": "2022-06-05T13:35:19.001Z"
   },
   {
    "duration": 12,
    "start_time": "2022-06-05T13:35:19.060Z"
   },
   {
    "duration": 394,
    "start_time": "2022-06-05T13:35:19.074Z"
   },
   {
    "duration": 19,
    "start_time": "2022-06-05T13:35:19.471Z"
   },
   {
    "duration": 13,
    "start_time": "2022-06-05T13:35:19.491Z"
   },
   {
    "duration": 36,
    "start_time": "2022-06-05T13:35:19.506Z"
   },
   {
    "duration": 6,
    "start_time": "2022-06-05T13:35:19.544Z"
   },
   {
    "duration": 43,
    "start_time": "2022-06-05T13:35:19.551Z"
   },
   {
    "duration": 13,
    "start_time": "2022-06-05T13:35:19.596Z"
   },
   {
    "duration": 14,
    "start_time": "2022-06-05T13:35:19.610Z"
   },
   {
    "duration": 19,
    "start_time": "2022-06-05T13:35:19.625Z"
   },
   {
    "duration": 30,
    "start_time": "2022-06-05T13:35:19.646Z"
   },
   {
    "duration": 11,
    "start_time": "2022-06-05T13:35:19.678Z"
   },
   {
    "duration": 19,
    "start_time": "2022-06-05T13:35:19.691Z"
   },
   {
    "duration": 48,
    "start_time": "2022-06-05T13:35:19.711Z"
   },
   {
    "duration": 180,
    "start_time": "2022-06-05T13:35:19.761Z"
   },
   {
    "duration": 978,
    "start_time": "2022-06-05T13:35:19.944Z"
   },
   {
    "duration": 197,
    "start_time": "2022-06-05T13:35:20.924Z"
   },
   {
    "duration": 27627,
    "start_time": "2022-06-05T13:35:21.123Z"
   },
   {
    "duration": 5725,
    "start_time": "2022-06-05T13:35:48.841Z"
   },
   {
    "duration": 183,
    "start_time": "2022-06-05T13:35:54.568Z"
   },
   {
    "duration": 11,
    "start_time": "2022-06-05T13:35:54.755Z"
   },
   {
    "duration": 38274,
    "start_time": "2022-06-05T13:35:54.768Z"
   },
   {
    "duration": 10812,
    "start_time": "2022-06-05T13:36:33.045Z"
   },
   {
    "duration": 282,
    "start_time": "2022-06-05T13:36:43.858Z"
   },
   {
    "duration": 10,
    "start_time": "2022-06-05T13:36:44.141Z"
   },
   {
    "duration": 11294,
    "start_time": "2022-06-05T13:36:44.153Z"
   },
   {
    "duration": 3623,
    "start_time": "2022-06-05T13:36:55.454Z"
   },
   {
    "duration": 96,
    "start_time": "2022-06-05T13:36:59.078Z"
   },
   {
    "duration": 1438,
    "start_time": "2022-06-05T13:40:00.459Z"
   },
   {
    "duration": 45,
    "start_time": "2022-06-05T13:40:01.900Z"
   },
   {
    "duration": 11,
    "start_time": "2022-06-05T13:40:01.947Z"
   },
   {
    "duration": 295,
    "start_time": "2022-06-05T13:40:01.961Z"
   },
   {
    "duration": 3,
    "start_time": "2022-06-05T13:40:02.259Z"
   },
   {
    "duration": 22,
    "start_time": "2022-06-05T13:40:02.264Z"
   },
   {
    "duration": 39,
    "start_time": "2022-06-05T13:40:02.288Z"
   },
   {
    "duration": 22,
    "start_time": "2022-06-05T13:40:02.328Z"
   },
   {
    "duration": 324,
    "start_time": "2022-06-05T13:40:02.352Z"
   },
   {
    "duration": 20,
    "start_time": "2022-06-05T13:40:02.678Z"
   },
   {
    "duration": 10,
    "start_time": "2022-06-05T13:40:02.700Z"
   },
   {
    "duration": 40,
    "start_time": "2022-06-05T13:40:02.712Z"
   },
   {
    "duration": 6,
    "start_time": "2022-06-05T13:40:02.754Z"
   },
   {
    "duration": 31,
    "start_time": "2022-06-05T13:40:02.765Z"
   },
   {
    "duration": 48,
    "start_time": "2022-06-05T13:40:02.799Z"
   },
   {
    "duration": 4,
    "start_time": "2022-06-05T13:40:02.850Z"
   },
   {
    "duration": 13,
    "start_time": "2022-06-05T13:40:02.856Z"
   },
   {
    "duration": 16,
    "start_time": "2022-06-05T13:40:02.871Z"
   },
   {
    "duration": 4,
    "start_time": "2022-06-05T13:40:02.889Z"
   },
   {
    "duration": 9,
    "start_time": "2022-06-05T13:40:02.895Z"
   },
   {
    "duration": 74,
    "start_time": "2022-06-05T13:40:02.906Z"
   },
   {
    "duration": 770,
    "start_time": "2022-06-05T13:40:02.981Z"
   },
   {
    "duration": 926,
    "start_time": "2022-06-05T13:40:03.754Z"
   },
   {
    "duration": 187,
    "start_time": "2022-06-05T13:40:04.682Z"
   },
   {
    "duration": 1383,
    "start_time": "2022-06-05T13:40:36.793Z"
   },
   {
    "duration": 42,
    "start_time": "2022-06-05T13:40:38.177Z"
   },
   {
    "duration": 10,
    "start_time": "2022-06-05T13:40:38.221Z"
   },
   {
    "duration": 220,
    "start_time": "2022-06-05T13:40:38.232Z"
   },
   {
    "duration": 4,
    "start_time": "2022-06-05T13:40:38.455Z"
   },
   {
    "duration": 17,
    "start_time": "2022-06-05T13:40:38.460Z"
   },
   {
    "duration": 25,
    "start_time": "2022-06-05T13:40:38.479Z"
   },
   {
    "duration": 16,
    "start_time": "2022-06-05T13:40:38.506Z"
   },
   {
    "duration": 346,
    "start_time": "2022-06-05T13:40:38.523Z"
   },
   {
    "duration": 18,
    "start_time": "2022-06-05T13:40:38.871Z"
   },
   {
    "duration": 9,
    "start_time": "2022-06-05T13:40:38.890Z"
   },
   {
    "duration": 13,
    "start_time": "2022-06-05T13:40:38.901Z"
   },
   {
    "duration": 31,
    "start_time": "2022-06-05T13:40:38.915Z"
   },
   {
    "duration": 23,
    "start_time": "2022-06-05T13:40:38.949Z"
   },
   {
    "duration": 13,
    "start_time": "2022-06-05T13:40:38.974Z"
   },
   {
    "duration": 14,
    "start_time": "2022-06-05T13:40:38.989Z"
   },
   {
    "duration": 21,
    "start_time": "2022-06-05T13:40:39.005Z"
   },
   {
    "duration": 26,
    "start_time": "2022-06-05T13:40:39.028Z"
   },
   {
    "duration": 4,
    "start_time": "2022-06-05T13:40:39.056Z"
   },
   {
    "duration": 23,
    "start_time": "2022-06-05T13:40:39.061Z"
   },
   {
    "duration": 49,
    "start_time": "2022-06-05T13:40:39.086Z"
   },
   {
    "duration": 111,
    "start_time": "2022-06-05T13:40:39.137Z"
   },
   {
    "duration": 940,
    "start_time": "2022-06-05T13:40:39.251Z"
   },
   {
    "duration": 191,
    "start_time": "2022-06-05T13:40:40.193Z"
   },
   {
    "duration": 23855,
    "start_time": "2022-06-05T13:40:40.385Z"
   },
   {
    "duration": 6089,
    "start_time": "2022-06-05T13:41:04.248Z"
   },
   {
    "duration": 183,
    "start_time": "2022-06-05T13:41:10.339Z"
   },
   {
    "duration": 20,
    "start_time": "2022-06-05T13:41:10.523Z"
   },
   {
    "duration": 36898,
    "start_time": "2022-06-05T13:41:10.545Z"
   },
   {
    "duration": 11101,
    "start_time": "2022-06-05T13:41:47.446Z"
   },
   {
    "duration": 285,
    "start_time": "2022-06-05T13:41:58.548Z"
   },
   {
    "duration": 13,
    "start_time": "2022-06-05T13:41:58.834Z"
   },
   {
    "duration": 15608,
    "start_time": "2022-06-05T13:41:58.848Z"
   },
   {
    "duration": 3465,
    "start_time": "2022-06-05T13:42:14.460Z"
   },
   {
    "duration": 143,
    "start_time": "2022-06-05T13:42:17.927Z"
   },
   {
    "duration": 151,
    "start_time": "2022-06-05T13:54:41.515Z"
   },
   {
    "duration": 1341,
    "start_time": "2022-06-05T13:55:54.405Z"
   },
   {
    "duration": 45,
    "start_time": "2022-06-05T13:55:55.748Z"
   },
   {
    "duration": 10,
    "start_time": "2022-06-05T13:55:55.794Z"
   },
   {
    "duration": 246,
    "start_time": "2022-06-05T13:55:55.805Z"
   },
   {
    "duration": 3,
    "start_time": "2022-06-05T13:55:56.053Z"
   },
   {
    "duration": 10,
    "start_time": "2022-06-05T13:55:56.058Z"
   },
   {
    "duration": 23,
    "start_time": "2022-06-05T13:55:56.070Z"
   },
   {
    "duration": 8,
    "start_time": "2022-06-05T13:55:56.095Z"
   },
   {
    "duration": 378,
    "start_time": "2022-06-05T13:55:56.105Z"
   },
   {
    "duration": 29,
    "start_time": "2022-06-05T13:55:56.486Z"
   },
   {
    "duration": 31,
    "start_time": "2022-06-05T13:55:56.517Z"
   },
   {
    "duration": 17,
    "start_time": "2022-06-05T13:55:56.550Z"
   },
   {
    "duration": 8,
    "start_time": "2022-06-05T13:55:56.569Z"
   },
   {
    "duration": 20,
    "start_time": "2022-06-05T13:55:56.580Z"
   },
   {
    "duration": 49,
    "start_time": "2022-06-05T13:55:56.602Z"
   },
   {
    "duration": 5,
    "start_time": "2022-06-05T13:55:56.653Z"
   },
   {
    "duration": 17,
    "start_time": "2022-06-05T13:55:56.659Z"
   },
   {
    "duration": 20,
    "start_time": "2022-06-05T13:55:56.678Z"
   },
   {
    "duration": 3,
    "start_time": "2022-06-05T13:55:56.700Z"
   },
   {
    "duration": 17,
    "start_time": "2022-06-05T13:55:56.705Z"
   },
   {
    "duration": 54,
    "start_time": "2022-06-05T13:55:56.723Z"
   },
   {
    "duration": 369,
    "start_time": "2022-06-05T13:55:56.779Z"
   },
   {
    "duration": 1011,
    "start_time": "2022-06-05T13:55:57.152Z"
   },
   {
    "duration": 190,
    "start_time": "2022-06-05T13:55:58.165Z"
   },
   {
    "duration": 23088,
    "start_time": "2022-06-05T13:55:58.357Z"
   },
   {
    "duration": 5963,
    "start_time": "2022-06-05T13:56:21.448Z"
   },
   {
    "duration": 13,
    "start_time": "2022-06-05T13:56:27.413Z"
   },
   {
    "duration": 37113,
    "start_time": "2022-06-05T13:56:27.429Z"
   },
   {
    "duration": 11919,
    "start_time": "2022-06-05T13:57:04.544Z"
   },
   {
    "duration": 372,
    "start_time": "2022-06-05T13:57:16.466Z"
   },
   {
    "duration": 10,
    "start_time": "2022-06-05T13:57:16.841Z"
   },
   {
    "duration": 9691,
    "start_time": "2022-06-05T13:57:16.853Z"
   },
   {
    "duration": 3502,
    "start_time": "2022-06-05T13:57:26.546Z"
   },
   {
    "duration": 91,
    "start_time": "2022-06-05T13:57:30.050Z"
   },
   {
    "duration": 1427,
    "start_time": "2022-06-05T14:00:23.091Z"
   },
   {
    "duration": 42,
    "start_time": "2022-06-05T14:00:24.520Z"
   },
   {
    "duration": 11,
    "start_time": "2022-06-05T14:00:24.564Z"
   },
   {
    "duration": 278,
    "start_time": "2022-06-05T14:00:24.577Z"
   },
   {
    "duration": 5,
    "start_time": "2022-06-05T14:00:24.857Z"
   },
   {
    "duration": 10,
    "start_time": "2022-06-05T14:00:24.864Z"
   },
   {
    "duration": 22,
    "start_time": "2022-06-05T14:00:24.876Z"
   },
   {
    "duration": 10,
    "start_time": "2022-06-05T14:00:24.900Z"
   },
   {
    "duration": 384,
    "start_time": "2022-06-05T14:00:24.912Z"
   },
   {
    "duration": 20,
    "start_time": "2022-06-05T14:00:25.299Z"
   },
   {
    "duration": 25,
    "start_time": "2022-06-05T14:00:25.321Z"
   },
   {
    "duration": 15,
    "start_time": "2022-06-05T14:00:25.349Z"
   },
   {
    "duration": 9,
    "start_time": "2022-06-05T14:00:25.366Z"
   },
   {
    "duration": 22,
    "start_time": "2022-06-05T14:00:25.377Z"
   },
   {
    "duration": 55,
    "start_time": "2022-06-05T14:00:25.401Z"
   },
   {
    "duration": 4,
    "start_time": "2022-06-05T14:00:25.459Z"
   },
   {
    "duration": 9,
    "start_time": "2022-06-05T14:00:25.466Z"
   },
   {
    "duration": 15,
    "start_time": "2022-06-05T14:00:25.476Z"
   },
   {
    "duration": 4,
    "start_time": "2022-06-05T14:00:25.493Z"
   },
   {
    "duration": 43,
    "start_time": "2022-06-05T14:00:25.499Z"
   },
   {
    "duration": 45,
    "start_time": "2022-06-05T14:00:25.545Z"
   },
   {
    "duration": 262,
    "start_time": "2022-06-05T14:00:25.593Z"
   },
   {
    "duration": 1004,
    "start_time": "2022-06-05T14:00:25.948Z"
   },
   {
    "duration": 208,
    "start_time": "2022-06-05T14:00:26.954Z"
   },
   {
    "duration": 24983,
    "start_time": "2022-06-05T14:00:27.164Z"
   },
   {
    "duration": 6487,
    "start_time": "2022-06-05T14:00:52.149Z"
   },
   {
    "duration": 13,
    "start_time": "2022-06-05T14:00:58.641Z"
   },
   {
    "duration": 39387,
    "start_time": "2022-06-05T14:00:58.659Z"
   },
   {
    "duration": 10980,
    "start_time": "2022-06-05T14:01:38.048Z"
   },
   {
    "duration": 288,
    "start_time": "2022-06-05T14:01:49.030Z"
   },
   {
    "duration": 11,
    "start_time": "2022-06-05T14:01:49.319Z"
   },
   {
    "duration": 19511,
    "start_time": "2022-06-05T14:01:49.332Z"
   },
   {
    "duration": 3341,
    "start_time": "2022-06-05T14:02:08.845Z"
   },
   {
    "duration": 86,
    "start_time": "2022-06-05T14:02:12.188Z"
   },
   {
    "duration": 133,
    "start_time": "2022-06-05T14:02:12.275Z"
   },
   {
    "duration": 0,
    "start_time": "2022-06-05T14:02:12.410Z"
   },
   {
    "duration": 0,
    "start_time": "2022-06-05T14:02:12.411Z"
   },
   {
    "duration": 0,
    "start_time": "2022-06-05T14:02:12.412Z"
   },
   {
    "duration": 0,
    "start_time": "2022-06-05T14:02:12.413Z"
   },
   {
    "duration": 0,
    "start_time": "2022-06-05T14:02:12.414Z"
   },
   {
    "duration": 1387,
    "start_time": "2022-06-05T14:02:40.038Z"
   },
   {
    "duration": 42,
    "start_time": "2022-06-05T14:02:41.427Z"
   },
   {
    "duration": 10,
    "start_time": "2022-06-05T14:02:41.470Z"
   },
   {
    "duration": 260,
    "start_time": "2022-06-05T14:02:41.482Z"
   },
   {
    "duration": 5,
    "start_time": "2022-06-05T14:02:41.744Z"
   },
   {
    "duration": 9,
    "start_time": "2022-06-05T14:02:41.751Z"
   },
   {
    "duration": 25,
    "start_time": "2022-06-05T14:02:41.763Z"
   },
   {
    "duration": 7,
    "start_time": "2022-06-05T14:02:41.790Z"
   },
   {
    "duration": 384,
    "start_time": "2022-06-05T14:02:41.798Z"
   },
   {
    "duration": 17,
    "start_time": "2022-06-05T14:02:42.184Z"
   },
   {
    "duration": 9,
    "start_time": "2022-06-05T14:02:42.202Z"
   },
   {
    "duration": 37,
    "start_time": "2022-06-05T14:02:42.212Z"
   },
   {
    "duration": 7,
    "start_time": "2022-06-05T14:02:42.251Z"
   },
   {
    "duration": 27,
    "start_time": "2022-06-05T14:02:42.263Z"
   },
   {
    "duration": 14,
    "start_time": "2022-06-05T14:02:42.291Z"
   },
   {
    "duration": 4,
    "start_time": "2022-06-05T14:02:42.306Z"
   },
   {
    "duration": 34,
    "start_time": "2022-06-05T14:02:42.311Z"
   },
   {
    "duration": 14,
    "start_time": "2022-06-05T14:02:42.346Z"
   },
   {
    "duration": 3,
    "start_time": "2022-06-05T14:02:42.362Z"
   },
   {
    "duration": 26,
    "start_time": "2022-06-05T14:02:42.367Z"
   },
   {
    "duration": 67,
    "start_time": "2022-06-05T14:02:42.396Z"
   },
   {
    "duration": 385,
    "start_time": "2022-06-05T14:02:42.466Z"
   },
   {
    "duration": 956,
    "start_time": "2022-06-05T14:02:42.854Z"
   },
   {
    "duration": 199,
    "start_time": "2022-06-05T14:02:43.811Z"
   },
   {
    "duration": 23237,
    "start_time": "2022-06-05T14:02:44.012Z"
   },
   {
    "duration": 6152,
    "start_time": "2022-06-05T14:03:07.251Z"
   },
   {
    "duration": 12,
    "start_time": "2022-06-05T14:03:13.405Z"
   },
   {
    "duration": 39428,
    "start_time": "2022-06-05T14:03:13.419Z"
   },
   {
    "duration": 11323,
    "start_time": "2022-06-05T14:03:52.849Z"
   },
   {
    "duration": 293,
    "start_time": "2022-06-05T14:04:04.174Z"
   },
   {
    "duration": 11,
    "start_time": "2022-06-05T14:04:04.469Z"
   },
   {
    "duration": 14767,
    "start_time": "2022-06-05T14:04:04.482Z"
   },
   {
    "duration": 3487,
    "start_time": "2022-06-05T14:04:19.251Z"
   },
   {
    "duration": 84,
    "start_time": "2022-06-05T14:04:22.741Z"
   },
   {
    "duration": 21,
    "start_time": "2022-06-05T14:04:22.827Z"
   },
   {
    "duration": 311,
    "start_time": "2022-06-05T14:04:22.850Z"
   },
   {
    "duration": 23,
    "start_time": "2022-06-05T14:04:23.163Z"
   },
   {
    "duration": 8,
    "start_time": "2022-06-05T14:04:23.188Z"
   },
   {
    "duration": 9,
    "start_time": "2022-06-05T14:04:23.198Z"
   },
   {
    "duration": 155,
    "start_time": "2022-06-05T14:04:23.208Z"
   },
   {
    "duration": 1279,
    "start_time": "2022-06-05T14:23:10.555Z"
   },
   {
    "duration": 41,
    "start_time": "2022-06-05T14:23:11.836Z"
   },
   {
    "duration": 8,
    "start_time": "2022-06-05T14:23:11.879Z"
   },
   {
    "duration": 203,
    "start_time": "2022-06-05T14:23:11.890Z"
   },
   {
    "duration": 4,
    "start_time": "2022-06-05T14:23:12.094Z"
   },
   {
    "duration": 8,
    "start_time": "2022-06-05T14:23:12.100Z"
   },
   {
    "duration": 40,
    "start_time": "2022-06-05T14:23:12.109Z"
   },
   {
    "duration": 28,
    "start_time": "2022-06-05T14:23:12.151Z"
   },
   {
    "duration": 469,
    "start_time": "2022-06-05T14:23:12.181Z"
   },
   {
    "duration": 5,
    "start_time": "2022-06-05T14:23:12.654Z"
   },
   {
    "duration": 24,
    "start_time": "2022-06-05T14:23:12.661Z"
   },
   {
    "duration": 21,
    "start_time": "2022-06-05T14:23:12.688Z"
   },
   {
    "duration": 31,
    "start_time": "2022-06-05T14:23:12.711Z"
   },
   {
    "duration": 29,
    "start_time": "2022-06-05T14:23:12.745Z"
   },
   {
    "duration": 15,
    "start_time": "2022-06-05T14:23:12.776Z"
   },
   {
    "duration": 15,
    "start_time": "2022-06-05T14:23:12.793Z"
   },
   {
    "duration": 23,
    "start_time": "2022-06-05T14:23:12.810Z"
   },
   {
    "duration": 32,
    "start_time": "2022-06-05T14:23:12.834Z"
   },
   {
    "duration": 3,
    "start_time": "2022-06-05T14:23:12.868Z"
   },
   {
    "duration": 19,
    "start_time": "2022-06-05T14:23:12.873Z"
   },
   {
    "duration": 51,
    "start_time": "2022-06-05T14:23:12.894Z"
   },
   {
    "duration": 402,
    "start_time": "2022-06-05T14:23:12.946Z"
   },
   {
    "duration": 874,
    "start_time": "2022-06-05T14:23:13.350Z"
   },
   {
    "duration": 170,
    "start_time": "2022-06-05T14:23:14.226Z"
   },
   {
    "duration": 26853,
    "start_time": "2022-06-05T14:23:14.397Z"
   },
   {
    "duration": 5394,
    "start_time": "2022-06-05T14:23:41.342Z"
   },
   {
    "duration": 11,
    "start_time": "2022-06-05T14:23:46.740Z"
   },
   {
    "duration": 39488,
    "start_time": "2022-06-05T14:23:46.755Z"
   },
   {
    "duration": 10258,
    "start_time": "2022-06-05T14:24:26.245Z"
   },
   {
    "duration": 294,
    "start_time": "2022-06-05T14:24:36.504Z"
   },
   {
    "duration": 9,
    "start_time": "2022-06-05T14:24:36.799Z"
   },
   {
    "duration": 16834,
    "start_time": "2022-06-05T14:24:36.809Z"
   },
   {
    "duration": 3157,
    "start_time": "2022-06-05T14:24:53.646Z"
   },
   {
    "duration": 86,
    "start_time": "2022-06-05T14:24:56.804Z"
   },
   {
    "duration": 7,
    "start_time": "2022-06-05T14:24:56.892Z"
   },
   {
    "duration": 301,
    "start_time": "2022-06-05T14:24:56.901Z"
   },
   {
    "duration": 21,
    "start_time": "2022-06-05T14:24:57.203Z"
   },
   {
    "duration": 17,
    "start_time": "2022-06-05T14:24:57.225Z"
   },
   {
    "duration": 4,
    "start_time": "2022-06-05T14:24:57.244Z"
   },
   {
    "duration": 177,
    "start_time": "2022-06-05T14:24:57.249Z"
   },
   {
    "duration": 1246,
    "start_time": "2022-06-05T14:27:29.991Z"
   },
   {
    "duration": 42,
    "start_time": "2022-06-05T14:27:31.240Z"
   },
   {
    "duration": 9,
    "start_time": "2022-06-05T14:27:31.284Z"
   },
   {
    "duration": 212,
    "start_time": "2022-06-05T14:27:31.294Z"
   },
   {
    "duration": 4,
    "start_time": "2022-06-05T14:27:31.508Z"
   },
   {
    "duration": 34,
    "start_time": "2022-06-05T14:27:31.513Z"
   },
   {
    "duration": 15,
    "start_time": "2022-06-05T14:27:31.549Z"
   },
   {
    "duration": 32,
    "start_time": "2022-06-05T14:27:31.566Z"
   },
   {
    "duration": 431,
    "start_time": "2022-06-05T14:27:31.600Z"
   },
   {
    "duration": 10,
    "start_time": "2022-06-05T14:27:32.040Z"
   },
   {
    "duration": 15,
    "start_time": "2022-06-05T14:27:32.052Z"
   },
   {
    "duration": 5,
    "start_time": "2022-06-05T14:27:32.069Z"
   },
   {
    "duration": 8,
    "start_time": "2022-06-05T14:27:32.076Z"
   },
   {
    "duration": 20,
    "start_time": "2022-06-05T14:27:32.086Z"
   },
   {
    "duration": 45,
    "start_time": "2022-06-05T14:27:32.108Z"
   },
   {
    "duration": 4,
    "start_time": "2022-06-05T14:27:32.154Z"
   },
   {
    "duration": 9,
    "start_time": "2022-06-05T14:27:32.160Z"
   },
   {
    "duration": 14,
    "start_time": "2022-06-05T14:27:32.170Z"
   },
   {
    "duration": 3,
    "start_time": "2022-06-05T14:27:32.186Z"
   },
   {
    "duration": 9,
    "start_time": "2022-06-05T14:27:32.190Z"
   },
   {
    "duration": 70,
    "start_time": "2022-06-05T14:27:32.201Z"
   },
   {
    "duration": 170,
    "start_time": "2022-06-05T14:27:32.273Z"
   },
   {
    "duration": 850,
    "start_time": "2022-06-05T14:27:32.445Z"
   },
   {
    "duration": 175,
    "start_time": "2022-06-05T14:27:33.297Z"
   },
   {
    "duration": 28170,
    "start_time": "2022-06-05T14:27:33.473Z"
   },
   {
    "duration": 5595,
    "start_time": "2022-06-05T14:28:01.645Z"
   },
   {
    "duration": 10,
    "start_time": "2022-06-05T14:28:07.241Z"
   },
   {
    "duration": 38489,
    "start_time": "2022-06-05T14:28:07.254Z"
   },
   {
    "duration": 10442,
    "start_time": "2022-06-05T14:28:45.745Z"
   },
   {
    "duration": 269,
    "start_time": "2022-06-05T14:28:56.189Z"
   },
   {
    "duration": 13,
    "start_time": "2022-06-05T14:28:56.460Z"
   },
   {
    "duration": 17167,
    "start_time": "2022-06-05T14:28:56.475Z"
   },
   {
    "duration": 3136,
    "start_time": "2022-06-05T14:29:13.644Z"
   },
   {
    "duration": 84,
    "start_time": "2022-06-05T14:29:16.782Z"
   },
   {
    "duration": 8,
    "start_time": "2022-06-05T14:29:16.868Z"
   },
   {
    "duration": 290,
    "start_time": "2022-06-05T14:29:16.877Z"
   },
   {
    "duration": 20,
    "start_time": "2022-06-05T14:29:17.169Z"
   },
   {
    "duration": 7,
    "start_time": "2022-06-05T14:29:17.190Z"
   },
   {
    "duration": 3,
    "start_time": "2022-06-05T14:29:17.199Z"
   },
   {
    "duration": 194,
    "start_time": "2022-06-05T14:29:17.204Z"
   },
   {
    "duration": 629,
    "start_time": "2022-06-05T14:41:31.157Z"
   },
   {
    "duration": 44,
    "start_time": "2022-06-05T14:47:15.751Z"
   },
   {
    "duration": 1368,
    "start_time": "2022-06-05T14:57:00.864Z"
   },
   {
    "duration": 42,
    "start_time": "2022-06-05T14:57:02.234Z"
   },
   {
    "duration": 9,
    "start_time": "2022-06-05T14:57:02.279Z"
   },
   {
    "duration": 256,
    "start_time": "2022-06-05T14:57:02.290Z"
   },
   {
    "duration": 3,
    "start_time": "2022-06-05T14:57:02.548Z"
   },
   {
    "duration": 15,
    "start_time": "2022-06-05T14:57:02.554Z"
   },
   {
    "duration": 23,
    "start_time": "2022-06-05T14:57:02.575Z"
   },
   {
    "duration": 47,
    "start_time": "2022-06-05T14:57:02.600Z"
   },
   {
    "duration": 431,
    "start_time": "2022-06-05T14:57:02.650Z"
   },
   {
    "duration": 10,
    "start_time": "2022-06-05T14:57:03.085Z"
   },
   {
    "duration": 15,
    "start_time": "2022-06-05T14:57:03.097Z"
   },
   {
    "duration": 28,
    "start_time": "2022-06-05T14:57:03.115Z"
   },
   {
    "duration": 7,
    "start_time": "2022-06-05T14:57:03.145Z"
   },
   {
    "duration": 10,
    "start_time": "2022-06-05T14:57:03.154Z"
   },
   {
    "duration": 241,
    "start_time": "2022-06-05T14:57:03.166Z"
   },
   {
    "duration": 4,
    "start_time": "2022-06-05T14:57:03.409Z"
   },
   {
    "duration": 593,
    "start_time": "2022-06-05T14:57:03.415Z"
   },
   {
    "duration": 229,
    "start_time": "2022-06-05T14:57:04.010Z"
   },
   {
    "duration": 4,
    "start_time": "2022-06-05T14:57:04.241Z"
   },
   {
    "duration": 17,
    "start_time": "2022-06-05T14:57:04.247Z"
   },
   {
    "duration": 761,
    "start_time": "2022-06-05T14:57:04.267Z"
   },
   {
    "duration": 12,
    "start_time": "2022-06-05T14:57:05.030Z"
   },
   {
    "duration": 22,
    "start_time": "2022-06-05T14:57:05.046Z"
   },
   {
    "duration": 888,
    "start_time": "2022-06-05T14:57:05.071Z"
   },
   {
    "duration": 7613,
    "start_time": "2022-06-05T14:57:05.961Z"
   },
   {
    "duration": 8311,
    "start_time": "2022-06-05T14:57:13.580Z"
   },
   {
    "duration": 2603,
    "start_time": "2022-06-05T14:57:21.893Z"
   },
   {
    "duration": 1341,
    "start_time": "2022-06-05T14:59:23.703Z"
   },
   {
    "duration": 42,
    "start_time": "2022-06-05T14:59:25.046Z"
   },
   {
    "duration": 9,
    "start_time": "2022-06-05T14:59:25.090Z"
   },
   {
    "duration": 186,
    "start_time": "2022-06-05T14:59:25.101Z"
   },
   {
    "duration": 4,
    "start_time": "2022-06-05T14:59:25.289Z"
   },
   {
    "duration": 8,
    "start_time": "2022-06-05T14:59:25.294Z"
   },
   {
    "duration": 37,
    "start_time": "2022-06-05T14:59:25.304Z"
   },
   {
    "duration": 19,
    "start_time": "2022-06-05T14:59:25.343Z"
   },
   {
    "duration": 408,
    "start_time": "2022-06-05T14:59:25.364Z"
   },
   {
    "duration": 9,
    "start_time": "2022-06-05T14:59:25.774Z"
   },
   {
    "duration": 15,
    "start_time": "2022-06-05T14:59:25.785Z"
   },
   {
    "duration": 6,
    "start_time": "2022-06-05T14:59:25.801Z"
   },
   {
    "duration": 38,
    "start_time": "2022-06-05T14:59:25.808Z"
   },
   {
    "duration": 8,
    "start_time": "2022-06-05T14:59:25.851Z"
   },
   {
    "duration": 13,
    "start_time": "2022-06-05T14:59:25.861Z"
   },
   {
    "duration": 20,
    "start_time": "2022-06-05T14:59:25.876Z"
   },
   {
    "duration": 654,
    "start_time": "2022-06-05T14:59:25.898Z"
   },
   {
    "duration": 13,
    "start_time": "2022-06-05T14:59:26.554Z"
   },
   {
    "duration": 3,
    "start_time": "2022-06-05T14:59:26.569Z"
   },
   {
    "duration": 9,
    "start_time": "2022-06-05T14:59:26.573Z"
   },
   {
    "duration": 12,
    "start_time": "2022-06-05T14:59:26.584Z"
   },
   {
    "duration": 4,
    "start_time": "2022-06-05T14:59:26.598Z"
   },
   {
    "duration": 40,
    "start_time": "2022-06-05T14:59:26.604Z"
   },
   {
    "duration": 37,
    "start_time": "2022-06-05T14:59:26.646Z"
   },
   {
    "duration": 158,
    "start_time": "2022-06-05T14:59:26.685Z"
   },
   {
    "duration": 874,
    "start_time": "2022-06-05T14:59:26.847Z"
   },
   {
    "duration": 248,
    "start_time": "2022-06-05T14:59:27.722Z"
   },
   {
    "duration": 26472,
    "start_time": "2022-06-05T14:59:27.972Z"
   },
   {
    "duration": 5819,
    "start_time": "2022-06-05T14:59:54.446Z"
   },
   {
    "duration": 11,
    "start_time": "2022-06-05T15:00:00.267Z"
   },
   {
    "duration": 37974,
    "start_time": "2022-06-05T15:00:00.280Z"
   },
   {
    "duration": 10561,
    "start_time": "2022-06-05T15:00:38.256Z"
   },
   {
    "duration": 272,
    "start_time": "2022-06-05T15:00:48.819Z"
   },
   {
    "duration": 10,
    "start_time": "2022-06-05T15:00:49.093Z"
   },
   {
    "duration": 14442,
    "start_time": "2022-06-05T15:00:49.105Z"
   },
   {
    "duration": 3244,
    "start_time": "2022-06-05T15:01:03.549Z"
   },
   {
    "duration": 81,
    "start_time": "2022-06-05T15:01:06.795Z"
   },
   {
    "duration": 8,
    "start_time": "2022-06-05T15:01:06.878Z"
   },
   {
    "duration": 289,
    "start_time": "2022-06-05T15:01:06.887Z"
   },
   {
    "duration": 21,
    "start_time": "2022-06-05T15:01:07.177Z"
   },
   {
    "duration": 6,
    "start_time": "2022-06-05T15:01:07.201Z"
   },
   {
    "duration": 3,
    "start_time": "2022-06-05T15:01:07.209Z"
   },
   {
    "duration": 179,
    "start_time": "2022-06-05T15:01:07.213Z"
   },
   {
    "duration": 563,
    "start_time": "2022-06-05T15:03:20.351Z"
   },
   {
    "duration": 1388,
    "start_time": "2022-06-05T15:04:16.915Z"
   },
   {
    "duration": 50,
    "start_time": "2022-06-05T15:04:18.305Z"
   },
   {
    "duration": 13,
    "start_time": "2022-06-05T15:04:18.357Z"
   },
   {
    "duration": 222,
    "start_time": "2022-06-05T15:04:18.373Z"
   },
   {
    "duration": 5,
    "start_time": "2022-06-05T15:04:18.597Z"
   },
   {
    "duration": 15,
    "start_time": "2022-06-05T15:04:18.604Z"
   },
   {
    "duration": 15,
    "start_time": "2022-06-05T15:04:18.642Z"
   },
   {
    "duration": 26,
    "start_time": "2022-06-05T15:04:18.659Z"
   },
   {
    "duration": 422,
    "start_time": "2022-06-05T15:04:18.687Z"
   },
   {
    "duration": 10,
    "start_time": "2022-06-05T15:04:19.111Z"
   },
   {
    "duration": 28,
    "start_time": "2022-06-05T15:04:19.122Z"
   },
   {
    "duration": 6,
    "start_time": "2022-06-05T15:04:19.151Z"
   },
   {
    "duration": 8,
    "start_time": "2022-06-05T15:04:19.159Z"
   },
   {
    "duration": 8,
    "start_time": "2022-06-05T15:04:19.168Z"
   },
   {
    "duration": 8,
    "start_time": "2022-06-05T15:04:19.178Z"
   },
   {
    "duration": 22,
    "start_time": "2022-06-05T15:04:19.188Z"
   },
   {
    "duration": 573,
    "start_time": "2022-06-05T15:04:19.241Z"
   },
   {
    "duration": 552,
    "start_time": "2022-06-05T15:04:19.816Z"
   },
   {
    "duration": 12,
    "start_time": "2022-06-05T15:04:20.370Z"
   },
   {
    "duration": 3,
    "start_time": "2022-06-05T15:04:20.384Z"
   },
   {
    "duration": 8,
    "start_time": "2022-06-05T15:04:20.388Z"
   },
   {
    "duration": 15,
    "start_time": "2022-06-05T15:04:20.398Z"
   },
   {
    "duration": 3,
    "start_time": "2022-06-05T15:04:20.441Z"
   },
   {
    "duration": 9,
    "start_time": "2022-06-05T15:04:20.446Z"
   },
   {
    "duration": 39,
    "start_time": "2022-06-05T15:04:20.457Z"
   },
   {
    "duration": 258,
    "start_time": "2022-06-05T15:04:20.497Z"
   },
   {
    "duration": 858,
    "start_time": "2022-06-05T15:04:20.842Z"
   },
   {
    "duration": 208,
    "start_time": "2022-06-05T15:04:21.705Z"
   },
   {
    "duration": 21327,
    "start_time": "2022-06-05T15:04:21.915Z"
   },
   {
    "duration": 5731,
    "start_time": "2022-06-05T15:04:43.244Z"
   },
   {
    "duration": 12,
    "start_time": "2022-06-05T15:04:48.977Z"
   },
   {
    "duration": 37753,
    "start_time": "2022-06-05T15:04:48.990Z"
   },
   {
    "duration": 10769,
    "start_time": "2022-06-05T15:05:26.746Z"
   },
   {
    "duration": 282,
    "start_time": "2022-06-05T15:05:37.517Z"
   },
   {
    "duration": 26,
    "start_time": "2022-06-05T15:05:37.801Z"
   },
   {
    "duration": 16822,
    "start_time": "2022-06-05T15:05:37.829Z"
   },
   {
    "duration": 3133,
    "start_time": "2022-06-05T15:05:54.742Z"
   },
   {
    "duration": 104,
    "start_time": "2022-06-05T15:05:57.877Z"
   },
   {
    "duration": 12,
    "start_time": "2022-06-05T15:05:57.983Z"
   },
   {
    "duration": 317,
    "start_time": "2022-06-05T15:05:57.997Z"
   },
   {
    "duration": 26,
    "start_time": "2022-06-05T15:05:58.316Z"
   },
   {
    "duration": 7,
    "start_time": "2022-06-05T15:05:58.344Z"
   },
   {
    "duration": 7,
    "start_time": "2022-06-05T15:05:58.353Z"
   },
   {
    "duration": 181,
    "start_time": "2022-06-05T15:05:58.362Z"
   },
   {
    "duration": 327,
    "start_time": "2022-06-05T15:24:26.146Z"
   },
   {
    "duration": 272,
    "start_time": "2022-06-05T15:26:51.060Z"
   },
   {
    "duration": 562,
    "start_time": "2022-06-05T15:27:51.937Z"
   },
   {
    "duration": 26456,
    "start_time": "2022-06-05T15:29:17.737Z"
   },
   {
    "duration": 1332,
    "start_time": "2022-06-05T15:30:31.866Z"
   },
   {
    "duration": 43,
    "start_time": "2022-06-05T15:30:33.199Z"
   },
   {
    "duration": 13,
    "start_time": "2022-06-05T15:30:33.244Z"
   },
   {
    "duration": 209,
    "start_time": "2022-06-05T15:30:33.260Z"
   },
   {
    "duration": 4,
    "start_time": "2022-06-05T15:30:33.470Z"
   },
   {
    "duration": 7,
    "start_time": "2022-06-05T15:30:33.475Z"
   },
   {
    "duration": 16,
    "start_time": "2022-06-05T15:30:33.483Z"
   },
   {
    "duration": 18,
    "start_time": "2022-06-05T15:30:33.501Z"
   },
   {
    "duration": 390,
    "start_time": "2022-06-05T15:30:33.521Z"
   },
   {
    "duration": 11,
    "start_time": "2022-06-05T15:30:33.914Z"
   },
   {
    "duration": 24,
    "start_time": "2022-06-05T15:30:33.927Z"
   },
   {
    "duration": 6,
    "start_time": "2022-06-05T15:30:33.953Z"
   },
   {
    "duration": 9,
    "start_time": "2022-06-05T15:30:33.960Z"
   },
   {
    "duration": 6,
    "start_time": "2022-06-05T15:30:33.970Z"
   },
   {
    "duration": 8,
    "start_time": "2022-06-05T15:30:33.978Z"
   },
   {
    "duration": 21,
    "start_time": "2022-06-05T15:30:33.988Z"
   },
   {
    "duration": 641,
    "start_time": "2022-06-05T15:30:34.011Z"
   },
   {
    "duration": 516,
    "start_time": "2022-06-05T15:30:34.654Z"
   },
   {
    "duration": 341,
    "start_time": "2022-06-05T15:30:35.172Z"
   },
   {
    "duration": 290,
    "start_time": "2022-06-05T15:30:35.514Z"
   },
   {
    "duration": 524,
    "start_time": "2022-06-05T15:30:35.806Z"
   },
   {
    "duration": 462,
    "start_time": "2022-06-05T15:30:36.332Z"
   },
   {
    "duration": 19,
    "start_time": "2022-06-05T15:30:36.796Z"
   },
   {
    "duration": 4,
    "start_time": "2022-06-05T15:30:36.817Z"
   },
   {
    "duration": 22,
    "start_time": "2022-06-05T15:30:36.823Z"
   },
   {
    "duration": 12,
    "start_time": "2022-06-05T15:30:36.847Z"
   },
   {
    "duration": 4,
    "start_time": "2022-06-05T15:30:36.860Z"
   },
   {
    "duration": 9,
    "start_time": "2022-06-05T15:30:36.867Z"
   },
   {
    "duration": 37,
    "start_time": "2022-06-05T15:30:36.878Z"
   },
   {
    "duration": 102,
    "start_time": "2022-06-05T15:30:36.941Z"
   },
   {
    "duration": 889,
    "start_time": "2022-06-05T15:30:37.045Z"
   },
   {
    "duration": 218,
    "start_time": "2022-06-05T15:30:37.936Z"
   },
   {
    "duration": 24787,
    "start_time": "2022-06-05T15:30:38.156Z"
   },
   {
    "duration": 5815,
    "start_time": "2022-06-05T15:31:02.945Z"
   },
   {
    "duration": 10,
    "start_time": "2022-06-05T15:31:08.761Z"
   },
   {
    "duration": 38073,
    "start_time": "2022-06-05T15:31:08.773Z"
   },
   {
    "duration": 10280,
    "start_time": "2022-06-05T15:31:46.849Z"
   },
   {
    "duration": 273,
    "start_time": "2022-06-05T15:31:57.131Z"
   },
   {
    "duration": 9,
    "start_time": "2022-06-05T15:31:57.406Z"
   },
   {
    "duration": 19225,
    "start_time": "2022-06-05T15:31:57.417Z"
   },
   {
    "duration": 3062,
    "start_time": "2022-06-05T15:32:16.644Z"
   },
   {
    "duration": 91,
    "start_time": "2022-06-05T15:32:19.707Z"
   },
   {
    "duration": 9,
    "start_time": "2022-06-05T15:32:19.800Z"
   },
   {
    "duration": 301,
    "start_time": "2022-06-05T15:32:19.811Z"
   },
   {
    "duration": 32,
    "start_time": "2022-06-05T15:32:20.113Z"
   },
   {
    "duration": 6,
    "start_time": "2022-06-05T15:32:20.147Z"
   },
   {
    "duration": 12,
    "start_time": "2022-06-05T15:32:20.154Z"
   },
   {
    "duration": 162,
    "start_time": "2022-06-05T15:32:20.168Z"
   },
   {
    "duration": 535,
    "start_time": "2022-06-05T15:32:20.344Z"
   },
   {
    "duration": 238,
    "start_time": "2022-06-05T15:35:23.194Z"
   },
   {
    "duration": 289,
    "start_time": "2022-06-05T15:35:34.054Z"
   },
   {
    "duration": 190,
    "start_time": "2022-06-05T15:35:46.582Z"
   },
   {
    "duration": 145,
    "start_time": "2022-06-05T15:36:28.140Z"
   },
   {
    "duration": 12,
    "start_time": "2022-06-05T15:38:29.511Z"
   },
   {
    "duration": 57,
    "start_time": "2022-06-05T16:11:54.953Z"
   },
   {
    "duration": 467,
    "start_time": "2022-06-05T16:18:17.458Z"
   },
   {
    "duration": 1435,
    "start_time": "2022-06-05T16:19:28.396Z"
   },
   {
    "duration": 52,
    "start_time": "2022-06-05T16:19:29.833Z"
   },
   {
    "duration": 16,
    "start_time": "2022-06-05T16:19:29.887Z"
   },
   {
    "duration": 263,
    "start_time": "2022-06-05T16:19:29.906Z"
   },
   {
    "duration": 8,
    "start_time": "2022-06-05T16:19:30.171Z"
   },
   {
    "duration": 32,
    "start_time": "2022-06-05T16:19:30.181Z"
   },
   {
    "duration": 34,
    "start_time": "2022-06-05T16:19:30.215Z"
   },
   {
    "duration": 44,
    "start_time": "2022-06-05T16:19:30.252Z"
   },
   {
    "duration": 445,
    "start_time": "2022-06-05T16:19:30.299Z"
   },
   {
    "duration": 15,
    "start_time": "2022-06-05T16:19:30.748Z"
   },
   {
    "duration": 15,
    "start_time": "2022-06-05T16:19:30.765Z"
   },
   {
    "duration": 7,
    "start_time": "2022-06-05T16:19:30.782Z"
   },
   {
    "duration": 5,
    "start_time": "2022-06-05T16:19:30.790Z"
   },
   {
    "duration": 12,
    "start_time": "2022-06-05T16:19:30.797Z"
   },
   {
    "duration": 29,
    "start_time": "2022-06-05T16:19:30.841Z"
   },
   {
    "duration": 30,
    "start_time": "2022-06-05T16:19:30.872Z"
   },
   {
    "duration": 636,
    "start_time": "2022-06-05T16:19:30.904Z"
   },
   {
    "duration": 651,
    "start_time": "2022-06-05T16:19:31.542Z"
   },
   {
    "duration": 371,
    "start_time": "2022-06-05T16:19:32.195Z"
   },
   {
    "duration": 316,
    "start_time": "2022-06-05T16:19:32.567Z"
   },
   {
    "duration": 564,
    "start_time": "2022-06-05T16:19:32.885Z"
   },
   {
    "duration": 729,
    "start_time": "2022-06-05T16:19:33.451Z"
   },
   {
    "duration": 188,
    "start_time": "2022-06-05T16:19:34.181Z"
   },
   {
    "duration": 10,
    "start_time": "2022-06-05T16:19:34.371Z"
   },
   {
    "duration": 5,
    "start_time": "2022-06-05T16:19:34.382Z"
   },
   {
    "duration": 9,
    "start_time": "2022-06-05T16:19:34.388Z"
   },
   {
    "duration": 10,
    "start_time": "2022-06-05T16:19:34.398Z"
   },
   {
    "duration": 37,
    "start_time": "2022-06-05T16:19:34.412Z"
   },
   {
    "duration": 5,
    "start_time": "2022-06-05T16:19:34.452Z"
   },
   {
    "duration": 9,
    "start_time": "2022-06-05T16:19:34.459Z"
   },
   {
    "duration": 44,
    "start_time": "2022-06-05T16:19:34.469Z"
   },
   {
    "duration": 151,
    "start_time": "2022-06-05T16:19:34.515Z"
   },
   {
    "duration": 1094,
    "start_time": "2022-06-05T16:19:34.669Z"
   },
   {
    "duration": 197,
    "start_time": "2022-06-05T16:19:35.765Z"
   },
   {
    "duration": 19579,
    "start_time": "2022-06-05T16:19:35.964Z"
   },
   {
    "duration": 7798,
    "start_time": "2022-06-05T16:19:55.552Z"
   },
   {
    "duration": 19,
    "start_time": "2022-06-05T16:20:03.352Z"
   },
   {
    "duration": 419,
    "start_time": "2022-06-05T16:20:03.373Z"
   },
   {
    "duration": 34958,
    "start_time": "2022-06-05T16:20:03.796Z"
   },
   {
    "duration": 14000,
    "start_time": "2022-06-05T16:20:38.756Z"
   },
   {
    "duration": 14,
    "start_time": "2022-06-05T16:20:52.757Z"
   },
   {
    "duration": 117,
    "start_time": "2022-06-05T16:20:52.773Z"
   },
   {
    "duration": 11855,
    "start_time": "2022-06-05T16:20:52.892Z"
   },
   {
    "duration": 3787,
    "start_time": "2022-06-05T16:21:04.751Z"
   },
   {
    "duration": 14,
    "start_time": "2022-06-05T16:21:08.541Z"
   },
   {
    "duration": 355,
    "start_time": "2022-06-05T16:21:08.563Z"
   },
   {
    "duration": 39,
    "start_time": "2022-06-05T16:21:08.921Z"
   },
   {
    "duration": 11,
    "start_time": "2022-06-05T16:21:08.962Z"
   },
   {
    "duration": 5,
    "start_time": "2022-06-05T16:21:08.975Z"
   },
   {
    "duration": 229,
    "start_time": "2022-06-05T16:21:08.982Z"
   },
   {
    "duration": 1321,
    "start_time": "2022-06-05T17:23:51.860Z"
   },
   {
    "duration": 41,
    "start_time": "2022-06-05T17:23:53.183Z"
   },
   {
    "duration": 14,
    "start_time": "2022-06-05T17:23:53.226Z"
   },
   {
    "duration": 228,
    "start_time": "2022-06-05T17:23:53.243Z"
   },
   {
    "duration": 4,
    "start_time": "2022-06-05T17:23:53.473Z"
   },
   {
    "duration": 12,
    "start_time": "2022-06-05T17:23:53.478Z"
   },
   {
    "duration": 15,
    "start_time": "2022-06-05T17:23:53.492Z"
   },
   {
    "duration": 41,
    "start_time": "2022-06-05T17:23:53.509Z"
   },
   {
    "duration": 396,
    "start_time": "2022-06-05T17:23:53.552Z"
   },
   {
    "duration": 12,
    "start_time": "2022-06-05T17:23:53.952Z"
   },
   {
    "duration": 23,
    "start_time": "2022-06-05T17:23:53.966Z"
   },
   {
    "duration": 12,
    "start_time": "2022-06-05T17:23:53.991Z"
   },
   {
    "duration": 13,
    "start_time": "2022-06-05T17:23:54.005Z"
   },
   {
    "duration": 41,
    "start_time": "2022-06-05T17:23:54.020Z"
   },
   {
    "duration": 47,
    "start_time": "2022-06-05T17:23:54.063Z"
   },
   {
    "duration": 41,
    "start_time": "2022-06-05T17:23:54.111Z"
   },
   {
    "duration": 557,
    "start_time": "2022-06-05T17:23:54.153Z"
   },
   {
    "duration": 564,
    "start_time": "2022-06-05T17:23:54.712Z"
   },
   {
    "duration": 335,
    "start_time": "2022-06-05T17:23:55.277Z"
   },
   {
    "duration": 295,
    "start_time": "2022-06-05T17:23:55.614Z"
   },
   {
    "duration": 545,
    "start_time": "2022-06-05T17:23:55.910Z"
   },
   {
    "duration": 689,
    "start_time": "2022-06-05T17:23:56.457Z"
   },
   {
    "duration": 214,
    "start_time": "2022-06-05T17:23:57.149Z"
   },
   {
    "duration": 17,
    "start_time": "2022-06-05T17:23:57.365Z"
   },
   {
    "duration": 10,
    "start_time": "2022-06-05T17:23:57.385Z"
   },
   {
    "duration": 31,
    "start_time": "2022-06-05T17:23:57.397Z"
   },
   {
    "duration": 39,
    "start_time": "2022-06-05T17:23:57.430Z"
   },
   {
    "duration": 17,
    "start_time": "2022-06-05T17:23:57.473Z"
   },
   {
    "duration": 22,
    "start_time": "2022-06-05T17:23:57.492Z"
   },
   {
    "duration": 60,
    "start_time": "2022-06-05T17:23:57.517Z"
   },
   {
    "duration": 53,
    "start_time": "2022-06-05T17:23:57.579Z"
   },
   {
    "duration": 113,
    "start_time": "2022-06-05T17:23:57.633Z"
   },
   {
    "duration": 982,
    "start_time": "2022-06-05T17:23:57.748Z"
   },
   {
    "duration": 179,
    "start_time": "2022-06-05T17:23:58.732Z"
   },
   {
    "duration": 23738,
    "start_time": "2022-06-05T17:23:58.913Z"
   },
   {
    "duration": 5849,
    "start_time": "2022-06-05T17:24:22.653Z"
   },
   {
    "duration": 10,
    "start_time": "2022-06-05T17:24:28.504Z"
   },
   {
    "duration": 293,
    "start_time": "2022-06-05T17:24:28.516Z"
   },
   {
    "duration": 39032,
    "start_time": "2022-06-05T17:24:28.811Z"
   },
   {
    "duration": 10208,
    "start_time": "2022-06-05T17:25:07.845Z"
   },
   {
    "duration": 12,
    "start_time": "2022-06-05T17:25:18.055Z"
   },
   {
    "duration": 94,
    "start_time": "2022-06-05T17:25:18.069Z"
   },
   {
    "duration": 18678,
    "start_time": "2022-06-05T17:25:18.165Z"
   },
   {
    "duration": 3375,
    "start_time": "2022-06-05T17:25:36.845Z"
   },
   {
    "duration": 8,
    "start_time": "2022-06-05T17:25:40.222Z"
   },
   {
    "duration": 294,
    "start_time": "2022-06-05T17:25:40.232Z"
   },
   {
    "duration": 26,
    "start_time": "2022-06-05T17:25:40.528Z"
   },
   {
    "duration": 7,
    "start_time": "2022-06-05T17:25:40.555Z"
   },
   {
    "duration": 4,
    "start_time": "2022-06-05T17:25:40.563Z"
   },
   {
    "duration": 181,
    "start_time": "2022-06-05T17:25:40.569Z"
   },
   {
    "duration": 1550,
    "start_time": "2022-06-06T15:42:52.043Z"
   },
   {
    "duration": 78,
    "start_time": "2022-06-06T15:42:53.595Z"
   },
   {
    "duration": 9,
    "start_time": "2022-06-06T15:42:53.675Z"
   },
   {
    "duration": 190,
    "start_time": "2022-06-06T15:42:53.686Z"
   },
   {
    "duration": 3,
    "start_time": "2022-06-06T15:42:53.878Z"
   },
   {
    "duration": 15,
    "start_time": "2022-06-06T15:42:53.883Z"
   },
   {
    "duration": 22,
    "start_time": "2022-06-06T15:42:53.899Z"
   },
   {
    "duration": 30,
    "start_time": "2022-06-06T15:42:53.923Z"
   },
   {
    "duration": 435,
    "start_time": "2022-06-06T15:42:53.955Z"
   },
   {
    "duration": 9,
    "start_time": "2022-06-06T15:42:54.392Z"
   },
   {
    "duration": 15,
    "start_time": "2022-06-06T15:42:54.403Z"
   },
   {
    "duration": 8,
    "start_time": "2022-06-06T15:42:54.420Z"
   },
   {
    "duration": 32,
    "start_time": "2022-06-06T15:42:54.429Z"
   },
   {
    "duration": 21,
    "start_time": "2022-06-06T15:42:54.463Z"
   },
   {
    "duration": 22,
    "start_time": "2022-06-06T15:42:54.486Z"
   },
   {
    "duration": 35,
    "start_time": "2022-06-06T15:42:54.510Z"
   },
   {
    "duration": 576,
    "start_time": "2022-06-06T15:42:54.547Z"
   },
   {
    "duration": 563,
    "start_time": "2022-06-06T15:42:55.125Z"
   },
   {
    "duration": 329,
    "start_time": "2022-06-06T15:42:55.689Z"
   },
   {
    "duration": 290,
    "start_time": "2022-06-06T15:42:56.020Z"
   },
   {
    "duration": 528,
    "start_time": "2022-06-06T15:42:56.312Z"
   },
   {
    "duration": 626,
    "start_time": "2022-06-06T15:42:56.841Z"
   },
   {
    "duration": 135,
    "start_time": "2022-06-06T15:42:57.469Z"
   },
   {
    "duration": 11,
    "start_time": "2022-06-06T15:42:57.605Z"
   },
   {
    "duration": 5,
    "start_time": "2022-06-06T15:42:57.618Z"
   },
   {
    "duration": 16,
    "start_time": "2022-06-06T15:42:57.625Z"
   },
   {
    "duration": 17,
    "start_time": "2022-06-06T15:42:57.642Z"
   },
   {
    "duration": 17,
    "start_time": "2022-06-06T15:42:57.662Z"
   },
   {
    "duration": 22,
    "start_time": "2022-06-06T15:42:57.681Z"
   },
   {
    "duration": 17,
    "start_time": "2022-06-06T15:42:57.704Z"
   },
   {
    "duration": 50,
    "start_time": "2022-06-06T15:42:57.723Z"
   },
   {
    "duration": 178,
    "start_time": "2022-06-06T15:42:57.775Z"
   },
   {
    "duration": 806,
    "start_time": "2022-06-06T15:42:57.955Z"
   },
   {
    "duration": 161,
    "start_time": "2022-06-06T15:42:58.763Z"
   },
   {
    "duration": 20433,
    "start_time": "2022-06-06T15:42:58.926Z"
   },
   {
    "duration": 5243,
    "start_time": "2022-06-06T15:43:19.361Z"
   },
   {
    "duration": 10,
    "start_time": "2022-06-06T15:43:24.606Z"
   },
   {
    "duration": 200,
    "start_time": "2022-06-06T15:43:24.617Z"
   },
   {
    "duration": 26444,
    "start_time": "2022-06-06T15:43:24.819Z"
   },
   {
    "duration": 6944,
    "start_time": "2022-06-06T15:43:51.352Z"
   },
   {
    "duration": 9,
    "start_time": "2022-06-06T15:43:58.297Z"
   },
   {
    "duration": 70,
    "start_time": "2022-06-06T15:43:58.308Z"
   },
   {
    "duration": 13683,
    "start_time": "2022-06-06T15:43:58.379Z"
   },
   {
    "duration": 2092,
    "start_time": "2022-06-06T15:44:12.153Z"
   },
   {
    "duration": 10,
    "start_time": "2022-06-06T15:44:14.247Z"
   },
   {
    "duration": 271,
    "start_time": "2022-06-06T15:44:14.258Z"
   },
   {
    "duration": 25,
    "start_time": "2022-06-06T15:44:14.531Z"
   },
   {
    "duration": 6,
    "start_time": "2022-06-06T15:44:14.557Z"
   },
   {
    "duration": 9,
    "start_time": "2022-06-06T15:44:14.565Z"
   },
   {
    "duration": 169,
    "start_time": "2022-06-06T15:44:14.576Z"
   },
   {
    "duration": 1503,
    "start_time": "2022-06-06T18:24:15.473Z"
   },
   {
    "duration": 68,
    "start_time": "2022-06-06T18:24:16.978Z"
   },
   {
    "duration": 12,
    "start_time": "2022-06-06T18:24:17.048Z"
   },
   {
    "duration": 215,
    "start_time": "2022-06-06T18:24:17.063Z"
   },
   {
    "duration": 4,
    "start_time": "2022-06-06T18:24:17.280Z"
   },
   {
    "duration": 7,
    "start_time": "2022-06-06T18:24:17.285Z"
   },
   {
    "duration": 16,
    "start_time": "2022-06-06T18:24:17.293Z"
   },
   {
    "duration": 53,
    "start_time": "2022-06-06T18:24:17.312Z"
   },
   {
    "duration": 367,
    "start_time": "2022-06-06T18:24:17.371Z"
   },
   {
    "duration": 20,
    "start_time": "2022-06-06T18:24:17.741Z"
   },
   {
    "duration": 40,
    "start_time": "2022-06-06T18:24:17.763Z"
   },
   {
    "duration": 7,
    "start_time": "2022-06-06T18:24:17.804Z"
   },
   {
    "duration": 10,
    "start_time": "2022-06-06T18:24:17.813Z"
   },
   {
    "duration": 14,
    "start_time": "2022-06-06T18:24:17.825Z"
   },
   {
    "duration": 18,
    "start_time": "2022-06-06T18:24:17.841Z"
   },
   {
    "duration": 43,
    "start_time": "2022-06-06T18:24:17.860Z"
   },
   {
    "duration": 615,
    "start_time": "2022-06-06T18:24:17.905Z"
   },
   {
    "duration": 559,
    "start_time": "2022-06-06T18:24:18.522Z"
   },
   {
    "duration": 336,
    "start_time": "2022-06-06T18:24:19.083Z"
   },
   {
    "duration": 297,
    "start_time": "2022-06-06T18:24:19.420Z"
   },
   {
    "duration": 514,
    "start_time": "2022-06-06T18:24:19.718Z"
   },
   {
    "duration": 653,
    "start_time": "2022-06-06T18:24:20.233Z"
   },
   {
    "duration": 156,
    "start_time": "2022-06-06T18:24:20.888Z"
   },
   {
    "duration": 12,
    "start_time": "2022-06-06T18:24:21.051Z"
   },
   {
    "duration": 19,
    "start_time": "2022-06-06T18:24:21.067Z"
   },
   {
    "duration": 4,
    "start_time": "2022-06-06T18:24:21.088Z"
   },
   {
    "duration": 8,
    "start_time": "2022-06-06T18:24:21.094Z"
   },
   {
    "duration": 18,
    "start_time": "2022-06-06T18:24:21.107Z"
   },
   {
    "duration": 5,
    "start_time": "2022-06-06T18:24:21.127Z"
   },
   {
    "duration": 26,
    "start_time": "2022-06-06T18:24:21.134Z"
   },
   {
    "duration": 49,
    "start_time": "2022-06-06T18:24:21.164Z"
   },
   {
    "duration": 141,
    "start_time": "2022-06-06T18:24:21.215Z"
   },
   {
    "duration": 919,
    "start_time": "2022-06-06T18:24:21.358Z"
   },
   {
    "duration": 223,
    "start_time": "2022-06-06T18:24:22.279Z"
   },
   {
    "duration": 1452,
    "start_time": "2022-06-06T18:24:26.015Z"
   },
   {
    "duration": 44,
    "start_time": "2022-06-06T18:24:27.470Z"
   },
   {
    "duration": 10,
    "start_time": "2022-06-06T18:24:27.516Z"
   },
   {
    "duration": 247,
    "start_time": "2022-06-06T18:24:27.529Z"
   },
   {
    "duration": 4,
    "start_time": "2022-06-06T18:24:27.777Z"
   },
   {
    "duration": 7,
    "start_time": "2022-06-06T18:24:27.782Z"
   },
   {
    "duration": 17,
    "start_time": "2022-06-06T18:24:27.791Z"
   },
   {
    "duration": 51,
    "start_time": "2022-06-06T18:24:27.810Z"
   },
   {
    "duration": 409,
    "start_time": "2022-06-06T18:24:27.864Z"
   },
   {
    "duration": 11,
    "start_time": "2022-06-06T18:24:28.277Z"
   },
   {
    "duration": 15,
    "start_time": "2022-06-06T18:24:28.290Z"
   },
   {
    "duration": 11,
    "start_time": "2022-06-06T18:24:28.307Z"
   },
   {
    "duration": 8,
    "start_time": "2022-06-06T18:24:28.320Z"
   },
   {
    "duration": 34,
    "start_time": "2022-06-06T18:24:28.330Z"
   },
   {
    "duration": 22,
    "start_time": "2022-06-06T18:24:28.366Z"
   },
   {
    "duration": 26,
    "start_time": "2022-06-06T18:24:28.390Z"
   },
   {
    "duration": 856,
    "start_time": "2022-06-06T18:24:28.418Z"
   },
   {
    "duration": 919,
    "start_time": "2022-06-06T18:24:29.280Z"
   },
   {
    "duration": 439,
    "start_time": "2022-06-06T18:24:30.201Z"
   },
   {
    "duration": 327,
    "start_time": "2022-06-06T18:24:30.642Z"
   },
   {
    "duration": 599,
    "start_time": "2022-06-06T18:24:30.972Z"
   },
   {
    "duration": 764,
    "start_time": "2022-06-06T18:24:31.573Z"
   },
   {
    "duration": 169,
    "start_time": "2022-06-06T18:24:32.339Z"
   },
   {
    "duration": 12,
    "start_time": "2022-06-06T18:24:32.510Z"
   },
   {
    "duration": 8,
    "start_time": "2022-06-06T18:24:32.524Z"
   },
   {
    "duration": 23,
    "start_time": "2022-06-06T18:24:32.534Z"
   },
   {
    "duration": 28,
    "start_time": "2022-06-06T18:24:32.560Z"
   },
   {
    "duration": 35,
    "start_time": "2022-06-06T18:24:32.594Z"
   },
   {
    "duration": 5,
    "start_time": "2022-06-06T18:24:32.631Z"
   },
   {
    "duration": 9,
    "start_time": "2022-06-06T18:24:32.638Z"
   },
   {
    "duration": 48,
    "start_time": "2022-06-06T18:24:32.648Z"
   },
   {
    "duration": 68,
    "start_time": "2022-06-06T18:24:32.698Z"
   },
   {
    "duration": 1030,
    "start_time": "2022-06-06T18:24:32.768Z"
   },
   {
    "duration": 178,
    "start_time": "2022-06-06T18:24:33.800Z"
   },
   {
    "duration": 20082,
    "start_time": "2022-06-06T18:24:33.980Z"
   },
   {
    "duration": 5974,
    "start_time": "2022-06-06T18:24:54.064Z"
   },
   {
    "duration": 20,
    "start_time": "2022-06-06T18:25:00.039Z"
   },
   {
    "duration": 221,
    "start_time": "2022-06-06T18:25:00.063Z"
   },
   {
    "duration": 23383,
    "start_time": "2022-06-06T18:25:00.286Z"
   },
   {
    "duration": 7520,
    "start_time": "2022-06-06T18:25:23.674Z"
   },
   {
    "duration": 11,
    "start_time": "2022-06-06T18:25:31.195Z"
   },
   {
    "duration": 94,
    "start_time": "2022-06-06T18:25:31.208Z"
   },
   {
    "duration": 12777,
    "start_time": "2022-06-06T18:25:31.304Z"
   },
   {
    "duration": 3195,
    "start_time": "2022-06-06T18:25:44.152Z"
   },
   {
    "duration": 10,
    "start_time": "2022-06-06T18:25:47.351Z"
   },
   {
    "duration": 145,
    "start_time": "2022-06-06T18:25:47.363Z"
   },
   {
    "duration": 0,
    "start_time": "2022-06-06T18:25:47.510Z"
   },
   {
    "duration": 0,
    "start_time": "2022-06-06T18:25:47.511Z"
   },
   {
    "duration": 1,
    "start_time": "2022-06-06T18:25:47.512Z"
   },
   {
    "duration": 0,
    "start_time": "2022-06-06T18:25:47.514Z"
   },
   {
    "duration": 1308,
    "start_time": "2022-06-06T18:52:56.091Z"
   },
   {
    "duration": 77,
    "start_time": "2022-06-06T18:52:57.401Z"
   },
   {
    "duration": 9,
    "start_time": "2022-06-06T18:52:57.479Z"
   },
   {
    "duration": 193,
    "start_time": "2022-06-06T18:52:57.489Z"
   },
   {
    "duration": 3,
    "start_time": "2022-06-06T18:52:57.683Z"
   },
   {
    "duration": 6,
    "start_time": "2022-06-06T18:52:57.688Z"
   },
   {
    "duration": 14,
    "start_time": "2022-06-06T18:52:57.695Z"
   },
   {
    "duration": 17,
    "start_time": "2022-06-06T18:52:57.711Z"
   },
   {
    "duration": 386,
    "start_time": "2022-06-06T18:52:57.729Z"
   },
   {
    "duration": 10,
    "start_time": "2022-06-06T18:52:58.119Z"
   },
   {
    "duration": 24,
    "start_time": "2022-06-06T18:52:58.131Z"
   },
   {
    "duration": 35,
    "start_time": "2022-06-06T18:52:58.157Z"
   },
   {
    "duration": 8,
    "start_time": "2022-06-06T18:52:58.193Z"
   },
   {
    "duration": 12,
    "start_time": "2022-06-06T18:52:58.202Z"
   },
   {
    "duration": 13,
    "start_time": "2022-06-06T18:52:58.216Z"
   },
   {
    "duration": 20,
    "start_time": "2022-06-06T18:52:58.230Z"
   },
   {
    "duration": 557,
    "start_time": "2022-06-06T18:52:58.254Z"
   },
   {
    "duration": 571,
    "start_time": "2022-06-06T18:52:58.813Z"
   },
   {
    "duration": 326,
    "start_time": "2022-06-06T18:52:59.386Z"
   },
   {
    "duration": 296,
    "start_time": "2022-06-06T18:52:59.714Z"
   },
   {
    "duration": 523,
    "start_time": "2022-06-06T18:53:00.011Z"
   },
   {
    "duration": 683,
    "start_time": "2022-06-06T18:53:00.535Z"
   },
   {
    "duration": 162,
    "start_time": "2022-06-06T18:53:01.219Z"
   },
   {
    "duration": 10,
    "start_time": "2022-06-06T18:53:01.383Z"
   },
   {
    "duration": 25,
    "start_time": "2022-06-06T18:53:01.394Z"
   },
   {
    "duration": 21,
    "start_time": "2022-06-06T18:53:01.420Z"
   },
   {
    "duration": 17,
    "start_time": "2022-06-06T18:53:01.442Z"
   },
   {
    "duration": 26,
    "start_time": "2022-06-06T18:53:01.473Z"
   },
   {
    "duration": 7,
    "start_time": "2022-06-06T18:53:01.501Z"
   },
   {
    "duration": 16,
    "start_time": "2022-06-06T18:53:01.509Z"
   },
   {
    "duration": 55,
    "start_time": "2022-06-06T18:53:01.526Z"
   },
   {
    "duration": 96,
    "start_time": "2022-06-06T18:53:01.583Z"
   },
   {
    "duration": 830,
    "start_time": "2022-06-06T18:53:01.762Z"
   },
   {
    "duration": 179,
    "start_time": "2022-06-06T18:53:02.593Z"
   },
   {
    "duration": 18004,
    "start_time": "2022-06-06T18:53:02.774Z"
   },
   {
    "duration": 5526,
    "start_time": "2022-06-06T18:53:20.786Z"
   },
   {
    "duration": 8,
    "start_time": "2022-06-06T18:53:26.314Z"
   },
   {
    "duration": 188,
    "start_time": "2022-06-06T18:53:26.324Z"
   },
   {
    "duration": 21843,
    "start_time": "2022-06-06T18:53:26.514Z"
   },
   {
    "duration": 7565,
    "start_time": "2022-06-06T18:53:48.361Z"
   },
   {
    "duration": 10,
    "start_time": "2022-06-06T18:53:55.929Z"
   },
   {
    "duration": 96,
    "start_time": "2022-06-06T18:53:55.941Z"
   },
   {
    "duration": 12122,
    "start_time": "2022-06-06T18:53:56.039Z"
   },
   {
    "duration": 3246,
    "start_time": "2022-06-06T18:54:08.165Z"
   },
   {
    "duration": 8,
    "start_time": "2022-06-06T18:54:11.413Z"
   },
   {
    "duration": 280,
    "start_time": "2022-06-06T18:54:11.423Z"
   },
   {
    "duration": 19,
    "start_time": "2022-06-06T18:54:11.705Z"
   },
   {
    "duration": 6,
    "start_time": "2022-06-06T18:54:11.726Z"
   },
   {
    "duration": 25,
    "start_time": "2022-06-06T18:54:11.733Z"
   },
   {
    "duration": 152,
    "start_time": "2022-06-06T18:54:11.759Z"
   },
   {
    "duration": 1221,
    "start_time": "2022-06-06T19:16:26.081Z"
   },
   {
    "duration": 40,
    "start_time": "2022-06-06T19:16:27.303Z"
   },
   {
    "duration": 8,
    "start_time": "2022-06-06T19:16:27.345Z"
   },
   {
    "duration": 173,
    "start_time": "2022-06-06T19:16:27.355Z"
   },
   {
    "duration": 24,
    "start_time": "2022-06-06T19:16:27.529Z"
   },
   {
    "duration": 10,
    "start_time": "2022-06-06T19:16:27.555Z"
   },
   {
    "duration": 15,
    "start_time": "2022-06-06T19:16:27.566Z"
   },
   {
    "duration": 17,
    "start_time": "2022-06-06T19:16:27.582Z"
   },
   {
    "duration": 397,
    "start_time": "2022-06-06T19:16:27.600Z"
   },
   {
    "duration": 4,
    "start_time": "2022-06-06T19:16:27.999Z"
   },
   {
    "duration": 16,
    "start_time": "2022-06-06T19:16:28.004Z"
   },
   {
    "duration": 5,
    "start_time": "2022-06-06T19:16:28.021Z"
   },
   {
    "duration": 6,
    "start_time": "2022-06-06T19:16:28.027Z"
   },
   {
    "duration": 6,
    "start_time": "2022-06-06T19:16:28.052Z"
   },
   {
    "duration": 10,
    "start_time": "2022-06-06T19:16:28.059Z"
   },
   {
    "duration": 24,
    "start_time": "2022-06-06T19:16:28.070Z"
   },
   {
    "duration": 595,
    "start_time": "2022-06-06T19:16:28.095Z"
   },
   {
    "duration": 498,
    "start_time": "2022-06-06T19:16:28.692Z"
   },
   {
    "duration": 321,
    "start_time": "2022-06-06T19:16:29.191Z"
   },
   {
    "duration": 275,
    "start_time": "2022-06-06T19:16:29.514Z"
   },
   {
    "duration": 518,
    "start_time": "2022-06-06T19:16:29.791Z"
   },
   {
    "duration": 652,
    "start_time": "2022-06-06T19:16:30.310Z"
   },
   {
    "duration": 155,
    "start_time": "2022-06-06T19:16:30.964Z"
   },
   {
    "duration": 10,
    "start_time": "2022-06-06T19:16:31.121Z"
   },
   {
    "duration": 19,
    "start_time": "2022-06-06T19:16:31.133Z"
   },
   {
    "duration": 20,
    "start_time": "2022-06-06T19:16:31.154Z"
   },
   {
    "duration": 22,
    "start_time": "2022-06-06T19:16:31.176Z"
   },
   {
    "duration": 29,
    "start_time": "2022-06-06T19:16:31.201Z"
   },
   {
    "duration": 11,
    "start_time": "2022-06-06T19:16:31.232Z"
   },
   {
    "duration": 27,
    "start_time": "2022-06-06T19:16:31.244Z"
   },
   {
    "duration": 76,
    "start_time": "2022-06-06T19:16:31.273Z"
   },
   {
    "duration": 105,
    "start_time": "2022-06-06T19:16:31.351Z"
   },
   {
    "duration": 879,
    "start_time": "2022-06-06T19:16:31.458Z"
   },
   {
    "duration": 175,
    "start_time": "2022-06-06T19:16:32.338Z"
   },
   {
    "duration": 20542,
    "start_time": "2022-06-06T19:16:32.515Z"
   },
   {
    "duration": 5285,
    "start_time": "2022-06-06T19:16:53.061Z"
   },
   {
    "duration": 22,
    "start_time": "2022-06-06T19:16:58.348Z"
   },
   {
    "duration": 193,
    "start_time": "2022-06-06T19:16:58.371Z"
   },
   {
    "duration": 20692,
    "start_time": "2022-06-06T19:16:58.565Z"
   },
   {
    "duration": 6986,
    "start_time": "2022-06-06T19:17:19.259Z"
   },
   {
    "duration": 18,
    "start_time": "2022-06-06T19:17:26.247Z"
   },
   {
    "duration": 81,
    "start_time": "2022-06-06T19:17:26.266Z"
   },
   {
    "duration": 10522,
    "start_time": "2022-06-06T19:17:26.349Z"
   },
   {
    "duration": 2992,
    "start_time": "2022-06-06T19:17:36.952Z"
   },
   {
    "duration": 16,
    "start_time": "2022-06-06T19:17:39.946Z"
   },
   {
    "duration": 271,
    "start_time": "2022-06-06T19:17:39.964Z"
   },
   {
    "duration": 25,
    "start_time": "2022-06-06T19:17:40.236Z"
   },
   {
    "duration": 9,
    "start_time": "2022-06-06T19:17:40.264Z"
   },
   {
    "duration": 8,
    "start_time": "2022-06-06T19:17:40.275Z"
   },
   {
    "duration": 150,
    "start_time": "2022-06-06T19:17:40.284Z"
   },
   {
    "duration": 1348,
    "start_time": "2022-06-06T20:02:21.451Z"
   },
   {
    "duration": 43,
    "start_time": "2022-06-06T20:02:22.801Z"
   },
   {
    "duration": 12,
    "start_time": "2022-06-06T20:02:22.849Z"
   },
   {
    "duration": 217,
    "start_time": "2022-06-06T20:02:22.864Z"
   },
   {
    "duration": 3,
    "start_time": "2022-06-06T20:02:23.083Z"
   },
   {
    "duration": 22,
    "start_time": "2022-06-06T20:02:23.088Z"
   },
   {
    "duration": 22,
    "start_time": "2022-06-06T20:02:23.114Z"
   },
   {
    "duration": 25,
    "start_time": "2022-06-06T20:02:23.152Z"
   },
   {
    "duration": 491,
    "start_time": "2022-06-06T20:02:23.179Z"
   },
   {
    "duration": 6,
    "start_time": "2022-06-06T20:02:23.674Z"
   },
   {
    "duration": 25,
    "start_time": "2022-06-06T20:02:23.682Z"
   },
   {
    "duration": 8,
    "start_time": "2022-06-06T20:02:23.708Z"
   },
   {
    "duration": 12,
    "start_time": "2022-06-06T20:02:23.717Z"
   },
   {
    "duration": 28,
    "start_time": "2022-06-06T20:02:23.731Z"
   },
   {
    "duration": 17,
    "start_time": "2022-06-06T20:02:23.761Z"
   },
   {
    "duration": 24,
    "start_time": "2022-06-06T20:02:23.780Z"
   },
   {
    "duration": 634,
    "start_time": "2022-06-06T20:02:23.806Z"
   },
   {
    "duration": 528,
    "start_time": "2022-06-06T20:02:24.442Z"
   },
   {
    "duration": 450,
    "start_time": "2022-06-06T20:02:24.973Z"
   },
   {
    "duration": 393,
    "start_time": "2022-06-06T20:02:25.425Z"
   },
   {
    "duration": 525,
    "start_time": "2022-06-06T20:02:25.820Z"
   },
   {
    "duration": 636,
    "start_time": "2022-06-06T20:02:26.352Z"
   },
   {
    "duration": 146,
    "start_time": "2022-06-06T20:02:26.990Z"
   },
   {
    "duration": 21,
    "start_time": "2022-06-06T20:02:27.137Z"
   },
   {
    "duration": 6,
    "start_time": "2022-06-06T20:02:27.161Z"
   },
   {
    "duration": 12,
    "start_time": "2022-06-06T20:02:27.170Z"
   },
   {
    "duration": 18,
    "start_time": "2022-06-06T20:02:27.184Z"
   },
   {
    "duration": 18,
    "start_time": "2022-06-06T20:02:27.206Z"
   },
   {
    "duration": 5,
    "start_time": "2022-06-06T20:02:27.227Z"
   },
   {
    "duration": 26,
    "start_time": "2022-06-06T20:02:27.234Z"
   },
   {
    "duration": 51,
    "start_time": "2022-06-06T20:02:27.262Z"
   },
   {
    "duration": 45,
    "start_time": "2022-06-06T20:02:27.325Z"
   },
   {
    "duration": 915,
    "start_time": "2022-06-06T20:02:27.374Z"
   },
   {
    "duration": 208,
    "start_time": "2022-06-06T20:02:28.291Z"
   },
   {
    "duration": 1320,
    "start_time": "2022-06-06T20:02:57.449Z"
   },
   {
    "duration": 42,
    "start_time": "2022-06-06T20:02:58.772Z"
   },
   {
    "duration": 9,
    "start_time": "2022-06-06T20:02:58.817Z"
   },
   {
    "duration": 276,
    "start_time": "2022-06-06T20:02:58.830Z"
   },
   {
    "duration": 4,
    "start_time": "2022-06-06T20:02:59.109Z"
   },
   {
    "duration": 9,
    "start_time": "2022-06-06T20:02:59.114Z"
   },
   {
    "duration": 40,
    "start_time": "2022-06-06T20:02:59.125Z"
   },
   {
    "duration": 28,
    "start_time": "2022-06-06T20:02:59.167Z"
   },
   {
    "duration": 430,
    "start_time": "2022-06-06T20:02:59.197Z"
   },
   {
    "duration": 4,
    "start_time": "2022-06-06T20:02:59.629Z"
   },
   {
    "duration": 27,
    "start_time": "2022-06-06T20:02:59.634Z"
   },
   {
    "duration": 6,
    "start_time": "2022-06-06T20:02:59.663Z"
   },
   {
    "duration": 6,
    "start_time": "2022-06-06T20:02:59.670Z"
   },
   {
    "duration": 7,
    "start_time": "2022-06-06T20:02:59.679Z"
   },
   {
    "duration": 10,
    "start_time": "2022-06-06T20:02:59.688Z"
   },
   {
    "duration": 22,
    "start_time": "2022-06-06T20:02:59.700Z"
   },
   {
    "duration": 553,
    "start_time": "2022-06-06T20:02:59.753Z"
   },
   {
    "duration": 607,
    "start_time": "2022-06-06T20:03:00.308Z"
   },
   {
    "duration": 369,
    "start_time": "2022-06-06T20:03:00.916Z"
   },
   {
    "duration": 301,
    "start_time": "2022-06-06T20:03:01.286Z"
   },
   {
    "duration": 520,
    "start_time": "2022-06-06T20:03:01.589Z"
   },
   {
    "duration": 657,
    "start_time": "2022-06-06T20:03:02.111Z"
   },
   {
    "duration": 152,
    "start_time": "2022-06-06T20:03:02.769Z"
   },
   {
    "duration": 14,
    "start_time": "2022-06-06T20:03:02.923Z"
   },
   {
    "duration": 18,
    "start_time": "2022-06-06T20:03:02.939Z"
   },
   {
    "duration": 4,
    "start_time": "2022-06-06T20:03:02.959Z"
   },
   {
    "duration": 11,
    "start_time": "2022-06-06T20:03:02.965Z"
   },
   {
    "duration": 15,
    "start_time": "2022-06-06T20:03:02.978Z"
   },
   {
    "duration": 5,
    "start_time": "2022-06-06T20:03:02.995Z"
   },
   {
    "duration": 18,
    "start_time": "2022-06-06T20:03:03.002Z"
   },
   {
    "duration": 55,
    "start_time": "2022-06-06T20:03:03.022Z"
   },
   {
    "duration": 388,
    "start_time": "2022-06-06T20:03:03.079Z"
   },
   {
    "duration": 793,
    "start_time": "2022-06-06T20:03:03.554Z"
   },
   {
    "duration": 169,
    "start_time": "2022-06-06T20:03:04.348Z"
   },
   {
    "duration": 20734,
    "start_time": "2022-06-06T20:03:04.519Z"
   },
   {
    "duration": 5598,
    "start_time": "2022-06-06T20:03:25.256Z"
   },
   {
    "duration": 13,
    "start_time": "2022-06-06T20:03:30.856Z"
   },
   {
    "duration": 168,
    "start_time": "2022-06-06T20:03:30.871Z"
   },
   {
    "duration": 0,
    "start_time": "2022-06-06T20:03:31.042Z"
   },
   {
    "duration": 0,
    "start_time": "2022-06-06T20:03:31.043Z"
   },
   {
    "duration": 0,
    "start_time": "2022-06-06T20:03:31.045Z"
   },
   {
    "duration": 0,
    "start_time": "2022-06-06T20:03:31.047Z"
   },
   {
    "duration": 0,
    "start_time": "2022-06-06T20:03:31.052Z"
   },
   {
    "duration": 0,
    "start_time": "2022-06-06T20:03:31.054Z"
   },
   {
    "duration": 0,
    "start_time": "2022-06-06T20:03:31.055Z"
   },
   {
    "duration": 0,
    "start_time": "2022-06-06T20:03:31.056Z"
   },
   {
    "duration": 0,
    "start_time": "2022-06-06T20:03:31.058Z"
   },
   {
    "duration": 0,
    "start_time": "2022-06-06T20:03:31.059Z"
   },
   {
    "duration": 0,
    "start_time": "2022-06-06T20:03:31.060Z"
   },
   {
    "duration": 0,
    "start_time": "2022-06-06T20:03:31.061Z"
   },
   {
    "duration": 1375,
    "start_time": "2022-06-06T20:04:51.280Z"
   },
   {
    "duration": 45,
    "start_time": "2022-06-06T20:04:52.659Z"
   },
   {
    "duration": 13,
    "start_time": "2022-06-06T20:04:52.706Z"
   },
   {
    "duration": 190,
    "start_time": "2022-06-06T20:04:52.722Z"
   },
   {
    "duration": 45,
    "start_time": "2022-06-06T20:04:52.914Z"
   },
   {
    "duration": 3,
    "start_time": "2022-06-06T20:04:52.960Z"
   },
   {
    "duration": 27,
    "start_time": "2022-06-06T20:04:52.967Z"
   },
   {
    "duration": 25,
    "start_time": "2022-06-06T20:04:52.995Z"
   },
   {
    "duration": 393,
    "start_time": "2022-06-06T20:04:53.022Z"
   },
   {
    "duration": 3,
    "start_time": "2022-06-06T20:04:53.417Z"
   },
   {
    "duration": 16,
    "start_time": "2022-06-06T20:04:53.422Z"
   },
   {
    "duration": 17,
    "start_time": "2022-06-06T20:04:53.440Z"
   },
   {
    "duration": 26,
    "start_time": "2022-06-06T20:04:53.458Z"
   },
   {
    "duration": 20,
    "start_time": "2022-06-06T20:04:53.486Z"
   },
   {
    "duration": 12,
    "start_time": "2022-06-06T20:04:53.507Z"
   },
   {
    "duration": 25,
    "start_time": "2022-06-06T20:04:53.521Z"
   },
   {
    "duration": 568,
    "start_time": "2022-06-06T20:04:53.548Z"
   },
   {
    "duration": 564,
    "start_time": "2022-06-06T20:04:54.118Z"
   },
   {
    "duration": 314,
    "start_time": "2022-06-06T20:04:54.683Z"
   },
   {
    "duration": 275,
    "start_time": "2022-06-06T20:04:54.999Z"
   },
   {
    "duration": 553,
    "start_time": "2022-06-06T20:04:55.276Z"
   },
   {
    "duration": 645,
    "start_time": "2022-06-06T20:04:55.831Z"
   },
   {
    "duration": 151,
    "start_time": "2022-06-06T20:04:56.478Z"
   },
   {
    "duration": 10,
    "start_time": "2022-06-06T20:04:56.631Z"
   },
   {
    "duration": 19,
    "start_time": "2022-06-06T20:04:56.652Z"
   },
   {
    "duration": 8,
    "start_time": "2022-06-06T20:04:56.672Z"
   },
   {
    "duration": 13,
    "start_time": "2022-06-06T20:04:56.682Z"
   },
   {
    "duration": 26,
    "start_time": "2022-06-06T20:04:56.699Z"
   },
   {
    "duration": 6,
    "start_time": "2022-06-06T20:04:56.727Z"
   },
   {
    "duration": 14,
    "start_time": "2022-06-06T20:04:56.734Z"
   },
   {
    "duration": 60,
    "start_time": "2022-06-06T20:04:56.750Z"
   },
   {
    "duration": 362,
    "start_time": "2022-06-06T20:04:56.812Z"
   },
   {
    "duration": 885,
    "start_time": "2022-06-06T20:04:57.175Z"
   },
   {
    "duration": 161,
    "start_time": "2022-06-06T20:04:58.068Z"
   },
   {
    "duration": 17737,
    "start_time": "2022-06-06T20:04:58.230Z"
   },
   {
    "duration": 5254,
    "start_time": "2022-06-06T20:05:15.968Z"
   },
   {
    "duration": 9,
    "start_time": "2022-06-06T20:05:21.223Z"
   },
   {
    "duration": 359,
    "start_time": "2022-06-06T20:05:21.233Z"
   },
   {
    "duration": 22180,
    "start_time": "2022-06-06T20:05:21.594Z"
   },
   {
    "duration": 7025,
    "start_time": "2022-06-06T20:05:43.853Z"
   },
   {
    "duration": 9,
    "start_time": "2022-06-06T20:05:50.880Z"
   },
   {
    "duration": 94,
    "start_time": "2022-06-06T20:05:50.891Z"
   },
   {
    "duration": 11691,
    "start_time": "2022-06-06T20:05:50.987Z"
   },
   {
    "duration": 2933,
    "start_time": "2022-06-06T20:06:02.756Z"
   },
   {
    "duration": 7,
    "start_time": "2022-06-06T20:06:05.691Z"
   },
   {
    "duration": 268,
    "start_time": "2022-06-06T20:06:05.700Z"
   },
   {
    "duration": 19,
    "start_time": "2022-06-06T20:06:05.969Z"
   },
   {
    "duration": 6,
    "start_time": "2022-06-06T20:06:05.989Z"
   },
   {
    "duration": 3,
    "start_time": "2022-06-06T20:06:05.996Z"
   },
   {
    "duration": 170,
    "start_time": "2022-06-06T20:06:06.001Z"
   },
   {
    "duration": 1243,
    "start_time": "2022-06-06T20:10:07.396Z"
   },
   {
    "duration": 39,
    "start_time": "2022-06-06T20:10:08.642Z"
   },
   {
    "duration": 9,
    "start_time": "2022-06-06T20:10:08.683Z"
   },
   {
    "duration": 193,
    "start_time": "2022-06-06T20:10:08.695Z"
   },
   {
    "duration": 3,
    "start_time": "2022-06-06T20:10:08.890Z"
   },
   {
    "duration": 8,
    "start_time": "2022-06-06T20:10:08.895Z"
   },
   {
    "duration": 21,
    "start_time": "2022-06-06T20:10:08.904Z"
   },
   {
    "duration": 41,
    "start_time": "2022-06-06T20:10:08.926Z"
   },
   {
    "duration": 390,
    "start_time": "2022-06-06T20:10:08.969Z"
   },
   {
    "duration": 3,
    "start_time": "2022-06-06T20:10:09.362Z"
   },
   {
    "duration": 19,
    "start_time": "2022-06-06T20:10:09.367Z"
   },
   {
    "duration": 6,
    "start_time": "2022-06-06T20:10:09.388Z"
   },
   {
    "duration": 9,
    "start_time": "2022-06-06T20:10:09.396Z"
   },
   {
    "duration": 13,
    "start_time": "2022-06-06T20:10:09.407Z"
   },
   {
    "duration": 32,
    "start_time": "2022-06-06T20:10:09.421Z"
   },
   {
    "duration": 22,
    "start_time": "2022-06-06T20:10:09.455Z"
   },
   {
    "duration": 618,
    "start_time": "2022-06-06T20:10:09.479Z"
   },
   {
    "duration": 583,
    "start_time": "2022-06-06T20:10:10.100Z"
   },
   {
    "duration": 329,
    "start_time": "2022-06-06T20:10:10.685Z"
   },
   {
    "duration": 281,
    "start_time": "2022-06-06T20:10:11.016Z"
   },
   {
    "duration": 528,
    "start_time": "2022-06-06T20:10:11.300Z"
   },
   {
    "duration": 647,
    "start_time": "2022-06-06T20:10:11.829Z"
   },
   {
    "duration": 194,
    "start_time": "2022-06-06T20:10:12.477Z"
   },
   {
    "duration": 9,
    "start_time": "2022-06-06T20:10:12.673Z"
   },
   {
    "duration": 5,
    "start_time": "2022-06-06T20:10:12.684Z"
   },
   {
    "duration": 4,
    "start_time": "2022-06-06T20:10:12.691Z"
   },
   {
    "duration": 10,
    "start_time": "2022-06-06T20:10:12.696Z"
   },
   {
    "duration": 41,
    "start_time": "2022-06-06T20:10:12.711Z"
   },
   {
    "duration": 5,
    "start_time": "2022-06-06T20:10:12.754Z"
   },
   {
    "duration": 10,
    "start_time": "2022-06-06T20:10:12.761Z"
   },
   {
    "duration": 57,
    "start_time": "2022-06-06T20:10:12.773Z"
   },
   {
    "duration": 132,
    "start_time": "2022-06-06T20:10:12.832Z"
   },
   {
    "duration": 846,
    "start_time": "2022-06-06T20:10:12.968Z"
   },
   {
    "duration": 164,
    "start_time": "2022-06-06T20:10:13.816Z"
   },
   {
    "duration": 19975,
    "start_time": "2022-06-06T20:10:13.982Z"
   },
   {
    "duration": 5321,
    "start_time": "2022-06-06T20:10:33.959Z"
   },
   {
    "duration": 8,
    "start_time": "2022-06-06T20:10:39.282Z"
   },
   {
    "duration": 190,
    "start_time": "2022-06-06T20:10:39.292Z"
   },
   {
    "duration": 24582,
    "start_time": "2022-06-06T20:10:39.484Z"
   },
   {
    "duration": 6741,
    "start_time": "2022-06-06T20:11:04.068Z"
   },
   {
    "duration": 10,
    "start_time": "2022-06-06T20:11:10.811Z"
   },
   {
    "duration": 147,
    "start_time": "2022-06-06T20:11:10.823Z"
   },
   {
    "duration": 20886,
    "start_time": "2022-06-06T20:11:10.972Z"
   },
   {
    "duration": 5303,
    "start_time": "2022-06-06T20:11:31.860Z"
   },
   {
    "duration": 8,
    "start_time": "2022-06-06T20:11:37.165Z"
   },
   {
    "duration": 252,
    "start_time": "2022-06-06T20:11:37.174Z"
   },
   {
    "duration": 25,
    "start_time": "2022-06-06T20:11:37.427Z"
   },
   {
    "duration": 6,
    "start_time": "2022-06-06T20:11:37.454Z"
   },
   {
    "duration": 4,
    "start_time": "2022-06-06T20:11:37.461Z"
   },
   {
    "duration": 157,
    "start_time": "2022-06-06T20:11:37.466Z"
   },
   {
    "duration": 1244,
    "start_time": "2022-06-06T20:12:23.309Z"
   },
   {
    "duration": 38,
    "start_time": "2022-06-06T20:12:24.555Z"
   },
   {
    "duration": 9,
    "start_time": "2022-06-06T20:12:24.595Z"
   },
   {
    "duration": 188,
    "start_time": "2022-06-06T20:12:24.605Z"
   },
   {
    "duration": 3,
    "start_time": "2022-06-06T20:12:24.795Z"
   },
   {
    "duration": 9,
    "start_time": "2022-06-06T20:12:24.799Z"
   },
   {
    "duration": 45,
    "start_time": "2022-06-06T20:12:24.809Z"
   },
   {
    "duration": 24,
    "start_time": "2022-06-06T20:12:24.856Z"
   },
   {
    "duration": 410,
    "start_time": "2022-06-06T20:12:24.881Z"
   },
   {
    "duration": 4,
    "start_time": "2022-06-06T20:12:25.295Z"
   },
   {
    "duration": 26,
    "start_time": "2022-06-06T20:12:25.301Z"
   },
   {
    "duration": 24,
    "start_time": "2022-06-06T20:12:25.329Z"
   },
   {
    "duration": 6,
    "start_time": "2022-06-06T20:12:25.355Z"
   },
   {
    "duration": 14,
    "start_time": "2022-06-06T20:12:25.364Z"
   },
   {
    "duration": 18,
    "start_time": "2022-06-06T20:12:25.379Z"
   },
   {
    "duration": 40,
    "start_time": "2022-06-06T20:12:25.399Z"
   },
   {
    "duration": 563,
    "start_time": "2022-06-06T20:12:25.441Z"
   },
   {
    "duration": 579,
    "start_time": "2022-06-06T20:12:26.005Z"
   },
   {
    "duration": 366,
    "start_time": "2022-06-06T20:12:26.586Z"
   },
   {
    "duration": 270,
    "start_time": "2022-06-06T20:12:26.953Z"
   },
   {
    "duration": 471,
    "start_time": "2022-06-06T20:12:27.225Z"
   },
   {
    "duration": 622,
    "start_time": "2022-06-06T20:12:27.698Z"
   },
   {
    "duration": 148,
    "start_time": "2022-06-06T20:12:28.322Z"
   },
   {
    "duration": 10,
    "start_time": "2022-06-06T20:12:28.471Z"
   },
   {
    "duration": 12,
    "start_time": "2022-06-06T20:12:28.483Z"
   },
   {
    "duration": 16,
    "start_time": "2022-06-06T20:12:28.496Z"
   },
   {
    "duration": 14,
    "start_time": "2022-06-06T20:12:28.513Z"
   },
   {
    "duration": 15,
    "start_time": "2022-06-06T20:12:28.531Z"
   },
   {
    "duration": 8,
    "start_time": "2022-06-06T20:12:28.548Z"
   },
   {
    "duration": 23,
    "start_time": "2022-06-06T20:12:28.557Z"
   },
   {
    "duration": 42,
    "start_time": "2022-06-06T20:12:28.583Z"
   },
   {
    "duration": 129,
    "start_time": "2022-06-06T20:12:28.628Z"
   },
   {
    "duration": 926,
    "start_time": "2022-06-06T20:12:28.758Z"
   },
   {
    "duration": 172,
    "start_time": "2022-06-06T20:12:29.686Z"
   },
   {
    "duration": 21606,
    "start_time": "2022-06-06T20:12:29.860Z"
   },
   {
    "duration": 5343,
    "start_time": "2022-06-06T20:12:51.553Z"
   },
   {
    "duration": 10,
    "start_time": "2022-06-06T20:12:56.898Z"
   },
   {
    "duration": 204,
    "start_time": "2022-06-06T20:12:56.909Z"
   },
   {
    "duration": 28638,
    "start_time": "2022-06-06T20:12:57.115Z"
   },
   {
    "duration": 6914,
    "start_time": "2022-06-06T20:13:25.756Z"
   },
   {
    "duration": 120,
    "start_time": "2022-06-06T20:13:32.672Z"
   },
   {
    "duration": 0,
    "start_time": "2022-06-06T20:13:32.793Z"
   },
   {
    "duration": 0,
    "start_time": "2022-06-06T20:13:32.794Z"
   },
   {
    "duration": 0,
    "start_time": "2022-06-06T20:13:32.796Z"
   },
   {
    "duration": 0,
    "start_time": "2022-06-06T20:13:32.797Z"
   },
   {
    "duration": 0,
    "start_time": "2022-06-06T20:13:32.799Z"
   },
   {
    "duration": 0,
    "start_time": "2022-06-06T20:13:32.799Z"
   },
   {
    "duration": 0,
    "start_time": "2022-06-06T20:13:32.800Z"
   },
   {
    "duration": 0,
    "start_time": "2022-06-06T20:13:32.802Z"
   },
   {
    "duration": 0,
    "start_time": "2022-06-06T20:13:32.803Z"
   },
   {
    "duration": 1284,
    "start_time": "2022-06-06T20:14:35.175Z"
   },
   {
    "duration": 39,
    "start_time": "2022-06-06T20:14:36.461Z"
   },
   {
    "duration": 9,
    "start_time": "2022-06-06T20:14:36.501Z"
   },
   {
    "duration": 202,
    "start_time": "2022-06-06T20:14:36.512Z"
   },
   {
    "duration": 3,
    "start_time": "2022-06-06T20:14:36.716Z"
   },
   {
    "duration": 31,
    "start_time": "2022-06-06T20:14:36.721Z"
   },
   {
    "duration": 19,
    "start_time": "2022-06-06T20:14:36.754Z"
   },
   {
    "duration": 45,
    "start_time": "2022-06-06T20:14:36.775Z"
   },
   {
    "duration": 403,
    "start_time": "2022-06-06T20:14:36.822Z"
   },
   {
    "duration": 3,
    "start_time": "2022-06-06T20:14:37.228Z"
   },
   {
    "duration": 30,
    "start_time": "2022-06-06T20:14:37.233Z"
   },
   {
    "duration": 19,
    "start_time": "2022-06-06T20:14:37.265Z"
   },
   {
    "duration": 18,
    "start_time": "2022-06-06T20:14:37.285Z"
   },
   {
    "duration": 15,
    "start_time": "2022-06-06T20:14:37.304Z"
   },
   {
    "duration": 8,
    "start_time": "2022-06-06T20:14:37.321Z"
   },
   {
    "duration": 20,
    "start_time": "2022-06-06T20:14:37.330Z"
   },
   {
    "duration": 554,
    "start_time": "2022-06-06T20:14:37.351Z"
   },
   {
    "duration": 550,
    "start_time": "2022-06-06T20:14:37.907Z"
   },
   {
    "duration": 307,
    "start_time": "2022-06-06T20:14:38.459Z"
   },
   {
    "duration": 281,
    "start_time": "2022-06-06T20:14:38.767Z"
   },
   {
    "duration": 479,
    "start_time": "2022-06-06T20:14:39.049Z"
   },
   {
    "duration": 620,
    "start_time": "2022-06-06T20:14:39.530Z"
   },
   {
    "duration": 143,
    "start_time": "2022-06-06T20:14:40.152Z"
   },
   {
    "duration": 9,
    "start_time": "2022-06-06T20:14:40.297Z"
   },
   {
    "duration": 5,
    "start_time": "2022-06-06T20:14:40.308Z"
   },
   {
    "duration": 4,
    "start_time": "2022-06-06T20:14:40.314Z"
   },
   {
    "duration": 7,
    "start_time": "2022-06-06T20:14:40.319Z"
   },
   {
    "duration": 14,
    "start_time": "2022-06-06T20:14:40.351Z"
   },
   {
    "duration": 17,
    "start_time": "2022-06-06T20:14:40.366Z"
   },
   {
    "duration": 8,
    "start_time": "2022-06-06T20:14:40.387Z"
   },
   {
    "duration": 40,
    "start_time": "2022-06-06T20:14:40.397Z"
   },
   {
    "duration": 25,
    "start_time": "2022-06-06T20:14:40.439Z"
   },
   {
    "duration": 880,
    "start_time": "2022-06-06T20:14:40.466Z"
   },
   {
    "duration": 157,
    "start_time": "2022-06-06T20:14:41.348Z"
   },
   {
    "duration": 22549,
    "start_time": "2022-06-06T20:14:41.507Z"
   },
   {
    "duration": 5212,
    "start_time": "2022-06-06T20:15:04.057Z"
   },
   {
    "duration": 9,
    "start_time": "2022-06-06T20:15:09.271Z"
   },
   {
    "duration": 188,
    "start_time": "2022-06-06T20:15:09.281Z"
   },
   {
    "duration": 27586,
    "start_time": "2022-06-06T20:15:09.470Z"
   },
   {
    "duration": 6753,
    "start_time": "2022-06-06T20:15:37.058Z"
   },
   {
    "duration": 9,
    "start_time": "2022-06-06T20:15:43.813Z"
   },
   {
    "duration": 80,
    "start_time": "2022-06-06T20:15:43.823Z"
   },
   {
    "duration": 12848,
    "start_time": "2022-06-06T20:15:43.905Z"
   },
   {
    "duration": 2928,
    "start_time": "2022-06-06T20:15:56.756Z"
   },
   {
    "duration": 9,
    "start_time": "2022-06-06T20:15:59.686Z"
   },
   {
    "duration": 268,
    "start_time": "2022-06-06T20:15:59.696Z"
   },
   {
    "duration": 20,
    "start_time": "2022-06-06T20:15:59.966Z"
   },
   {
    "duration": 8,
    "start_time": "2022-06-06T20:15:59.987Z"
   },
   {
    "duration": 5,
    "start_time": "2022-06-06T20:15:59.996Z"
   },
   {
    "duration": 201,
    "start_time": "2022-06-06T20:16:00.003Z"
   },
   {
    "duration": 1217,
    "start_time": "2022-06-06T20:25:12.496Z"
   },
   {
    "duration": 38,
    "start_time": "2022-06-06T20:25:13.715Z"
   },
   {
    "duration": 9,
    "start_time": "2022-06-06T20:25:13.754Z"
   },
   {
    "duration": 203,
    "start_time": "2022-06-06T20:25:13.765Z"
   },
   {
    "duration": 3,
    "start_time": "2022-06-06T20:25:13.970Z"
   },
   {
    "duration": 36,
    "start_time": "2022-06-06T20:25:13.975Z"
   },
   {
    "duration": 17,
    "start_time": "2022-06-06T20:25:14.012Z"
   },
   {
    "duration": 28,
    "start_time": "2022-06-06T20:25:14.031Z"
   },
   {
    "duration": 363,
    "start_time": "2022-06-06T20:25:14.060Z"
   },
   {
    "duration": 4,
    "start_time": "2022-06-06T20:25:14.426Z"
   },
   {
    "duration": 25,
    "start_time": "2022-06-06T20:25:14.432Z"
   },
   {
    "duration": 6,
    "start_time": "2022-06-06T20:25:14.459Z"
   },
   {
    "duration": 5,
    "start_time": "2022-06-06T20:25:14.467Z"
   },
   {
    "duration": 9,
    "start_time": "2022-06-06T20:25:14.473Z"
   },
   {
    "duration": 12,
    "start_time": "2022-06-06T20:25:14.484Z"
   },
   {
    "duration": 19,
    "start_time": "2022-06-06T20:25:14.497Z"
   },
   {
    "duration": 590,
    "start_time": "2022-06-06T20:25:14.518Z"
   },
   {
    "duration": 580,
    "start_time": "2022-06-06T20:25:15.110Z"
   },
   {
    "duration": 316,
    "start_time": "2022-06-06T20:25:15.692Z"
   },
   {
    "duration": 273,
    "start_time": "2022-06-06T20:25:16.010Z"
   },
   {
    "duration": 476,
    "start_time": "2022-06-06T20:25:16.284Z"
   },
   {
    "duration": 587,
    "start_time": "2022-06-06T20:25:16.762Z"
   },
   {
    "duration": 145,
    "start_time": "2022-06-06T20:25:17.352Z"
   },
   {
    "duration": 10,
    "start_time": "2022-06-06T20:25:17.498Z"
   },
   {
    "duration": 5,
    "start_time": "2022-06-06T20:25:17.509Z"
   },
   {
    "duration": 6,
    "start_time": "2022-06-06T20:25:17.515Z"
   },
   {
    "duration": 8,
    "start_time": "2022-06-06T20:25:17.523Z"
   },
   {
    "duration": 14,
    "start_time": "2022-06-06T20:25:17.553Z"
   },
   {
    "duration": 4,
    "start_time": "2022-06-06T20:25:17.569Z"
   },
   {
    "duration": 17,
    "start_time": "2022-06-06T20:25:17.575Z"
   },
   {
    "duration": 59,
    "start_time": "2022-06-06T20:25:17.594Z"
   },
   {
    "duration": 105,
    "start_time": "2022-06-06T20:25:17.655Z"
   },
   {
    "duration": 873,
    "start_time": "2022-06-06T20:25:17.762Z"
   },
   {
    "duration": 148,
    "start_time": "2022-06-06T20:25:18.637Z"
   },
   {
    "duration": 22278,
    "start_time": "2022-06-06T20:25:18.786Z"
   },
   {
    "duration": 5374,
    "start_time": "2022-06-06T20:25:41.066Z"
   },
   {
    "duration": 11,
    "start_time": "2022-06-06T20:25:46.441Z"
   },
   {
    "duration": 183,
    "start_time": "2022-06-06T20:25:46.453Z"
   },
   {
    "duration": 26616,
    "start_time": "2022-06-06T20:25:46.637Z"
   },
   {
    "duration": 6835,
    "start_time": "2022-06-06T20:26:13.255Z"
   },
   {
    "duration": 120,
    "start_time": "2022-06-06T20:26:20.092Z"
   },
   {
    "duration": 0,
    "start_time": "2022-06-06T20:26:20.214Z"
   },
   {
    "duration": 0,
    "start_time": "2022-06-06T20:26:20.215Z"
   },
   {
    "duration": 0,
    "start_time": "2022-06-06T20:26:20.216Z"
   },
   {
    "duration": 0,
    "start_time": "2022-06-06T20:26:20.216Z"
   },
   {
    "duration": 0,
    "start_time": "2022-06-06T20:26:20.218Z"
   },
   {
    "duration": 0,
    "start_time": "2022-06-06T20:26:20.218Z"
   },
   {
    "duration": 0,
    "start_time": "2022-06-06T20:26:20.220Z"
   },
   {
    "duration": 0,
    "start_time": "2022-06-06T20:26:20.221Z"
   },
   {
    "duration": 0,
    "start_time": "2022-06-06T20:26:20.221Z"
   },
   {
    "duration": 1294,
    "start_time": "2022-06-06T20:27:19.729Z"
   },
   {
    "duration": 39,
    "start_time": "2022-06-06T20:27:21.025Z"
   },
   {
    "duration": 8,
    "start_time": "2022-06-06T20:27:21.066Z"
   },
   {
    "duration": 229,
    "start_time": "2022-06-06T20:27:21.076Z"
   },
   {
    "duration": 4,
    "start_time": "2022-06-06T20:27:21.307Z"
   },
   {
    "duration": 5,
    "start_time": "2022-06-06T20:27:21.313Z"
   },
   {
    "duration": 42,
    "start_time": "2022-06-06T20:27:21.320Z"
   },
   {
    "duration": 26,
    "start_time": "2022-06-06T20:27:21.364Z"
   },
   {
    "duration": 400,
    "start_time": "2022-06-06T20:27:21.391Z"
   },
   {
    "duration": 4,
    "start_time": "2022-06-06T20:27:21.793Z"
   },
   {
    "duration": 30,
    "start_time": "2022-06-06T20:27:21.799Z"
   },
   {
    "duration": 10,
    "start_time": "2022-06-06T20:27:21.831Z"
   },
   {
    "duration": 6,
    "start_time": "2022-06-06T20:27:21.842Z"
   },
   {
    "duration": 11,
    "start_time": "2022-06-06T20:27:21.852Z"
   },
   {
    "duration": 19,
    "start_time": "2022-06-06T20:27:21.864Z"
   },
   {
    "duration": 46,
    "start_time": "2022-06-06T20:27:21.884Z"
   },
   {
    "duration": 591,
    "start_time": "2022-06-06T20:27:21.932Z"
   },
   {
    "duration": 545,
    "start_time": "2022-06-06T20:27:22.525Z"
   },
   {
    "duration": 314,
    "start_time": "2022-06-06T20:27:23.072Z"
   },
   {
    "duration": 264,
    "start_time": "2022-06-06T20:27:23.388Z"
   },
   {
    "duration": 469,
    "start_time": "2022-06-06T20:27:23.654Z"
   },
   {
    "duration": 599,
    "start_time": "2022-06-06T20:27:24.127Z"
   },
   {
    "duration": 140,
    "start_time": "2022-06-06T20:27:24.728Z"
   },
   {
    "duration": 11,
    "start_time": "2022-06-06T20:27:24.870Z"
   },
   {
    "duration": 5,
    "start_time": "2022-06-06T20:27:24.883Z"
   },
   {
    "duration": 4,
    "start_time": "2022-06-06T20:27:24.890Z"
   },
   {
    "duration": 13,
    "start_time": "2022-06-06T20:27:24.896Z"
   },
   {
    "duration": 13,
    "start_time": "2022-06-06T20:27:24.912Z"
   },
   {
    "duration": 25,
    "start_time": "2022-06-06T20:27:24.927Z"
   },
   {
    "duration": 7,
    "start_time": "2022-06-06T20:27:24.954Z"
   },
   {
    "duration": 36,
    "start_time": "2022-06-06T20:27:24.963Z"
   },
   {
    "duration": 155,
    "start_time": "2022-06-06T20:27:25.000Z"
   },
   {
    "duration": 831,
    "start_time": "2022-06-06T20:27:25.157Z"
   },
   {
    "duration": 175,
    "start_time": "2022-06-06T20:27:25.990Z"
   },
   {
    "duration": 20586,
    "start_time": "2022-06-06T20:27:26.166Z"
   },
   {
    "duration": 5104,
    "start_time": "2022-06-06T20:27:46.757Z"
   },
   {
    "duration": 9,
    "start_time": "2022-06-06T20:27:51.862Z"
   },
   {
    "duration": 203,
    "start_time": "2022-06-06T20:27:51.873Z"
   },
   {
    "duration": 26878,
    "start_time": "2022-06-06T20:27:52.077Z"
   },
   {
    "duration": 6770,
    "start_time": "2022-06-06T20:28:18.956Z"
   },
   {
    "duration": 10,
    "start_time": "2022-06-06T20:28:25.728Z"
   },
   {
    "duration": 58,
    "start_time": "2022-06-06T20:28:25.739Z"
   },
   {
    "duration": 12158,
    "start_time": "2022-06-06T20:28:25.799Z"
   },
   {
    "duration": 2105,
    "start_time": "2022-06-06T20:28:37.958Z"
   },
   {
    "duration": 9,
    "start_time": "2022-06-06T20:28:40.065Z"
   },
   {
    "duration": 270,
    "start_time": "2022-06-06T20:28:40.076Z"
   },
   {
    "duration": 18,
    "start_time": "2022-06-06T20:28:40.348Z"
   },
   {
    "duration": 5,
    "start_time": "2022-06-06T20:28:40.368Z"
   },
   {
    "duration": 4,
    "start_time": "2022-06-06T20:28:40.374Z"
   },
   {
    "duration": 158,
    "start_time": "2022-06-06T20:28:40.379Z"
   },
   {
    "duration": 1348,
    "start_time": "2022-06-06T20:31:09.185Z"
   },
   {
    "duration": 48,
    "start_time": "2022-06-06T20:31:10.535Z"
   },
   {
    "duration": 9,
    "start_time": "2022-06-06T20:31:10.585Z"
   },
   {
    "duration": 193,
    "start_time": "2022-06-06T20:31:10.596Z"
   },
   {
    "duration": 3,
    "start_time": "2022-06-06T20:31:10.790Z"
   },
   {
    "duration": 7,
    "start_time": "2022-06-06T20:31:10.795Z"
   },
   {
    "duration": 15,
    "start_time": "2022-06-06T20:31:10.804Z"
   },
   {
    "duration": 36,
    "start_time": "2022-06-06T20:31:10.822Z"
   },
   {
    "duration": 377,
    "start_time": "2022-06-06T20:31:10.860Z"
   },
   {
    "duration": 3,
    "start_time": "2022-06-06T20:31:11.240Z"
   },
   {
    "duration": 33,
    "start_time": "2022-06-06T20:31:11.244Z"
   },
   {
    "duration": 7,
    "start_time": "2022-06-06T20:31:11.280Z"
   },
   {
    "duration": 11,
    "start_time": "2022-06-06T20:31:11.288Z"
   },
   {
    "duration": 12,
    "start_time": "2022-06-06T20:31:11.300Z"
   },
   {
    "duration": 13,
    "start_time": "2022-06-06T20:31:11.314Z"
   },
   {
    "duration": 18,
    "start_time": "2022-06-06T20:31:11.329Z"
   },
   {
    "duration": 552,
    "start_time": "2022-06-06T20:31:11.352Z"
   },
   {
    "duration": 560,
    "start_time": "2022-06-06T20:31:11.906Z"
   },
   {
    "duration": 348,
    "start_time": "2022-06-06T20:31:12.470Z"
   },
   {
    "duration": 274,
    "start_time": "2022-06-06T20:31:12.819Z"
   },
   {
    "duration": 511,
    "start_time": "2022-06-06T20:31:13.094Z"
   },
   {
    "duration": 641,
    "start_time": "2022-06-06T20:31:13.607Z"
   },
   {
    "duration": 142,
    "start_time": "2022-06-06T20:31:14.250Z"
   },
   {
    "duration": 11,
    "start_time": "2022-06-06T20:31:14.394Z"
   },
   {
    "duration": 5,
    "start_time": "2022-06-06T20:31:14.407Z"
   },
   {
    "duration": 4,
    "start_time": "2022-06-06T20:31:14.414Z"
   },
   {
    "duration": 35,
    "start_time": "2022-06-06T20:31:14.419Z"
   },
   {
    "duration": 15,
    "start_time": "2022-06-06T20:31:14.469Z"
   },
   {
    "duration": 4,
    "start_time": "2022-06-06T20:31:14.486Z"
   },
   {
    "duration": 9,
    "start_time": "2022-06-06T20:31:14.492Z"
   },
   {
    "duration": 35,
    "start_time": "2022-06-06T20:31:14.503Z"
   },
   {
    "duration": 135,
    "start_time": "2022-06-06T20:31:14.540Z"
   },
   {
    "duration": 818,
    "start_time": "2022-06-06T20:31:14.751Z"
   },
   {
    "duration": 196,
    "start_time": "2022-06-06T20:31:15.571Z"
   },
   {
    "duration": 16307,
    "start_time": "2022-06-06T20:31:15.769Z"
   },
   {
    "duration": 5376,
    "start_time": "2022-06-06T20:31:32.156Z"
   },
   {
    "duration": 9,
    "start_time": "2022-06-06T20:31:37.533Z"
   },
   {
    "duration": 186,
    "start_time": "2022-06-06T20:31:37.543Z"
   },
   {
    "duration": 21033,
    "start_time": "2022-06-06T20:31:37.731Z"
   },
   {
    "duration": 6847,
    "start_time": "2022-06-06T20:31:58.766Z"
   },
   {
    "duration": 9,
    "start_time": "2022-06-06T20:32:05.614Z"
   },
   {
    "duration": 68,
    "start_time": "2022-06-06T20:32:05.624Z"
   },
   {
    "duration": 11471,
    "start_time": "2022-06-06T20:32:05.694Z"
   },
   {
    "duration": 2186,
    "start_time": "2022-06-06T20:32:17.167Z"
   },
   {
    "duration": 13,
    "start_time": "2022-06-06T20:32:19.354Z"
   },
   {
    "duration": 278,
    "start_time": "2022-06-06T20:32:19.369Z"
   },
   {
    "duration": 27,
    "start_time": "2022-06-06T20:32:19.649Z"
   },
   {
    "duration": 15,
    "start_time": "2022-06-06T20:32:19.678Z"
   },
   {
    "duration": 5,
    "start_time": "2022-06-06T20:32:19.695Z"
   },
   {
    "duration": 201,
    "start_time": "2022-06-06T20:32:19.702Z"
   },
   {
    "duration": 1581,
    "start_time": "2022-06-07T11:52:26.860Z"
   },
   {
    "duration": 83,
    "start_time": "2022-06-07T11:52:28.444Z"
   },
   {
    "duration": 10,
    "start_time": "2022-06-07T11:52:28.530Z"
   },
   {
    "duration": 224,
    "start_time": "2022-06-07T11:52:28.542Z"
   },
   {
    "duration": 4,
    "start_time": "2022-06-07T11:52:28.767Z"
   },
   {
    "duration": 18,
    "start_time": "2022-06-07T11:52:28.773Z"
   },
   {
    "duration": 35,
    "start_time": "2022-06-07T11:52:28.793Z"
   },
   {
    "duration": 29,
    "start_time": "2022-06-07T11:52:28.830Z"
   },
   {
    "duration": 483,
    "start_time": "2022-06-07T11:52:28.861Z"
   },
   {
    "duration": 4,
    "start_time": "2022-06-07T11:52:29.347Z"
   },
   {
    "duration": 46,
    "start_time": "2022-06-07T11:52:29.353Z"
   },
   {
    "duration": 26,
    "start_time": "2022-06-07T11:52:29.402Z"
   },
   {
    "duration": 15,
    "start_time": "2022-06-07T11:52:29.430Z"
   },
   {
    "duration": 31,
    "start_time": "2022-06-07T11:52:29.446Z"
   },
   {
    "duration": 20,
    "start_time": "2022-06-07T11:52:29.479Z"
   },
   {
    "duration": 30,
    "start_time": "2022-06-07T11:52:29.501Z"
   },
   {
    "duration": 672,
    "start_time": "2022-06-07T11:52:29.534Z"
   },
   {
    "duration": 566,
    "start_time": "2022-06-07T11:52:30.207Z"
   },
   {
    "duration": 343,
    "start_time": "2022-06-07T11:52:30.775Z"
   },
   {
    "duration": 317,
    "start_time": "2022-06-07T11:52:31.120Z"
   },
   {
    "duration": 610,
    "start_time": "2022-06-07T11:52:31.439Z"
   },
   {
    "duration": 775,
    "start_time": "2022-06-07T11:52:32.051Z"
   },
   {
    "duration": 155,
    "start_time": "2022-06-07T11:52:32.828Z"
   },
   {
    "duration": 12,
    "start_time": "2022-06-07T11:52:32.984Z"
   },
   {
    "duration": 18,
    "start_time": "2022-06-07T11:52:32.998Z"
   },
   {
    "duration": 14,
    "start_time": "2022-06-07T11:52:33.017Z"
   },
   {
    "duration": 15,
    "start_time": "2022-06-07T11:52:33.033Z"
   },
   {
    "duration": 38,
    "start_time": "2022-06-07T11:52:33.052Z"
   },
   {
    "duration": 19,
    "start_time": "2022-06-07T11:52:33.092Z"
   },
   {
    "duration": 18,
    "start_time": "2022-06-07T11:52:33.113Z"
   },
   {
    "duration": 49,
    "start_time": "2022-06-07T11:52:33.134Z"
   },
   {
    "duration": 353,
    "start_time": "2022-06-07T11:52:33.185Z"
   },
   {
    "duration": 921,
    "start_time": "2022-06-07T11:52:33.541Z"
   },
   {
    "duration": 179,
    "start_time": "2022-06-07T11:52:34.464Z"
   },
   {
    "duration": 22801,
    "start_time": "2022-06-07T11:52:34.645Z"
   },
   {
    "duration": 6132,
    "start_time": "2022-06-07T11:52:57.527Z"
   },
   {
    "duration": 12,
    "start_time": "2022-06-07T11:53:03.662Z"
   },
   {
    "duration": 299,
    "start_time": "2022-06-07T11:53:03.676Z"
   },
   {
    "duration": 26355,
    "start_time": "2022-06-07T11:53:03.979Z"
   },
   {
    "duration": 8041,
    "start_time": "2022-06-07T11:53:30.337Z"
   },
   {
    "duration": 14,
    "start_time": "2022-06-07T11:53:38.382Z"
   },
   {
    "duration": 108,
    "start_time": "2022-06-07T11:53:38.397Z"
   },
   {
    "duration": 17019,
    "start_time": "2022-06-07T11:53:38.507Z"
   },
   {
    "duration": 3141,
    "start_time": "2022-06-07T11:53:55.528Z"
   },
   {
    "duration": 6,
    "start_time": "2022-06-07T11:53:58.671Z"
   },
   {
    "duration": 134,
    "start_time": "2022-06-07T11:53:58.678Z"
   },
   {
    "duration": 0,
    "start_time": "2022-06-07T11:53:58.814Z"
   },
   {
    "duration": 0,
    "start_time": "2022-06-07T11:53:58.815Z"
   },
   {
    "duration": 0,
    "start_time": "2022-06-07T11:53:58.817Z"
   },
   {
    "duration": 0,
    "start_time": "2022-06-07T11:53:58.826Z"
   },
   {
    "duration": 1551,
    "start_time": "2022-06-07T11:54:33.500Z"
   },
   {
    "duration": 66,
    "start_time": "2022-06-07T11:54:35.054Z"
   },
   {
    "duration": 18,
    "start_time": "2022-06-07T11:54:35.123Z"
   },
   {
    "duration": 283,
    "start_time": "2022-06-07T11:54:35.144Z"
   },
   {
    "duration": 5,
    "start_time": "2022-06-07T11:54:35.429Z"
   },
   {
    "duration": 26,
    "start_time": "2022-06-07T11:54:35.436Z"
   },
   {
    "duration": 27,
    "start_time": "2022-06-07T11:54:35.463Z"
   },
   {
    "duration": 33,
    "start_time": "2022-06-07T11:54:35.492Z"
   },
   {
    "duration": 401,
    "start_time": "2022-06-07T11:54:35.527Z"
   },
   {
    "duration": 5,
    "start_time": "2022-06-07T11:54:35.931Z"
   },
   {
    "duration": 55,
    "start_time": "2022-06-07T11:54:35.937Z"
   },
   {
    "duration": 7,
    "start_time": "2022-06-07T11:54:35.993Z"
   },
   {
    "duration": 29,
    "start_time": "2022-06-07T11:54:36.001Z"
   },
   {
    "duration": 28,
    "start_time": "2022-06-07T11:54:36.032Z"
   },
   {
    "duration": 18,
    "start_time": "2022-06-07T11:54:36.062Z"
   },
   {
    "duration": 33,
    "start_time": "2022-06-07T11:54:36.081Z"
   },
   {
    "duration": 670,
    "start_time": "2022-06-07T11:54:36.116Z"
   },
   {
    "duration": 665,
    "start_time": "2022-06-07T11:54:36.787Z"
   },
   {
    "duration": 409,
    "start_time": "2022-06-07T11:54:37.455Z"
   },
   {
    "duration": 333,
    "start_time": "2022-06-07T11:54:37.867Z"
   },
   {
    "duration": 602,
    "start_time": "2022-06-07T11:54:38.202Z"
   },
   {
    "duration": 822,
    "start_time": "2022-06-07T11:54:38.806Z"
   },
   {
    "duration": 186,
    "start_time": "2022-06-07T11:54:39.630Z"
   },
   {
    "duration": 26,
    "start_time": "2022-06-07T11:54:39.819Z"
   },
   {
    "duration": 10,
    "start_time": "2022-06-07T11:54:39.848Z"
   },
   {
    "duration": 66,
    "start_time": "2022-06-07T11:54:39.862Z"
   },
   {
    "duration": 30,
    "start_time": "2022-06-07T11:54:39.931Z"
   },
   {
    "duration": 25,
    "start_time": "2022-06-07T11:54:39.965Z"
   },
   {
    "duration": 16,
    "start_time": "2022-06-07T11:54:39.992Z"
   },
   {
    "duration": 21,
    "start_time": "2022-06-07T11:54:40.011Z"
   },
   {
    "duration": 77,
    "start_time": "2022-06-07T11:54:40.034Z"
   },
   {
    "duration": 631,
    "start_time": "2022-06-07T11:54:40.114Z"
   },
   {
    "duration": 1123,
    "start_time": "2022-06-07T11:54:40.749Z"
   },
   {
    "duration": 224,
    "start_time": "2022-06-07T11:54:41.874Z"
   },
   {
    "duration": 20927,
    "start_time": "2022-06-07T11:54:42.100Z"
   },
   {
    "duration": 6301,
    "start_time": "2022-06-07T11:55:03.029Z"
   },
   {
    "duration": 15,
    "start_time": "2022-06-07T11:55:09.332Z"
   },
   {
    "duration": 236,
    "start_time": "2022-06-07T11:55:09.350Z"
   },
   {
    "duration": 1467,
    "start_time": "2022-06-07T11:55:29.936Z"
   },
   {
    "duration": 48,
    "start_time": "2022-06-07T11:55:31.405Z"
   },
   {
    "duration": 11,
    "start_time": "2022-06-07T11:55:31.455Z"
   },
   {
    "duration": 231,
    "start_time": "2022-06-07T11:55:31.468Z"
   },
   {
    "duration": 19,
    "start_time": "2022-06-07T11:55:31.707Z"
   },
   {
    "duration": 5,
    "start_time": "2022-06-07T11:55:31.728Z"
   },
   {
    "duration": 24,
    "start_time": "2022-06-07T11:55:31.735Z"
   },
   {
    "duration": 40,
    "start_time": "2022-06-07T11:55:31.761Z"
   },
   {
    "duration": 434,
    "start_time": "2022-06-07T11:55:31.803Z"
   },
   {
    "duration": 4,
    "start_time": "2022-06-07T11:55:32.240Z"
   },
   {
    "duration": 24,
    "start_time": "2022-06-07T11:55:32.246Z"
   },
   {
    "duration": 6,
    "start_time": "2022-06-07T11:55:32.272Z"
   },
   {
    "duration": 45,
    "start_time": "2022-06-07T11:55:32.279Z"
   },
   {
    "duration": 9,
    "start_time": "2022-06-07T11:55:32.325Z"
   },
   {
    "duration": 18,
    "start_time": "2022-06-07T11:55:32.335Z"
   },
   {
    "duration": 28,
    "start_time": "2022-06-07T11:55:32.354Z"
   },
   {
    "duration": 618,
    "start_time": "2022-06-07T11:55:32.383Z"
   },
   {
    "duration": 646,
    "start_time": "2022-06-07T11:55:33.004Z"
   },
   {
    "duration": 429,
    "start_time": "2022-06-07T11:55:33.652Z"
   },
   {
    "duration": 292,
    "start_time": "2022-06-07T11:55:34.083Z"
   },
   {
    "duration": 609,
    "start_time": "2022-06-07T11:55:34.377Z"
   },
   {
    "duration": 667,
    "start_time": "2022-06-07T11:55:34.988Z"
   },
   {
    "duration": 174,
    "start_time": "2022-06-07T11:55:35.657Z"
   },
   {
    "duration": 15,
    "start_time": "2022-06-07T11:55:35.833Z"
   },
   {
    "duration": 27,
    "start_time": "2022-06-07T11:55:35.850Z"
   },
   {
    "duration": 5,
    "start_time": "2022-06-07T11:55:35.879Z"
   },
   {
    "duration": 12,
    "start_time": "2022-06-07T11:55:35.886Z"
   },
   {
    "duration": 17,
    "start_time": "2022-06-07T11:55:35.902Z"
   },
   {
    "duration": 10,
    "start_time": "2022-06-07T11:55:35.921Z"
   },
   {
    "duration": 16,
    "start_time": "2022-06-07T11:55:35.933Z"
   },
   {
    "duration": 89,
    "start_time": "2022-06-07T11:55:35.951Z"
   },
   {
    "duration": 89,
    "start_time": "2022-06-07T11:55:36.042Z"
   },
   {
    "duration": 937,
    "start_time": "2022-06-07T11:55:36.133Z"
   },
   {
    "duration": 188,
    "start_time": "2022-06-07T11:55:37.073Z"
   },
   {
    "duration": 22169,
    "start_time": "2022-06-07T11:55:37.262Z"
   },
   {
    "duration": 5955,
    "start_time": "2022-06-07T11:55:59.435Z"
   },
   {
    "duration": 12,
    "start_time": "2022-06-07T11:56:05.392Z"
   },
   {
    "duration": 260,
    "start_time": "2022-06-07T11:56:05.406Z"
   },
   {
    "duration": 30664,
    "start_time": "2022-06-07T11:56:05.667Z"
   },
   {
    "duration": 7321,
    "start_time": "2022-06-07T11:56:36.334Z"
   },
   {
    "duration": 12,
    "start_time": "2022-06-07T11:56:43.657Z"
   },
   {
    "duration": 111,
    "start_time": "2022-06-07T11:56:43.671Z"
   },
   {
    "duration": 15744,
    "start_time": "2022-06-07T11:56:43.785Z"
   },
   {
    "duration": 3185,
    "start_time": "2022-06-07T11:56:59.531Z"
   },
   {
    "duration": 10,
    "start_time": "2022-06-07T11:57:02.717Z"
   },
   {
    "duration": 147,
    "start_time": "2022-06-07T11:57:02.729Z"
   },
   {
    "duration": 0,
    "start_time": "2022-06-07T11:57:02.877Z"
   },
   {
    "duration": 0,
    "start_time": "2022-06-07T11:57:02.878Z"
   },
   {
    "duration": 0,
    "start_time": "2022-06-07T11:57:02.880Z"
   },
   {
    "duration": 0,
    "start_time": "2022-06-07T11:57:02.881Z"
   },
   {
    "duration": 1397,
    "start_time": "2022-06-07T12:02:35.079Z"
   },
   {
    "duration": 41,
    "start_time": "2022-06-07T12:02:36.479Z"
   },
   {
    "duration": 14,
    "start_time": "2022-06-07T12:02:36.522Z"
   },
   {
    "duration": 277,
    "start_time": "2022-06-07T12:02:36.540Z"
   },
   {
    "duration": 5,
    "start_time": "2022-06-07T12:02:36.835Z"
   },
   {
    "duration": 65,
    "start_time": "2022-06-07T12:02:36.842Z"
   },
   {
    "duration": 29,
    "start_time": "2022-06-07T12:02:36.909Z"
   },
   {
    "duration": 51,
    "start_time": "2022-06-07T12:02:36.941Z"
   },
   {
    "duration": 485,
    "start_time": "2022-06-07T12:02:36.994Z"
   },
   {
    "duration": 4,
    "start_time": "2022-06-07T12:02:37.483Z"
   },
   {
    "duration": 18,
    "start_time": "2022-06-07T12:02:37.488Z"
   },
   {
    "duration": 50,
    "start_time": "2022-06-07T12:02:37.508Z"
   },
   {
    "duration": 22,
    "start_time": "2022-06-07T12:02:37.560Z"
   },
   {
    "duration": 14,
    "start_time": "2022-06-07T12:02:37.583Z"
   },
   {
    "duration": 17,
    "start_time": "2022-06-07T12:02:37.598Z"
   },
   {
    "duration": 44,
    "start_time": "2022-06-07T12:02:37.617Z"
   },
   {
    "duration": 803,
    "start_time": "2022-06-07T12:02:37.667Z"
   },
   {
    "duration": 1006,
    "start_time": "2022-06-07T12:02:38.472Z"
   },
   {
    "duration": 599,
    "start_time": "2022-06-07T12:02:39.480Z"
   },
   {
    "duration": 326,
    "start_time": "2022-06-07T12:02:40.082Z"
   },
   {
    "duration": 863,
    "start_time": "2022-06-07T12:02:40.410Z"
   },
   {
    "duration": 1582,
    "start_time": "2022-06-07T12:02:41.276Z"
   },
   {
    "duration": 240,
    "start_time": "2022-06-07T12:02:42.860Z"
   },
   {
    "duration": 10,
    "start_time": "2022-06-07T12:02:43.101Z"
   },
   {
    "duration": 9,
    "start_time": "2022-06-07T12:02:43.112Z"
   },
   {
    "duration": 45,
    "start_time": "2022-06-07T12:02:43.123Z"
   },
   {
    "duration": 12,
    "start_time": "2022-06-07T12:02:43.170Z"
   },
   {
    "duration": 22,
    "start_time": "2022-06-07T12:02:43.185Z"
   },
   {
    "duration": 19,
    "start_time": "2022-06-07T12:02:43.209Z"
   },
   {
    "duration": 49,
    "start_time": "2022-06-07T12:02:43.241Z"
   },
   {
    "duration": 91,
    "start_time": "2022-06-07T12:02:43.291Z"
   },
   {
    "duration": 349,
    "start_time": "2022-06-07T12:02:43.384Z"
   },
   {
    "duration": 1007,
    "start_time": "2022-06-07T12:02:43.768Z"
   },
   {
    "duration": 214,
    "start_time": "2022-06-07T12:02:44.782Z"
   },
   {
    "duration": 20638,
    "start_time": "2022-06-07T12:02:44.998Z"
   },
   {
    "duration": 6478,
    "start_time": "2022-06-07T12:03:05.638Z"
   },
   {
    "duration": 20,
    "start_time": "2022-06-07T12:03:12.118Z"
   },
   {
    "duration": 277,
    "start_time": "2022-06-07T12:03:12.146Z"
   },
   {
    "duration": 23600,
    "start_time": "2022-06-07T12:03:12.428Z"
   },
   {
    "duration": 8648,
    "start_time": "2022-06-07T12:03:36.034Z"
   },
   {
    "duration": 13,
    "start_time": "2022-06-07T12:03:44.685Z"
   },
   {
    "duration": 111,
    "start_time": "2022-06-07T12:03:44.700Z"
   },
   {
    "duration": 13248,
    "start_time": "2022-06-07T12:03:44.813Z"
   },
   {
    "duration": 3890,
    "start_time": "2022-06-07T12:03:58.129Z"
   },
   {
    "duration": 13,
    "start_time": "2022-06-07T12:04:02.021Z"
   },
   {
    "duration": 416,
    "start_time": "2022-06-07T12:04:02.036Z"
   },
   {
    "duration": 25,
    "start_time": "2022-06-07T12:04:02.454Z"
   },
   {
    "duration": 13,
    "start_time": "2022-06-07T12:04:02.480Z"
   },
   {
    "duration": 9,
    "start_time": "2022-06-07T12:04:02.494Z"
   },
   {
    "duration": 244,
    "start_time": "2022-06-07T12:04:02.504Z"
   },
   {
    "duration": 1475,
    "start_time": "2022-06-07T12:11:19.869Z"
   },
   {
    "duration": 47,
    "start_time": "2022-06-07T12:11:21.346Z"
   },
   {
    "duration": 9,
    "start_time": "2022-06-07T12:11:21.395Z"
   },
   {
    "duration": 261,
    "start_time": "2022-06-07T12:11:21.407Z"
   },
   {
    "duration": 4,
    "start_time": "2022-06-07T12:11:21.672Z"
   },
   {
    "duration": 9,
    "start_time": "2022-06-07T12:11:21.678Z"
   },
   {
    "duration": 19,
    "start_time": "2022-06-07T12:11:21.689Z"
   },
   {
    "duration": 51,
    "start_time": "2022-06-07T12:11:21.709Z"
   },
   {
    "duration": 454,
    "start_time": "2022-06-07T12:11:21.763Z"
   },
   {
    "duration": 17,
    "start_time": "2022-06-07T12:11:22.220Z"
   },
   {
    "duration": 58,
    "start_time": "2022-06-07T12:11:22.239Z"
   },
   {
    "duration": 6,
    "start_time": "2022-06-07T12:11:22.298Z"
   },
   {
    "duration": 13,
    "start_time": "2022-06-07T12:11:22.306Z"
   },
   {
    "duration": 21,
    "start_time": "2022-06-07T12:11:22.321Z"
   },
   {
    "duration": 43,
    "start_time": "2022-06-07T12:11:22.343Z"
   },
   {
    "duration": 27,
    "start_time": "2022-06-07T12:11:22.388Z"
   },
   {
    "duration": 659,
    "start_time": "2022-06-07T12:11:22.417Z"
   },
   {
    "duration": 628,
    "start_time": "2022-06-07T12:11:23.078Z"
   },
   {
    "duration": 380,
    "start_time": "2022-06-07T12:11:23.708Z"
   },
   {
    "duration": 372,
    "start_time": "2022-06-07T12:11:24.090Z"
   },
   {
    "duration": 669,
    "start_time": "2022-06-07T12:11:24.470Z"
   },
   {
    "duration": 726,
    "start_time": "2022-06-07T12:11:25.145Z"
   },
   {
    "duration": 195,
    "start_time": "2022-06-07T12:11:25.874Z"
   },
   {
    "duration": 10,
    "start_time": "2022-06-07T12:11:26.071Z"
   },
   {
    "duration": 5,
    "start_time": "2022-06-07T12:11:26.083Z"
   },
   {
    "duration": 6,
    "start_time": "2022-06-07T12:11:26.089Z"
   },
   {
    "duration": 7,
    "start_time": "2022-06-07T12:11:26.096Z"
   },
   {
    "duration": 15,
    "start_time": "2022-06-07T12:11:26.106Z"
   },
   {
    "duration": 35,
    "start_time": "2022-06-07T12:11:26.131Z"
   },
   {
    "duration": 9,
    "start_time": "2022-06-07T12:11:26.167Z"
   },
   {
    "duration": 42,
    "start_time": "2022-06-07T12:11:26.177Z"
   },
   {
    "duration": 313,
    "start_time": "2022-06-07T12:11:26.222Z"
   },
   {
    "duration": 1032,
    "start_time": "2022-06-07T12:11:26.538Z"
   },
   {
    "duration": 194,
    "start_time": "2022-06-07T12:11:27.572Z"
   },
   {
    "duration": 21079,
    "start_time": "2022-06-07T12:11:27.769Z"
   },
   {
    "duration": 6920,
    "start_time": "2022-06-07T12:11:48.851Z"
   },
   {
    "duration": 10,
    "start_time": "2022-06-07T12:11:55.773Z"
   },
   {
    "duration": 226,
    "start_time": "2022-06-07T12:11:55.785Z"
   },
   {
    "duration": 24762,
    "start_time": "2022-06-07T12:11:56.014Z"
   },
   {
    "duration": 9783,
    "start_time": "2022-06-07T12:12:20.789Z"
   },
   {
    "duration": 21,
    "start_time": "2022-06-07T12:12:30.583Z"
   },
   {
    "duration": 209,
    "start_time": "2022-06-07T12:12:30.610Z"
   },
   {
    "duration": 14413,
    "start_time": "2022-06-07T12:12:30.821Z"
   },
   {
    "duration": 4041,
    "start_time": "2022-06-07T12:12:45.241Z"
   },
   {
    "duration": 369,
    "start_time": "2022-06-07T12:12:49.285Z"
   },
   {
    "duration": 25,
    "start_time": "2022-06-07T12:12:49.658Z"
   },
   {
    "duration": 8,
    "start_time": "2022-06-07T12:12:49.684Z"
   },
   {
    "duration": 8,
    "start_time": "2022-06-07T12:12:49.694Z"
   },
   {
    "duration": 208,
    "start_time": "2022-06-07T12:12:49.704Z"
   },
   {
    "duration": 1462,
    "start_time": "2022-06-07T12:14:01.859Z"
   },
   {
    "duration": 60,
    "start_time": "2022-06-07T12:14:03.323Z"
   },
   {
    "duration": 9,
    "start_time": "2022-06-07T12:14:03.385Z"
   },
   {
    "duration": 254,
    "start_time": "2022-06-07T12:14:03.397Z"
   },
   {
    "duration": 4,
    "start_time": "2022-06-07T12:14:03.653Z"
   },
   {
    "duration": 16,
    "start_time": "2022-06-07T12:14:03.659Z"
   },
   {
    "duration": 16,
    "start_time": "2022-06-07T12:14:03.677Z"
   },
   {
    "duration": 22,
    "start_time": "2022-06-07T12:14:03.694Z"
   },
   {
    "duration": 426,
    "start_time": "2022-06-07T12:14:03.718Z"
   },
   {
    "duration": 7,
    "start_time": "2022-06-07T12:14:04.147Z"
   },
   {
    "duration": 17,
    "start_time": "2022-06-07T12:14:04.156Z"
   },
   {
    "duration": 7,
    "start_time": "2022-06-07T12:14:04.174Z"
   },
   {
    "duration": 15,
    "start_time": "2022-06-07T12:14:04.182Z"
   },
   {
    "duration": 11,
    "start_time": "2022-06-07T12:14:04.198Z"
   },
   {
    "duration": 55,
    "start_time": "2022-06-07T12:14:04.211Z"
   },
   {
    "duration": 27,
    "start_time": "2022-06-07T12:14:04.268Z"
   },
   {
    "duration": 675,
    "start_time": "2022-06-07T12:14:04.297Z"
   },
   {
    "duration": 609,
    "start_time": "2022-06-07T12:14:04.974Z"
   },
   {
    "duration": 378,
    "start_time": "2022-06-07T12:14:05.585Z"
   },
   {
    "duration": 315,
    "start_time": "2022-06-07T12:14:05.965Z"
   },
   {
    "duration": 562,
    "start_time": "2022-06-07T12:14:06.281Z"
   },
   {
    "duration": 700,
    "start_time": "2022-06-07T12:14:06.844Z"
   },
   {
    "duration": 152,
    "start_time": "2022-06-07T12:14:07.546Z"
   },
   {
    "duration": 11,
    "start_time": "2022-06-07T12:14:07.700Z"
   },
   {
    "duration": 19,
    "start_time": "2022-06-07T12:14:07.712Z"
   },
   {
    "duration": 36,
    "start_time": "2022-06-07T12:14:07.733Z"
   },
   {
    "duration": 11,
    "start_time": "2022-06-07T12:14:07.770Z"
   },
   {
    "duration": 15,
    "start_time": "2022-06-07T12:14:07.785Z"
   },
   {
    "duration": 8,
    "start_time": "2022-06-07T12:14:07.802Z"
   },
   {
    "duration": 12,
    "start_time": "2022-06-07T12:14:07.811Z"
   },
   {
    "duration": 71,
    "start_time": "2022-06-07T12:14:07.825Z"
   },
   {
    "duration": 452,
    "start_time": "2022-06-07T12:14:07.898Z"
   },
   {
    "duration": 929,
    "start_time": "2022-06-07T12:14:08.354Z"
   },
   {
    "duration": 184,
    "start_time": "2022-06-07T12:14:09.285Z"
   },
   {
    "duration": 20861,
    "start_time": "2022-06-07T12:14:09.471Z"
   },
   {
    "duration": 6225,
    "start_time": "2022-06-07T12:14:30.333Z"
   },
   {
    "duration": 11,
    "start_time": "2022-06-07T12:14:36.559Z"
   },
   {
    "duration": 236,
    "start_time": "2022-06-07T12:14:36.571Z"
   },
   {
    "duration": 26639,
    "start_time": "2022-06-07T12:14:36.809Z"
   },
   {
    "duration": 7765,
    "start_time": "2022-06-07T12:15:03.527Z"
   },
   {
    "duration": 10,
    "start_time": "2022-06-07T12:15:11.294Z"
   },
   {
    "duration": 97,
    "start_time": "2022-06-07T12:15:11.306Z"
   },
   {
    "duration": 14530,
    "start_time": "2022-06-07T12:15:11.405Z"
   },
   {
    "duration": 3211,
    "start_time": "2022-06-07T12:15:25.942Z"
   },
   {
    "duration": 5,
    "start_time": "2022-06-07T12:15:29.155Z"
   },
   {
    "duration": 320,
    "start_time": "2022-06-07T12:15:29.162Z"
   },
   {
    "duration": 19,
    "start_time": "2022-06-07T12:15:29.484Z"
   },
   {
    "duration": 8,
    "start_time": "2022-06-07T12:15:29.505Z"
   },
   {
    "duration": 10,
    "start_time": "2022-06-07T12:15:29.526Z"
   },
   {
    "duration": 167,
    "start_time": "2022-06-07T12:15:29.537Z"
   },
   {
    "duration": 1509,
    "start_time": "2022-06-07T12:24:14.276Z"
   },
   {
    "duration": 53,
    "start_time": "2022-06-07T12:24:15.787Z"
   },
   {
    "duration": 10,
    "start_time": "2022-06-07T12:24:15.842Z"
   },
   {
    "duration": 228,
    "start_time": "2022-06-07T12:24:15.855Z"
   },
   {
    "duration": 3,
    "start_time": "2022-06-07T12:24:16.085Z"
   },
   {
    "duration": 15,
    "start_time": "2022-06-07T12:24:16.090Z"
   },
   {
    "duration": 57,
    "start_time": "2022-06-07T12:24:16.107Z"
   },
   {
    "duration": 20,
    "start_time": "2022-06-07T12:24:16.166Z"
   },
   {
    "duration": 450,
    "start_time": "2022-06-07T12:24:16.188Z"
   },
   {
    "duration": 4,
    "start_time": "2022-06-07T12:24:16.641Z"
   },
   {
    "duration": 22,
    "start_time": "2022-06-07T12:24:16.647Z"
   },
   {
    "duration": 7,
    "start_time": "2022-06-07T12:24:16.671Z"
   },
   {
    "duration": 10,
    "start_time": "2022-06-07T12:24:16.679Z"
   },
   {
    "duration": 9,
    "start_time": "2022-06-07T12:24:16.691Z"
   },
   {
    "duration": 10,
    "start_time": "2022-06-07T12:24:16.702Z"
   },
   {
    "duration": 26,
    "start_time": "2022-06-07T12:24:16.727Z"
   },
   {
    "duration": 683,
    "start_time": "2022-06-07T12:24:16.755Z"
   },
   {
    "duration": 551,
    "start_time": "2022-06-07T12:24:17.445Z"
   },
   {
    "duration": 376,
    "start_time": "2022-06-07T12:24:17.998Z"
   },
   {
    "duration": 322,
    "start_time": "2022-06-07T12:24:18.376Z"
   },
   {
    "duration": 582,
    "start_time": "2022-06-07T12:24:18.700Z"
   },
   {
    "duration": 723,
    "start_time": "2022-06-07T12:24:19.284Z"
   },
   {
    "duration": 165,
    "start_time": "2022-06-07T12:24:20.009Z"
   },
   {
    "duration": 11,
    "start_time": "2022-06-07T12:24:20.176Z"
   },
   {
    "duration": 13,
    "start_time": "2022-06-07T12:24:20.189Z"
   },
   {
    "duration": 13,
    "start_time": "2022-06-07T12:24:20.204Z"
   },
   {
    "duration": 25,
    "start_time": "2022-06-07T12:24:20.219Z"
   },
   {
    "duration": 19,
    "start_time": "2022-06-07T12:24:20.249Z"
   },
   {
    "duration": 5,
    "start_time": "2022-06-07T12:24:20.270Z"
   },
   {
    "duration": 29,
    "start_time": "2022-06-07T12:24:20.277Z"
   },
   {
    "duration": 74,
    "start_time": "2022-06-07T12:24:20.308Z"
   },
   {
    "duration": 456,
    "start_time": "2022-06-07T12:24:20.383Z"
   },
   {
    "duration": 893,
    "start_time": "2022-06-07T12:24:20.847Z"
   },
   {
    "duration": 195,
    "start_time": "2022-06-07T12:24:21.743Z"
   },
   {
    "duration": 20885,
    "start_time": "2022-06-07T12:24:21.940Z"
   },
   {
    "duration": 5728,
    "start_time": "2022-06-07T12:24:42.829Z"
   },
   {
    "duration": 10,
    "start_time": "2022-06-07T12:24:48.558Z"
   },
   {
    "duration": 211,
    "start_time": "2022-06-07T12:24:48.569Z"
   },
   {
    "duration": 25946,
    "start_time": "2022-06-07T12:24:48.782Z"
   },
   {
    "duration": 7448,
    "start_time": "2022-06-07T12:25:14.731Z"
   },
   {
    "duration": 12,
    "start_time": "2022-06-07T12:25:22.182Z"
   },
   {
    "duration": 94,
    "start_time": "2022-06-07T12:25:22.197Z"
   },
   {
    "duration": 15451,
    "start_time": "2022-06-07T12:25:22.293Z"
   },
   {
    "duration": 3282,
    "start_time": "2022-06-07T12:25:37.752Z"
   },
   {
    "duration": 9,
    "start_time": "2022-06-07T12:25:41.040Z"
   },
   {
    "duration": 289,
    "start_time": "2022-06-07T12:25:41.051Z"
   },
   {
    "duration": 21,
    "start_time": "2022-06-07T12:25:41.345Z"
   },
   {
    "duration": 8,
    "start_time": "2022-06-07T12:25:41.367Z"
   },
   {
    "duration": 9,
    "start_time": "2022-06-07T12:25:41.376Z"
   },
   {
    "duration": 195,
    "start_time": "2022-06-07T12:25:41.386Z"
   },
   {
    "duration": 1711,
    "start_time": "2022-06-07T12:55:01.456Z"
   },
   {
    "duration": 42,
    "start_time": "2022-06-07T12:55:03.169Z"
   },
   {
    "duration": 9,
    "start_time": "2022-06-07T12:55:03.213Z"
   },
   {
    "duration": 339,
    "start_time": "2022-06-07T12:55:03.224Z"
   },
   {
    "duration": 5,
    "start_time": "2022-06-07T12:55:03.567Z"
   },
   {
    "duration": 19,
    "start_time": "2022-06-07T12:55:03.573Z"
   },
   {
    "duration": 39,
    "start_time": "2022-06-07T12:55:03.593Z"
   },
   {
    "duration": 63,
    "start_time": "2022-06-07T12:55:03.635Z"
   },
   {
    "duration": 477,
    "start_time": "2022-06-07T12:55:03.700Z"
   },
   {
    "duration": 5,
    "start_time": "2022-06-07T12:55:04.179Z"
   },
   {
    "duration": 24,
    "start_time": "2022-06-07T12:55:04.186Z"
   },
   {
    "duration": 25,
    "start_time": "2022-06-07T12:55:04.212Z"
   },
   {
    "duration": 35,
    "start_time": "2022-06-07T12:55:04.239Z"
   },
   {
    "duration": 14,
    "start_time": "2022-06-07T12:55:04.277Z"
   },
   {
    "duration": 17,
    "start_time": "2022-06-07T12:55:04.293Z"
   },
   {
    "duration": 52,
    "start_time": "2022-06-07T12:55:04.312Z"
   },
   {
    "duration": 733,
    "start_time": "2022-06-07T12:55:04.366Z"
   },
   {
    "duration": 597,
    "start_time": "2022-06-07T12:55:05.101Z"
   },
   {
    "duration": 396,
    "start_time": "2022-06-07T12:55:05.700Z"
   },
   {
    "duration": 325,
    "start_time": "2022-06-07T12:55:06.097Z"
   },
   {
    "duration": 644,
    "start_time": "2022-06-07T12:55:06.424Z"
   },
   {
    "duration": 740,
    "start_time": "2022-06-07T12:55:07.070Z"
   },
   {
    "duration": 177,
    "start_time": "2022-06-07T12:55:07.811Z"
   },
   {
    "duration": 13,
    "start_time": "2022-06-07T12:55:07.989Z"
   },
   {
    "duration": 6,
    "start_time": "2022-06-07T12:55:08.003Z"
   },
   {
    "duration": 4,
    "start_time": "2022-06-07T12:55:08.036Z"
   },
   {
    "duration": 42,
    "start_time": "2022-06-07T12:55:08.041Z"
   },
   {
    "duration": 27,
    "start_time": "2022-06-07T12:55:08.085Z"
   },
   {
    "duration": 4,
    "start_time": "2022-06-07T12:55:08.113Z"
   },
   {
    "duration": 60,
    "start_time": "2022-06-07T12:55:08.118Z"
   },
   {
    "duration": 84,
    "start_time": "2022-06-07T12:55:08.179Z"
   },
   {
    "duration": 374,
    "start_time": "2022-06-07T12:55:08.269Z"
   },
   {
    "duration": 1114,
    "start_time": "2022-06-07T12:55:08.651Z"
   },
   {
    "duration": 238,
    "start_time": "2022-06-07T12:55:09.768Z"
   },
   {
    "duration": 21517,
    "start_time": "2022-06-07T12:55:10.010Z"
   },
   {
    "duration": 6922,
    "start_time": "2022-06-07T12:55:31.538Z"
   },
   {
    "duration": 15,
    "start_time": "2022-06-07T12:55:38.462Z"
   },
   {
    "duration": 232,
    "start_time": "2022-06-07T12:55:38.479Z"
   },
   {
    "duration": 24850,
    "start_time": "2022-06-07T12:55:38.712Z"
   },
   {
    "duration": 8591,
    "start_time": "2022-06-07T12:56:03.642Z"
   },
   {
    "duration": 15,
    "start_time": "2022-06-07T12:56:12.238Z"
   },
   {
    "duration": 142,
    "start_time": "2022-06-07T12:56:12.255Z"
   },
   {
    "duration": 12051,
    "start_time": "2022-06-07T12:56:12.399Z"
   },
   {
    "duration": 3429,
    "start_time": "2022-06-07T12:56:24.451Z"
   },
   {
    "duration": 6,
    "start_time": "2022-06-07T12:56:27.882Z"
   },
   {
    "duration": 332,
    "start_time": "2022-06-07T12:56:27.889Z"
   },
   {
    "duration": 30,
    "start_time": "2022-06-07T12:56:28.222Z"
   },
   {
    "duration": 20,
    "start_time": "2022-06-07T12:56:28.254Z"
   },
   {
    "duration": 5,
    "start_time": "2022-06-07T12:56:28.276Z"
   },
   {
    "duration": 167,
    "start_time": "2022-06-07T12:56:28.282Z"
   },
   {
    "duration": 1507,
    "start_time": "2022-06-07T12:59:59.494Z"
   },
   {
    "duration": 65,
    "start_time": "2022-06-07T13:00:01.003Z"
   },
   {
    "duration": 14,
    "start_time": "2022-06-07T13:00:01.071Z"
   },
   {
    "duration": 487,
    "start_time": "2022-06-07T13:00:01.086Z"
   },
   {
    "duration": 7,
    "start_time": "2022-06-07T13:00:01.578Z"
   },
   {
    "duration": 207,
    "start_time": "2022-06-07T13:00:01.587Z"
   },
   {
    "duration": 170,
    "start_time": "2022-06-07T13:00:01.796Z"
   },
   {
    "duration": 150,
    "start_time": "2022-06-07T13:00:01.970Z"
   },
   {
    "duration": 535,
    "start_time": "2022-06-07T13:00:02.122Z"
   },
   {
    "duration": 6,
    "start_time": "2022-06-07T13:00:02.661Z"
   },
   {
    "duration": 36,
    "start_time": "2022-06-07T13:00:02.669Z"
   },
   {
    "duration": 16,
    "start_time": "2022-06-07T13:00:02.707Z"
   },
   {
    "duration": 133,
    "start_time": "2022-06-07T13:00:02.725Z"
   },
   {
    "duration": 88,
    "start_time": "2022-06-07T13:00:02.864Z"
   },
   {
    "duration": 43,
    "start_time": "2022-06-07T13:00:02.955Z"
   },
   {
    "duration": 117,
    "start_time": "2022-06-07T13:00:03.000Z"
   },
   {
    "duration": 728,
    "start_time": "2022-06-07T13:00:03.119Z"
   },
   {
    "duration": 628,
    "start_time": "2022-06-07T13:00:03.849Z"
   },
   {
    "duration": 465,
    "start_time": "2022-06-07T13:00:04.479Z"
   },
   {
    "duration": 347,
    "start_time": "2022-06-07T13:00:04.946Z"
   },
   {
    "duration": 613,
    "start_time": "2022-06-07T13:00:05.295Z"
   },
   {
    "duration": 811,
    "start_time": "2022-06-07T13:00:05.910Z"
   },
   {
    "duration": 177,
    "start_time": "2022-06-07T13:00:06.724Z"
   },
   {
    "duration": 11,
    "start_time": "2022-06-07T13:00:06.902Z"
   },
   {
    "duration": 55,
    "start_time": "2022-06-07T13:00:06.915Z"
   },
   {
    "duration": 22,
    "start_time": "2022-06-07T13:00:06.971Z"
   },
   {
    "duration": 21,
    "start_time": "2022-06-07T13:00:06.994Z"
   },
   {
    "duration": 71,
    "start_time": "2022-06-07T13:00:07.017Z"
   },
   {
    "duration": 84,
    "start_time": "2022-06-07T13:00:07.090Z"
   },
   {
    "duration": 33,
    "start_time": "2022-06-07T13:00:07.176Z"
   },
   {
    "duration": 89,
    "start_time": "2022-06-07T13:00:07.210Z"
   },
   {
    "duration": 138,
    "start_time": "2022-06-07T13:00:07.301Z"
   },
   {
    "duration": 1052,
    "start_time": "2022-06-07T13:00:07.441Z"
   },
   {
    "duration": 202,
    "start_time": "2022-06-07T13:00:08.495Z"
   },
   {
    "duration": 19561,
    "start_time": "2022-06-07T13:00:08.698Z"
   },
   {
    "duration": 6816,
    "start_time": "2022-06-07T13:00:28.262Z"
   },
   {
    "duration": 11,
    "start_time": "2022-06-07T13:00:35.080Z"
   },
   {
    "duration": 311,
    "start_time": "2022-06-07T13:00:35.093Z"
   },
   {
    "duration": 26033,
    "start_time": "2022-06-07T13:00:35.405Z"
   },
   {
    "duration": 8779,
    "start_time": "2022-06-07T13:01:01.446Z"
   },
   {
    "duration": 16,
    "start_time": "2022-06-07T13:01:10.230Z"
   },
   {
    "duration": 190,
    "start_time": "2022-06-07T13:01:10.249Z"
   },
   {
    "duration": 13389,
    "start_time": "2022-06-07T13:01:10.441Z"
   },
   {
    "duration": 3577,
    "start_time": "2022-06-07T13:01:23.832Z"
   },
   {
    "duration": 258,
    "start_time": "2022-06-07T13:01:27.411Z"
   },
   {
    "duration": 19,
    "start_time": "2022-06-07T13:01:27.671Z"
   },
   {
    "duration": 8,
    "start_time": "2022-06-07T13:01:27.692Z"
   },
   {
    "duration": 4,
    "start_time": "2022-06-07T13:01:27.701Z"
   },
   {
    "duration": 213,
    "start_time": "2022-06-07T13:01:27.707Z"
   },
   {
    "duration": 1864,
    "start_time": "2022-06-07T13:02:50.172Z"
   },
   {
    "duration": 63,
    "start_time": "2022-06-07T13:02:52.039Z"
   },
   {
    "duration": 11,
    "start_time": "2022-06-07T13:02:52.105Z"
   },
   {
    "duration": 384,
    "start_time": "2022-06-07T13:02:52.118Z"
   },
   {
    "duration": 5,
    "start_time": "2022-06-07T13:02:52.504Z"
   },
   {
    "duration": 6,
    "start_time": "2022-06-07T13:02:52.528Z"
   },
   {
    "duration": 73,
    "start_time": "2022-06-07T13:02:52.536Z"
   },
   {
    "duration": 24,
    "start_time": "2022-06-07T13:02:52.612Z"
   },
   {
    "duration": 662,
    "start_time": "2022-06-07T13:02:52.640Z"
   },
   {
    "duration": 6,
    "start_time": "2022-06-07T13:02:53.308Z"
   },
   {
    "duration": 100,
    "start_time": "2022-06-07T13:02:53.319Z"
   },
   {
    "duration": 61,
    "start_time": "2022-06-07T13:02:53.421Z"
   },
   {
    "duration": 37,
    "start_time": "2022-06-07T13:02:53.484Z"
   },
   {
    "duration": 67,
    "start_time": "2022-06-07T13:02:53.530Z"
   },
   {
    "duration": 18,
    "start_time": "2022-06-07T13:02:53.600Z"
   },
   {
    "duration": 90,
    "start_time": "2022-06-07T13:02:53.621Z"
   },
   {
    "duration": 695,
    "start_time": "2022-06-07T13:02:53.713Z"
   },
   {
    "duration": 688,
    "start_time": "2022-06-07T13:02:54.410Z"
   },
   {
    "duration": 522,
    "start_time": "2022-06-07T13:02:55.100Z"
   },
   {
    "duration": 362,
    "start_time": "2022-06-07T13:02:55.625Z"
   },
   {
    "duration": 696,
    "start_time": "2022-06-07T13:02:55.990Z"
   },
   {
    "duration": 862,
    "start_time": "2022-06-07T13:02:56.688Z"
   },
   {
    "duration": 191,
    "start_time": "2022-06-07T13:02:57.556Z"
   },
   {
    "duration": 17,
    "start_time": "2022-06-07T13:02:57.749Z"
   },
   {
    "duration": 19,
    "start_time": "2022-06-07T13:02:57.768Z"
   },
   {
    "duration": 5,
    "start_time": "2022-06-07T13:02:57.788Z"
   },
   {
    "duration": 18,
    "start_time": "2022-06-07T13:02:57.794Z"
   },
   {
    "duration": 22,
    "start_time": "2022-06-07T13:02:57.814Z"
   },
   {
    "duration": 44,
    "start_time": "2022-06-07T13:02:57.838Z"
   },
   {
    "duration": 12,
    "start_time": "2022-06-07T13:02:57.883Z"
   },
   {
    "duration": 71,
    "start_time": "2022-06-07T13:02:57.897Z"
   },
   {
    "duration": 167,
    "start_time": "2022-06-07T13:02:57.970Z"
   },
   {
    "duration": 1109,
    "start_time": "2022-06-07T13:02:58.149Z"
   },
   {
    "duration": 226,
    "start_time": "2022-06-07T13:02:59.260Z"
   },
   {
    "duration": 21680,
    "start_time": "2022-06-07T13:02:59.488Z"
   },
   {
    "duration": 7012,
    "start_time": "2022-06-07T13:03:21.177Z"
   },
   {
    "duration": 9,
    "start_time": "2022-06-07T13:03:28.192Z"
   },
   {
    "duration": 264,
    "start_time": "2022-06-07T13:03:28.203Z"
   },
   {
    "duration": 26122,
    "start_time": "2022-06-07T13:03:28.472Z"
   },
   {
    "duration": 10186,
    "start_time": "2022-06-07T13:03:54.632Z"
   },
   {
    "duration": 13,
    "start_time": "2022-06-07T13:04:04.824Z"
   },
   {
    "duration": 181,
    "start_time": "2022-06-07T13:04:04.840Z"
   },
   {
    "duration": 14248,
    "start_time": "2022-06-07T13:04:05.023Z"
   },
   {
    "duration": 4028,
    "start_time": "2022-06-07T13:04:19.274Z"
   },
   {
    "duration": 331,
    "start_time": "2022-06-07T13:04:23.304Z"
   },
   {
    "duration": 31,
    "start_time": "2022-06-07T13:04:23.637Z"
   },
   {
    "duration": 45,
    "start_time": "2022-06-07T13:04:23.670Z"
   },
   {
    "duration": 40,
    "start_time": "2022-06-07T13:04:23.717Z"
   },
   {
    "duration": 268,
    "start_time": "2022-06-07T13:04:23.760Z"
   },
   {
    "duration": 1897,
    "start_time": "2022-06-07T13:10:32.710Z"
   },
   {
    "duration": 83,
    "start_time": "2022-06-07T13:10:34.609Z"
   },
   {
    "duration": 11,
    "start_time": "2022-06-07T13:10:34.695Z"
   },
   {
    "duration": 325,
    "start_time": "2022-06-07T13:10:34.709Z"
   },
   {
    "duration": 4,
    "start_time": "2022-06-07T13:10:35.038Z"
   },
   {
    "duration": 52,
    "start_time": "2022-06-07T13:10:35.044Z"
   },
   {
    "duration": 22,
    "start_time": "2022-06-07T13:10:35.099Z"
   },
   {
    "duration": 77,
    "start_time": "2022-06-07T13:10:35.123Z"
   },
   {
    "duration": 474,
    "start_time": "2022-06-07T13:10:35.202Z"
   },
   {
    "duration": 6,
    "start_time": "2022-06-07T13:10:35.679Z"
   },
   {
    "duration": 35,
    "start_time": "2022-06-07T13:10:35.687Z"
   },
   {
    "duration": 17,
    "start_time": "2022-06-07T13:10:35.725Z"
   },
   {
    "duration": 46,
    "start_time": "2022-06-07T13:10:35.750Z"
   },
   {
    "duration": 14,
    "start_time": "2022-06-07T13:10:35.801Z"
   },
   {
    "duration": 58,
    "start_time": "2022-06-07T13:10:35.817Z"
   },
   {
    "duration": 63,
    "start_time": "2022-06-07T13:10:35.877Z"
   },
   {
    "duration": 821,
    "start_time": "2022-06-07T13:10:35.943Z"
   },
   {
    "duration": 644,
    "start_time": "2022-06-07T13:10:36.766Z"
   },
   {
    "duration": 578,
    "start_time": "2022-06-07T13:10:37.412Z"
   },
   {
    "duration": 426,
    "start_time": "2022-06-07T13:10:37.992Z"
   },
   {
    "duration": 676,
    "start_time": "2022-06-07T13:10:38.422Z"
   },
   {
    "duration": 803,
    "start_time": "2022-06-07T13:10:39.100Z"
   },
   {
    "duration": 204,
    "start_time": "2022-06-07T13:10:39.905Z"
   },
   {
    "duration": 37,
    "start_time": "2022-06-07T13:10:40.112Z"
   },
   {
    "duration": 46,
    "start_time": "2022-06-07T13:10:40.151Z"
   },
   {
    "duration": 5,
    "start_time": "2022-06-07T13:10:40.200Z"
   },
   {
    "duration": 16,
    "start_time": "2022-06-07T13:10:40.207Z"
   },
   {
    "duration": 77,
    "start_time": "2022-06-07T13:10:40.226Z"
   },
   {
    "duration": 5,
    "start_time": "2022-06-07T13:10:40.305Z"
   },
   {
    "duration": 71,
    "start_time": "2022-06-07T13:10:40.312Z"
   },
   {
    "duration": 70,
    "start_time": "2022-06-07T13:10:40.385Z"
   },
   {
    "duration": 224,
    "start_time": "2022-06-07T13:10:40.457Z"
   },
   {
    "duration": 1180,
    "start_time": "2022-06-07T13:10:40.684Z"
   },
   {
    "duration": 221,
    "start_time": "2022-06-07T13:10:41.866Z"
   },
   {
    "duration": 21147,
    "start_time": "2022-06-07T13:10:42.089Z"
   },
   {
    "duration": 7222,
    "start_time": "2022-06-07T13:11:03.240Z"
   },
   {
    "duration": 16,
    "start_time": "2022-06-07T13:11:10.463Z"
   },
   {
    "duration": 299,
    "start_time": "2022-06-07T13:11:10.481Z"
   },
   {
    "duration": 26199,
    "start_time": "2022-06-07T13:11:10.782Z"
   },
   {
    "duration": 9482,
    "start_time": "2022-06-07T13:11:36.986Z"
   },
   {
    "duration": 13,
    "start_time": "2022-06-07T13:11:46.474Z"
   },
   {
    "duration": 134,
    "start_time": "2022-06-07T13:11:46.489Z"
   },
   {
    "duration": 16031,
    "start_time": "2022-06-07T13:11:46.625Z"
   },
   {
    "duration": 4861,
    "start_time": "2022-06-07T13:12:02.699Z"
   },
   {
    "duration": 401,
    "start_time": "2022-06-07T13:12:07.569Z"
   },
   {
    "duration": 41,
    "start_time": "2022-06-07T13:12:07.976Z"
   },
   {
    "duration": 15,
    "start_time": "2022-06-07T13:12:08.020Z"
   },
   {
    "duration": 62,
    "start_time": "2022-06-07T13:12:08.037Z"
   },
   {
    "duration": 277,
    "start_time": "2022-06-07T13:12:08.102Z"
   },
   {
    "duration": 2353,
    "start_time": "2022-06-07T13:15:43.870Z"
   },
   {
    "duration": 85,
    "start_time": "2022-06-07T13:15:46.225Z"
   },
   {
    "duration": 63,
    "start_time": "2022-06-07T13:15:46.319Z"
   },
   {
    "duration": 468,
    "start_time": "2022-06-07T13:15:46.389Z"
   },
   {
    "duration": 9,
    "start_time": "2022-06-07T13:15:46.863Z"
   },
   {
    "duration": 15,
    "start_time": "2022-06-07T13:15:46.879Z"
   },
   {
    "duration": 153,
    "start_time": "2022-06-07T13:15:46.902Z"
   },
   {
    "duration": 83,
    "start_time": "2022-06-07T13:15:47.062Z"
   },
   {
    "duration": 717,
    "start_time": "2022-06-07T13:15:47.151Z"
   },
   {
    "duration": 6,
    "start_time": "2022-06-07T13:15:47.876Z"
   },
   {
    "duration": 65,
    "start_time": "2022-06-07T13:15:47.889Z"
   },
   {
    "duration": 78,
    "start_time": "2022-06-07T13:15:47.968Z"
   },
   {
    "duration": 108,
    "start_time": "2022-06-07T13:15:48.051Z"
   },
   {
    "duration": 73,
    "start_time": "2022-06-07T13:15:48.167Z"
   },
   {
    "duration": 73,
    "start_time": "2022-06-07T13:15:48.243Z"
   },
   {
    "duration": 63,
    "start_time": "2022-06-07T13:15:48.319Z"
   },
   {
    "duration": 892,
    "start_time": "2022-06-07T13:15:48.384Z"
   },
   {
    "duration": 722,
    "start_time": "2022-06-07T13:15:49.278Z"
   },
   {
    "duration": 560,
    "start_time": "2022-06-07T13:15:50.002Z"
   },
   {
    "duration": 443,
    "start_time": "2022-06-07T13:15:50.564Z"
   },
   {
    "duration": 968,
    "start_time": "2022-06-07T13:15:51.009Z"
   },
   {
    "duration": 1066,
    "start_time": "2022-06-07T13:15:51.986Z"
   },
   {
    "duration": 235,
    "start_time": "2022-06-07T13:15:53.055Z"
   },
   {
    "duration": 17,
    "start_time": "2022-06-07T13:15:53.294Z"
   },
   {
    "duration": 119,
    "start_time": "2022-06-07T13:15:53.317Z"
   },
   {
    "duration": 58,
    "start_time": "2022-06-07T13:15:53.452Z"
   },
   {
    "duration": 85,
    "start_time": "2022-06-07T13:15:53.516Z"
   },
   {
    "duration": 32,
    "start_time": "2022-06-07T13:15:53.607Z"
   },
   {
    "duration": 79,
    "start_time": "2022-06-07T13:15:53.641Z"
   },
   {
    "duration": 83,
    "start_time": "2022-06-07T13:15:53.722Z"
   },
   {
    "duration": 89,
    "start_time": "2022-06-07T13:15:53.807Z"
   },
   {
    "duration": 247,
    "start_time": "2022-06-07T13:15:53.897Z"
   },
   {
    "duration": 1595,
    "start_time": "2022-06-07T13:15:54.156Z"
   },
   {
    "duration": 372,
    "start_time": "2022-06-07T13:15:55.758Z"
   },
   {
    "duration": 24915,
    "start_time": "2022-06-07T13:15:56.138Z"
   },
   {
    "duration": 8810,
    "start_time": "2022-06-07T13:16:21.067Z"
   },
   {
    "duration": 27,
    "start_time": "2022-06-07T13:16:29.885Z"
   },
   {
    "duration": 366,
    "start_time": "2022-06-07T13:16:29.922Z"
   },
   {
    "duration": 28883,
    "start_time": "2022-06-07T13:16:30.294Z"
   },
   {
    "duration": 9902,
    "start_time": "2022-06-07T13:16:59.232Z"
   },
   {
    "duration": 14,
    "start_time": "2022-06-07T13:17:09.139Z"
   },
   {
    "duration": 186,
    "start_time": "2022-06-07T13:17:09.158Z"
   },
   {
    "duration": 14698,
    "start_time": "2022-06-07T13:17:09.349Z"
   },
   {
    "duration": 3741,
    "start_time": "2022-06-07T13:17:24.062Z"
   },
   {
    "duration": 1258,
    "start_time": "2022-06-07T13:17:27.806Z"
   },
   {
    "duration": 117,
    "start_time": "2022-06-07T13:17:29.066Z"
   },
   {
    "duration": 7,
    "start_time": "2022-06-07T13:17:29.185Z"
   },
   {
    "duration": 17,
    "start_time": "2022-06-07T13:17:29.194Z"
   },
   {
    "duration": 272,
    "start_time": "2022-06-07T13:17:29.213Z"
   },
   {
    "duration": 1515,
    "start_time": "2022-06-07T13:19:29.960Z"
   },
   {
    "duration": 45,
    "start_time": "2022-06-07T13:19:31.478Z"
   },
   {
    "duration": 36,
    "start_time": "2022-06-07T13:19:31.525Z"
   },
   {
    "duration": 229,
    "start_time": "2022-06-07T13:19:31.563Z"
   },
   {
    "duration": 4,
    "start_time": "2022-06-07T13:19:31.795Z"
   },
   {
    "duration": 40,
    "start_time": "2022-06-07T13:19:31.801Z"
   },
   {
    "duration": 57,
    "start_time": "2022-06-07T13:19:31.843Z"
   },
   {
    "duration": 57,
    "start_time": "2022-06-07T13:19:31.902Z"
   },
   {
    "duration": 493,
    "start_time": "2022-06-07T13:19:31.962Z"
   },
   {
    "duration": 4,
    "start_time": "2022-06-07T13:19:32.459Z"
   },
   {
    "duration": 17,
    "start_time": "2022-06-07T13:19:32.465Z"
   },
   {
    "duration": 10,
    "start_time": "2022-06-07T13:19:32.484Z"
   },
   {
    "duration": 5,
    "start_time": "2022-06-07T13:19:32.496Z"
   },
   {
    "duration": 53,
    "start_time": "2022-06-07T13:19:32.505Z"
   },
   {
    "duration": 18,
    "start_time": "2022-06-07T13:19:32.563Z"
   },
   {
    "duration": 23,
    "start_time": "2022-06-07T13:19:32.582Z"
   },
   {
    "duration": 613,
    "start_time": "2022-06-07T13:19:32.607Z"
   },
   {
    "duration": 572,
    "start_time": "2022-06-07T13:19:33.222Z"
   },
   {
    "duration": 394,
    "start_time": "2022-06-07T13:19:33.795Z"
   },
   {
    "duration": 375,
    "start_time": "2022-06-07T13:19:34.190Z"
   },
   {
    "duration": 652,
    "start_time": "2022-06-07T13:19:34.571Z"
   },
   {
    "duration": 751,
    "start_time": "2022-06-07T13:19:35.235Z"
   },
   {
    "duration": 181,
    "start_time": "2022-06-07T13:19:35.987Z"
   },
   {
    "duration": 12,
    "start_time": "2022-06-07T13:19:36.171Z"
   },
   {
    "duration": 9,
    "start_time": "2022-06-07T13:19:36.185Z"
   },
   {
    "duration": 35,
    "start_time": "2022-06-07T13:19:36.195Z"
   },
   {
    "duration": 43,
    "start_time": "2022-06-07T13:19:36.239Z"
   },
   {
    "duration": 23,
    "start_time": "2022-06-07T13:19:36.284Z"
   },
   {
    "duration": 9,
    "start_time": "2022-06-07T13:19:36.309Z"
   },
   {
    "duration": 59,
    "start_time": "2022-06-07T13:19:36.319Z"
   },
   {
    "duration": 70,
    "start_time": "2022-06-07T13:19:36.379Z"
   },
   {
    "duration": 480,
    "start_time": "2022-06-07T13:19:36.452Z"
   },
   {
    "duration": 943,
    "start_time": "2022-06-07T13:19:36.934Z"
   },
   {
    "duration": 190,
    "start_time": "2022-06-07T13:19:37.880Z"
   },
   {
    "duration": 19769,
    "start_time": "2022-06-07T13:19:38.072Z"
   },
   {
    "duration": 6364,
    "start_time": "2022-06-07T13:19:57.847Z"
   },
   {
    "duration": 27,
    "start_time": "2022-06-07T13:20:04.213Z"
   },
   {
    "duration": 254,
    "start_time": "2022-06-07T13:20:04.249Z"
   },
   {
    "duration": 1497,
    "start_time": "2022-06-07T13:20:34.116Z"
   },
   {
    "duration": 74,
    "start_time": "2022-06-07T13:20:35.615Z"
   },
   {
    "duration": 9,
    "start_time": "2022-06-07T13:20:35.691Z"
   },
   {
    "duration": 254,
    "start_time": "2022-06-07T13:20:35.702Z"
   },
   {
    "duration": 9,
    "start_time": "2022-06-07T13:20:35.959Z"
   },
   {
    "duration": 10,
    "start_time": "2022-06-07T13:20:35.969Z"
   },
   {
    "duration": 19,
    "start_time": "2022-06-07T13:20:35.980Z"
   },
   {
    "duration": 51,
    "start_time": "2022-06-07T13:20:36.001Z"
   },
   {
    "duration": 417,
    "start_time": "2022-06-07T13:20:36.063Z"
   },
   {
    "duration": 16,
    "start_time": "2022-06-07T13:20:36.483Z"
   },
   {
    "duration": 18,
    "start_time": "2022-06-07T13:20:36.501Z"
   },
   {
    "duration": 21,
    "start_time": "2022-06-07T13:20:36.521Z"
   },
   {
    "duration": 28,
    "start_time": "2022-06-07T13:20:36.548Z"
   },
   {
    "duration": 12,
    "start_time": "2022-06-07T13:20:36.577Z"
   },
   {
    "duration": 16,
    "start_time": "2022-06-07T13:20:36.591Z"
   },
   {
    "duration": 24,
    "start_time": "2022-06-07T13:20:36.609Z"
   },
   {
    "duration": 659,
    "start_time": "2022-06-07T13:20:36.634Z"
   },
   {
    "duration": 576,
    "start_time": "2022-06-07T13:20:37.295Z"
   },
   {
    "duration": 377,
    "start_time": "2022-06-07T13:20:37.873Z"
   },
   {
    "duration": 322,
    "start_time": "2022-06-07T13:20:38.252Z"
   },
   {
    "duration": 574,
    "start_time": "2022-06-07T13:20:38.576Z"
   },
   {
    "duration": 756,
    "start_time": "2022-06-07T13:20:39.157Z"
   },
   {
    "duration": 171,
    "start_time": "2022-06-07T13:20:39.915Z"
   },
   {
    "duration": 10,
    "start_time": "2022-06-07T13:20:40.088Z"
   },
   {
    "duration": 5,
    "start_time": "2022-06-07T13:20:40.100Z"
   },
   {
    "duration": 30,
    "start_time": "2022-06-07T13:20:40.106Z"
   },
   {
    "duration": 20,
    "start_time": "2022-06-07T13:20:40.138Z"
   },
   {
    "duration": 14,
    "start_time": "2022-06-07T13:20:40.166Z"
   },
   {
    "duration": 7,
    "start_time": "2022-06-07T13:20:40.181Z"
   },
   {
    "duration": 15,
    "start_time": "2022-06-07T13:20:40.189Z"
   },
   {
    "duration": 66,
    "start_time": "2022-06-07T13:20:40.206Z"
   },
   {
    "duration": 364,
    "start_time": "2022-06-07T13:20:40.273Z"
   },
   {
    "duration": 926,
    "start_time": "2022-06-07T13:20:40.648Z"
   },
   {
    "duration": 196,
    "start_time": "2022-06-07T13:20:41.576Z"
   },
   {
    "duration": 20770,
    "start_time": "2022-06-07T13:20:41.774Z"
   },
   {
    "duration": 6349,
    "start_time": "2022-06-07T13:21:02.550Z"
   },
   {
    "duration": 10,
    "start_time": "2022-06-07T13:21:08.901Z"
   },
   {
    "duration": 288,
    "start_time": "2022-06-07T13:21:08.912Z"
   },
   {
    "duration": 23738,
    "start_time": "2022-06-07T13:21:09.201Z"
   },
   {
    "duration": 9069,
    "start_time": "2022-06-07T13:21:32.941Z"
   },
   {
    "duration": 27,
    "start_time": "2022-06-07T13:21:42.011Z"
   },
   {
    "duration": 125,
    "start_time": "2022-06-07T13:21:42.044Z"
   },
   {
    "duration": 13775,
    "start_time": "2022-06-07T13:21:42.171Z"
   },
   {
    "duration": 3610,
    "start_time": "2022-06-07T13:21:55.954Z"
   },
   {
    "duration": 276,
    "start_time": "2022-06-07T13:21:59.566Z"
   },
   {
    "duration": 26,
    "start_time": "2022-06-07T13:21:59.844Z"
   },
   {
    "duration": 17,
    "start_time": "2022-06-07T13:21:59.874Z"
   },
   {
    "duration": 5,
    "start_time": "2022-06-07T13:21:59.892Z"
   },
   {
    "duration": 191,
    "start_time": "2022-06-07T13:21:59.899Z"
   },
   {
    "duration": 1849,
    "start_time": "2022-06-08T18:49:44.947Z"
   },
   {
    "duration": 311,
    "start_time": "2022-06-08T18:49:46.799Z"
   },
   {
    "duration": 14,
    "start_time": "2022-06-08T18:49:47.112Z"
   },
   {
    "duration": 320,
    "start_time": "2022-06-08T18:49:47.128Z"
   },
   {
    "duration": 7,
    "start_time": "2022-06-08T18:49:47.451Z"
   },
   {
    "duration": 32,
    "start_time": "2022-06-08T18:49:47.460Z"
   },
   {
    "duration": 20,
    "start_time": "2022-06-08T18:49:47.494Z"
   },
   {
    "duration": 47,
    "start_time": "2022-06-08T18:49:47.517Z"
   },
   {
    "duration": 622,
    "start_time": "2022-06-08T18:49:47.566Z"
   },
   {
    "duration": 6,
    "start_time": "2022-06-08T18:49:48.195Z"
   },
   {
    "duration": 33,
    "start_time": "2022-06-08T18:49:48.203Z"
   },
   {
    "duration": 22,
    "start_time": "2022-06-08T18:49:48.239Z"
   },
   {
    "duration": 67,
    "start_time": "2022-06-08T18:49:48.263Z"
   },
   {
    "duration": 68,
    "start_time": "2022-06-08T18:49:48.333Z"
   },
   {
    "duration": 19,
    "start_time": "2022-06-08T18:49:48.403Z"
   },
   {
    "duration": 132,
    "start_time": "2022-06-08T18:49:48.424Z"
   },
   {
    "duration": 750,
    "start_time": "2022-06-08T18:49:48.559Z"
   },
   {
    "duration": 601,
    "start_time": "2022-06-08T18:49:49.311Z"
   },
   {
    "duration": 493,
    "start_time": "2022-06-08T18:49:49.914Z"
   },
   {
    "duration": 525,
    "start_time": "2022-06-08T18:49:50.414Z"
   },
   {
    "duration": 793,
    "start_time": "2022-06-08T18:49:50.941Z"
   },
   {
    "duration": 805,
    "start_time": "2022-06-08T18:49:51.741Z"
   },
   {
    "duration": 192,
    "start_time": "2022-06-08T18:49:52.548Z"
   },
   {
    "duration": 19,
    "start_time": "2022-06-08T18:49:52.742Z"
   },
   {
    "duration": 235,
    "start_time": "2022-06-08T18:49:52.766Z"
   },
   {
    "duration": 99,
    "start_time": "2022-06-08T18:49:53.008Z"
   },
   {
    "duration": 69,
    "start_time": "2022-06-08T18:49:53.111Z"
   },
   {
    "duration": 33,
    "start_time": "2022-06-08T18:49:53.194Z"
   },
   {
    "duration": 30,
    "start_time": "2022-06-08T18:49:53.228Z"
   },
   {
    "duration": 26,
    "start_time": "2022-06-08T18:49:53.262Z"
   },
   {
    "duration": 52,
    "start_time": "2022-06-08T18:49:53.290Z"
   },
   {
    "duration": 531,
    "start_time": "2022-06-08T18:49:53.343Z"
   },
   {
    "duration": 1118,
    "start_time": "2022-06-08T18:49:53.898Z"
   },
   {
    "duration": 262,
    "start_time": "2022-06-08T18:49:55.019Z"
   },
   {
    "duration": 16845,
    "start_time": "2022-06-08T18:49:55.287Z"
   },
   {
    "duration": 7116,
    "start_time": "2022-06-08T18:50:12.140Z"
   },
   {
    "duration": 13,
    "start_time": "2022-06-08T18:50:19.262Z"
   },
   {
    "duration": 273,
    "start_time": "2022-06-08T18:50:19.284Z"
   },
   {
    "duration": 27128,
    "start_time": "2022-06-08T18:50:19.559Z"
   },
   {
    "duration": 8866,
    "start_time": "2022-06-08T18:50:46.700Z"
   },
   {
    "duration": 14,
    "start_time": "2022-06-08T18:50:55.568Z"
   },
   {
    "duration": 148,
    "start_time": "2022-06-08T18:50:55.584Z"
   },
   {
    "duration": 13004,
    "start_time": "2022-06-08T18:50:55.735Z"
   },
   {
    "duration": 4260,
    "start_time": "2022-06-08T18:51:08.746Z"
   },
   {
    "duration": 286,
    "start_time": "2022-06-08T18:51:13.008Z"
   },
   {
    "duration": 33,
    "start_time": "2022-06-08T18:51:13.297Z"
   },
   {
    "duration": 17,
    "start_time": "2022-06-08T18:51:13.335Z"
   },
   {
    "duration": 5,
    "start_time": "2022-06-08T18:51:13.354Z"
   },
   {
    "duration": 204,
    "start_time": "2022-06-08T18:51:13.361Z"
   }
  ],
  "hide_input": false,
  "kernelspec": {
   "display_name": "Python 3 (ipykernel)",
   "language": "python",
   "name": "python3"
  },
  "language_info": {
   "codemirror_mode": {
    "name": "ipython",
    "version": 3
   },
   "file_extension": ".py",
   "mimetype": "text/x-python",
   "name": "python",
   "nbconvert_exporter": "python",
   "pygments_lexer": "ipython3",
   "version": "3.10.4"
  },
  "toc": {
   "base_numbering": 1,
   "nav_menu": {},
   "number_sections": false,
   "sideBar": true,
   "skip_h1_title": true,
   "title_cell": "Table of Contents",
   "title_sidebar": "Contents",
   "toc_cell": false,
   "toc_position": {
    "height": "calc(100% - 180px)",
    "left": "10px",
    "top": "150px",
    "width": "366.391px"
   },
   "toc_section_display": true,
   "toc_window_display": false
  },
  "varInspector": {
   "cols": {
    "lenName": 16,
    "lenType": 16,
    "lenVar": 40
   },
   "kernels_config": {
    "python": {
     "delete_cmd_postfix": "",
     "delete_cmd_prefix": "del ",
     "library": "var_list.py",
     "varRefreshCmd": "print(var_dic_list())"
    },
    "r": {
     "delete_cmd_postfix": ") ",
     "delete_cmd_prefix": "rm(",
     "library": "var_list.r",
     "varRefreshCmd": "cat(var_dic_list()) "
    }
   },
   "types_to_exclude": [
    "module",
    "function",
    "builtin_function_or_method",
    "instance",
    "_Feature"
   ],
   "window_display": false
  }
 },
 "nbformat": 4,
 "nbformat_minor": 5
}
